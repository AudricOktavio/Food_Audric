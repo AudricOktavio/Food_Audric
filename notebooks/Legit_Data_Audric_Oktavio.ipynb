{
  "nbformat": 4,
  "nbformat_minor": 0,
  "metadata": {
    "colab": {
      "provenance": [],
      "toc_visible": true
    },
    "kernelspec": {
      "name": "python3",
      "display_name": "Python 3"
    },
    "language_info": {
      "name": "python"
    }
  },
  "cells": [
    {
      "cell_type": "markdown",
      "source": [
        "Some cells could not be run without running the previous cells. Remember to run the preprocessing first then make sure to run the whole cells in the main headings if you want to run 1 of the sub headings"
      ],
      "metadata": {
        "id": "8lx2Pp1V83T3"
      }
    },
    {
      "cell_type": "markdown",
      "source": [
        "# Library"
      ],
      "metadata": {
        "id": "a3Irdmbppjhy"
      }
    },
    {
      "cell_type": "code",
      "source": [
        "import pandas as pd\n",
        "from datetime import datetime\n",
        "from sklearn.model_selection import train_test_split\n",
        "import tensorflow as tf\n",
        "from sklearn.preprocessing import LabelEncoder, StandardScaler\n",
        "import seaborn as sns\n",
        "import matplotlib.pyplot as plt\n",
        "import numpy as np\n",
        "from typing import Dict, Text\n",
        "from sklearn.cluster import KMeans"
      ],
      "metadata": {
        "id": "-iTORoAcpiDU"
      },
      "execution_count": 1,
      "outputs": []
    },
    {
      "cell_type": "code",
      "source": [
        "!pip install -q tensorflow-recommenders\n",
        "import tensorflow_recommenders as tfrs"
      ],
      "metadata": {
        "id": "DfBKFfHj7Fb1",
        "colab": {
          "base_uri": "https://localhost:8080/"
        },
        "outputId": "92be365a-1eaa-4697-da11-65633e9eddf2"
      },
      "execution_count": 2,
      "outputs": [
        {
          "output_type": "stream",
          "name": "stdout",
          "text": [
            "\u001b[?25l     \u001b[90m━━━━━━━━━━━━━━━━━━━━━━━━━━━━━━━━━━━━━━━━\u001b[0m \u001b[32m0.0/96.2 kB\u001b[0m \u001b[31m?\u001b[0m eta \u001b[36m-:--:--\u001b[0m\r\u001b[2K     \u001b[91m━━━━━━━━━━━━━━━━━━━━━━━━━\u001b[0m\u001b[91m╸\u001b[0m\u001b[90m━━━━━━━━━━━━━━\u001b[0m \u001b[32m61.4/96.2 kB\u001b[0m \u001b[31m1.9 MB/s\u001b[0m eta \u001b[36m0:00:01\u001b[0m\r\u001b[2K     \u001b[90m━━━━━━━━━━━━━━━━━━━━━━━━━━━━━━━━━━━━━━━━\u001b[0m \u001b[32m96.2/96.2 kB\u001b[0m \u001b[31m2.0 MB/s\u001b[0m eta \u001b[36m0:00:00\u001b[0m\n",
            "\u001b[?25h"
          ]
        }
      ]
    },
    {
      "cell_type": "code",
      "source": [
        "from google.colab import drive\n",
        "drive.mount('/content/drive')"
      ],
      "metadata": {
        "colab": {
          "base_uri": "https://localhost:8080/"
        },
        "id": "ClF9V_NQqMnZ",
        "outputId": "93b845af-b1fe-4832-800c-07a1ae9b65e9"
      },
      "execution_count": 3,
      "outputs": [
        {
          "output_type": "stream",
          "name": "stdout",
          "text": [
            "Mounted at /content/drive\n"
          ]
        }
      ]
    },
    {
      "cell_type": "code",
      "source": [
        "df = pd.read_csv('/content/drive/My Drive/Legit Test/data.csv')"
      ],
      "metadata": {
        "id": "aTnBg1kyqZOS"
      },
      "execution_count": 4,
      "outputs": []
    },
    {
      "cell_type": "markdown",
      "source": [
        "# Reviewing the Data"
      ],
      "metadata": {
        "id": "a4Ii6g9L-QZK"
      }
    },
    {
      "cell_type": "code",
      "source": [
        "df.head()"
      ],
      "metadata": {
        "colab": {
          "base_uri": "https://localhost:8080/",
          "height": 486
        },
        "id": "kQ8eCbPZqfqS",
        "outputId": "f0348676-b387-4a3c-b534-44745297bc9d"
      },
      "execution_count": null,
      "outputs": [
        {
          "output_type": "execute_result",
          "data": {
            "text/plain": [
              "     trx_date          trx_date_detail                              sales_id  \\\n",
              "0  2023-01-04  2023-01-04 20:26:46 UTC  02d6de17-9ca4-480f-b13c-7336dccd64b9   \n",
              "1  2023-01-04  2023-01-04 20:26:46 UTC  02d6de17-9ca4-480f-b13c-7336dccd64b9   \n",
              "2  2023-01-04  2023-01-04 20:26:46 UTC  02d6de17-9ca4-480f-b13c-7336dccd64b9   \n",
              "3  2023-01-04  2023-01-04 20:26:46 UTC  02d6de17-9ca4-480f-b13c-7336dccd64b9   \n",
              "4  2023-01-04  2023-01-04 20:26:46 UTC  02d6de17-9ca4-480f-b13c-7336dccd64b9   \n",
              "\n",
              "     concept brand                  outlet        district             city  \\\n",
              "0  Lifestyle   A/A  Apothecary, Gunawarman  Kebayoran Baru  Jakarta Selatan   \n",
              "1  Lifestyle   A/A  Apothecary, Gunawarman  Kebayoran Baru  Jakarta Selatan   \n",
              "2  Lifestyle   A/A  Apothecary, Gunawarman  Kebayoran Baru  Jakarta Selatan   \n",
              "3  Lifestyle   A/A  Apothecary, Gunawarman  Kebayoran Baru  Jakarta Selatan   \n",
              "4  Lifestyle   A/A  Apothecary, Gunawarman  Kebayoran Baru  Jakarta Selatan   \n",
              "\n",
              "                                menu_id        menu_type menu_category  \\\n",
              "0  5204e17e-aefb-4235-8eb8-7177a5679352        Ala Carte          FOOD   \n",
              "1  1420bcef-ac34-4967-b5e0-4a2942f222a4  Package Content      BEVERAGE   \n",
              "2  1420bcef-ac34-4967-b5e0-4a2942f222a4  Package Content      BEVERAGE   \n",
              "3  77bb78c6-2f51-4f61-9d74-02d69388cef1  Package Content      BEVERAGE   \n",
              "4  f026874c-5a66-4184-8ce0-9aeb9e37b5ac  Package Content       LIQUEUR   \n",
              "\n",
              "  menu_category_detail               menu_name  quantity  \\\n",
              "0           APPETIZERS            French Fries       1.0   \n",
              "1    BEVERAGE MODIFIER                  Single       1.0   \n",
              "2    BEVERAGE MODIFIER                  Single       1.0   \n",
              "3    BEVERAGE MODIFIER               Coca Cola       1.0   \n",
              "4            WHISK(E)Y  Monkey Shoulder_Double       1.0   \n",
              "\n",
              "                                user_id      user_created_at user_tier_level  \\\n",
              "0  db0df3a5-2d00-4fed-93b1-99ea1eedccd8  2021-05-13 07:41:27            Gold   \n",
              "1  db0df3a5-2d00-4fed-93b1-99ea1eedccd8  2021-05-13 07:41:27            Gold   \n",
              "2  db0df3a5-2d00-4fed-93b1-99ea1eedccd8  2021-05-13 07:41:27            Gold   \n",
              "3  db0df3a5-2d00-4fed-93b1-99ea1eedccd8  2021-05-13 07:41:27            Gold   \n",
              "4  db0df3a5-2d00-4fed-93b1-99ea1eedccd8  2021-05-13 07:41:27            Gold   \n",
              "\n",
              "  user_gender  \n",
              "0           F  \n",
              "1           F  \n",
              "2           F  \n",
              "3           F  \n",
              "4           F  "
            ],
            "text/html": [
              "\n",
              "  <div id=\"df-250c75f7-d87f-4e96-ac13-f4f8289cce12\" class=\"colab-df-container\">\n",
              "    <div>\n",
              "<style scoped>\n",
              "    .dataframe tbody tr th:only-of-type {\n",
              "        vertical-align: middle;\n",
              "    }\n",
              "\n",
              "    .dataframe tbody tr th {\n",
              "        vertical-align: top;\n",
              "    }\n",
              "\n",
              "    .dataframe thead th {\n",
              "        text-align: right;\n",
              "    }\n",
              "</style>\n",
              "<table border=\"1\" class=\"dataframe\">\n",
              "  <thead>\n",
              "    <tr style=\"text-align: right;\">\n",
              "      <th></th>\n",
              "      <th>trx_date</th>\n",
              "      <th>trx_date_detail</th>\n",
              "      <th>sales_id</th>\n",
              "      <th>concept</th>\n",
              "      <th>brand</th>\n",
              "      <th>outlet</th>\n",
              "      <th>district</th>\n",
              "      <th>city</th>\n",
              "      <th>menu_id</th>\n",
              "      <th>menu_type</th>\n",
              "      <th>menu_category</th>\n",
              "      <th>menu_category_detail</th>\n",
              "      <th>menu_name</th>\n",
              "      <th>quantity</th>\n",
              "      <th>user_id</th>\n",
              "      <th>user_created_at</th>\n",
              "      <th>user_tier_level</th>\n",
              "      <th>user_gender</th>\n",
              "    </tr>\n",
              "  </thead>\n",
              "  <tbody>\n",
              "    <tr>\n",
              "      <th>0</th>\n",
              "      <td>2023-01-04</td>\n",
              "      <td>2023-01-04 20:26:46 UTC</td>\n",
              "      <td>02d6de17-9ca4-480f-b13c-7336dccd64b9</td>\n",
              "      <td>Lifestyle</td>\n",
              "      <td>A/A</td>\n",
              "      <td>Apothecary, Gunawarman</td>\n",
              "      <td>Kebayoran Baru</td>\n",
              "      <td>Jakarta Selatan</td>\n",
              "      <td>5204e17e-aefb-4235-8eb8-7177a5679352</td>\n",
              "      <td>Ala Carte</td>\n",
              "      <td>FOOD</td>\n",
              "      <td>APPETIZERS</td>\n",
              "      <td>French Fries</td>\n",
              "      <td>1.0</td>\n",
              "      <td>db0df3a5-2d00-4fed-93b1-99ea1eedccd8</td>\n",
              "      <td>2021-05-13 07:41:27</td>\n",
              "      <td>Gold</td>\n",
              "      <td>F</td>\n",
              "    </tr>\n",
              "    <tr>\n",
              "      <th>1</th>\n",
              "      <td>2023-01-04</td>\n",
              "      <td>2023-01-04 20:26:46 UTC</td>\n",
              "      <td>02d6de17-9ca4-480f-b13c-7336dccd64b9</td>\n",
              "      <td>Lifestyle</td>\n",
              "      <td>A/A</td>\n",
              "      <td>Apothecary, Gunawarman</td>\n",
              "      <td>Kebayoran Baru</td>\n",
              "      <td>Jakarta Selatan</td>\n",
              "      <td>1420bcef-ac34-4967-b5e0-4a2942f222a4</td>\n",
              "      <td>Package Content</td>\n",
              "      <td>BEVERAGE</td>\n",
              "      <td>BEVERAGE MODIFIER</td>\n",
              "      <td>Single</td>\n",
              "      <td>1.0</td>\n",
              "      <td>db0df3a5-2d00-4fed-93b1-99ea1eedccd8</td>\n",
              "      <td>2021-05-13 07:41:27</td>\n",
              "      <td>Gold</td>\n",
              "      <td>F</td>\n",
              "    </tr>\n",
              "    <tr>\n",
              "      <th>2</th>\n",
              "      <td>2023-01-04</td>\n",
              "      <td>2023-01-04 20:26:46 UTC</td>\n",
              "      <td>02d6de17-9ca4-480f-b13c-7336dccd64b9</td>\n",
              "      <td>Lifestyle</td>\n",
              "      <td>A/A</td>\n",
              "      <td>Apothecary, Gunawarman</td>\n",
              "      <td>Kebayoran Baru</td>\n",
              "      <td>Jakarta Selatan</td>\n",
              "      <td>1420bcef-ac34-4967-b5e0-4a2942f222a4</td>\n",
              "      <td>Package Content</td>\n",
              "      <td>BEVERAGE</td>\n",
              "      <td>BEVERAGE MODIFIER</td>\n",
              "      <td>Single</td>\n",
              "      <td>1.0</td>\n",
              "      <td>db0df3a5-2d00-4fed-93b1-99ea1eedccd8</td>\n",
              "      <td>2021-05-13 07:41:27</td>\n",
              "      <td>Gold</td>\n",
              "      <td>F</td>\n",
              "    </tr>\n",
              "    <tr>\n",
              "      <th>3</th>\n",
              "      <td>2023-01-04</td>\n",
              "      <td>2023-01-04 20:26:46 UTC</td>\n",
              "      <td>02d6de17-9ca4-480f-b13c-7336dccd64b9</td>\n",
              "      <td>Lifestyle</td>\n",
              "      <td>A/A</td>\n",
              "      <td>Apothecary, Gunawarman</td>\n",
              "      <td>Kebayoran Baru</td>\n",
              "      <td>Jakarta Selatan</td>\n",
              "      <td>77bb78c6-2f51-4f61-9d74-02d69388cef1</td>\n",
              "      <td>Package Content</td>\n",
              "      <td>BEVERAGE</td>\n",
              "      <td>BEVERAGE MODIFIER</td>\n",
              "      <td>Coca Cola</td>\n",
              "      <td>1.0</td>\n",
              "      <td>db0df3a5-2d00-4fed-93b1-99ea1eedccd8</td>\n",
              "      <td>2021-05-13 07:41:27</td>\n",
              "      <td>Gold</td>\n",
              "      <td>F</td>\n",
              "    </tr>\n",
              "    <tr>\n",
              "      <th>4</th>\n",
              "      <td>2023-01-04</td>\n",
              "      <td>2023-01-04 20:26:46 UTC</td>\n",
              "      <td>02d6de17-9ca4-480f-b13c-7336dccd64b9</td>\n",
              "      <td>Lifestyle</td>\n",
              "      <td>A/A</td>\n",
              "      <td>Apothecary, Gunawarman</td>\n",
              "      <td>Kebayoran Baru</td>\n",
              "      <td>Jakarta Selatan</td>\n",
              "      <td>f026874c-5a66-4184-8ce0-9aeb9e37b5ac</td>\n",
              "      <td>Package Content</td>\n",
              "      <td>LIQUEUR</td>\n",
              "      <td>WHISK(E)Y</td>\n",
              "      <td>Monkey Shoulder_Double</td>\n",
              "      <td>1.0</td>\n",
              "      <td>db0df3a5-2d00-4fed-93b1-99ea1eedccd8</td>\n",
              "      <td>2021-05-13 07:41:27</td>\n",
              "      <td>Gold</td>\n",
              "      <td>F</td>\n",
              "    </tr>\n",
              "  </tbody>\n",
              "</table>\n",
              "</div>\n",
              "    <div class=\"colab-df-buttons\">\n",
              "\n",
              "  <div class=\"colab-df-container\">\n",
              "    <button class=\"colab-df-convert\" onclick=\"convertToInteractive('df-250c75f7-d87f-4e96-ac13-f4f8289cce12')\"\n",
              "            title=\"Convert this dataframe to an interactive table.\"\n",
              "            style=\"display:none;\">\n",
              "\n",
              "  <svg xmlns=\"http://www.w3.org/2000/svg\" height=\"24px\" viewBox=\"0 -960 960 960\">\n",
              "    <path d=\"M120-120v-720h720v720H120Zm60-500h600v-160H180v160Zm220 220h160v-160H400v160Zm0 220h160v-160H400v160ZM180-400h160v-160H180v160Zm440 0h160v-160H620v160ZM180-180h160v-160H180v160Zm440 0h160v-160H620v160Z\"/>\n",
              "  </svg>\n",
              "    </button>\n",
              "\n",
              "  <style>\n",
              "    .colab-df-container {\n",
              "      display:flex;\n",
              "      gap: 12px;\n",
              "    }\n",
              "\n",
              "    .colab-df-convert {\n",
              "      background-color: #E8F0FE;\n",
              "      border: none;\n",
              "      border-radius: 50%;\n",
              "      cursor: pointer;\n",
              "      display: none;\n",
              "      fill: #1967D2;\n",
              "      height: 32px;\n",
              "      padding: 0 0 0 0;\n",
              "      width: 32px;\n",
              "    }\n",
              "\n",
              "    .colab-df-convert:hover {\n",
              "      background-color: #E2EBFA;\n",
              "      box-shadow: 0px 1px 2px rgba(60, 64, 67, 0.3), 0px 1px 3px 1px rgba(60, 64, 67, 0.15);\n",
              "      fill: #174EA6;\n",
              "    }\n",
              "\n",
              "    .colab-df-buttons div {\n",
              "      margin-bottom: 4px;\n",
              "    }\n",
              "\n",
              "    [theme=dark] .colab-df-convert {\n",
              "      background-color: #3B4455;\n",
              "      fill: #D2E3FC;\n",
              "    }\n",
              "\n",
              "    [theme=dark] .colab-df-convert:hover {\n",
              "      background-color: #434B5C;\n",
              "      box-shadow: 0px 1px 3px 1px rgba(0, 0, 0, 0.15);\n",
              "      filter: drop-shadow(0px 1px 2px rgba(0, 0, 0, 0.3));\n",
              "      fill: #FFFFFF;\n",
              "    }\n",
              "  </style>\n",
              "\n",
              "    <script>\n",
              "      const buttonEl =\n",
              "        document.querySelector('#df-250c75f7-d87f-4e96-ac13-f4f8289cce12 button.colab-df-convert');\n",
              "      buttonEl.style.display =\n",
              "        google.colab.kernel.accessAllowed ? 'block' : 'none';\n",
              "\n",
              "      async function convertToInteractive(key) {\n",
              "        const element = document.querySelector('#df-250c75f7-d87f-4e96-ac13-f4f8289cce12');\n",
              "        const dataTable =\n",
              "          await google.colab.kernel.invokeFunction('convertToInteractive',\n",
              "                                                    [key], {});\n",
              "        if (!dataTable) return;\n",
              "\n",
              "        const docLinkHtml = 'Like what you see? Visit the ' +\n",
              "          '<a target=\"_blank\" href=https://colab.research.google.com/notebooks/data_table.ipynb>data table notebook</a>'\n",
              "          + ' to learn more about interactive tables.';\n",
              "        element.innerHTML = '';\n",
              "        dataTable['output_type'] = 'display_data';\n",
              "        await google.colab.output.renderOutput(dataTable, element);\n",
              "        const docLink = document.createElement('div');\n",
              "        docLink.innerHTML = docLinkHtml;\n",
              "        element.appendChild(docLink);\n",
              "      }\n",
              "    </script>\n",
              "  </div>\n",
              "\n",
              "\n",
              "<div id=\"df-14048484-cbfa-4bf0-a7fc-a59afabab043\">\n",
              "  <button class=\"colab-df-quickchart\" onclick=\"quickchart('df-14048484-cbfa-4bf0-a7fc-a59afabab043')\"\n",
              "            title=\"Suggest charts.\"\n",
              "            style=\"display:none;\">\n",
              "\n",
              "<svg xmlns=\"http://www.w3.org/2000/svg\" height=\"24px\"viewBox=\"0 0 24 24\"\n",
              "     width=\"24px\">\n",
              "    <g>\n",
              "        <path d=\"M19 3H5c-1.1 0-2 .9-2 2v14c0 1.1.9 2 2 2h14c1.1 0 2-.9 2-2V5c0-1.1-.9-2-2-2zM9 17H7v-7h2v7zm4 0h-2V7h2v10zm4 0h-2v-4h2v4z\"/>\n",
              "    </g>\n",
              "</svg>\n",
              "  </button>\n",
              "\n",
              "<style>\n",
              "  .colab-df-quickchart {\n",
              "    background-color: #E8F0FE;\n",
              "    border: none;\n",
              "    border-radius: 50%;\n",
              "    cursor: pointer;\n",
              "    display: none;\n",
              "    fill: #1967D2;\n",
              "    height: 32px;\n",
              "    padding: 0 0 0 0;\n",
              "    width: 32px;\n",
              "  }\n",
              "\n",
              "  .colab-df-quickchart:hover {\n",
              "    background-color: #E2EBFA;\n",
              "    box-shadow: 0px 1px 2px rgba(60, 64, 67, 0.3), 0px 1px 3px 1px rgba(60, 64, 67, 0.15);\n",
              "    fill: #174EA6;\n",
              "  }\n",
              "\n",
              "  [theme=dark] .colab-df-quickchart {\n",
              "    background-color: #3B4455;\n",
              "    fill: #D2E3FC;\n",
              "  }\n",
              "\n",
              "  [theme=dark] .colab-df-quickchart:hover {\n",
              "    background-color: #434B5C;\n",
              "    box-shadow: 0px 1px 3px 1px rgba(0, 0, 0, 0.15);\n",
              "    filter: drop-shadow(0px 1px 2px rgba(0, 0, 0, 0.3));\n",
              "    fill: #FFFFFF;\n",
              "  }\n",
              "</style>\n",
              "\n",
              "  <script>\n",
              "    async function quickchart(key) {\n",
              "      const charts = await google.colab.kernel.invokeFunction(\n",
              "          'suggestCharts', [key], {});\n",
              "    }\n",
              "    (() => {\n",
              "      let quickchartButtonEl =\n",
              "        document.querySelector('#df-14048484-cbfa-4bf0-a7fc-a59afabab043 button');\n",
              "      quickchartButtonEl.style.display =\n",
              "        google.colab.kernel.accessAllowed ? 'block' : 'none';\n",
              "    })();\n",
              "  </script>\n",
              "</div>\n",
              "    </div>\n",
              "  </div>\n"
            ]
          },
          "metadata": {},
          "execution_count": 6
        }
      ]
    },
    {
      "cell_type": "code",
      "source": [
        "df.info()"
      ],
      "metadata": {
        "colab": {
          "base_uri": "https://localhost:8080/"
        },
        "id": "3Q5EHqXOrhSr",
        "outputId": "b7bb9f4f-48db-4110-f2d3-449ad15ed550"
      },
      "execution_count": null,
      "outputs": [
        {
          "output_type": "stream",
          "name": "stdout",
          "text": [
            "<class 'pandas.core.frame.DataFrame'>\n",
            "RangeIndex: 26804 entries, 0 to 26803\n",
            "Data columns (total 18 columns):\n",
            " #   Column                Non-Null Count  Dtype  \n",
            "---  ------                --------------  -----  \n",
            " 0   trx_date              26804 non-null  object \n",
            " 1   trx_date_detail       26804 non-null  object \n",
            " 2   sales_id              26804 non-null  object \n",
            " 3   concept               26804 non-null  object \n",
            " 4   brand                 26804 non-null  object \n",
            " 5   outlet                26804 non-null  object \n",
            " 6   district              26804 non-null  object \n",
            " 7   city                  26804 non-null  object \n",
            " 8   menu_id               26804 non-null  object \n",
            " 9   menu_type             26804 non-null  object \n",
            " 10  menu_category         26804 non-null  object \n",
            " 11  menu_category_detail  26804 non-null  object \n",
            " 12  menu_name             26804 non-null  object \n",
            " 13  quantity              26804 non-null  float64\n",
            " 14  user_id               26804 non-null  object \n",
            " 15  user_created_at       26804 non-null  object \n",
            " 16  user_tier_level       26804 non-null  object \n",
            " 17  user_gender           26804 non-null  object \n",
            "dtypes: float64(1), object(17)\n",
            "memory usage: 3.7+ MB\n"
          ]
        }
      ]
    },
    {
      "cell_type": "code",
      "source": [
        "df['concept'].value_counts()"
      ],
      "metadata": {
        "colab": {
          "base_uri": "https://localhost:8080/"
        },
        "id": "LQlyRqkaq5Ua",
        "outputId": "0a47144c-efc2-4788-8d10-5d01768ff60d"
      },
      "execution_count": null,
      "outputs": [
        {
          "output_type": "execute_result",
          "data": {
            "text/plain": [
              "Resto        19073\n",
              "Lifestyle     7731\n",
              "Name: concept, dtype: int64"
            ]
          },
          "metadata": {},
          "execution_count": 39
        }
      ]
    },
    {
      "cell_type": "code",
      "source": [
        "df['brand'].value_counts()"
      ],
      "metadata": {
        "colab": {
          "base_uri": "https://localhost:8080/"
        },
        "id": "LgObCumIrJIq",
        "outputId": "435c1ca1-ab05-46a6-c91d-daab03d14bae"
      },
      "execution_count": null,
      "outputs": [
        {
          "output_type": "execute_result",
          "data": {
            "text/plain": [
              "Djournal           8208\n",
              "TPC                4153\n",
              "Osteria GIA        3974\n",
              "Kitchenette        3004\n",
              "Pizza E Birra      1522\n",
              "Social House       1512\n",
              "Tokyo Belly        1350\n",
              "Social Garden       877\n",
              "Publik Markette     593\n",
              "Mr Fox              509\n",
              "Skye                360\n",
              "A/A                 231\n",
              "Manarai             202\n",
              "Djournal House      142\n",
              "Sushi Groove        101\n",
              "DF Kitchen           66\n",
              "Name: brand, dtype: int64"
            ]
          },
          "metadata": {},
          "execution_count": 40
        }
      ]
    },
    {
      "cell_type": "code",
      "source": [
        "df['outlet'].value_counts()"
      ],
      "metadata": {
        "colab": {
          "base_uri": "https://localhost:8080/"
        },
        "id": "wQ6fRnvib3xX",
        "outputId": "87f21f39-ca36-4b89-9da9-0640ba60b5e4"
      },
      "execution_count": null,
      "outputs": [
        {
          "output_type": "execute_result",
          "data": {
            "text/plain": [
              "Osteria GIA, Plaza Indonesia        1705\n",
              "Social House, Grand Indonesia       1512\n",
              "Osteria GIA, Pondok Indah Mall 2    1258\n",
              "Djournal, Pondok Indah Mall 2       1063\n",
              "Osteria GIA, Pacific Place          1011\n",
              "                                    ... \n",
              "Djournal, Pasaraya Blok M              9\n",
              "Kitchenette, Kuta Beachwalk            6\n",
              "Djournal, MRT Blok M                   4\n",
              "Djournal, Kuta Beachwalk               3\n",
              "TPC, Pasaraya Blok M                   1\n",
              "Name: outlet, Length: 100, dtype: int64"
            ]
          },
          "metadata": {},
          "execution_count": 42
        }
      ]
    },
    {
      "cell_type": "code",
      "source": [
        "df['district'].value_counts()"
      ],
      "metadata": {
        "id": "kINPGrjUreXC",
        "colab": {
          "base_uri": "https://localhost:8080/"
        },
        "outputId": "75acaed5-c50e-4bd6-986a-c636401ac26f"
      },
      "execution_count": null,
      "outputs": [
        {
          "output_type": "execute_result",
          "data": {
            "text/plain": [
              "Menteng              5008\n",
              "Kebayoran Lama       4284\n",
              "Kebayoran Baru       3169\n",
              "Tanah Abang          2949\n",
              "Pondok Aren          1414\n",
              "Setia Budi           1410\n",
              "Sukajadi             1015\n",
              "Tegalsari             864\n",
              "Tebet                 679\n",
              "Grogol Petamburan     641\n",
              "Mulyorejo             637\n",
              "Wiyung                613\n",
              "Kelapa Gading         606\n",
              "Penjaringan           473\n",
              "Serpong Utara         465\n",
              "Denpasar Barat        396\n",
              "Cakung                354\n",
              "Kembangan             346\n",
              "Kelapa Dua            257\n",
              "Cilandak              206\n",
              "Kuta Selatan          202\n",
              "Kemayoran             195\n",
              "Tanjung Priok         175\n",
              "Beji                  143\n",
              "Andir                 130\n",
              "Kalideres              67\n",
              "Cibinong               58\n",
              "Babakan Madang         26\n",
              "Kuta Utara             13\n",
              "Kuta                    9\n",
              "Name: district, dtype: int64"
            ]
          },
          "metadata": {},
          "execution_count": 44
        }
      ]
    },
    {
      "cell_type": "code",
      "source": [
        "df['city'].value_counts()"
      ],
      "metadata": {
        "colab": {
          "base_uri": "https://localhost:8080/"
        },
        "id": "kfTNw-qgByQJ",
        "outputId": "7d100f57-9611-4a17-fd8d-7d2f90b8bb59"
      },
      "execution_count": null,
      "outputs": [
        {
          "output_type": "execute_result",
          "data": {
            "text/plain": [
              "Jakarta Selatan      9748\n",
              "Jakarta Pusat        8152\n",
              "Surabaya             2114\n",
              "Tangerang Selatan    1879\n",
              "Jakarta Utara        1254\n",
              "Bandung, Kota        1145\n",
              "Jakarta Barat        1054\n",
              "Denpasar              396\n",
              "Jakarta Timur         354\n",
              "Tangerang, Kab.       257\n",
              "Badung                224\n",
              "Depok                 143\n",
              "Bogor, Kab.            84\n",
              "Name: city, dtype: int64"
            ]
          },
          "metadata": {},
          "execution_count": 45
        }
      ]
    },
    {
      "cell_type": "code",
      "source": [
        "df['menu_id'].value_counts()"
      ],
      "metadata": {
        "colab": {
          "base_uri": "https://localhost:8080/"
        },
        "id": "WsvC-o0uByQy",
        "outputId": "60bd6c81-2f9c-4d53-9832-f45447741e37"
      },
      "execution_count": null,
      "outputs": [
        {
          "output_type": "execute_result",
          "data": {
            "text/plain": [
              "c482f57f-68ae-4f9b-b1a1-cd4c005279fc    549\n",
              "16d7a8e4-1455-4e99-a84c-c82c10aa8e61    453\n",
              "0a8d829f-ce91-4450-a2ae-a484ad9ec90e    421\n",
              "5d9df03c-e6fa-420c-89b1-9cb341756505    285\n",
              "76b2d827-8dac-4229-9290-e58fbcc79e62    267\n",
              "                                       ... \n",
              "721699c4-34ad-4e7a-9cf6-85e1062bcac7      1\n",
              "fcec8fa9-358a-4c59-bda7-6d2b6c7c86df      1\n",
              "8a66d84e-568c-4516-a2c9-e9849a3a4060      1\n",
              "181c10b9-b796-4f8b-bbb3-60cbd0ffa6bb      1\n",
              "6b78be91-4986-42c0-aa54-b7f01a056842      1\n",
              "Name: menu_id, Length: 2520, dtype: int64"
            ]
          },
          "metadata": {},
          "execution_count": 13
        }
      ]
    },
    {
      "cell_type": "code",
      "source": [
        "df['menu_type'].value_counts()"
      ],
      "metadata": {
        "colab": {
          "base_uri": "https://localhost:8080/"
        },
        "id": "Nb5QbaUkFFK5",
        "outputId": "40df9194-647a-4fb5-c21d-61f9b9c18dde"
      },
      "execution_count": null,
      "outputs": [
        {
          "output_type": "execute_result",
          "data": {
            "text/plain": [
              "Ala Carte          10666\n",
              "Package Content     9017\n",
              "Package Head        7121\n",
              "Name: menu_type, dtype: int64"
            ]
          },
          "metadata": {},
          "execution_count": 46
        }
      ]
    },
    {
      "cell_type": "code",
      "source": [
        "df['menu_category'].value_counts()"
      ],
      "metadata": {
        "colab": {
          "base_uri": "https://localhost:8080/"
        },
        "id": "bA4oF7wdGicb",
        "outputId": "4f848f7a-49f0-4acf-83f1-b6dc1c1ff34c"
      },
      "execution_count": null,
      "outputs": [
        {
          "output_type": "execute_result",
          "data": {
            "text/plain": [
              "BEVERAGE     14053\n",
              "FOOD         11525\n",
              "LIQUEUR        627\n",
              "BEER           399\n",
              "WINE           126\n",
              "CIGARETTE       42\n",
              "OTHER           32\n",
              "Name: menu_category, dtype: int64"
            ]
          },
          "metadata": {},
          "execution_count": 47
        }
      ]
    },
    {
      "cell_type": "code",
      "source": [
        "df['menu_name'].value_counts()"
      ],
      "metadata": {
        "colab": {
          "base_uri": "https://localhost:8080/"
        },
        "id": "wiP6xXIWGsuQ",
        "outputId": "99014da1-380c-4063-b5f3-bc1e7239053d"
      },
      "execution_count": null,
      "outputs": [
        {
          "output_type": "execute_result",
          "data": {
            "text/plain": [
              "Kopi Susu Batavia           549\n",
              "Reg Milk Iced KopSus Btv    453\n",
              "Bread                       421\n",
              "Long Black                  370\n",
              "Iced                        358\n",
              "                           ... \n",
              "Blood Orange Tiramisu         1\n",
              "2019 Penfolds Bin 8           1\n",
              "Espresso Double               1\n",
              "Virgin Mojito                 1\n",
              "Tempe Goreng PWP              1\n",
              "Name: menu_name, Length: 2030, dtype: int64"
            ]
          },
          "metadata": {},
          "execution_count": 14
        }
      ]
    },
    {
      "cell_type": "code",
      "source": [
        "df['user_tier_level'].value_counts()"
      ],
      "metadata": {
        "colab": {
          "base_uri": "https://localhost:8080/"
        },
        "id": "ubeFkHClmL_-",
        "outputId": "9495275b-875c-4712-cfb8-757999c1aee3"
      },
      "execution_count": null,
      "outputs": [
        {
          "output_type": "execute_result",
          "data": {
            "text/plain": [
              "Basic      9125\n",
              "Silver     7976\n",
              "Diamond    5879\n",
              "Gold       3284\n",
              "Black       540\n",
              "Name: user_tier_level, dtype: int64"
            ]
          },
          "metadata": {},
          "execution_count": 15
        }
      ]
    },
    {
      "cell_type": "code",
      "source": [
        "df['user_gender'].value_counts()"
      ],
      "metadata": {
        "colab": {
          "base_uri": "https://localhost:8080/"
        },
        "id": "tBgeP_DNmPyP",
        "outputId": "e2f70de0-6108-4bee-fda1-688cb64c5745"
      },
      "execution_count": null,
      "outputs": [
        {
          "output_type": "execute_result",
          "data": {
            "text/plain": [
              "F    15382\n",
              "M    11422\n",
              "Name: user_gender, dtype: int64"
            ]
          },
          "metadata": {},
          "execution_count": 16
        }
      ]
    },
    {
      "cell_type": "code",
      "source": [
        "# Group data by district and brand\n",
        "grouped_data = df.groupby(['district', 'brand'])\n",
        "\n",
        "# Sum the quantities for each brand within each district\n",
        "brand_quantities = grouped_data['quantity'].sum().reset_index(name='total_quantity')\n",
        "\n",
        "# Find the index of the brand with the most total quantity within each district\n",
        "most_quantity_brands = brand_quantities.groupby('district')['total_quantity'].idxmax()\n",
        "\n",
        "# Get the actual brand names for the brands with the most total quantity\n",
        "result = brand_quantities.loc[most_quantity_brands]\n",
        "\n",
        "print(result)\n"
      ],
      "metadata": {
        "colab": {
          "base_uri": "https://localhost:8080/"
        },
        "id": "2DCUVxVFn9mO",
        "outputId": "fda44120-c214-47e7-d137-8dd4166546d0"
      },
      "execution_count": null,
      "outputs": [
        {
          "output_type": "stream",
          "name": "stdout",
          "text": [
            "             district          brand  total_quantity\n",
            "1               Andir            TPC           116.0\n",
            "2      Babakan Madang            TPC            28.0\n",
            "3                Beji       Djournal            82.0\n",
            "5              Cakung            TPC           393.0\n",
            "6            Cibinong    Tokyo Belly            58.0\n",
            "8            Cilandak  Pizza E Birra           115.0\n",
            "10     Denpasar Barat            TPC           240.0\n",
            "13  Grogol Petamburan            TPC           337.0\n",
            "14          Kalideres            TPC            89.0\n",
            "20     Kebayoran Baru    Osteria GIA          1262.0\n",
            "24     Kebayoran Lama    Osteria GIA          1578.0\n",
            "28         Kelapa Dua  Pizza E Birra           221.0\n",
            "30      Kelapa Gading       Djournal           414.0\n",
            "34          Kemayoran    Tokyo Belly           213.0\n",
            "35          Kembangan       Djournal           300.0\n",
            "38               Kuta       Djournal             7.0\n",
            "40       Kuta Selatan        Manarai           242.0\n",
            "41         Kuta Utara       Djournal             9.0\n",
            "44            Menteng    Osteria GIA          2312.0\n",
            "50          Mulyorejo       Djournal           521.0\n",
            "53        Penjaringan       Djournal           400.0\n",
            "55        Pondok Aren       Djournal           779.0\n",
            "58      Serpong Utara       Djournal           363.0\n",
            "61         Setia Budi       Djournal           424.0\n",
            "65           Sukajadi       Djournal          1236.0\n",
            "69        Tanah Abang       Djournal          1568.0\n",
            "74      Tanjung Priok            TPC           202.0\n",
            "75              Tebet    Kitchenette           424.0\n",
            "79          Tegalsari       Djournal           356.0\n",
            "83             Wiyung       Djournal           231.0\n"
          ]
        }
      ]
    },
    {
      "cell_type": "markdown",
      "source": [
        "Reviewed after doing preprocessing"
      ],
      "metadata": {
        "id": "sa65tABW4l8g"
      }
    },
    {
      "cell_type": "code",
      "source": [
        "'''user_day_counts = df.groupby(['user_id', 'day']).size().reset_index(name='count')\n",
        "\n",
        "# Finding the user with the most rows for each \"day\"\n",
        "most_common_users_per_day = user_day_counts.groupby('day')['user_id', 'count']\\\n",
        "                                          .apply(lambda x: x[x['count'] == x['count'].max()])\\\n",
        "                                          .reset_index(drop=True)\n",
        "\n",
        "print(most_common_users_per_day)'''"
      ],
      "metadata": {
        "id": "5LnH2GBV4pUA"
      },
      "execution_count": null,
      "outputs": []
    },
    {
      "cell_type": "markdown",
      "source": [
        "# Preprocessing the Data"
      ],
      "metadata": {
        "id": "0lTXThhG-XHq"
      }
    },
    {
      "cell_type": "code",
      "source": [
        "def extract_hour(datetime_obj):\n",
        "    return datetime_obj.hour\n",
        "\n",
        "def extract_minutes(datetime_obj):\n",
        "    return datetime_obj.minute\n",
        "\n",
        "def extract_day(datetime_obj):\n",
        "    return datetime_obj.day\n",
        "\n",
        "def extract_month(datetime_obj):\n",
        "    return datetime_obj.month\n",
        "\n",
        "def extract_year(datetime_obj):\n",
        "    return datetime_obj.year"
      ],
      "metadata": {
        "id": "GL60bbpb-atB"
      },
      "execution_count": 5,
      "outputs": []
    },
    {
      "cell_type": "code",
      "source": [
        "df['trx_date_detail'] = pd.to_datetime(df['trx_date_detail'], format=\"%Y-%m-%d %H:%M:%S %Z\")"
      ],
      "metadata": {
        "id": "Jm2rIuXl-qV5"
      },
      "execution_count": 6,
      "outputs": []
    },
    {
      "cell_type": "code",
      "source": [
        "df['user_created_at'] = pd.to_datetime(df['user_created_at'])"
      ],
      "metadata": {
        "id": "PuAXrv7O86-m"
      },
      "execution_count": 7,
      "outputs": []
    },
    {
      "cell_type": "code",
      "source": [
        "df['hour'] = df['trx_date_detail'].apply(extract_hour)\n",
        "df['day'] = df['trx_date_detail'].apply(extract_day)\n",
        "df['month'] = df['trx_date_detail'].apply(extract_month)\n",
        "df['year'] = df['trx_date_detail'].apply(extract_year)"
      ],
      "metadata": {
        "id": "kSC0EJyy-eQB"
      },
      "execution_count": 8,
      "outputs": []
    },
    {
      "cell_type": "code",
      "source": [
        "df['user_created_year'] = df['user_created_at'].dt.year\n",
        "df['user_created_month'] = df['user_created_at'].dt.month\n",
        "df['user_created_day'] = df['user_created_at'].dt.day\n",
        "df['user_created_hour'] = df['user_created_at'].dt.hour"
      ],
      "metadata": {
        "id": "1BnmrmN98v3C"
      },
      "execution_count": 9,
      "outputs": []
    },
    {
      "cell_type": "code",
      "source": [
        "df = df.drop('trx_date_detail', axis=1)"
      ],
      "metadata": {
        "id": "p3Pa8bltOlvg"
      },
      "execution_count": 10,
      "outputs": []
    },
    {
      "cell_type": "code",
      "source": [
        "df = df.drop('trx_date', axis=1)\n",
        "df = df.drop('user_created_at', axis=1)"
      ],
      "metadata": {
        "id": "QPiKDUte0kxm"
      },
      "execution_count": 11,
      "outputs": []
    },
    {
      "cell_type": "code",
      "source": [
        "df['user_id'] = df['user_id'].astype(str)"
      ],
      "metadata": {
        "id": "Y1zfZozD5BN8"
      },
      "execution_count": 12,
      "outputs": []
    },
    {
      "cell_type": "code",
      "source": [
        "df['sales_id'] = df['sales_id'].astype(str)"
      ],
      "metadata": {
        "id": "Ftn48qkE5HT7"
      },
      "execution_count": 13,
      "outputs": []
    },
    {
      "cell_type": "code",
      "source": [
        "df['quantity'] = df['quantity'].astype(np.float32)"
      ],
      "metadata": {
        "id": "Dz6RBTkDPdQJ"
      },
      "execution_count": 14,
      "outputs": []
    },
    {
      "cell_type": "code",
      "source": [
        "unique_user_id = df.user_id.unique()\n",
        "unique_concept = df.concept.unique()\n",
        "unique_brand = df.brand.unique()\n",
        "unique_outlet = df.outlet.unique()\n",
        "unique_district = df.district.unique()\n",
        "unique_city = df.city.unique()\n",
        "unique_menu_id = df.menu_id.unique()\n",
        "unique_menu_type = df.menu_type.unique()\n",
        "unique_menu_category = df.menu_category.unique()\n",
        "unique_menu_category_detail = df.menu_category_detail.unique()\n",
        "unique_menu_name = df.menu_name.unique()\n",
        "unique_user_tier_level = df.user_tier_level.unique()\n",
        "unique_user_gender = df.user_gender.unique()"
      ],
      "metadata": {
        "id": "dt5U79u75vbr"
      },
      "execution_count": 15,
      "outputs": []
    },
    {
      "cell_type": "code",
      "source": [
        "user_menu_quantities = df.groupby([\"user_id\", \"menu_id\"])[\"quantity\"].sum().reset_index()\n",
        "\n",
        "# Display the result\n",
        "print(user_menu_quantities)"
      ],
      "metadata": {
        "colab": {
          "base_uri": "https://localhost:8080/"
        },
        "id": "mf2Nb0gOGpIA",
        "outputId": "3562bef4-4e33-4f1d-d71f-6e376301a1f0"
      },
      "execution_count": 16,
      "outputs": [
        {
          "output_type": "stream",
          "name": "stdout",
          "text": [
            "                                    user_id  \\\n",
            "0      00b158ed-0fcb-48e1-b627-2bb572a344cf   \n",
            "1      00b158ed-0fcb-48e1-b627-2bb572a344cf   \n",
            "2      00b158ed-0fcb-48e1-b627-2bb572a344cf   \n",
            "3      00b158ed-0fcb-48e1-b627-2bb572a344cf   \n",
            "4      00b158ed-0fcb-48e1-b627-2bb572a344cf   \n",
            "...                                     ...   \n",
            "17932  ffde4412-810f-4800-a40b-27ad2a614a9e   \n",
            "17933  ffde4412-810f-4800-a40b-27ad2a614a9e   \n",
            "17934  ffde4412-810f-4800-a40b-27ad2a614a9e   \n",
            "17935  ffde4412-810f-4800-a40b-27ad2a614a9e   \n",
            "17936  ffde4412-810f-4800-a40b-27ad2a614a9e   \n",
            "\n",
            "                                    menu_id  quantity  \n",
            "0      04891c2e-96a9-4a6f-9e73-f810087eea54       1.0  \n",
            "1      0cbbe21a-1dd1-470b-b4f9-e41cf62d17c7       1.0  \n",
            "2      16d7a8e4-1455-4e99-a84c-c82c10aa8e61       8.0  \n",
            "3      2226b630-4dcb-468e-9623-ce3973c4bbe6       1.0  \n",
            "4      3f90bafe-9cc0-41c6-b11b-ce0067bfda38       3.0  \n",
            "...                                     ...       ...  \n",
            "17932  e161161e-746d-44cc-a016-68aa3f18e8ae       2.0  \n",
            "17933  e80a5733-7f88-40d9-afbe-2ed52bf2c18a       1.0  \n",
            "17934  e85a0bea-af1e-4b08-b898-1ec38992f475       1.0  \n",
            "17935  eca07b1d-ed53-4954-b2ee-773534de5f36       1.0  \n",
            "17936  f383cbb8-a20d-4c8e-bdf7-da0af17c7b9b       1.0  \n",
            "\n",
            "[17937 rows x 3 columns]\n"
          ]
        }
      ]
    },
    {
      "cell_type": "code",
      "source": [
        "from sklearn.preprocessing import StandardScaler\n",
        "\n",
        "# Select the quantity column for scaling\n",
        "quantity_values = user_menu_quantities[\"quantity\"].values.reshape(-1, 1)\n",
        "\n",
        "# Create a StandardScaler instance and fit-transform the data\n",
        "scaler = StandardScaler()\n",
        "scaled_quantity = scaler.fit_transform(quantity_values)\n",
        "\n",
        "# Update the DataFrame with scaled values\n",
        "user_menu_quantities[\"scaled_quantity\"] = scaled_quantity\n",
        "\n",
        "# Display the result\n",
        "print(user_menu_quantities)"
      ],
      "metadata": {
        "id": "eS0QusVZc_qX",
        "colab": {
          "base_uri": "https://localhost:8080/"
        },
        "outputId": "b3c02c08-d23c-4d63-e2d2-740dcd80663e"
      },
      "execution_count": 17,
      "outputs": [
        {
          "output_type": "stream",
          "name": "stdout",
          "text": [
            "                                    user_id  \\\n",
            "0      00b158ed-0fcb-48e1-b627-2bb572a344cf   \n",
            "1      00b158ed-0fcb-48e1-b627-2bb572a344cf   \n",
            "2      00b158ed-0fcb-48e1-b627-2bb572a344cf   \n",
            "3      00b158ed-0fcb-48e1-b627-2bb572a344cf   \n",
            "4      00b158ed-0fcb-48e1-b627-2bb572a344cf   \n",
            "...                                     ...   \n",
            "17932  ffde4412-810f-4800-a40b-27ad2a614a9e   \n",
            "17933  ffde4412-810f-4800-a40b-27ad2a614a9e   \n",
            "17934  ffde4412-810f-4800-a40b-27ad2a614a9e   \n",
            "17935  ffde4412-810f-4800-a40b-27ad2a614a9e   \n",
            "17936  ffde4412-810f-4800-a40b-27ad2a614a9e   \n",
            "\n",
            "                                    menu_id  quantity  scaled_quantity  \n",
            "0      04891c2e-96a9-4a6f-9e73-f810087eea54       1.0        -0.284088  \n",
            "1      0cbbe21a-1dd1-470b-b4f9-e41cf62d17c7       1.0        -0.284088  \n",
            "2      16d7a8e4-1455-4e99-a84c-c82c10aa8e61       8.0         2.407974  \n",
            "3      2226b630-4dcb-468e-9623-ce3973c4bbe6       1.0        -0.284088  \n",
            "4      3f90bafe-9cc0-41c6-b11b-ce0067bfda38       3.0         0.485072  \n",
            "...                                     ...       ...              ...  \n",
            "17932  e161161e-746d-44cc-a016-68aa3f18e8ae       2.0         0.100492  \n",
            "17933  e80a5733-7f88-40d9-afbe-2ed52bf2c18a       1.0        -0.284088  \n",
            "17934  e85a0bea-af1e-4b08-b898-1ec38992f475       1.0        -0.284088  \n",
            "17935  eca07b1d-ed53-4954-b2ee-773534de5f36       1.0        -0.284088  \n",
            "17936  f383cbb8-a20d-4c8e-bdf7-da0af17c7b9b       1.0        -0.284088  \n",
            "\n",
            "[17937 rows x 4 columns]\n"
          ]
        }
      ]
    },
    {
      "cell_type": "code",
      "source": [
        "user_menu_quantities = pd.DataFrame(user_menu_quantities)"
      ],
      "metadata": {
        "id": "GVz0LNJXdU39"
      },
      "execution_count": 18,
      "outputs": []
    },
    {
      "cell_type": "code",
      "source": [
        "df"
      ],
      "metadata": {
        "colab": {
          "base_uri": "https://localhost:8080/",
          "height": 2385
        },
        "id": "rU2gB03E7Eni",
        "outputId": "50a774c8-6291-404c-b463-f3a1b427e6b1"
      },
      "execution_count": 68,
      "outputs": [
        {
          "output_type": "execute_result",
          "data": {
            "text/plain": [
              "                                   sales_id    concept brand  \\\n",
              "0      02d6de17-9ca4-480f-b13c-7336dccd64b9  Lifestyle   A/A   \n",
              "1      02d6de17-9ca4-480f-b13c-7336dccd64b9  Lifestyle   A/A   \n",
              "2      02d6de17-9ca4-480f-b13c-7336dccd64b9  Lifestyle   A/A   \n",
              "3      02d6de17-9ca4-480f-b13c-7336dccd64b9  Lifestyle   A/A   \n",
              "4      02d6de17-9ca4-480f-b13c-7336dccd64b9  Lifestyle   A/A   \n",
              "...                                     ...        ...   ...   \n",
              "26799  85d9a596-8307-4078-a4d5-debdef0f31c0      Resto   TPC   \n",
              "26800  85d9a596-8307-4078-a4d5-debdef0f31c0      Resto   TPC   \n",
              "26801  85d9a596-8307-4078-a4d5-debdef0f31c0      Resto   TPC   \n",
              "26802  85d9a596-8307-4078-a4d5-debdef0f31c0      Resto   TPC   \n",
              "26803  85d9a596-8307-4078-a4d5-debdef0f31c0      Resto   TPC   \n",
              "\n",
              "                             outlet        district             city  \\\n",
              "0            Apothecary, Gunawarman  Kebayoran Baru  Jakarta Selatan   \n",
              "1            Apothecary, Gunawarman  Kebayoran Baru  Jakarta Selatan   \n",
              "2            Apothecary, Gunawarman  Kebayoran Baru  Jakarta Selatan   \n",
              "3            Apothecary, Gunawarman  Kebayoran Baru  Jakarta Selatan   \n",
              "4            Apothecary, Gunawarman  Kebayoran Baru  Jakarta Selatan   \n",
              "...                             ...             ...              ...   \n",
              "26799  TPC, Summarecon Mall Serpong      Kelapa Dua  Tangerang, Kab.   \n",
              "26800  TPC, Summarecon Mall Serpong      Kelapa Dua  Tangerang, Kab.   \n",
              "26801  TPC, Summarecon Mall Serpong      Kelapa Dua  Tangerang, Kab.   \n",
              "26802  TPC, Summarecon Mall Serpong      Kelapa Dua  Tangerang, Kab.   \n",
              "26803  TPC, Summarecon Mall Serpong      Kelapa Dua  Tangerang, Kab.   \n",
              "\n",
              "                                    menu_id        menu_type menu_category  \\\n",
              "0      5204e17e-aefb-4235-8eb8-7177a5679352        Ala Carte          FOOD   \n",
              "1      1420bcef-ac34-4967-b5e0-4a2942f222a4  Package Content      BEVERAGE   \n",
              "2      1420bcef-ac34-4967-b5e0-4a2942f222a4  Package Content      BEVERAGE   \n",
              "3      77bb78c6-2f51-4f61-9d74-02d69388cef1  Package Content      BEVERAGE   \n",
              "4      f026874c-5a66-4184-8ce0-9aeb9e37b5ac  Package Content       LIQUEUR   \n",
              "...                                     ...              ...           ...   \n",
              "26799  23584c04-c6ae-4118-94a9-f248e3a58b00        Ala Carte          FOOD   \n",
              "26800  b69907d0-a325-4b5a-bb48-2bb6abbae51a  Package Content          FOOD   \n",
              "26801  d9c617fb-65f1-481b-98a4-55d8f73a6fdb  Package Content      BEVERAGE   \n",
              "26802  6b4f7c28-3e6e-4430-b1d7-b9604a18f8ce     Package Head      BEVERAGE   \n",
              "26803  c583ee74-e0b1-47f8-a8cd-a21b3c03c258        Ala Carte          FOOD   \n",
              "\n",
              "             menu_category_detail  ... user_tier_level  user_gender hour day  \\\n",
              "0                      APPETIZERS  ...            Gold            F   20   4   \n",
              "1               BEVERAGE MODIFIER  ...            Gold            F   20   4   \n",
              "2               BEVERAGE MODIFIER  ...            Gold            F   20   4   \n",
              "3               BEVERAGE MODIFIER  ...            Gold            F   20   4   \n",
              "4                       WHISK(E)Y  ...            Gold            F   20   4   \n",
              "...                           ...  ...             ...          ...  ...  ..   \n",
              "26799                     DESSERT  ...           Basic            F   21   1   \n",
              "26800               FOOD MODIFIER  ...           Basic            F   21   1   \n",
              "26801           BEVERAGE MODIFIER  ...           Basic            F   21   1   \n",
              "26802  FRESHLY BREWED BY DJOURNAL  ...           Basic            F   21   1   \n",
              "26803                       MAINS  ...           Basic            F   21   1   \n",
              "\n",
              "      month  year  user_created_year  user_created_month  user_created_day  \\\n",
              "0         1  2023               2021                   5                13   \n",
              "1         1  2023               2021                   5                13   \n",
              "2         1  2023               2021                   5                13   \n",
              "3         1  2023               2021                   5                13   \n",
              "4         1  2023               2021                   5                13   \n",
              "...     ...   ...                ...                 ...               ...   \n",
              "26799     1  2023               2021                   4                22   \n",
              "26800     1  2023               2021                   4                22   \n",
              "26801     1  2023               2021                   4                22   \n",
              "26802     1  2023               2021                   4                22   \n",
              "26803     1  2023               2021                   4                22   \n",
              "\n",
              "       user_created_hour  \n",
              "0                      7  \n",
              "1                      7  \n",
              "2                      7  \n",
              "3                      7  \n",
              "4                      7  \n",
              "...                  ...  \n",
              "26799                 13  \n",
              "26800                 13  \n",
              "26801                 13  \n",
              "26802                 13  \n",
              "26803                 13  \n",
              "\n",
              "[26804 rows x 23 columns]"
            ],
            "text/html": [
              "\n",
              "  <div id=\"df-9b3b5779-6329-4488-92a4-09f3d0f5d43d\" class=\"colab-df-container\">\n",
              "    <div>\n",
              "<style scoped>\n",
              "    .dataframe tbody tr th:only-of-type {\n",
              "        vertical-align: middle;\n",
              "    }\n",
              "\n",
              "    .dataframe tbody tr th {\n",
              "        vertical-align: top;\n",
              "    }\n",
              "\n",
              "    .dataframe thead th {\n",
              "        text-align: right;\n",
              "    }\n",
              "</style>\n",
              "<table border=\"1\" class=\"dataframe\">\n",
              "  <thead>\n",
              "    <tr style=\"text-align: right;\">\n",
              "      <th></th>\n",
              "      <th>sales_id</th>\n",
              "      <th>concept</th>\n",
              "      <th>brand</th>\n",
              "      <th>outlet</th>\n",
              "      <th>district</th>\n",
              "      <th>city</th>\n",
              "      <th>menu_id</th>\n",
              "      <th>menu_type</th>\n",
              "      <th>menu_category</th>\n",
              "      <th>menu_category_detail</th>\n",
              "      <th>...</th>\n",
              "      <th>user_tier_level</th>\n",
              "      <th>user_gender</th>\n",
              "      <th>hour</th>\n",
              "      <th>day</th>\n",
              "      <th>month</th>\n",
              "      <th>year</th>\n",
              "      <th>user_created_year</th>\n",
              "      <th>user_created_month</th>\n",
              "      <th>user_created_day</th>\n",
              "      <th>user_created_hour</th>\n",
              "    </tr>\n",
              "  </thead>\n",
              "  <tbody>\n",
              "    <tr>\n",
              "      <th>0</th>\n",
              "      <td>02d6de17-9ca4-480f-b13c-7336dccd64b9</td>\n",
              "      <td>Lifestyle</td>\n",
              "      <td>A/A</td>\n",
              "      <td>Apothecary, Gunawarman</td>\n",
              "      <td>Kebayoran Baru</td>\n",
              "      <td>Jakarta Selatan</td>\n",
              "      <td>5204e17e-aefb-4235-8eb8-7177a5679352</td>\n",
              "      <td>Ala Carte</td>\n",
              "      <td>FOOD</td>\n",
              "      <td>APPETIZERS</td>\n",
              "      <td>...</td>\n",
              "      <td>Gold</td>\n",
              "      <td>F</td>\n",
              "      <td>20</td>\n",
              "      <td>4</td>\n",
              "      <td>1</td>\n",
              "      <td>2023</td>\n",
              "      <td>2021</td>\n",
              "      <td>5</td>\n",
              "      <td>13</td>\n",
              "      <td>7</td>\n",
              "    </tr>\n",
              "    <tr>\n",
              "      <th>1</th>\n",
              "      <td>02d6de17-9ca4-480f-b13c-7336dccd64b9</td>\n",
              "      <td>Lifestyle</td>\n",
              "      <td>A/A</td>\n",
              "      <td>Apothecary, Gunawarman</td>\n",
              "      <td>Kebayoran Baru</td>\n",
              "      <td>Jakarta Selatan</td>\n",
              "      <td>1420bcef-ac34-4967-b5e0-4a2942f222a4</td>\n",
              "      <td>Package Content</td>\n",
              "      <td>BEVERAGE</td>\n",
              "      <td>BEVERAGE MODIFIER</td>\n",
              "      <td>...</td>\n",
              "      <td>Gold</td>\n",
              "      <td>F</td>\n",
              "      <td>20</td>\n",
              "      <td>4</td>\n",
              "      <td>1</td>\n",
              "      <td>2023</td>\n",
              "      <td>2021</td>\n",
              "      <td>5</td>\n",
              "      <td>13</td>\n",
              "      <td>7</td>\n",
              "    </tr>\n",
              "    <tr>\n",
              "      <th>2</th>\n",
              "      <td>02d6de17-9ca4-480f-b13c-7336dccd64b9</td>\n",
              "      <td>Lifestyle</td>\n",
              "      <td>A/A</td>\n",
              "      <td>Apothecary, Gunawarman</td>\n",
              "      <td>Kebayoran Baru</td>\n",
              "      <td>Jakarta Selatan</td>\n",
              "      <td>1420bcef-ac34-4967-b5e0-4a2942f222a4</td>\n",
              "      <td>Package Content</td>\n",
              "      <td>BEVERAGE</td>\n",
              "      <td>BEVERAGE MODIFIER</td>\n",
              "      <td>...</td>\n",
              "      <td>Gold</td>\n",
              "      <td>F</td>\n",
              "      <td>20</td>\n",
              "      <td>4</td>\n",
              "      <td>1</td>\n",
              "      <td>2023</td>\n",
              "      <td>2021</td>\n",
              "      <td>5</td>\n",
              "      <td>13</td>\n",
              "      <td>7</td>\n",
              "    </tr>\n",
              "    <tr>\n",
              "      <th>3</th>\n",
              "      <td>02d6de17-9ca4-480f-b13c-7336dccd64b9</td>\n",
              "      <td>Lifestyle</td>\n",
              "      <td>A/A</td>\n",
              "      <td>Apothecary, Gunawarman</td>\n",
              "      <td>Kebayoran Baru</td>\n",
              "      <td>Jakarta Selatan</td>\n",
              "      <td>77bb78c6-2f51-4f61-9d74-02d69388cef1</td>\n",
              "      <td>Package Content</td>\n",
              "      <td>BEVERAGE</td>\n",
              "      <td>BEVERAGE MODIFIER</td>\n",
              "      <td>...</td>\n",
              "      <td>Gold</td>\n",
              "      <td>F</td>\n",
              "      <td>20</td>\n",
              "      <td>4</td>\n",
              "      <td>1</td>\n",
              "      <td>2023</td>\n",
              "      <td>2021</td>\n",
              "      <td>5</td>\n",
              "      <td>13</td>\n",
              "      <td>7</td>\n",
              "    </tr>\n",
              "    <tr>\n",
              "      <th>4</th>\n",
              "      <td>02d6de17-9ca4-480f-b13c-7336dccd64b9</td>\n",
              "      <td>Lifestyle</td>\n",
              "      <td>A/A</td>\n",
              "      <td>Apothecary, Gunawarman</td>\n",
              "      <td>Kebayoran Baru</td>\n",
              "      <td>Jakarta Selatan</td>\n",
              "      <td>f026874c-5a66-4184-8ce0-9aeb9e37b5ac</td>\n",
              "      <td>Package Content</td>\n",
              "      <td>LIQUEUR</td>\n",
              "      <td>WHISK(E)Y</td>\n",
              "      <td>...</td>\n",
              "      <td>Gold</td>\n",
              "      <td>F</td>\n",
              "      <td>20</td>\n",
              "      <td>4</td>\n",
              "      <td>1</td>\n",
              "      <td>2023</td>\n",
              "      <td>2021</td>\n",
              "      <td>5</td>\n",
              "      <td>13</td>\n",
              "      <td>7</td>\n",
              "    </tr>\n",
              "    <tr>\n",
              "      <th>...</th>\n",
              "      <td>...</td>\n",
              "      <td>...</td>\n",
              "      <td>...</td>\n",
              "      <td>...</td>\n",
              "      <td>...</td>\n",
              "      <td>...</td>\n",
              "      <td>...</td>\n",
              "      <td>...</td>\n",
              "      <td>...</td>\n",
              "      <td>...</td>\n",
              "      <td>...</td>\n",
              "      <td>...</td>\n",
              "      <td>...</td>\n",
              "      <td>...</td>\n",
              "      <td>...</td>\n",
              "      <td>...</td>\n",
              "      <td>...</td>\n",
              "      <td>...</td>\n",
              "      <td>...</td>\n",
              "      <td>...</td>\n",
              "      <td>...</td>\n",
              "    </tr>\n",
              "    <tr>\n",
              "      <th>26799</th>\n",
              "      <td>85d9a596-8307-4078-a4d5-debdef0f31c0</td>\n",
              "      <td>Resto</td>\n",
              "      <td>TPC</td>\n",
              "      <td>TPC, Summarecon Mall Serpong</td>\n",
              "      <td>Kelapa Dua</td>\n",
              "      <td>Tangerang, Kab.</td>\n",
              "      <td>23584c04-c6ae-4118-94a9-f248e3a58b00</td>\n",
              "      <td>Ala Carte</td>\n",
              "      <td>FOOD</td>\n",
              "      <td>DESSERT</td>\n",
              "      <td>...</td>\n",
              "      <td>Basic</td>\n",
              "      <td>F</td>\n",
              "      <td>21</td>\n",
              "      <td>1</td>\n",
              "      <td>1</td>\n",
              "      <td>2023</td>\n",
              "      <td>2021</td>\n",
              "      <td>4</td>\n",
              "      <td>22</td>\n",
              "      <td>13</td>\n",
              "    </tr>\n",
              "    <tr>\n",
              "      <th>26800</th>\n",
              "      <td>85d9a596-8307-4078-a4d5-debdef0f31c0</td>\n",
              "      <td>Resto</td>\n",
              "      <td>TPC</td>\n",
              "      <td>TPC, Summarecon Mall Serpong</td>\n",
              "      <td>Kelapa Dua</td>\n",
              "      <td>Tangerang, Kab.</td>\n",
              "      <td>b69907d0-a325-4b5a-bb48-2bb6abbae51a</td>\n",
              "      <td>Package Content</td>\n",
              "      <td>FOOD</td>\n",
              "      <td>FOOD MODIFIER</td>\n",
              "      <td>...</td>\n",
              "      <td>Basic</td>\n",
              "      <td>F</td>\n",
              "      <td>21</td>\n",
              "      <td>1</td>\n",
              "      <td>1</td>\n",
              "      <td>2023</td>\n",
              "      <td>2021</td>\n",
              "      <td>4</td>\n",
              "      <td>22</td>\n",
              "      <td>13</td>\n",
              "    </tr>\n",
              "    <tr>\n",
              "      <th>26801</th>\n",
              "      <td>85d9a596-8307-4078-a4d5-debdef0f31c0</td>\n",
              "      <td>Resto</td>\n",
              "      <td>TPC</td>\n",
              "      <td>TPC, Summarecon Mall Serpong</td>\n",
              "      <td>Kelapa Dua</td>\n",
              "      <td>Tangerang, Kab.</td>\n",
              "      <td>d9c617fb-65f1-481b-98a4-55d8f73a6fdb</td>\n",
              "      <td>Package Content</td>\n",
              "      <td>BEVERAGE</td>\n",
              "      <td>BEVERAGE MODIFIER</td>\n",
              "      <td>...</td>\n",
              "      <td>Basic</td>\n",
              "      <td>F</td>\n",
              "      <td>21</td>\n",
              "      <td>1</td>\n",
              "      <td>1</td>\n",
              "      <td>2023</td>\n",
              "      <td>2021</td>\n",
              "      <td>4</td>\n",
              "      <td>22</td>\n",
              "      <td>13</td>\n",
              "    </tr>\n",
              "    <tr>\n",
              "      <th>26802</th>\n",
              "      <td>85d9a596-8307-4078-a4d5-debdef0f31c0</td>\n",
              "      <td>Resto</td>\n",
              "      <td>TPC</td>\n",
              "      <td>TPC, Summarecon Mall Serpong</td>\n",
              "      <td>Kelapa Dua</td>\n",
              "      <td>Tangerang, Kab.</td>\n",
              "      <td>6b4f7c28-3e6e-4430-b1d7-b9604a18f8ce</td>\n",
              "      <td>Package Head</td>\n",
              "      <td>BEVERAGE</td>\n",
              "      <td>FRESHLY BREWED BY DJOURNAL</td>\n",
              "      <td>...</td>\n",
              "      <td>Basic</td>\n",
              "      <td>F</td>\n",
              "      <td>21</td>\n",
              "      <td>1</td>\n",
              "      <td>1</td>\n",
              "      <td>2023</td>\n",
              "      <td>2021</td>\n",
              "      <td>4</td>\n",
              "      <td>22</td>\n",
              "      <td>13</td>\n",
              "    </tr>\n",
              "    <tr>\n",
              "      <th>26803</th>\n",
              "      <td>85d9a596-8307-4078-a4d5-debdef0f31c0</td>\n",
              "      <td>Resto</td>\n",
              "      <td>TPC</td>\n",
              "      <td>TPC, Summarecon Mall Serpong</td>\n",
              "      <td>Kelapa Dua</td>\n",
              "      <td>Tangerang, Kab.</td>\n",
              "      <td>c583ee74-e0b1-47f8-a8cd-a21b3c03c258</td>\n",
              "      <td>Ala Carte</td>\n",
              "      <td>FOOD</td>\n",
              "      <td>MAINS</td>\n",
              "      <td>...</td>\n",
              "      <td>Basic</td>\n",
              "      <td>F</td>\n",
              "      <td>21</td>\n",
              "      <td>1</td>\n",
              "      <td>1</td>\n",
              "      <td>2023</td>\n",
              "      <td>2021</td>\n",
              "      <td>4</td>\n",
              "      <td>22</td>\n",
              "      <td>13</td>\n",
              "    </tr>\n",
              "  </tbody>\n",
              "</table>\n",
              "<p>26804 rows × 23 columns</p>\n",
              "</div>\n",
              "    <div class=\"colab-df-buttons\">\n",
              "\n",
              "  <div class=\"colab-df-container\">\n",
              "    <button class=\"colab-df-convert\" onclick=\"convertToInteractive('df-9b3b5779-6329-4488-92a4-09f3d0f5d43d')\"\n",
              "            title=\"Convert this dataframe to an interactive table.\"\n",
              "            style=\"display:none;\">\n",
              "\n",
              "  <svg xmlns=\"http://www.w3.org/2000/svg\" height=\"24px\" viewBox=\"0 -960 960 960\">\n",
              "    <path d=\"M120-120v-720h720v720H120Zm60-500h600v-160H180v160Zm220 220h160v-160H400v160Zm0 220h160v-160H400v160ZM180-400h160v-160H180v160Zm440 0h160v-160H620v160ZM180-180h160v-160H180v160Zm440 0h160v-160H620v160Z\"/>\n",
              "  </svg>\n",
              "    </button>\n",
              "\n",
              "  <style>\n",
              "    .colab-df-container {\n",
              "      display:flex;\n",
              "      gap: 12px;\n",
              "    }\n",
              "\n",
              "    .colab-df-convert {\n",
              "      background-color: #E8F0FE;\n",
              "      border: none;\n",
              "      border-radius: 50%;\n",
              "      cursor: pointer;\n",
              "      display: none;\n",
              "      fill: #1967D2;\n",
              "      height: 32px;\n",
              "      padding: 0 0 0 0;\n",
              "      width: 32px;\n",
              "    }\n",
              "\n",
              "    .colab-df-convert:hover {\n",
              "      background-color: #E2EBFA;\n",
              "      box-shadow: 0px 1px 2px rgba(60, 64, 67, 0.3), 0px 1px 3px 1px rgba(60, 64, 67, 0.15);\n",
              "      fill: #174EA6;\n",
              "    }\n",
              "\n",
              "    .colab-df-buttons div {\n",
              "      margin-bottom: 4px;\n",
              "    }\n",
              "\n",
              "    [theme=dark] .colab-df-convert {\n",
              "      background-color: #3B4455;\n",
              "      fill: #D2E3FC;\n",
              "    }\n",
              "\n",
              "    [theme=dark] .colab-df-convert:hover {\n",
              "      background-color: #434B5C;\n",
              "      box-shadow: 0px 1px 3px 1px rgba(0, 0, 0, 0.15);\n",
              "      filter: drop-shadow(0px 1px 2px rgba(0, 0, 0, 0.3));\n",
              "      fill: #FFFFFF;\n",
              "    }\n",
              "  </style>\n",
              "\n",
              "    <script>\n",
              "      const buttonEl =\n",
              "        document.querySelector('#df-9b3b5779-6329-4488-92a4-09f3d0f5d43d button.colab-df-convert');\n",
              "      buttonEl.style.display =\n",
              "        google.colab.kernel.accessAllowed ? 'block' : 'none';\n",
              "\n",
              "      async function convertToInteractive(key) {\n",
              "        const element = document.querySelector('#df-9b3b5779-6329-4488-92a4-09f3d0f5d43d');\n",
              "        const dataTable =\n",
              "          await google.colab.kernel.invokeFunction('convertToInteractive',\n",
              "                                                    [key], {});\n",
              "        if (!dataTable) return;\n",
              "\n",
              "        const docLinkHtml = 'Like what you see? Visit the ' +\n",
              "          '<a target=\"_blank\" href=https://colab.research.google.com/notebooks/data_table.ipynb>data table notebook</a>'\n",
              "          + ' to learn more about interactive tables.';\n",
              "        element.innerHTML = '';\n",
              "        dataTable['output_type'] = 'display_data';\n",
              "        await google.colab.output.renderOutput(dataTable, element);\n",
              "        const docLink = document.createElement('div');\n",
              "        docLink.innerHTML = docLinkHtml;\n",
              "        element.appendChild(docLink);\n",
              "      }\n",
              "    </script>\n",
              "  </div>\n",
              "\n",
              "\n",
              "<div id=\"df-db7ec194-02b7-42fb-977a-c7143c5bdf96\">\n",
              "  <button class=\"colab-df-quickchart\" onclick=\"quickchart('df-db7ec194-02b7-42fb-977a-c7143c5bdf96')\"\n",
              "            title=\"Suggest charts.\"\n",
              "            style=\"display:none;\">\n",
              "\n",
              "<svg xmlns=\"http://www.w3.org/2000/svg\" height=\"24px\"viewBox=\"0 0 24 24\"\n",
              "     width=\"24px\">\n",
              "    <g>\n",
              "        <path d=\"M19 3H5c-1.1 0-2 .9-2 2v14c0 1.1.9 2 2 2h14c1.1 0 2-.9 2-2V5c0-1.1-.9-2-2-2zM9 17H7v-7h2v7zm4 0h-2V7h2v10zm4 0h-2v-4h2v4z\"/>\n",
              "    </g>\n",
              "</svg>\n",
              "  </button>\n",
              "\n",
              "<style>\n",
              "  .colab-df-quickchart {\n",
              "    background-color: #E8F0FE;\n",
              "    border: none;\n",
              "    border-radius: 50%;\n",
              "    cursor: pointer;\n",
              "    display: none;\n",
              "    fill: #1967D2;\n",
              "    height: 32px;\n",
              "    padding: 0 0 0 0;\n",
              "    width: 32px;\n",
              "  }\n",
              "\n",
              "  .colab-df-quickchart:hover {\n",
              "    background-color: #E2EBFA;\n",
              "    box-shadow: 0px 1px 2px rgba(60, 64, 67, 0.3), 0px 1px 3px 1px rgba(60, 64, 67, 0.15);\n",
              "    fill: #174EA6;\n",
              "  }\n",
              "\n",
              "  [theme=dark] .colab-df-quickchart {\n",
              "    background-color: #3B4455;\n",
              "    fill: #D2E3FC;\n",
              "  }\n",
              "\n",
              "  [theme=dark] .colab-df-quickchart:hover {\n",
              "    background-color: #434B5C;\n",
              "    box-shadow: 0px 1px 3px 1px rgba(0, 0, 0, 0.15);\n",
              "    filter: drop-shadow(0px 1px 2px rgba(0, 0, 0, 0.3));\n",
              "    fill: #FFFFFF;\n",
              "  }\n",
              "</style>\n",
              "\n",
              "  <script>\n",
              "    async function quickchart(key) {\n",
              "      const charts = await google.colab.kernel.invokeFunction(\n",
              "          'suggestCharts', [key], {});\n",
              "    }\n",
              "    (() => {\n",
              "      let quickchartButtonEl =\n",
              "        document.querySelector('#df-db7ec194-02b7-42fb-977a-c7143c5bdf96 button');\n",
              "      quickchartButtonEl.style.display =\n",
              "        google.colab.kernel.accessAllowed ? 'block' : 'none';\n",
              "    })();\n",
              "  </script>\n",
              "</div>\n",
              "    </div>\n",
              "  </div>\n"
            ]
          },
          "metadata": {},
          "execution_count": 68
        },
        {
          "output_type": "stream",
          "name": "stdout",
          "text": [
            "Warning: Total number of columns (23) exceeds max_columns (20) limiting to first (20) columns.\n",
            "Warning: total number of rows (26804) exceeds max_rows (20000). Limiting to first (20000) rows.\n"
          ]
        }
      ]
    },
    {
      "cell_type": "markdown",
      "source": [
        "# Recommendation Model"
      ],
      "metadata": {
        "id": "HLwy33ze1pZ-"
      }
    },
    {
      "cell_type": "markdown",
      "source": [
        "Multi-task TensorFlow Recommendation with 2 models embeddings for user and menu with user total quantities used as a ranking method. This method could be further enhanced by using several other embedding for each features given"
      ],
      "metadata": {
        "id": "O0yM6ZQrJGTc"
      }
    },
    {
      "cell_type": "markdown",
      "source": [
        "![WhatsApp Image 2023-08-18 at 23.33.46 (1).jpeg](data:image/jpeg;base64,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)"
      ],
      "metadata": {
        "id": "VhvWdtoDJyk4"
      }
    },
    {
      "cell_type": "code",
      "source": [
        "users = tf.data.Dataset.from_tensor_slices(dict(user_menu_quantities[[\"user_id\", \"menu_id\", \"quantity\"]]))\n",
        "menus = tf.data.Dataset.from_tensor_slices(dict(df[['menu_id']]))"
      ],
      "metadata": {
        "id": "WADnCsnzeBl4"
      },
      "execution_count": null,
      "outputs": []
    },
    {
      "cell_type": "code",
      "source": [
        "users = users.map(lambda x: {\n",
        "    \"user_id\": x[\"user_id\"],\n",
        "    \"menu_id\": x[\"menu_id\"],\n",
        "    \"quantity\": float(x[\"quantity\"])\n",
        "})\n",
        "menus = menus.map(lambda x: x[\"menu_id\"])"
      ],
      "metadata": {
        "id": "ItPDqyaBTkrB"
      },
      "execution_count": null,
      "outputs": []
    },
    {
      "cell_type": "code",
      "source": [
        "print('Total Data: {}'.format(len(users)))"
      ],
      "metadata": {
        "colab": {
          "base_uri": "https://localhost:8080/"
        },
        "id": "u6ET_M1DhtXG",
        "outputId": "51d2365b-4a8f-46a4-f73f-1ebfd497dcb6"
      },
      "execution_count": null,
      "outputs": [
        {
          "output_type": "stream",
          "name": "stdout",
          "text": [
            "Total Data: 17937\n"
          ]
        }
      ]
    },
    {
      "cell_type": "code",
      "source": [
        "shuffled = users.shuffle(100_000, seed=42, reshuffle_each_iteration=False)"
      ],
      "metadata": {
        "id": "Wo6naPZci7Hk"
      },
      "execution_count": null,
      "outputs": []
    },
    {
      "cell_type": "markdown",
      "source": [
        "I am not sure the best way to split the data, this could however be done by first splitting the unique user_ids first into train and test then use all the train with train user_id and the rest for test. But for now I just take the 14_000 randomly"
      ],
      "metadata": {
        "id": "qFmcFN-H8ILK"
      }
    },
    {
      "cell_type": "code",
      "source": [
        "train = users.take(14_000) #train data used to train model\n",
        "test = users.skip(14_000).take(3_937) #test data used to evaluate model"
      ],
      "metadata": {
        "id": "jQENUUzvh7rF"
      },
      "execution_count": null,
      "outputs": []
    },
    {
      "cell_type": "code",
      "source": [
        "#batching\n",
        "menu_ids = menus.batch(1_000)\n",
        "user_ids = users.batch(1_000).map(lambda x: x[\"user_id\"])\n",
        "\n",
        "#unique values\n",
        "unique_menu_ids = np.unique(np.concatenate(list(menu_ids)))\n",
        "unique_user_ids = np.unique(np.concatenate(list(user_ids)))"
      ],
      "metadata": {
        "id": "-M0d2gwafZiR"
      },
      "execution_count": null,
      "outputs": []
    },
    {
      "cell_type": "markdown",
      "source": [
        "We use multi-objective approach that applies both implicit (user transaction) and explicit signals (scaled total quantities=rating). In the end, we can predict what menus should the user order along with the given ranking-quantities corresponds to historical data"
      ],
      "metadata": {
        "id": "hchyMYUjJie7"
      }
    },
    {
      "cell_type": "markdown",
      "source": [
        "Here we see that we generate 2 models for two different task with combined loss function. 2 of those tasks are rating task and retrieval task:\n",
        "Rating Task:\n",
        "\n",
        "- Objective: The primary objective of the rating task is to predict user-item interactions, typically represented as ratings or preferences (total qty). The goal is to estimate how a user would rate a specific item they have not interacted with yet.\n",
        "\n",
        "- Use Case: Rating (scaled total qty) predictions are useful when you want to provide users with estimated ratings for items they haven't seen or rated before. This is common in scenarios where explicit user feedback (such as numerical ratings) is available.\n",
        "\n",
        "- Loss Function: The loss function for the rating task is typically a regression loss, such as mean squared error (MSE) or mean absolute error (MAE). These loss functions measure the discrepancy between predicted rating and actual ratings (total qty for our case).\n",
        "\n",
        "- Training Objective: The rating task aims to minimize the difference between predicted ratings and actual ratings. By optimizing this objective, the model learns to estimate user preferences accurately.\n",
        "\n",
        "Retrieval Task:\n",
        "\n",
        "- Objective: The primary objective of the retrieval task is to generate a ranked list of items that are likely to be relevant to a user. This list is generated based on the user's historical interactions and preferences.\n",
        "\n",
        "- Use Case: Retrieval tasks are useful when explicit ratings are not available, or when the focus is on generating personalized lists of recommendations for users based on their historical behavior.\n",
        "\n",
        "- Loss Function: The loss function for the retrieval task measures the quality of the recommended list. Metrics like Top-K accuracy are commonly used to evaluate how well the recommended items match the user's actual interactions.\n",
        "\n",
        "- Training Objective: The retrieval task aims to improve the ranking quality of the recommended items. By optimizing this objective, the model learns to generate better-ranked lists of items for users."
      ],
      "metadata": {
        "id": "XPso5jKriEwk"
      }
    },
    {
      "cell_type": "code",
      "source": [
        "class MenuModel(tfrs.models.Model):\n",
        "\n",
        "  def __init__(self, rating_weight: float, retrieval_weight: float) -> None:\n",
        "    # We take the loss weights in the constructor: this allows us to instantiate\n",
        "    # several model objects with different loss weights. This weight tuning could be\n",
        "    # utilized after doing the customer segmentation by adding more models and embeddings\n",
        "\n",
        "    super().__init__()\n",
        "\n",
        "    embedding_dimension = 64\n",
        "\n",
        "    # User and movie models.\n",
        "    self.menu_model: tf.keras.layers.Layer = tf.keras.Sequential([\n",
        "      tf.keras.layers.StringLookup(\n",
        "        vocabulary=unique_menu_ids, mask_token=None),\n",
        "      tf.keras.layers.Embedding(len(unique_menu_ids) + 1, embedding_dimension)\n",
        "    ]) #used as an encoding method for each menu_ids\n",
        "    self.user_model: tf.keras.layers.Layer = tf.keras.Sequential([\n",
        "      tf.keras.layers.StringLookup(\n",
        "        vocabulary=unique_user_ids, mask_token=None),\n",
        "      tf.keras.layers.Embedding(len(unique_user_ids) + 1, embedding_dimension)\n",
        "    ]) #used as an encoding method for each user_ids\n",
        "\n",
        "    # A small model to take in user and menu embeddings and predict quantities-rankings.\n",
        "    # We can make this as complicated as we want as long as we output a scalar\n",
        "    # as our prediction.\n",
        "    self.rating_model = tf.keras.Sequential([\n",
        "        tf.keras.layers.Dense(256, activation=\"relu\"),\n",
        "        tf.keras.layers.Dense(128, activation=\"relu\"),\n",
        "        tf.keras.layers.Dense(1),\n",
        "    ])\n",
        "\n",
        "    # The tasks.\n",
        "    self.rating_task: tf.keras.layers.Layer = tfrs.tasks.Ranking(\n",
        "        loss=tf.keras.losses.MeanSquaredError(),\n",
        "        metrics=[tf.keras.metrics.RootMeanSquaredError()],\n",
        "    )\n",
        "    self.retrieval_task: tf.keras.layers.Layer = tfrs.tasks.Retrieval(\n",
        "        metrics=tfrs.metrics.FactorizedTopK(\n",
        "            candidates=menus.batch(128).map(self.menu_model)\n",
        "        )\n",
        "    )\n",
        "\n",
        "    # The loss weights.\n",
        "    self.rating_weight = rating_weight\n",
        "    self.retrieval_weight = retrieval_weight\n",
        "\n",
        "  def call(self, features: Dict[Text, tf.Tensor]) -> tf.Tensor:\n",
        "    # We pick out the user features and pass them into the user model.\n",
        "    user_embeddings = self.user_model(features[\"user_id\"])\n",
        "    # And pick out the menu features and pass them into the menu model.\n",
        "    menu_embeddings = self.menu_model(features[\"menu_id\"])\n",
        "\n",
        "    return (\n",
        "        user_embeddings,\n",
        "        menu_embeddings,\n",
        "        # We apply the multi-layered rating model to a concatentation of\n",
        "        # user and menu embeddings.\n",
        "        self.rating_model(\n",
        "            tf.concat([user_embeddings, menu_embeddings], axis=1)\n",
        "        ),\n",
        "    )\n",
        "\n",
        "  def compute_loss(self, features: Dict[Text, tf.Tensor], training=False) -> tf.Tensor:\n",
        "\n",
        "    ratings = features.pop(\"quantity\")\n",
        "\n",
        "    user_embeddings, menu_embeddings, rating_predictions = self(features)\n",
        "\n",
        "    # We compute the loss for each task.\n",
        "    rating_loss = self.rating_task(\n",
        "        labels=ratings,\n",
        "        predictions=rating_predictions,\n",
        "    )\n",
        "    retrieval_loss = self.retrieval_task(user_embeddings, menu_embeddings)\n",
        "\n",
        "    # And combine them using the loss weights.\n",
        "    return (self.rating_weight * rating_loss\n",
        "            + self.retrieval_weight * retrieval_loss)"
      ],
      "metadata": {
        "id": "G0pGquzfgP6e"
      },
      "execution_count": null,
      "outputs": []
    },
    {
      "cell_type": "code",
      "source": [
        "callback = tf.keras.callbacks.ModelCheckpoint('recommendation.h5',\n",
        "                                              monitor='total_loss',\n",
        "                                              save_best_only=True, verbose=1)\n",
        "#defining a callback to only save the best training result in case I need it for certain situations"
      ],
      "metadata": {
        "id": "VOO0FLtFnwd9"
      },
      "execution_count": null,
      "outputs": []
    },
    {
      "cell_type": "code",
      "source": [
        "model = MenuModel(rating_weight=1.0, retrieval_weight=1.0)\n",
        "model.compile(optimizer=tf.keras.optimizers.Adagrad(0.1))\n",
        "\n",
        "cached_train = train.shuffle(100_000).batch(1_000).cache()\n",
        "cached_test = test.batch(1_000).cache()\n",
        "\n",
        "model.fit(cached_train, epochs=10)"
      ],
      "metadata": {
        "colab": {
          "base_uri": "https://localhost:8080/"
        },
        "id": "zqpueuxqhXfm",
        "outputId": "f7b07cce-5383-4a89-8d23-61e72c3cae2f"
      },
      "execution_count": null,
      "outputs": [
        {
          "output_type": "stream",
          "name": "stdout",
          "text": [
            "Epoch 1/10\n",
            "14/14 [==============================] - 66s 5s/step - root_mean_squared_error: 2.6039 - factorized_top_k/top_1_categorical_accuracy: 4.2857e-04 - factorized_top_k/top_5_categorical_accuracy: 4.2857e-04 - factorized_top_k/top_10_categorical_accuracy: 4.2857e-04 - factorized_top_k/top_50_categorical_accuracy: 4.2857e-04 - factorized_top_k/top_100_categorical_accuracy: 0.0010 - loss: 6857.3687 - regularization_loss: 0.0000e+00 - total_loss: 6857.3687\n",
            "Epoch 2/10\n",
            "14/14 [==============================] - 68s 5s/step - root_mean_squared_error: 2.5564 - factorized_top_k/top_1_categorical_accuracy: 0.0050 - factorized_top_k/top_5_categorical_accuracy: 0.0050 - factorized_top_k/top_10_categorical_accuracy: 0.0050 - factorized_top_k/top_50_categorical_accuracy: 0.0102 - factorized_top_k/top_100_categorical_accuracy: 0.0204 - loss: 6197.1910 - regularization_loss: 0.0000e+00 - total_loss: 6197.1910\n",
            "Epoch 3/10\n",
            "14/14 [==============================] - 70s 5s/step - root_mean_squared_error: 2.4916 - factorized_top_k/top_1_categorical_accuracy: 0.0066 - factorized_top_k/top_5_categorical_accuracy: 0.0066 - factorized_top_k/top_10_categorical_accuracy: 0.0076 - factorized_top_k/top_50_categorical_accuracy: 0.0271 - factorized_top_k/top_100_categorical_accuracy: 0.0569 - loss: 5465.2695 - regularization_loss: 0.0000e+00 - total_loss: 5465.2695\n",
            "Epoch 4/10\n",
            "14/14 [==============================] - 62s 4s/step - root_mean_squared_error: 2.4750 - factorized_top_k/top_1_categorical_accuracy: 0.0044 - factorized_top_k/top_5_categorical_accuracy: 0.0053 - factorized_top_k/top_10_categorical_accuracy: 0.0086 - factorized_top_k/top_50_categorical_accuracy: 0.0501 - factorized_top_k/top_100_categorical_accuracy: 0.1090 - loss: 4913.0219 - regularization_loss: 0.0000e+00 - total_loss: 4913.0219\n",
            "Epoch 5/10\n",
            "14/14 [==============================] - 77s 6s/step - root_mean_squared_error: 2.4453 - factorized_top_k/top_1_categorical_accuracy: 0.0048 - factorized_top_k/top_5_categorical_accuracy: 0.0079 - factorized_top_k/top_10_categorical_accuracy: 0.0150 - factorized_top_k/top_50_categorical_accuracy: 0.0860 - factorized_top_k/top_100_categorical_accuracy: 0.1799 - loss: 4500.6800 - regularization_loss: 0.0000e+00 - total_loss: 4500.6800\n",
            "Epoch 6/10\n",
            "14/14 [==============================] - 72s 5s/step - root_mean_squared_error: 2.4139 - factorized_top_k/top_1_categorical_accuracy: 0.0043 - factorized_top_k/top_5_categorical_accuracy: 0.0090 - factorized_top_k/top_10_categorical_accuracy: 0.0221 - factorized_top_k/top_50_categorical_accuracy: 0.1426 - factorized_top_k/top_100_categorical_accuracy: 0.2464 - loss: 4206.8702 - regularization_loss: 0.0000e+00 - total_loss: 4206.8702\n",
            "Epoch 7/10\n",
            "14/14 [==============================] - 69s 5s/step - root_mean_squared_error: 2.3800 - factorized_top_k/top_1_categorical_accuracy: 0.0049 - factorized_top_k/top_5_categorical_accuracy: 0.0178 - factorized_top_k/top_10_categorical_accuracy: 0.0444 - factorized_top_k/top_50_categorical_accuracy: 0.1806 - factorized_top_k/top_100_categorical_accuracy: 0.2843 - loss: 4005.1922 - regularization_loss: 0.0000e+00 - total_loss: 4005.1922\n",
            "Epoch 8/10\n",
            "14/14 [==============================] - 63s 5s/step - root_mean_squared_error: 2.3430 - factorized_top_k/top_1_categorical_accuracy: 0.0049 - factorized_top_k/top_5_categorical_accuracy: 0.0314 - factorized_top_k/top_10_categorical_accuracy: 0.0601 - factorized_top_k/top_50_categorical_accuracy: 0.2000 - factorized_top_k/top_100_categorical_accuracy: 0.3035 - loss: 3868.0143 - regularization_loss: 0.0000e+00 - total_loss: 3868.0143\n",
            "Epoch 9/10\n",
            "14/14 [==============================] - 60s 4s/step - root_mean_squared_error: 2.3042 - factorized_top_k/top_1_categorical_accuracy: 0.0056 - factorized_top_k/top_5_categorical_accuracy: 0.0380 - factorized_top_k/top_10_categorical_accuracy: 0.0684 - factorized_top_k/top_50_categorical_accuracy: 0.2101 - factorized_top_k/top_100_categorical_accuracy: 0.3152 - loss: 3771.5507 - regularization_loss: 0.0000e+00 - total_loss: 3771.5507\n",
            "Epoch 10/10\n",
            "14/14 [==============================] - 78s 5s/step - root_mean_squared_error: 2.2567 - factorized_top_k/top_1_categorical_accuracy: 0.0057 - factorized_top_k/top_5_categorical_accuracy: 0.0429 - factorized_top_k/top_10_categorical_accuracy: 0.0730 - factorized_top_k/top_50_categorical_accuracy: 0.2171 - factorized_top_k/top_100_categorical_accuracy: 0.3238 - loss: 3701.4249 - regularization_loss: 0.0000e+00 - total_loss: 3701.4249\n"
          ]
        },
        {
          "output_type": "execute_result",
          "data": {
            "text/plain": [
              "<keras.callbacks.History at 0x7ade72c02320>"
            ]
          },
          "metadata": {},
          "execution_count": 100
        }
      ]
    },
    {
      "cell_type": "markdown",
      "source": [
        "For now I will stop at 10 epoch so that I could do the other assignments, and this model will further enhanced later so there is no need to train the initial model for too long, this is an example"
      ],
      "metadata": {
        "id": "zxDvuOEroK2s"
      }
    },
    {
      "cell_type": "code",
      "source": [
        "metrics = model.evaluate(cached_test, return_dict=True)\n",
        "\n",
        "print(f\"\\nRetrieval top-100 accuracy: {metrics['factorized_top_k/top_100_categorical_accuracy']:.3f}\")\n",
        "print(f\"Ranking RMSE: {metrics['root_mean_squared_error']:.3f}\")"
      ],
      "metadata": {
        "colab": {
          "base_uri": "https://localhost:8080/"
        },
        "id": "066x-7yPlTdt",
        "outputId": "fee85d5b-affb-4610-b730-5605ecbc111a"
      },
      "execution_count": null,
      "outputs": [
        {
          "output_type": "stream",
          "name": "stdout",
          "text": [
            "4/4 [==============================] - 13s 3s/step - root_mean_squared_error: 2.7629 - factorized_top_k/top_1_categorical_accuracy: 0.0000e+00 - factorized_top_k/top_5_categorical_accuracy: 0.0000e+00 - factorized_top_k/top_10_categorical_accuracy: 7.6200e-04 - factorized_top_k/top_50_categorical_accuracy: 0.0018 - factorized_top_k/top_100_categorical_accuracy: 0.0033 - loss: 6733.5970 - regularization_loss: 0.0000e+00 - total_loss: 6733.5970\n",
            "\n",
            "Retrieval top-100 accuracy: 0.003\n",
            "Ranking RMSE: 2.763\n"
          ]
        }
      ]
    },
    {
      "cell_type": "markdown",
      "source": [
        "Apparently the model is overfitting, means it require more variative data to function, this could be done by reviewing the training data variance or generating data with good variance.\n",
        "\n"
      ],
      "metadata": {
        "id": "eNIEacAprnRq"
      }
    },
    {
      "cell_type": "code",
      "source": [
        "model.save_weights('recommendation.h5')"
      ],
      "metadata": {
        "id": "34a--91PoznU"
      },
      "execution_count": null,
      "outputs": []
    },
    {
      "cell_type": "code",
      "source": [
        "def predict_menu(user, top_n=3):\n",
        "    # Create a model that takes in raw query features, and\n",
        "    index = tfrs.layers.factorized_top_k.BruteForce(model.user_model)\n",
        "    # recommends movies out of the entire movies dataset.\n",
        "    index.index_from_dataset(\n",
        "      tf.data.Dataset.zip((menus.batch(100), menus.batch(100).map(model.menu_model)))\n",
        "    )\n",
        "\n",
        "    # Get recommendations.\n",
        "    _, titles = index(tf.constant([str(user)]))\n",
        "\n",
        "    print('Top {} menu recommendations for user {}:\\n'.format(top_n, user))\n",
        "    for i, menuids in enumerate(titles[0, :top_n].numpy()):\n",
        "        print('{}. {}'.format(i+1, menuids.decode(\"utf-8\")))\n",
        "\n",
        "def predict_quantity(user, menu):\n",
        "    trained_menu_embeddings, trained_user_embeddings, predicted_rating = model({\n",
        "          \"user_id\": np.array([str(user)]),\n",
        "          \"menu_id\": np.array([menu])\n",
        "      })\n",
        "    print(\"Predicted quantity for {}: {}\".format(menu, predicted_rating.numpy()[0][0]))"
      ],
      "metadata": {
        "id": "sdwXOBMwo8Za"
      },
      "execution_count": null,
      "outputs": []
    },
    {
      "cell_type": "code",
      "source": [
        "predict_menu('00b158ed-0fcb-48e1-b627-2bb572a344cf', 5)"
      ],
      "metadata": {
        "colab": {
          "base_uri": "https://localhost:8080/"
        },
        "id": "fTTnxqQzp6pt",
        "outputId": "9357345e-11c0-4cfe-b8c4-8af3b6169dd8"
      },
      "execution_count": null,
      "outputs": [
        {
          "output_type": "stream",
          "name": "stdout",
          "text": [
            "Top 5 menu recommendations for user 00b158ed-0fcb-48e1-b627-2bb572a344cf:\n",
            "\n",
            "1. 676fcee3-a2d8-4cbf-8061-5d2b10cecfbc\n",
            "2. 676fcee3-a2d8-4cbf-8061-5d2b10cecfbc\n",
            "3. 4a90d4fc-a042-46db-8893-422e52a221c6\n",
            "4. fe1bbdc2-15a5-4c95-aa51-079b11ae94a1\n",
            "5. fe1bbdc2-15a5-4c95-aa51-079b11ae94a1\n"
          ]
        }
      ]
    },
    {
      "cell_type": "markdown",
      "source": [
        "Another model that utilize timestamp and menu_type"
      ],
      "metadata": {
        "id": "ynQPNTNZYWQx"
      }
    },
    {
      "cell_type": "code",
      "source": [
        "'''import tensorflow as tf\n",
        "import tensorflow_recommenders as tfrs\n",
        "\n",
        "# Define your feature columns\n",
        "user_id = tf.feature_column.categorical_column_with_identity(\"user_id\", num_buckets=num_users)\n",
        "menu_id = tf.feature_column.categorical_column_with_identity(\"menu_id\", num_buckets=num_menus)\n",
        "menu_type = tf.feature_column.categorical_column_with_vocabulary_list(\"menu_type\", menu_types)\n",
        "timestamp = tf.feature_column.numeric_column(\"timestamp\")\n",
        "\n",
        "# Define your model\n",
        "class RecommendationModel(tfrs.Model):\n",
        "    def __init__(self):\n",
        "        super().__init__()\n",
        "        self.embedding_user = tf.keras.layers.Embedding(input_dim=num_users, output_dim=embedding_dim)\n",
        "        self.embedding_menu = tf.keras.layers.Embedding(input_dim=num_menus, output_dim=embedding_dim)\n",
        "        self.embedding_menu_type = tf.keras.layers.Embedding(input_dim=num_menu_types, output_dim=embedding_dim)\n",
        "        self.embedding_timestamp = tf.keras.layers.Dense(embedding_dim)\n",
        "        self.task = tfrs.tasks.Retrieval()\n",
        "\n",
        "    def call(self, features):\n",
        "        user_embeddings = self.embedding_user(features[\"user_id\"])\n",
        "        menu_embeddings = self.embedding_menu(features[\"menu_id\"])\n",
        "        menu_type_embeddings = self.embedding_menu_type(features[\"menu_type\"])\n",
        "        timestamp_embeddings = self.embedding_timestamp(features[\"timestamp\"])\n",
        "\n",
        "        menu_combined = tf.concat([menu_embeddings, menu_type_embeddings], axis=1)\n",
        "        menu_combined += timestamp_embeddings\n",
        "\n",
        "        return user_embeddings, menu_combined\n",
        "\n",
        "model = RecommendationModel()\n",
        "model.compile(optimizer=tf.keras.optimizers.Adagrad(learning_rate=0.1))\n",
        "model.fit(train_data)\n",
        "\n",
        "# Evaluate and make recommendations\n",
        "eval_results = model.evaluate(eval_data)\n",
        "user_embeddings = model.embedding_user(tf.constant(user_ids))\n",
        "menu_embeddings = model.embedding_menu(tf.constant(menu_ids))'''\n"
      ],
      "metadata": {
        "id": "aEvKVfkJ1s4U"
      },
      "execution_count": null,
      "outputs": []
    },
    {
      "cell_type": "markdown",
      "source": [
        "# Customer Segmentation"
      ],
      "metadata": {
        "id": "6D5D7Yq_sQ6C"
      }
    },
    {
      "cell_type": "markdown",
      "source": [
        "We will do a customer segmentation task for customer classifications features to be used on recommendation model and promotional campaign. Please (mercy me) keep in mind that I may have some more ideas for customer segmentation that I have not used yet probably because I have to make sure I have to get things done first :)\n",
        "\n",
        "Through this provide product recommendations on **a micro-segment level**"
      ],
      "metadata": {
        "id": "qZI_uN3Tvv2K"
      }
    },
    {
      "cell_type": "markdown",
      "source": [
        "## Purchase Behaviour"
      ],
      "metadata": {
        "id": "j-E5q-MEJyUk"
      }
    },
    {
      "cell_type": "markdown",
      "source": [
        "### Overall User Purchasing Behaviour"
      ],
      "metadata": {
        "id": "3lnajLcrIlUX"
      }
    },
    {
      "cell_type": "markdown",
      "source": [
        "I plan to make a classifier for:\n",
        "\"Returning Frequent Buyer,\" \"Declining Frequent Buyer,\" \"Consistent Frequent Buyer,\" \"Occasional Buyer,\" \"New Buyer\". This comes with certain challenges especially to differentiate between \"Returning Frequent Buyer,\" and \"Occasional Buyer\", since returning frequent buyer is supposedly the target for promotions to go back being a frequent buyer. With the priority of promotion/voucher being\n",
        "\n",
        "1. Declining Frequent Buyer\n",
        "2. Returning Frequent Buyer\n",
        "3. Consistent Frequent Buyer\n",
        "4. New Buyer\n",
        "5. Occasional Buyer\n",
        "![WhatsApp Image 2023-08-18 at 09.20.19 (1).jpeg](data:image/jpeg;base64,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)"
      ],
      "metadata": {
        "id": "N-pZ02mlYaXV"
      }
    },
    {
      "cell_type": "markdown",
      "source": [
        "The easiest way or most effective way I could imagine for this is to define/generate the buyer classification in a fixed way ourselves, then we try it using our own generated classification to train a model so there is no more fixed rule. To my experience the best way I know to do this is to generate a data of our own using randomized method so the data we have is variative enough and accurate\n",
        "\n",
        "However for time effectiveness (and since the data I have here is only 3 months data,) I shall just use the data we have and classify it as either\n",
        "\n",
        "**Frequent and Occasional Buyer**\n",
        "and\n",
        "\n",
        "**Consistent, Increasing, Declining Buyer**\n",
        "\n",
        "Through that classification we could have some decision regarding promotions and voucher, in which i believe the order-rank of promotion and voucher for them (currently without analysis since there is no promo-voucher dataset) are\n",
        "1. declining frequent\n",
        "2. consistent frequent\n",
        "3. increasing frequent\n",
        "4. increasing occasional\n",
        "5. consistent occasional\n",
        "6. declining occasional\n",
        "\n",
        "I believe I could not find returning Frequent buyer since we only have 3 months data however if needed we could utilize the day difference between last transaction and current transaction"
      ],
      "metadata": {
        "id": "csBRg1Gcbg-d"
      }
    },
    {
      "cell_type": "markdown",
      "source": [
        "#### Frequent vs (Mid) vs Occasional Buyer"
      ],
      "metadata": {
        "id": "sePI7naDo2Dc"
      }
    },
    {
      "cell_type": "code",
      "source": [
        "# Calculate user-level features: total quantity for each user in each month\n",
        "user_features = df.groupby(['user_id', 'month'])['quantity'].sum().reset_index()"
      ],
      "metadata": {
        "id": "cTjei_h6K30T"
      },
      "execution_count": null,
      "outputs": []
    },
    {
      "cell_type": "code",
      "source": [
        "user_features"
      ],
      "metadata": {
        "colab": {
          "base_uri": "https://localhost:8080/",
          "height": 424
        },
        "id": "MPi67tmRxqfF",
        "outputId": "1d8b275f-9233-43b5-bad4-1ca396da06d8"
      },
      "execution_count": null,
      "outputs": [
        {
          "output_type": "execute_result",
          "data": {
            "text/plain": [
              "                                   user_id  month  quantity\n",
              "0     00b158ed-0fcb-48e1-b627-2bb572a344cf      1      37.0\n",
              "1     00b158ed-0fcb-48e1-b627-2bb572a344cf      2      26.0\n",
              "2     00b158ed-0fcb-48e1-b627-2bb572a344cf      3      10.0\n",
              "3     00bafc5b-3e97-439c-8b1f-9a6568adbaaa      1      38.0\n",
              "4     00bafc5b-3e97-439c-8b1f-9a6568adbaaa      2       6.0\n",
              "...                                    ...    ...       ...\n",
              "1639  ff39dbcb-4414-45b3-8fa0-92577d1c78b8      1       3.0\n",
              "1640  ff39dbcb-4414-45b3-8fa0-92577d1c78b8      3       5.0\n",
              "1641  ffde4412-810f-4800-a40b-27ad2a614a9e      1      49.0\n",
              "1642  ffde4412-810f-4800-a40b-27ad2a614a9e      2      75.0\n",
              "1643  ffde4412-810f-4800-a40b-27ad2a614a9e      3      22.0\n",
              "\n",
              "[1644 rows x 3 columns]"
            ],
            "text/html": [
              "\n",
              "\n",
              "  <div id=\"df-e3caa875-90ee-4d14-a1ef-e27f5f2167da\">\n",
              "    <div class=\"colab-df-container\">\n",
              "      <div>\n",
              "<style scoped>\n",
              "    .dataframe tbody tr th:only-of-type {\n",
              "        vertical-align: middle;\n",
              "    }\n",
              "\n",
              "    .dataframe tbody tr th {\n",
              "        vertical-align: top;\n",
              "    }\n",
              "\n",
              "    .dataframe thead th {\n",
              "        text-align: right;\n",
              "    }\n",
              "</style>\n",
              "<table border=\"1\" class=\"dataframe\">\n",
              "  <thead>\n",
              "    <tr style=\"text-align: right;\">\n",
              "      <th></th>\n",
              "      <th>user_id</th>\n",
              "      <th>month</th>\n",
              "      <th>quantity</th>\n",
              "    </tr>\n",
              "  </thead>\n",
              "  <tbody>\n",
              "    <tr>\n",
              "      <th>0</th>\n",
              "      <td>00b158ed-0fcb-48e1-b627-2bb572a344cf</td>\n",
              "      <td>1</td>\n",
              "      <td>37.0</td>\n",
              "    </tr>\n",
              "    <tr>\n",
              "      <th>1</th>\n",
              "      <td>00b158ed-0fcb-48e1-b627-2bb572a344cf</td>\n",
              "      <td>2</td>\n",
              "      <td>26.0</td>\n",
              "    </tr>\n",
              "    <tr>\n",
              "      <th>2</th>\n",
              "      <td>00b158ed-0fcb-48e1-b627-2bb572a344cf</td>\n",
              "      <td>3</td>\n",
              "      <td>10.0</td>\n",
              "    </tr>\n",
              "    <tr>\n",
              "      <th>3</th>\n",
              "      <td>00bafc5b-3e97-439c-8b1f-9a6568adbaaa</td>\n",
              "      <td>1</td>\n",
              "      <td>38.0</td>\n",
              "    </tr>\n",
              "    <tr>\n",
              "      <th>4</th>\n",
              "      <td>00bafc5b-3e97-439c-8b1f-9a6568adbaaa</td>\n",
              "      <td>2</td>\n",
              "      <td>6.0</td>\n",
              "    </tr>\n",
              "    <tr>\n",
              "      <th>...</th>\n",
              "      <td>...</td>\n",
              "      <td>...</td>\n",
              "      <td>...</td>\n",
              "    </tr>\n",
              "    <tr>\n",
              "      <th>1639</th>\n",
              "      <td>ff39dbcb-4414-45b3-8fa0-92577d1c78b8</td>\n",
              "      <td>1</td>\n",
              "      <td>3.0</td>\n",
              "    </tr>\n",
              "    <tr>\n",
              "      <th>1640</th>\n",
              "      <td>ff39dbcb-4414-45b3-8fa0-92577d1c78b8</td>\n",
              "      <td>3</td>\n",
              "      <td>5.0</td>\n",
              "    </tr>\n",
              "    <tr>\n",
              "      <th>1641</th>\n",
              "      <td>ffde4412-810f-4800-a40b-27ad2a614a9e</td>\n",
              "      <td>1</td>\n",
              "      <td>49.0</td>\n",
              "    </tr>\n",
              "    <tr>\n",
              "      <th>1642</th>\n",
              "      <td>ffde4412-810f-4800-a40b-27ad2a614a9e</td>\n",
              "      <td>2</td>\n",
              "      <td>75.0</td>\n",
              "    </tr>\n",
              "    <tr>\n",
              "      <th>1643</th>\n",
              "      <td>ffde4412-810f-4800-a40b-27ad2a614a9e</td>\n",
              "      <td>3</td>\n",
              "      <td>22.0</td>\n",
              "    </tr>\n",
              "  </tbody>\n",
              "</table>\n",
              "<p>1644 rows × 3 columns</p>\n",
              "</div>\n",
              "      <button class=\"colab-df-convert\" onclick=\"convertToInteractive('df-e3caa875-90ee-4d14-a1ef-e27f5f2167da')\"\n",
              "              title=\"Convert this dataframe to an interactive table.\"\n",
              "              style=\"display:none;\">\n",
              "\n",
              "  <svg xmlns=\"http://www.w3.org/2000/svg\" height=\"24px\"viewBox=\"0 0 24 24\"\n",
              "       width=\"24px\">\n",
              "    <path d=\"M0 0h24v24H0V0z\" fill=\"none\"/>\n",
              "    <path d=\"M18.56 5.44l.94 2.06.94-2.06 2.06-.94-2.06-.94-.94-2.06-.94 2.06-2.06.94zm-11 1L8.5 8.5l.94-2.06 2.06-.94-2.06-.94L8.5 2.5l-.94 2.06-2.06.94zm10 10l.94 2.06.94-2.06 2.06-.94-2.06-.94-.94-2.06-.94 2.06-2.06.94z\"/><path d=\"M17.41 7.96l-1.37-1.37c-.4-.4-.92-.59-1.43-.59-.52 0-1.04.2-1.43.59L10.3 9.45l-7.72 7.72c-.78.78-.78 2.05 0 2.83L4 21.41c.39.39.9.59 1.41.59.51 0 1.02-.2 1.41-.59l7.78-7.78 2.81-2.81c.8-.78.8-2.07 0-2.86zM5.41 20L4 18.59l7.72-7.72 1.47 1.35L5.41 20z\"/>\n",
              "  </svg>\n",
              "      </button>\n",
              "\n",
              "\n",
              "\n",
              "    <div id=\"df-c9622521-bfab-4db4-804f-fd01fd226390\">\n",
              "      <button class=\"colab-df-quickchart\" onclick=\"quickchart('df-c9622521-bfab-4db4-804f-fd01fd226390')\"\n",
              "              title=\"Suggest charts.\"\n",
              "              style=\"display:none;\">\n",
              "\n",
              "<svg xmlns=\"http://www.w3.org/2000/svg\" height=\"24px\"viewBox=\"0 0 24 24\"\n",
              "     width=\"24px\">\n",
              "    <g>\n",
              "        <path d=\"M19 3H5c-1.1 0-2 .9-2 2v14c0 1.1.9 2 2 2h14c1.1 0 2-.9 2-2V5c0-1.1-.9-2-2-2zM9 17H7v-7h2v7zm4 0h-2V7h2v10zm4 0h-2v-4h2v4z\"/>\n",
              "    </g>\n",
              "</svg>\n",
              "      </button>\n",
              "    </div>\n",
              "\n",
              "<style>\n",
              "  .colab-df-quickchart {\n",
              "    background-color: #E8F0FE;\n",
              "    border: none;\n",
              "    border-radius: 50%;\n",
              "    cursor: pointer;\n",
              "    display: none;\n",
              "    fill: #1967D2;\n",
              "    height: 32px;\n",
              "    padding: 0 0 0 0;\n",
              "    width: 32px;\n",
              "  }\n",
              "\n",
              "  .colab-df-quickchart:hover {\n",
              "    background-color: #E2EBFA;\n",
              "    box-shadow: 0px 1px 2px rgba(60, 64, 67, 0.3), 0px 1px 3px 1px rgba(60, 64, 67, 0.15);\n",
              "    fill: #174EA6;\n",
              "  }\n",
              "\n",
              "  [theme=dark] .colab-df-quickchart {\n",
              "    background-color: #3B4455;\n",
              "    fill: #D2E3FC;\n",
              "  }\n",
              "\n",
              "  [theme=dark] .colab-df-quickchart:hover {\n",
              "    background-color: #434B5C;\n",
              "    box-shadow: 0px 1px 3px 1px rgba(0, 0, 0, 0.15);\n",
              "    filter: drop-shadow(0px 1px 2px rgba(0, 0, 0, 0.3));\n",
              "    fill: #FFFFFF;\n",
              "  }\n",
              "</style>\n",
              "\n",
              "    <script>\n",
              "      async function quickchart(key) {\n",
              "        const containerElement = document.querySelector('#' + key);\n",
              "        const charts = await google.colab.kernel.invokeFunction(\n",
              "            'suggestCharts', [key], {});\n",
              "      }\n",
              "    </script>\n",
              "\n",
              "\n",
              "      <script>\n",
              "\n",
              "function displayQuickchartButton(domScope) {\n",
              "  let quickchartButtonEl =\n",
              "    domScope.querySelector('#df-c9622521-bfab-4db4-804f-fd01fd226390 button.colab-df-quickchart');\n",
              "  quickchartButtonEl.style.display =\n",
              "    google.colab.kernel.accessAllowed ? 'block' : 'none';\n",
              "}\n",
              "\n",
              "        displayQuickchartButton(document);\n",
              "      </script>\n",
              "      <style>\n",
              "    .colab-df-container {\n",
              "      display:flex;\n",
              "      flex-wrap:wrap;\n",
              "      gap: 12px;\n",
              "    }\n",
              "\n",
              "    .colab-df-convert {\n",
              "      background-color: #E8F0FE;\n",
              "      border: none;\n",
              "      border-radius: 50%;\n",
              "      cursor: pointer;\n",
              "      display: none;\n",
              "      fill: #1967D2;\n",
              "      height: 32px;\n",
              "      padding: 0 0 0 0;\n",
              "      width: 32px;\n",
              "    }\n",
              "\n",
              "    .colab-df-convert:hover {\n",
              "      background-color: #E2EBFA;\n",
              "      box-shadow: 0px 1px 2px rgba(60, 64, 67, 0.3), 0px 1px 3px 1px rgba(60, 64, 67, 0.15);\n",
              "      fill: #174EA6;\n",
              "    }\n",
              "\n",
              "    [theme=dark] .colab-df-convert {\n",
              "      background-color: #3B4455;\n",
              "      fill: #D2E3FC;\n",
              "    }\n",
              "\n",
              "    [theme=dark] .colab-df-convert:hover {\n",
              "      background-color: #434B5C;\n",
              "      box-shadow: 0px 1px 3px 1px rgba(0, 0, 0, 0.15);\n",
              "      filter: drop-shadow(0px 1px 2px rgba(0, 0, 0, 0.3));\n",
              "      fill: #FFFFFF;\n",
              "    }\n",
              "  </style>\n",
              "\n",
              "      <script>\n",
              "        const buttonEl =\n",
              "          document.querySelector('#df-e3caa875-90ee-4d14-a1ef-e27f5f2167da button.colab-df-convert');\n",
              "        buttonEl.style.display =\n",
              "          google.colab.kernel.accessAllowed ? 'block' : 'none';\n",
              "\n",
              "        async function convertToInteractive(key) {\n",
              "          const element = document.querySelector('#df-e3caa875-90ee-4d14-a1ef-e27f5f2167da');\n",
              "          const dataTable =\n",
              "            await google.colab.kernel.invokeFunction('convertToInteractive',\n",
              "                                                     [key], {});\n",
              "          if (!dataTable) return;\n",
              "\n",
              "          const docLinkHtml = 'Like what you see? Visit the ' +\n",
              "            '<a target=\"_blank\" href=https://colab.research.google.com/notebooks/data_table.ipynb>data table notebook</a>'\n",
              "            + ' to learn more about interactive tables.';\n",
              "          element.innerHTML = '';\n",
              "          dataTable['output_type'] = 'display_data';\n",
              "          await google.colab.output.renderOutput(dataTable, element);\n",
              "          const docLink = document.createElement('div');\n",
              "          docLink.innerHTML = docLinkHtml;\n",
              "          element.appendChild(docLink);\n",
              "        }\n",
              "      </script>\n",
              "    </div>\n",
              "  </div>\n"
            ]
          },
          "metadata": {},
          "execution_count": 233
        }
      ]
    },
    {
      "cell_type": "code",
      "source": [
        "data_reshaped = user_features[\"quantity\"].values.reshape(-1, 1)"
      ],
      "metadata": {
        "id": "hqZ0dy_FoFTM"
      },
      "execution_count": null,
      "outputs": []
    },
    {
      "cell_type": "code",
      "source": [
        "# Choose the number of clusters\n",
        "num_clusters = 5\n",
        "\n",
        "# Apply K-Means clustering\n",
        "kmeans = KMeans(n_clusters=num_clusters, random_state=42)\n",
        "clusters = kmeans.fit_predict(data_reshaped)\n",
        "\n",
        "# Map cluster labels to numerical values\n",
        "cluster_mapping = {\n",
        "    0: 0,\n",
        "    3: 1,\n",
        "    1: 2,\n",
        "    4: 3,\n",
        "    2: 4\n",
        "}\n",
        "\n",
        "user_features['cluster'] = clusters\n",
        "\n",
        "# Apply the cluster mapping to the 'cluster' column\n",
        "user_features['cluster'] = user_features['cluster'].map(cluster_mapping)\n",
        "\n",
        "# Create a custom legend with cluster labels\n",
        "unique_clusters = user_features['cluster'].unique()\n",
        "legend_labels = [f'Cluster {cluster}' for cluster in unique_clusters]\n",
        "\n",
        "# Visualize the clustering\n",
        "plt.figure(figsize=(10, 6))\n",
        "\n",
        "# Define cluster labels based on the numerical values\n",
        "cluster_mapping = {\n",
        "    0: 'Cluster 0 (Occasional)',\n",
        "    1: 'Cluster 1 (Mid)',\n",
        "    2: 'Cluster 2 (Frequent)',\n",
        "    3: 'Cluster 3 (Frequent)',\n",
        "    4: 'Cluster 4 (Frequent)'\n",
        "}\n",
        "\n",
        "user_features['cluster_label'] = user_features['cluster'].map(cluster_mapping)\n",
        "\n",
        "# Visualize the clustering\n",
        "plt.figure(figsize=(10, 6))\n",
        "\n",
        "unique_cluster_labels = user_features['cluster_label'].unique()\n",
        "\n",
        "for label in unique_cluster_labels:\n",
        "    cluster_data = user_features[user_features['cluster_label'] == label]\n",
        "    plt.scatter(cluster_data.index, cluster_data['quantity'], label=label, s=100)\n",
        "\n",
        "plt.xlabel('User Features Index')\n",
        "plt.ylabel('Quantity')\n",
        "plt.title('1D Clustering of User Features')\n",
        "plt.legend()\n",
        "plt.show()"
      ],
      "metadata": {
        "colab": {
          "base_uri": "https://localhost:8080/",
          "height": 636
        },
        "id": "HYFRV-ldoppr",
        "outputId": "aae94485-52f9-4ca5-ed3a-73fc89d27e3c"
      },
      "execution_count": null,
      "outputs": [
        {
          "output_type": "stream",
          "name": "stderr",
          "text": [
            "/usr/local/lib/python3.10/dist-packages/sklearn/cluster/_kmeans.py:870: FutureWarning: The default value of `n_init` will change from 10 to 'auto' in 1.4. Set the value of `n_init` explicitly to suppress the warning\n",
            "  warnings.warn(\n"
          ]
        },
        {
          "output_type": "display_data",
          "data": {
            "text/plain": [
              "<Figure size 1000x600 with 0 Axes>"
            ]
          },
          "metadata": {}
        },
        {
          "output_type": "display_data",
          "data": {
            "text/plain": [
              "<Figure size 1000x600 with 1 Axes>"
            ],
            "image/png": "[encoded data removed]"
          },
          "metadata": {}
        }
      ]
    },
    {
      "cell_type": "markdown",
      "source": [
        "Let's define\n",
        "\n",
        "0 as occasional\n",
        "1 as mid\n",
        "2 to 4 as frequent"
      ],
      "metadata": {
        "id": "FFbm70uZU5AZ"
      }
    },
    {
      "cell_type": "markdown",
      "source": [
        "#### Consistent vs Declining vs Increasing"
      ],
      "metadata": {
        "id": "_DppJod5o9cb"
      }
    },
    {
      "cell_type": "markdown",
      "source": [
        "Previously I thought I would use 2 variables that is time difference (from the latest purchase to current purchase) and quantity difference (could use difference between the mean of current 3 months data and mean of latest transaction 3 months data) to understand which one is a returning buyer however we only have 3 months data, so I am only using the quantity difference data (an overall latest 1 month difference)"
      ],
      "metadata": {
        "id": "U7zTYzUSsYlD"
      }
    },
    {
      "cell_type": "code",
      "source": [
        "# Calculate user-level features: total quantity for each user in each month\n",
        "user_features2 = df.groupby(['user_id', 'month'])['quantity'].sum().reset_index()"
      ],
      "metadata": {
        "id": "0RAzouJK6af7"
      },
      "execution_count": null,
      "outputs": []
    },
    {
      "cell_type": "code",
      "source": [
        "# Create a DataFrame with all possible user-month combinations\n",
        "all_user_ids = user_features2['user_id'].unique()\n",
        "all_months = [1, 2, 3]\n",
        "all_combinations = [(user_id, month) for user_id in all_user_ids for month in all_months]\n",
        "\n",
        "new_data = []\n",
        "for user_id, month in all_combinations:\n",
        "    matching_rows = user_features2[(user_features2['user_id'] == user_id) & (user_features2['month'] == month)]\n",
        "    if matching_rows.empty:\n",
        "        new_data.append({'user_id': user_id, 'month': month, 'quantity': 0.0})\n",
        "    else:\n",
        "        new_data.extend(matching_rows.to_dict('records'))\n",
        "\n",
        "new_user_features = pd.DataFrame(new_data)\n",
        "#in case a user does not do any transaction for a month then create a new row with 0 value"
      ],
      "metadata": {
        "id": "TS83l6pCoxJj"
      },
      "execution_count": null,
      "outputs": []
    },
    {
      "cell_type": "code",
      "source": [
        "new_user_features['quantity_difference'] = new_user_features.groupby('user_id')['quantity'].diff()"
      ],
      "metadata": {
        "id": "-eCJrv_x2Qnv"
      },
      "execution_count": null,
      "outputs": []
    },
    {
      "cell_type": "code",
      "source": [
        "new_user_features"
      ],
      "metadata": {
        "colab": {
          "base_uri": "https://localhost:8080/",
          "height": 424
        },
        "id": "8Sliwv1H50nk",
        "outputId": "54a13ee1-41e4-41a3-e91d-cbc1b56cf0fd"
      },
      "execution_count": null,
      "outputs": [
        {
          "output_type": "execute_result",
          "data": {
            "text/plain": [
              "                                   user_id  month  quantity  \\\n",
              "0     00b158ed-0fcb-48e1-b627-2bb572a344cf      1      37.0   \n",
              "1     00b158ed-0fcb-48e1-b627-2bb572a344cf      2      26.0   \n",
              "2     00b158ed-0fcb-48e1-b627-2bb572a344cf      3      10.0   \n",
              "3     00bafc5b-3e97-439c-8b1f-9a6568adbaaa      1      38.0   \n",
              "4     00bafc5b-3e97-439c-8b1f-9a6568adbaaa      2       6.0   \n",
              "...                                    ...    ...       ...   \n",
              "2995  ff39dbcb-4414-45b3-8fa0-92577d1c78b8      2       0.0   \n",
              "2996  ff39dbcb-4414-45b3-8fa0-92577d1c78b8      3       5.0   \n",
              "2997  ffde4412-810f-4800-a40b-27ad2a614a9e      1      49.0   \n",
              "2998  ffde4412-810f-4800-a40b-27ad2a614a9e      2      75.0   \n",
              "2999  ffde4412-810f-4800-a40b-27ad2a614a9e      3      22.0   \n",
              "\n",
              "      quantity_difference  \n",
              "0                     NaN  \n",
              "1                   -11.0  \n",
              "2                   -16.0  \n",
              "3                     NaN  \n",
              "4                   -32.0  \n",
              "...                   ...  \n",
              "2995                 -3.0  \n",
              "2996                  5.0  \n",
              "2997                  NaN  \n",
              "2998                 26.0  \n",
              "2999                -53.0  \n",
              "\n",
              "[3000 rows x 4 columns]"
            ],
            "text/html": [
              "\n",
              "\n",
              "  <div id=\"df-f69abfc6-198a-4a02-b321-4fb492cf6769\">\n",
              "    <div class=\"colab-df-container\">\n",
              "      <div>\n",
              "<style scoped>\n",
              "    .dataframe tbody tr th:only-of-type {\n",
              "        vertical-align: middle;\n",
              "    }\n",
              "\n",
              "    .dataframe tbody tr th {\n",
              "        vertical-align: top;\n",
              "    }\n",
              "\n",
              "    .dataframe thead th {\n",
              "        text-align: right;\n",
              "    }\n",
              "</style>\n",
              "<table border=\"1\" class=\"dataframe\">\n",
              "  <thead>\n",
              "    <tr style=\"text-align: right;\">\n",
              "      <th></th>\n",
              "      <th>user_id</th>\n",
              "      <th>month</th>\n",
              "      <th>quantity</th>\n",
              "      <th>quantity_difference</th>\n",
              "    </tr>\n",
              "  </thead>\n",
              "  <tbody>\n",
              "    <tr>\n",
              "      <th>0</th>\n",
              "      <td>00b158ed-0fcb-48e1-b627-2bb572a344cf</td>\n",
              "      <td>1</td>\n",
              "      <td>37.0</td>\n",
              "      <td>NaN</td>\n",
              "    </tr>\n",
              "    <tr>\n",
              "      <th>1</th>\n",
              "      <td>00b158ed-0fcb-48e1-b627-2bb572a344cf</td>\n",
              "      <td>2</td>\n",
              "      <td>26.0</td>\n",
              "      <td>-11.0</td>\n",
              "    </tr>\n",
              "    <tr>\n",
              "      <th>2</th>\n",
              "      <td>00b158ed-0fcb-48e1-b627-2bb572a344cf</td>\n",
              "      <td>3</td>\n",
              "      <td>10.0</td>\n",
              "      <td>-16.0</td>\n",
              "    </tr>\n",
              "    <tr>\n",
              "      <th>3</th>\n",
              "      <td>00bafc5b-3e97-439c-8b1f-9a6568adbaaa</td>\n",
              "      <td>1</td>\n",
              "      <td>38.0</td>\n",
              "      <td>NaN</td>\n",
              "    </tr>\n",
              "    <tr>\n",
              "      <th>4</th>\n",
              "      <td>00bafc5b-3e97-439c-8b1f-9a6568adbaaa</td>\n",
              "      <td>2</td>\n",
              "      <td>6.0</td>\n",
              "      <td>-32.0</td>\n",
              "    </tr>\n",
              "    <tr>\n",
              "      <th>...</th>\n",
              "      <td>...</td>\n",
              "      <td>...</td>\n",
              "      <td>...</td>\n",
              "      <td>...</td>\n",
              "    </tr>\n",
              "    <tr>\n",
              "      <th>2995</th>\n",
              "      <td>ff39dbcb-4414-45b3-8fa0-92577d1c78b8</td>\n",
              "      <td>2</td>\n",
              "      <td>0.0</td>\n",
              "      <td>-3.0</td>\n",
              "    </tr>\n",
              "    <tr>\n",
              "      <th>2996</th>\n",
              "      <td>ff39dbcb-4414-45b3-8fa0-92577d1c78b8</td>\n",
              "      <td>3</td>\n",
              "      <td>5.0</td>\n",
              "      <td>5.0</td>\n",
              "    </tr>\n",
              "    <tr>\n",
              "      <th>2997</th>\n",
              "      <td>ffde4412-810f-4800-a40b-27ad2a614a9e</td>\n",
              "      <td>1</td>\n",
              "      <td>49.0</td>\n",
              "      <td>NaN</td>\n",
              "    </tr>\n",
              "    <tr>\n",
              "      <th>2998</th>\n",
              "      <td>ffde4412-810f-4800-a40b-27ad2a614a9e</td>\n",
              "      <td>2</td>\n",
              "      <td>75.0</td>\n",
              "      <td>26.0</td>\n",
              "    </tr>\n",
              "    <tr>\n",
              "      <th>2999</th>\n",
              "      <td>ffde4412-810f-4800-a40b-27ad2a614a9e</td>\n",
              "      <td>3</td>\n",
              "      <td>22.0</td>\n",
              "      <td>-53.0</td>\n",
              "    </tr>\n",
              "  </tbody>\n",
              "</table>\n",
              "<p>3000 rows × 4 columns</p>\n",
              "</div>\n",
              "      <button class=\"colab-df-convert\" onclick=\"convertToInteractive('df-f69abfc6-198a-4a02-b321-4fb492cf6769')\"\n",
              "              title=\"Convert this dataframe to an interactive table.\"\n",
              "              style=\"display:none;\">\n",
              "\n",
              "  <svg xmlns=\"http://www.w3.org/2000/svg\" height=\"24px\"viewBox=\"0 0 24 24\"\n",
              "       width=\"24px\">\n",
              "    <path d=\"M0 0h24v24H0V0z\" fill=\"none\"/>\n",
              "    <path d=\"M18.56 5.44l.94 2.06.94-2.06 2.06-.94-2.06-.94-.94-2.06-.94 2.06-2.06.94zm-11 1L8.5 8.5l.94-2.06 2.06-.94-2.06-.94L8.5 2.5l-.94 2.06-2.06.94zm10 10l.94 2.06.94-2.06 2.06-.94-2.06-.94-.94-2.06-.94 2.06-2.06.94z\"/><path d=\"M17.41 7.96l-1.37-1.37c-.4-.4-.92-.59-1.43-.59-.52 0-1.04.2-1.43.59L10.3 9.45l-7.72 7.72c-.78.78-.78 2.05 0 2.83L4 21.41c.39.39.9.59 1.41.59.51 0 1.02-.2 1.41-.59l7.78-7.78 2.81-2.81c.8-.78.8-2.07 0-2.86zM5.41 20L4 18.59l7.72-7.72 1.47 1.35L5.41 20z\"/>\n",
              "  </svg>\n",
              "      </button>\n",
              "\n",
              "\n",
              "\n",
              "    <div id=\"df-03562813-292b-4814-9194-5f3d0f27ab69\">\n",
              "      <button class=\"colab-df-quickchart\" onclick=\"quickchart('df-03562813-292b-4814-9194-5f3d0f27ab69')\"\n",
              "              title=\"Suggest charts.\"\n",
              "              style=\"display:none;\">\n",
              "\n",
              "<svg xmlns=\"http://www.w3.org/2000/svg\" height=\"24px\"viewBox=\"0 0 24 24\"\n",
              "     width=\"24px\">\n",
              "    <g>\n",
              "        <path d=\"M19 3H5c-1.1 0-2 .9-2 2v14c0 1.1.9 2 2 2h14c1.1 0 2-.9 2-2V5c0-1.1-.9-2-2-2zM9 17H7v-7h2v7zm4 0h-2V7h2v10zm4 0h-2v-4h2v4z\"/>\n",
              "    </g>\n",
              "</svg>\n",
              "      </button>\n",
              "    </div>\n",
              "\n",
              "<style>\n",
              "  .colab-df-quickchart {\n",
              "    background-color: #E8F0FE;\n",
              "    border: none;\n",
              "    border-radius: 50%;\n",
              "    cursor: pointer;\n",
              "    display: none;\n",
              "    fill: #1967D2;\n",
              "    height: 32px;\n",
              "    padding: 0 0 0 0;\n",
              "    width: 32px;\n",
              "  }\n",
              "\n",
              "  .colab-df-quickchart:hover {\n",
              "    background-color: #E2EBFA;\n",
              "    box-shadow: 0px 1px 2px rgba(60, 64, 67, 0.3), 0px 1px 3px 1px rgba(60, 64, 67, 0.15);\n",
              "    fill: #174EA6;\n",
              "  }\n",
              "\n",
              "  [theme=dark] .colab-df-quickchart {\n",
              "    background-color: #3B4455;\n",
              "    fill: #D2E3FC;\n",
              "  }\n",
              "\n",
              "  [theme=dark] .colab-df-quickchart:hover {\n",
              "    background-color: #434B5C;\n",
              "    box-shadow: 0px 1px 3px 1px rgba(0, 0, 0, 0.15);\n",
              "    filter: drop-shadow(0px 1px 2px rgba(0, 0, 0, 0.3));\n",
              "    fill: #FFFFFF;\n",
              "  }\n",
              "</style>\n",
              "\n",
              "    <script>\n",
              "      async function quickchart(key) {\n",
              "        const containerElement = document.querySelector('#' + key);\n",
              "        const charts = await google.colab.kernel.invokeFunction(\n",
              "            'suggestCharts', [key], {});\n",
              "      }\n",
              "    </script>\n",
              "\n",
              "\n",
              "      <script>\n",
              "\n",
              "function displayQuickchartButton(domScope) {\n",
              "  let quickchartButtonEl =\n",
              "    domScope.querySelector('#df-03562813-292b-4814-9194-5f3d0f27ab69 button.colab-df-quickchart');\n",
              "  quickchartButtonEl.style.display =\n",
              "    google.colab.kernel.accessAllowed ? 'block' : 'none';\n",
              "}\n",
              "\n",
              "        displayQuickchartButton(document);\n",
              "      </script>\n",
              "      <style>\n",
              "    .colab-df-container {\n",
              "      display:flex;\n",
              "      flex-wrap:wrap;\n",
              "      gap: 12px;\n",
              "    }\n",
              "\n",
              "    .colab-df-convert {\n",
              "      background-color: #E8F0FE;\n",
              "      border: none;\n",
              "      border-radius: 50%;\n",
              "      cursor: pointer;\n",
              "      display: none;\n",
              "      fill: #1967D2;\n",
              "      height: 32px;\n",
              "      padding: 0 0 0 0;\n",
              "      width: 32px;\n",
              "    }\n",
              "\n",
              "    .colab-df-convert:hover {\n",
              "      background-color: #E2EBFA;\n",
              "      box-shadow: 0px 1px 2px rgba(60, 64, 67, 0.3), 0px 1px 3px 1px rgba(60, 64, 67, 0.15);\n",
              "      fill: #174EA6;\n",
              "    }\n",
              "\n",
              "    [theme=dark] .colab-df-convert {\n",
              "      background-color: #3B4455;\n",
              "      fill: #D2E3FC;\n",
              "    }\n",
              "\n",
              "    [theme=dark] .colab-df-convert:hover {\n",
              "      background-color: #434B5C;\n",
              "      box-shadow: 0px 1px 3px 1px rgba(0, 0, 0, 0.15);\n",
              "      filter: drop-shadow(0px 1px 2px rgba(0, 0, 0, 0.3));\n",
              "      fill: #FFFFFF;\n",
              "    }\n",
              "  </style>\n",
              "\n",
              "      <script>\n",
              "        const buttonEl =\n",
              "          document.querySelector('#df-f69abfc6-198a-4a02-b321-4fb492cf6769 button.colab-df-convert');\n",
              "        buttonEl.style.display =\n",
              "          google.colab.kernel.accessAllowed ? 'block' : 'none';\n",
              "\n",
              "        async function convertToInteractive(key) {\n",
              "          const element = document.querySelector('#df-f69abfc6-198a-4a02-b321-4fb492cf6769');\n",
              "          const dataTable =\n",
              "            await google.colab.kernel.invokeFunction('convertToInteractive',\n",
              "                                                     [key], {});\n",
              "          if (!dataTable) return;\n",
              "\n",
              "          const docLinkHtml = 'Like what you see? Visit the ' +\n",
              "            '<a target=\"_blank\" href=https://colab.research.google.com/notebooks/data_table.ipynb>data table notebook</a>'\n",
              "            + ' to learn more about interactive tables.';\n",
              "          element.innerHTML = '';\n",
              "          dataTable['output_type'] = 'display_data';\n",
              "          await google.colab.output.renderOutput(dataTable, element);\n",
              "          const docLink = document.createElement('div');\n",
              "          docLink.innerHTML = docLinkHtml;\n",
              "          element.appendChild(docLink);\n",
              "        }\n",
              "      </script>\n",
              "    </div>\n",
              "  </div>\n"
            ]
          },
          "metadata": {},
          "execution_count": 186
        }
      ]
    },
    {
      "cell_type": "code",
      "source": [
        "difference = new_user_features[new_user_features['month'] != 1]"
      ],
      "metadata": {
        "id": "9dV3GufE2eau"
      },
      "execution_count": null,
      "outputs": []
    },
    {
      "cell_type": "code",
      "source": [
        "difference = difference.drop(columns=['quantity'])"
      ],
      "metadata": {
        "id": "ibSwgYlL2oqN"
      },
      "execution_count": null,
      "outputs": []
    },
    {
      "cell_type": "code",
      "source": [
        "difference"
      ],
      "metadata": {
        "colab": {
          "base_uri": "https://localhost:8080/",
          "height": 424
        },
        "id": "AzsN-la63Bie",
        "outputId": "3ead355a-4ec0-41e4-dc1e-a794768fd09a"
      },
      "execution_count": null,
      "outputs": [
        {
          "output_type": "execute_result",
          "data": {
            "text/plain": [
              "                                   user_id  month  quantity_difference\n",
              "1     00b158ed-0fcb-48e1-b627-2bb572a344cf      2                -11.0\n",
              "2     00b158ed-0fcb-48e1-b627-2bb572a344cf      3                -16.0\n",
              "4     00bafc5b-3e97-439c-8b1f-9a6568adbaaa      2                -32.0\n",
              "5     00bafc5b-3e97-439c-8b1f-9a6568adbaaa      3                 -6.0\n",
              "7     00cf8833-2cd5-40df-8477-3e9b73dbdb66      2                 -4.0\n",
              "...                                    ...    ...                  ...\n",
              "2993  ff13b265-54d4-48c4-8b51-f2e29e024e54      3                -22.0\n",
              "2995  ff39dbcb-4414-45b3-8fa0-92577d1c78b8      2                 -3.0\n",
              "2996  ff39dbcb-4414-45b3-8fa0-92577d1c78b8      3                  5.0\n",
              "2998  ffde4412-810f-4800-a40b-27ad2a614a9e      2                 26.0\n",
              "2999  ffde4412-810f-4800-a40b-27ad2a614a9e      3                -53.0\n",
              "\n",
              "[2000 rows x 3 columns]"
            ],
            "text/html": [
              "\n",
              "\n",
              "  <div id=\"df-42baeaa0-c2a1-4696-9d66-0e20ae646636\">\n",
              "    <div class=\"colab-df-container\">\n",
              "      <div>\n",
              "<style scoped>\n",
              "    .dataframe tbody tr th:only-of-type {\n",
              "        vertical-align: middle;\n",
              "    }\n",
              "\n",
              "    .dataframe tbody tr th {\n",
              "        vertical-align: top;\n",
              "    }\n",
              "\n",
              "    .dataframe thead th {\n",
              "        text-align: right;\n",
              "    }\n",
              "</style>\n",
              "<table border=\"1\" class=\"dataframe\">\n",
              "  <thead>\n",
              "    <tr style=\"text-align: right;\">\n",
              "      <th></th>\n",
              "      <th>user_id</th>\n",
              "      <th>month</th>\n",
              "      <th>quantity_difference</th>\n",
              "    </tr>\n",
              "  </thead>\n",
              "  <tbody>\n",
              "    <tr>\n",
              "      <th>1</th>\n",
              "      <td>00b158ed-0fcb-48e1-b627-2bb572a344cf</td>\n",
              "      <td>2</td>\n",
              "      <td>-11.0</td>\n",
              "    </tr>\n",
              "    <tr>\n",
              "      <th>2</th>\n",
              "      <td>00b158ed-0fcb-48e1-b627-2bb572a344cf</td>\n",
              "      <td>3</td>\n",
              "      <td>-16.0</td>\n",
              "    </tr>\n",
              "    <tr>\n",
              "      <th>4</th>\n",
              "      <td>00bafc5b-3e97-439c-8b1f-9a6568adbaaa</td>\n",
              "      <td>2</td>\n",
              "      <td>-32.0</td>\n",
              "    </tr>\n",
              "    <tr>\n",
              "      <th>5</th>\n",
              "      <td>00bafc5b-3e97-439c-8b1f-9a6568adbaaa</td>\n",
              "      <td>3</td>\n",
              "      <td>-6.0</td>\n",
              "    </tr>\n",
              "    <tr>\n",
              "      <th>7</th>\n",
              "      <td>00cf8833-2cd5-40df-8477-3e9b73dbdb66</td>\n",
              "      <td>2</td>\n",
              "      <td>-4.0</td>\n",
              "    </tr>\n",
              "    <tr>\n",
              "      <th>...</th>\n",
              "      <td>...</td>\n",
              "      <td>...</td>\n",
              "      <td>...</td>\n",
              "    </tr>\n",
              "    <tr>\n",
              "      <th>2993</th>\n",
              "      <td>ff13b265-54d4-48c4-8b51-f2e29e024e54</td>\n",
              "      <td>3</td>\n",
              "      <td>-22.0</td>\n",
              "    </tr>\n",
              "    <tr>\n",
              "      <th>2995</th>\n",
              "      <td>ff39dbcb-4414-45b3-8fa0-92577d1c78b8</td>\n",
              "      <td>2</td>\n",
              "      <td>-3.0</td>\n",
              "    </tr>\n",
              "    <tr>\n",
              "      <th>2996</th>\n",
              "      <td>ff39dbcb-4414-45b3-8fa0-92577d1c78b8</td>\n",
              "      <td>3</td>\n",
              "      <td>5.0</td>\n",
              "    </tr>\n",
              "    <tr>\n",
              "      <th>2998</th>\n",
              "      <td>ffde4412-810f-4800-a40b-27ad2a614a9e</td>\n",
              "      <td>2</td>\n",
              "      <td>26.0</td>\n",
              "    </tr>\n",
              "    <tr>\n",
              "      <th>2999</th>\n",
              "      <td>ffde4412-810f-4800-a40b-27ad2a614a9e</td>\n",
              "      <td>3</td>\n",
              "      <td>-53.0</td>\n",
              "    </tr>\n",
              "  </tbody>\n",
              "</table>\n",
              "<p>2000 rows × 3 columns</p>\n",
              "</div>\n",
              "      <button class=\"colab-df-convert\" onclick=\"convertToInteractive('df-42baeaa0-c2a1-4696-9d66-0e20ae646636')\"\n",
              "              title=\"Convert this dataframe to an interactive table.\"\n",
              "              style=\"display:none;\">\n",
              "\n",
              "  <svg xmlns=\"http://www.w3.org/2000/svg\" height=\"24px\"viewBox=\"0 0 24 24\"\n",
              "       width=\"24px\">\n",
              "    <path d=\"M0 0h24v24H0V0z\" fill=\"none\"/>\n",
              "    <path d=\"M18.56 5.44l.94 2.06.94-2.06 2.06-.94-2.06-.94-.94-2.06-.94 2.06-2.06.94zm-11 1L8.5 8.5l.94-2.06 2.06-.94-2.06-.94L8.5 2.5l-.94 2.06-2.06.94zm10 10l.94 2.06.94-2.06 2.06-.94-2.06-.94-.94-2.06-.94 2.06-2.06.94z\"/><path d=\"M17.41 7.96l-1.37-1.37c-.4-.4-.92-.59-1.43-.59-.52 0-1.04.2-1.43.59L10.3 9.45l-7.72 7.72c-.78.78-.78 2.05 0 2.83L4 21.41c.39.39.9.59 1.41.59.51 0 1.02-.2 1.41-.59l7.78-7.78 2.81-2.81c.8-.78.8-2.07 0-2.86zM5.41 20L4 18.59l7.72-7.72 1.47 1.35L5.41 20z\"/>\n",
              "  </svg>\n",
              "      </button>\n",
              "\n",
              "\n",
              "\n",
              "    <div id=\"df-31efa68d-5f6c-4152-9183-9b4cc64b0698\">\n",
              "      <button class=\"colab-df-quickchart\" onclick=\"quickchart('df-31efa68d-5f6c-4152-9183-9b4cc64b0698')\"\n",
              "              title=\"Suggest charts.\"\n",
              "              style=\"display:none;\">\n",
              "\n",
              "<svg xmlns=\"http://www.w3.org/2000/svg\" height=\"24px\"viewBox=\"0 0 24 24\"\n",
              "     width=\"24px\">\n",
              "    <g>\n",
              "        <path d=\"M19 3H5c-1.1 0-2 .9-2 2v14c0 1.1.9 2 2 2h14c1.1 0 2-.9 2-2V5c0-1.1-.9-2-2-2zM9 17H7v-7h2v7zm4 0h-2V7h2v10zm4 0h-2v-4h2v4z\"/>\n",
              "    </g>\n",
              "</svg>\n",
              "      </button>\n",
              "    </div>\n",
              "\n",
              "<style>\n",
              "  .colab-df-quickchart {\n",
              "    background-color: #E8F0FE;\n",
              "    border: none;\n",
              "    border-radius: 50%;\n",
              "    cursor: pointer;\n",
              "    display: none;\n",
              "    fill: #1967D2;\n",
              "    height: 32px;\n",
              "    padding: 0 0 0 0;\n",
              "    width: 32px;\n",
              "  }\n",
              "\n",
              "  .colab-df-quickchart:hover {\n",
              "    background-color: #E2EBFA;\n",
              "    box-shadow: 0px 1px 2px rgba(60, 64, 67, 0.3), 0px 1px 3px 1px rgba(60, 64, 67, 0.15);\n",
              "    fill: #174EA6;\n",
              "  }\n",
              "\n",
              "  [theme=dark] .colab-df-quickchart {\n",
              "    background-color: #3B4455;\n",
              "    fill: #D2E3FC;\n",
              "  }\n",
              "\n",
              "  [theme=dark] .colab-df-quickchart:hover {\n",
              "    background-color: #434B5C;\n",
              "    box-shadow: 0px 1px 3px 1px rgba(0, 0, 0, 0.15);\n",
              "    filter: drop-shadow(0px 1px 2px rgba(0, 0, 0, 0.3));\n",
              "    fill: #FFFFFF;\n",
              "  }\n",
              "</style>\n",
              "\n",
              "    <script>\n",
              "      async function quickchart(key) {\n",
              "        const containerElement = document.querySelector('#' + key);\n",
              "        const charts = await google.colab.kernel.invokeFunction(\n",
              "            'suggestCharts', [key], {});\n",
              "      }\n",
              "    </script>\n",
              "\n",
              "\n",
              "      <script>\n",
              "\n",
              "function displayQuickchartButton(domScope) {\n",
              "  let quickchartButtonEl =\n",
              "    domScope.querySelector('#df-31efa68d-5f6c-4152-9183-9b4cc64b0698 button.colab-df-quickchart');\n",
              "  quickchartButtonEl.style.display =\n",
              "    google.colab.kernel.accessAllowed ? 'block' : 'none';\n",
              "}\n",
              "\n",
              "        displayQuickchartButton(document);\n",
              "      </script>\n",
              "      <style>\n",
              "    .colab-df-container {\n",
              "      display:flex;\n",
              "      flex-wrap:wrap;\n",
              "      gap: 12px;\n",
              "    }\n",
              "\n",
              "    .colab-df-convert {\n",
              "      background-color: #E8F0FE;\n",
              "      border: none;\n",
              "      border-radius: 50%;\n",
              "      cursor: pointer;\n",
              "      display: none;\n",
              "      fill: #1967D2;\n",
              "      height: 32px;\n",
              "      padding: 0 0 0 0;\n",
              "      width: 32px;\n",
              "    }\n",
              "\n",
              "    .colab-df-convert:hover {\n",
              "      background-color: #E2EBFA;\n",
              "      box-shadow: 0px 1px 2px rgba(60, 64, 67, 0.3), 0px 1px 3px 1px rgba(60, 64, 67, 0.15);\n",
              "      fill: #174EA6;\n",
              "    }\n",
              "\n",
              "    [theme=dark] .colab-df-convert {\n",
              "      background-color: #3B4455;\n",
              "      fill: #D2E3FC;\n",
              "    }\n",
              "\n",
              "    [theme=dark] .colab-df-convert:hover {\n",
              "      background-color: #434B5C;\n",
              "      box-shadow: 0px 1px 3px 1px rgba(0, 0, 0, 0.15);\n",
              "      filter: drop-shadow(0px 1px 2px rgba(0, 0, 0, 0.3));\n",
              "      fill: #FFFFFF;\n",
              "    }\n",
              "  </style>\n",
              "\n",
              "      <script>\n",
              "        const buttonEl =\n",
              "          document.querySelector('#df-42baeaa0-c2a1-4696-9d66-0e20ae646636 button.colab-df-convert');\n",
              "        buttonEl.style.display =\n",
              "          google.colab.kernel.accessAllowed ? 'block' : 'none';\n",
              "\n",
              "        async function convertToInteractive(key) {\n",
              "          const element = document.querySelector('#df-42baeaa0-c2a1-4696-9d66-0e20ae646636');\n",
              "          const dataTable =\n",
              "            await google.colab.kernel.invokeFunction('convertToInteractive',\n",
              "                                                     [key], {});\n",
              "          if (!dataTable) return;\n",
              "\n",
              "          const docLinkHtml = 'Like what you see? Visit the ' +\n",
              "            '<a target=\"_blank\" href=https://colab.research.google.com/notebooks/data_table.ipynb>data table notebook</a>'\n",
              "            + ' to learn more about interactive tables.';\n",
              "          element.innerHTML = '';\n",
              "          dataTable['output_type'] = 'display_data';\n",
              "          await google.colab.output.renderOutput(dataTable, element);\n",
              "          const docLink = document.createElement('div');\n",
              "          docLink.innerHTML = docLinkHtml;\n",
              "          element.appendChild(docLink);\n",
              "        }\n",
              "      </script>\n",
              "    </div>\n",
              "  </div>\n"
            ]
          },
          "metadata": {},
          "execution_count": 189
        }
      ]
    },
    {
      "cell_type": "code",
      "source": [
        "qty_reshaped = difference[\"quantity_difference\"].values.reshape(-1, 1)"
      ],
      "metadata": {
        "id": "c-7XbXhI6JD-"
      },
      "execution_count": null,
      "outputs": []
    },
    {
      "cell_type": "code",
      "source": [
        "num_clusters = 5"
      ],
      "metadata": {
        "id": "c3q-PxDt8jdX"
      },
      "execution_count": null,
      "outputs": []
    },
    {
      "cell_type": "code",
      "source": [
        "kmeanscdi = KMeans(n_clusters=num_clusters, random_state=42)\n",
        "clusterscdi = kmeanscdi.fit_predict(qty_reshaped)\n",
        "\n",
        "# Add cluster labels to the DataFrame\n",
        "difference['cluster'] = clusterscdi\n",
        "\n",
        "# Map cluster labels to numerical values\n",
        "cluster_mapping = {\n",
        "    2: 0,\n",
        "    3: 1,\n",
        "    0: 2,\n",
        "    1: 3,\n",
        "    4: 4\n",
        "}\n",
        "\n",
        "# Apply the cluster mapping to the 'cluster' column\n",
        "difference['cluster'] = difference['cluster'].map(cluster_mapping)\n",
        "\n",
        "# Plotting\n",
        "plt.figure(figsize=(10, 6))\n",
        "\n",
        "# Define cluster labels based on the numerical values\n",
        "numerical_cluster_labels = {\n",
        "    0: 'Cluster 0 (Declining)',\n",
        "    1: 'Cluster 1 (Declining)',\n",
        "    2: 'Cluster 2 (Declining)',\n",
        "    3: 'Cluster 3 (Consistent)',\n",
        "    4: 'Cluster 4 (Increasing)'\n",
        "}\n",
        "\n",
        "for cluster, label in numerical_cluster_labels.items():\n",
        "    cluster_data = difference[difference['cluster'] == cluster]\n",
        "    plt.scatter(cluster_data.index, cluster_data['quantity_difference'], label=label)\n",
        "\n",
        "plt.title('K-Means Clustering of Quantity Differences')\n",
        "plt.xlabel('Index')\n",
        "plt.ylabel('Quantity Difference')\n",
        "plt.legend()\n",
        "plt.show()"
      ],
      "metadata": {
        "colab": {
          "base_uri": "https://localhost:8080/",
          "height": 619
        },
        "id": "qcmHD97v57S3",
        "outputId": "bbd5fa72-d5a2-4fc6-9391-048de1f8ac94"
      },
      "execution_count": null,
      "outputs": [
        {
          "output_type": "stream",
          "name": "stderr",
          "text": [
            "/usr/local/lib/python3.10/dist-packages/sklearn/cluster/_kmeans.py:870: FutureWarning: The default value of `n_init` will change from 10 to 'auto' in 1.4. Set the value of `n_init` explicitly to suppress the warning\n",
            "  warnings.warn(\n"
          ]
        },
        {
          "output_type": "display_data",
          "data": {
            "text/plain": [
              "<Figure size 1000x600 with 1 Axes>"
            ],
            "image/png": "[encoded data removed]"
          },
          "metadata": {}
        }
      ]
    },
    {
      "cell_type": "code",
      "source": [
        "difference"
      ],
      "metadata": {
        "id": "rIoY7nLKaofc",
        "outputId": "586e64ad-a8e3-4030-b1be-02b0107e8269",
        "colab": {
          "base_uri": "https://localhost:8080/",
          "height": 424
        }
      },
      "execution_count": null,
      "outputs": [
        {
          "output_type": "execute_result",
          "data": {
            "text/plain": [
              "                                   user_id  month  quantity_difference  \\\n",
              "1     00b158ed-0fcb-48e1-b627-2bb572a344cf      2                -11.0   \n",
              "2     00b158ed-0fcb-48e1-b627-2bb572a344cf      3                -16.0   \n",
              "4     00bafc5b-3e97-439c-8b1f-9a6568adbaaa      2                -32.0   \n",
              "5     00bafc5b-3e97-439c-8b1f-9a6568adbaaa      3                 -6.0   \n",
              "7     00cf8833-2cd5-40df-8477-3e9b73dbdb66      2                 -4.0   \n",
              "...                                    ...    ...                  ...   \n",
              "2993  ff13b265-54d4-48c4-8b51-f2e29e024e54      3                -22.0   \n",
              "2995  ff39dbcb-4414-45b3-8fa0-92577d1c78b8      2                 -3.0   \n",
              "2996  ff39dbcb-4414-45b3-8fa0-92577d1c78b8      3                  5.0   \n",
              "2998  ffde4412-810f-4800-a40b-27ad2a614a9e      2                 26.0   \n",
              "2999  ffde4412-810f-4800-a40b-27ad2a614a9e      3                -53.0   \n",
              "\n",
              "      cluster  \n",
              "1           2  \n",
              "2           2  \n",
              "4           1  \n",
              "5           2  \n",
              "7           3  \n",
              "...       ...  \n",
              "2993        2  \n",
              "2995        3  \n",
              "2996        3  \n",
              "2998        4  \n",
              "2999        1  \n",
              "\n",
              "[2000 rows x 4 columns]"
            ],
            "text/html": [
              "\n",
              "\n",
              "  <div id=\"df-6ac8b7b4-26b3-482a-97df-eb8199344164\">\n",
              "    <div class=\"colab-df-container\">\n",
              "      <div>\n",
              "<style scoped>\n",
              "    .dataframe tbody tr th:only-of-type {\n",
              "        vertical-align: middle;\n",
              "    }\n",
              "\n",
              "    .dataframe tbody tr th {\n",
              "        vertical-align: top;\n",
              "    }\n",
              "\n",
              "    .dataframe thead th {\n",
              "        text-align: right;\n",
              "    }\n",
              "</style>\n",
              "<table border=\"1\" class=\"dataframe\">\n",
              "  <thead>\n",
              "    <tr style=\"text-align: right;\">\n",
              "      <th></th>\n",
              "      <th>user_id</th>\n",
              "      <th>month</th>\n",
              "      <th>quantity_difference</th>\n",
              "      <th>cluster</th>\n",
              "    </tr>\n",
              "  </thead>\n",
              "  <tbody>\n",
              "    <tr>\n",
              "      <th>1</th>\n",
              "      <td>00b158ed-0fcb-48e1-b627-2bb572a344cf</td>\n",
              "      <td>2</td>\n",
              "      <td>-11.0</td>\n",
              "      <td>2</td>\n",
              "    </tr>\n",
              "    <tr>\n",
              "      <th>2</th>\n",
              "      <td>00b158ed-0fcb-48e1-b627-2bb572a344cf</td>\n",
              "      <td>3</td>\n",
              "      <td>-16.0</td>\n",
              "      <td>2</td>\n",
              "    </tr>\n",
              "    <tr>\n",
              "      <th>4</th>\n",
              "      <td>00bafc5b-3e97-439c-8b1f-9a6568adbaaa</td>\n",
              "      <td>2</td>\n",
              "      <td>-32.0</td>\n",
              "      <td>1</td>\n",
              "    </tr>\n",
              "    <tr>\n",
              "      <th>5</th>\n",
              "      <td>00bafc5b-3e97-439c-8b1f-9a6568adbaaa</td>\n",
              "      <td>3</td>\n",
              "      <td>-6.0</td>\n",
              "      <td>2</td>\n",
              "    </tr>\n",
              "    <tr>\n",
              "      <th>7</th>\n",
              "      <td>00cf8833-2cd5-40df-8477-3e9b73dbdb66</td>\n",
              "      <td>2</td>\n",
              "      <td>-4.0</td>\n",
              "      <td>3</td>\n",
              "    </tr>\n",
              "    <tr>\n",
              "      <th>...</th>\n",
              "      <td>...</td>\n",
              "      <td>...</td>\n",
              "      <td>...</td>\n",
              "      <td>...</td>\n",
              "    </tr>\n",
              "    <tr>\n",
              "      <th>2993</th>\n",
              "      <td>ff13b265-54d4-48c4-8b51-f2e29e024e54</td>\n",
              "      <td>3</td>\n",
              "      <td>-22.0</td>\n",
              "      <td>2</td>\n",
              "    </tr>\n",
              "    <tr>\n",
              "      <th>2995</th>\n",
              "      <td>ff39dbcb-4414-45b3-8fa0-92577d1c78b8</td>\n",
              "      <td>2</td>\n",
              "      <td>-3.0</td>\n",
              "      <td>3</td>\n",
              "    </tr>\n",
              "    <tr>\n",
              "      <th>2996</th>\n",
              "      <td>ff39dbcb-4414-45b3-8fa0-92577d1c78b8</td>\n",
              "      <td>3</td>\n",
              "      <td>5.0</td>\n",
              "      <td>3</td>\n",
              "    </tr>\n",
              "    <tr>\n",
              "      <th>2998</th>\n",
              "      <td>ffde4412-810f-4800-a40b-27ad2a614a9e</td>\n",
              "      <td>2</td>\n",
              "      <td>26.0</td>\n",
              "      <td>4</td>\n",
              "    </tr>\n",
              "    <tr>\n",
              "      <th>2999</th>\n",
              "      <td>ffde4412-810f-4800-a40b-27ad2a614a9e</td>\n",
              "      <td>3</td>\n",
              "      <td>-53.0</td>\n",
              "      <td>1</td>\n",
              "    </tr>\n",
              "  </tbody>\n",
              "</table>\n",
              "<p>2000 rows × 4 columns</p>\n",
              "</div>\n",
              "      <button class=\"colab-df-convert\" onclick=\"convertToInteractive('df-6ac8b7b4-26b3-482a-97df-eb8199344164')\"\n",
              "              title=\"Convert this dataframe to an interactive table.\"\n",
              "              style=\"display:none;\">\n",
              "\n",
              "  <svg xmlns=\"http://www.w3.org/2000/svg\" height=\"24px\"viewBox=\"0 0 24 24\"\n",
              "       width=\"24px\">\n",
              "    <path d=\"M0 0h24v24H0V0z\" fill=\"none\"/>\n",
              "    <path d=\"M18.56 5.44l.94 2.06.94-2.06 2.06-.94-2.06-.94-.94-2.06-.94 2.06-2.06.94zm-11 1L8.5 8.5l.94-2.06 2.06-.94-2.06-.94L8.5 2.5l-.94 2.06-2.06.94zm10 10l.94 2.06.94-2.06 2.06-.94-2.06-.94-.94-2.06-.94 2.06-2.06.94z\"/><path d=\"M17.41 7.96l-1.37-1.37c-.4-.4-.92-.59-1.43-.59-.52 0-1.04.2-1.43.59L10.3 9.45l-7.72 7.72c-.78.78-.78 2.05 0 2.83L4 21.41c.39.39.9.59 1.41.59.51 0 1.02-.2 1.41-.59l7.78-7.78 2.81-2.81c.8-.78.8-2.07 0-2.86zM5.41 20L4 18.59l7.72-7.72 1.47 1.35L5.41 20z\"/>\n",
              "  </svg>\n",
              "      </button>\n",
              "\n",
              "\n",
              "\n",
              "    <div id=\"df-16b8bed3-121c-4fe2-becf-1a344727754d\">\n",
              "      <button class=\"colab-df-quickchart\" onclick=\"quickchart('df-16b8bed3-121c-4fe2-becf-1a344727754d')\"\n",
              "              title=\"Suggest charts.\"\n",
              "              style=\"display:none;\">\n",
              "\n",
              "<svg xmlns=\"http://www.w3.org/2000/svg\" height=\"24px\"viewBox=\"0 0 24 24\"\n",
              "     width=\"24px\">\n",
              "    <g>\n",
              "        <path d=\"M19 3H5c-1.1 0-2 .9-2 2v14c0 1.1.9 2 2 2h14c1.1 0 2-.9 2-2V5c0-1.1-.9-2-2-2zM9 17H7v-7h2v7zm4 0h-2V7h2v10zm4 0h-2v-4h2v4z\"/>\n",
              "    </g>\n",
              "</svg>\n",
              "      </button>\n",
              "    </div>\n",
              "\n",
              "<style>\n",
              "  .colab-df-quickchart {\n",
              "    background-color: #E8F0FE;\n",
              "    border: none;\n",
              "    border-radius: 50%;\n",
              "    cursor: pointer;\n",
              "    display: none;\n",
              "    fill: #1967D2;\n",
              "    height: 32px;\n",
              "    padding: 0 0 0 0;\n",
              "    width: 32px;\n",
              "  }\n",
              "\n",
              "  .colab-df-quickchart:hover {\n",
              "    background-color: #E2EBFA;\n",
              "    box-shadow: 0px 1px 2px rgba(60, 64, 67, 0.3), 0px 1px 3px 1px rgba(60, 64, 67, 0.15);\n",
              "    fill: #174EA6;\n",
              "  }\n",
              "\n",
              "  [theme=dark] .colab-df-quickchart {\n",
              "    background-color: #3B4455;\n",
              "    fill: #D2E3FC;\n",
              "  }\n",
              "\n",
              "  [theme=dark] .colab-df-quickchart:hover {\n",
              "    background-color: #434B5C;\n",
              "    box-shadow: 0px 1px 3px 1px rgba(0, 0, 0, 0.15);\n",
              "    filter: drop-shadow(0px 1px 2px rgba(0, 0, 0, 0.3));\n",
              "    fill: #FFFFFF;\n",
              "  }\n",
              "</style>\n",
              "\n",
              "    <script>\n",
              "      async function quickchart(key) {\n",
              "        const containerElement = document.querySelector('#' + key);\n",
              "        const charts = await google.colab.kernel.invokeFunction(\n",
              "            'suggestCharts', [key], {});\n",
              "      }\n",
              "    </script>\n",
              "\n",
              "\n",
              "      <script>\n",
              "\n",
              "function displayQuickchartButton(domScope) {\n",
              "  let quickchartButtonEl =\n",
              "    domScope.querySelector('#df-16b8bed3-121c-4fe2-becf-1a344727754d button.colab-df-quickchart');\n",
              "  quickchartButtonEl.style.display =\n",
              "    google.colab.kernel.accessAllowed ? 'block' : 'none';\n",
              "}\n",
              "\n",
              "        displayQuickchartButton(document);\n",
              "      </script>\n",
              "      <style>\n",
              "    .colab-df-container {\n",
              "      display:flex;\n",
              "      flex-wrap:wrap;\n",
              "      gap: 12px;\n",
              "    }\n",
              "\n",
              "    .colab-df-convert {\n",
              "      background-color: #E8F0FE;\n",
              "      border: none;\n",
              "      border-radius: 50%;\n",
              "      cursor: pointer;\n",
              "      display: none;\n",
              "      fill: #1967D2;\n",
              "      height: 32px;\n",
              "      padding: 0 0 0 0;\n",
              "      width: 32px;\n",
              "    }\n",
              "\n",
              "    .colab-df-convert:hover {\n",
              "      background-color: #E2EBFA;\n",
              "      box-shadow: 0px 1px 2px rgba(60, 64, 67, 0.3), 0px 1px 3px 1px rgba(60, 64, 67, 0.15);\n",
              "      fill: #174EA6;\n",
              "    }\n",
              "\n",
              "    [theme=dark] .colab-df-convert {\n",
              "      background-color: #3B4455;\n",
              "      fill: #D2E3FC;\n",
              "    }\n",
              "\n",
              "    [theme=dark] .colab-df-convert:hover {\n",
              "      background-color: #434B5C;\n",
              "      box-shadow: 0px 1px 3px 1px rgba(0, 0, 0, 0.15);\n",
              "      filter: drop-shadow(0px 1px 2px rgba(0, 0, 0, 0.3));\n",
              "      fill: #FFFFFF;\n",
              "    }\n",
              "  </style>\n",
              "\n",
              "      <script>\n",
              "        const buttonEl =\n",
              "          document.querySelector('#df-6ac8b7b4-26b3-482a-97df-eb8199344164 button.colab-df-convert');\n",
              "        buttonEl.style.display =\n",
              "          google.colab.kernel.accessAllowed ? 'block' : 'none';\n",
              "\n",
              "        async function convertToInteractive(key) {\n",
              "          const element = document.querySelector('#df-6ac8b7b4-26b3-482a-97df-eb8199344164');\n",
              "          const dataTable =\n",
              "            await google.colab.kernel.invokeFunction('convertToInteractive',\n",
              "                                                     [key], {});\n",
              "          if (!dataTable) return;\n",
              "\n",
              "          const docLinkHtml = 'Like what you see? Visit the ' +\n",
              "            '<a target=\"_blank\" href=https://colab.research.google.com/notebooks/data_table.ipynb>data table notebook</a>'\n",
              "            + ' to learn more about interactive tables.';\n",
              "          element.innerHTML = '';\n",
              "          dataTable['output_type'] = 'display_data';\n",
              "          await google.colab.output.renderOutput(dataTable, element);\n",
              "          const docLink = document.createElement('div');\n",
              "          docLink.innerHTML = docLinkHtml;\n",
              "          element.appendChild(docLink);\n",
              "        }\n",
              "      </script>\n",
              "    </div>\n",
              "  </div>\n"
            ]
          },
          "metadata": {},
          "execution_count": 193
        }
      ]
    },
    {
      "cell_type": "markdown",
      "source": [
        "We shall consider\n",
        "- cluster 3 as consistent\n",
        "- cluster 4 as increasing\n",
        "- cluster 0, 1, 2 as declining\n"
      ],
      "metadata": {
        "id": "OrZPtbKV8u0v"
      }
    },
    {
      "cell_type": "markdown",
      "source": [
        "However using clustering method such as this does not utilize the use time variable properly since it only understand the difference between each month, although it may possible using moving average or mean and other methods however it does not truly understand the time variable. So it is better to use deep learning method such as LSTM using a generated variative data to make a supervised learning model and fine tune it using the actual data, however this requires the stakeholder knowledge for the required data and each customer supposed classification and behaviour"
      ],
      "metadata": {
        "id": "CCm6Pigs9N6f"
      }
    },
    {
      "cell_type": "markdown",
      "source": [
        "#### Combined"
      ],
      "metadata": {
        "id": "iQpp1Omv_Jr_"
      }
    },
    {
      "cell_type": "markdown",
      "source": [
        "However even without several data (for several user each has a lot of data), generated data (requires consultation with stakeholders). It is possible to understand returning frequent buyer through a logistic function that combines both classification result. It can be adapted based on the stakeholder decision"
      ],
      "metadata": {
        "id": "J8Cz3Ol4PVY8"
      }
    },
    {
      "cell_type": "markdown",
      "source": [
        "Frequent vs Occasional"
      ],
      "metadata": {
        "id": "g2TqIBDxRmoH"
      }
    },
    {
      "cell_type": "markdown",
      "source": [
        "I am using logistic function to make it work as a mean value, because of the concave-up behavior (making it easier to decrease values in the middle range) and concave-down behavior (making it harder to decrease values once they are high) so that a former-frequent user does not immedietly classified as occasional user. This works well to find user that is classified as **returning frequent buyer** which in this case\n",
        "\n",
        "**returning frequent buyer** == declining frequent buyer"
      ],
      "metadata": {
        "id": "wP1Z-e36qhZ2"
      }
    },
    {
      "cell_type": "code",
      "source": [
        "def logistic_weight(x, L, k, x0):\n",
        "    return L / (1 + np.exp(-k * (x - x0)))"
      ],
      "metadata": {
        "id": "-O5feLC-_JAI"
      },
      "execution_count": null,
      "outputs": []
    },
    {
      "cell_type": "code",
      "source": [
        "def combine_values(values, L, k, x0):\n",
        "    normalized_values = [v / 4.0 for v in values]  # Normalize values to 0-1 range\n",
        "    weights = [logistic_weight(v, L, k, x0) for v in normalized_values]\n",
        "    weighted_sum = sum(w * v for w, v in zip(weights, values))\n",
        "    total_weight = sum(weights)\n",
        "    combined_value = weighted_sum / total_weight\n",
        "    return combined_value\n",
        "\n",
        "#example\n",
        "values = [4, 4, 3, 2, 3]\n",
        "L = 1.0  # You can adjust this value\n",
        "k = 1.0  # You can adjust this value\n",
        "x0 = 0.5  # You can adjust this value\n",
        "\n",
        "combined_result = combine_values(values, L, k, x0)\n",
        "print(\"Combined Value:\", combined_result)"
      ],
      "metadata": {
        "colab": {
          "base_uri": "https://localhost:8080/"
        },
        "id": "pAcHNi7pqD7p",
        "outputId": "1ebb22dc-ca95-4727-db28-965235b1b9ef"
      },
      "execution_count": null,
      "outputs": [
        {
          "output_type": "stream",
          "name": "stdout",
          "text": [
            "Combined Value: 3.259619425969488\n"
          ]
        }
      ]
    },
    {
      "cell_type": "code",
      "source": [
        "user_rankings = user_features[user_features['user_id'] == '00b158ed-0fcb-48e1-b627-2bb572a344cf'].sort_values(by='month', ascending=False)"
      ],
      "metadata": {
        "id": "WS0ZliIjr7JT"
      },
      "execution_count": null,
      "outputs": []
    },
    {
      "cell_type": "code",
      "source": [
        "combine_values(user_rankings['cluster'].values, 1.0, 1.0, 0.5)"
      ],
      "metadata": {
        "colab": {
          "base_uri": "https://localhost:8080/"
        },
        "id": "AD7TZ7Ux8SJT",
        "outputId": "520b70b2-dea5-46c5-cf72-29a7cb525387"
      },
      "execution_count": null,
      "outputs": [
        {
          "output_type": "execute_result",
          "data": {
            "text/plain": [
              "0.6987357291075648"
            ]
          },
          "metadata": {},
          "execution_count": 215
        }
      ]
    },
    {
      "cell_type": "code",
      "source": [
        "def user_first_behaviour(user_id, n, user_features):\n",
        "  #user_id\n",
        "  #n is number to choose n latest customer with id=user_id segmentation score you want to combine\n",
        "  user_rankings = user_features[user_features['user_id'] == '00b158ed-0fcb-48e1-b627-2bb572a344cf'].sort_values(by='month', ascending=False)\n",
        "  if len(user_rankings['cluster'].values) == 0:\n",
        "    response = {\"code\": 404, \"error\": \"could not find transaction\", \"message\": \"could not find transaction\"}\n",
        "  elif len(user_rankings['cluster'].values) < n:\n",
        "    response = {\"code\": 404, \"error\": \"n exceed user data length\", \"message\": \"n exceed user data length\"}\n",
        "  else:\n",
        "    response = combine_values(user_rankings['cluster'].values[:n], 1.0, 1.0, 0.5)\n",
        "  return response"
      ],
      "metadata": {
        "id": "WDVvYgzJrA7C"
      },
      "execution_count": null,
      "outputs": []
    },
    {
      "cell_type": "code",
      "source": [
        "user_first_behaviour('00b158ed-0fcb-48e1-b627-2bb572a344cf', 3, user_features)"
      ],
      "metadata": {
        "colab": {
          "base_uri": "https://localhost:8080/"
        },
        "id": "jD4IE218xlaH",
        "outputId": "dd13d310-6284-4700-b803-ef7c35daae29"
      },
      "execution_count": null,
      "outputs": [
        {
          "output_type": "execute_result",
          "data": {
            "text/plain": [
              "0.6987357291075648"
            ]
          },
          "metadata": {},
          "execution_count": 217
        }
      ]
    },
    {
      "cell_type": "markdown",
      "source": [
        "Now we will now combine the frequent vs occasional with Consistent vs Declining vs Increasing"
      ],
      "metadata": {
        "id": "NusxIqCztvId"
      }
    },
    {
      "cell_type": "markdown",
      "source": [
        "It is actually possible too to make a scoring function or model based on both 0 to 4 scoring from those 2 models using deep learning with the variables optimized for best voucher or promotion decision score-profit system, it might be quite complex, so I will not simulate that for now"
      ],
      "metadata": {
        "id": "8SCPZWWdyxXJ"
      }
    },
    {
      "cell_type": "code",
      "source": [
        "def user_second_behaviour(user_id, n, user_features): #we will be using SQLAlchemy if I have enough time to make the API\n",
        "  user_rankings = difference[difference['user_id'] == user_id].sort_values(by='month', ascending=False)\n",
        "  if len(user_rankings['cluster'].values) == 0:\n",
        "    response = {\"code\": 404, \"error\": \"could not find transaction\", \"message\": \"could not find transaction\"}\n",
        "  elif len(user_rankings['cluster'].values) < n:\n",
        "    response = {\"code\": 404, \"error\": \"n exceed user data length\", \"message\": \"n exceed user data length\"}\n",
        "  else:\n",
        "    response = combine_values(user_rankings['cluster'].values[:n], 1.0, 1.0, 0.5)\n",
        "  return response"
      ],
      "metadata": {
        "id": "7L0yoIoazJn-"
      },
      "execution_count": null,
      "outputs": []
    },
    {
      "cell_type": "code",
      "source": [
        "user_second_behaviour('00b158ed-0fcb-48e1-b627-2bb572a344cf', 2, user_features)"
      ],
      "metadata": {
        "colab": {
          "base_uri": "https://localhost:8080/"
        },
        "id": "p6IYeCGg9tYD",
        "outputId": "02d8fc78-afd7-48ec-91e6-5de646763c81"
      },
      "execution_count": null,
      "outputs": [
        {
          "output_type": "execute_result",
          "data": {
            "text/plain": [
              "2.0"
            ]
          },
          "metadata": {},
          "execution_count": 219
        }
      ]
    },
    {
      "cell_type": "code",
      "source": [
        "def combine_behaviors(user_id, n, user_features):\n",
        "    # Define mappings for first function\n",
        "    first_output = round(user_first_behaviour(user_id, n, user_features))\n",
        "    second_output = round(user_second_behaviour(user_id, n-1, user_features))\n",
        "\n",
        "    first_mapping = {\n",
        "        0: 'occasional',\n",
        "        1: 'mid',\n",
        "        2: 'frequent',        #does not actually mean normal but rather mid-scale\n",
        "        3: 'frequent',\n",
        "        4: 'frequent'\n",
        "    }\n",
        "\n",
        "    # Define mappings for second function outputs\n",
        "    second_mapping = {\n",
        "        0: 'declining',\n",
        "        1: 'declining',\n",
        "        2: 'declining',\n",
        "        3: 'consistent',\n",
        "        4: 'increasing'\n",
        "    }\n",
        "\n",
        "    # Combine the outputs\n",
        "    combined_output = f\"{second_mapping[second_output]} {first_mapping[first_output]}\"\n",
        "\n",
        "    return combined_output"
      ],
      "metadata": {
        "id": "V5C0eU-T_IfC"
      },
      "execution_count": null,
      "outputs": []
    },
    {
      "cell_type": "code",
      "source": [
        "combine_behaviors('00b158ed-0fcb-48e1-b627-2bb572a344cf', 2, user_features)"
      ],
      "metadata": {
        "colab": {
          "base_uri": "https://localhost:8080/",
          "height": 36
        },
        "id": "Cc5jvRZzAZe8",
        "outputId": "0717cb9c-ccd8-493e-ea7a-5200da4e38c0"
      },
      "execution_count": null,
      "outputs": [
        {
          "output_type": "execute_result",
          "data": {
            "text/plain": [
              "'declining mid'"
            ],
            "application/vnd.google.colaboratory.intrinsic+json": {
              "type": "string"
            }
          },
          "metadata": {},
          "execution_count": 241
        }
      ]
    },
    {
      "cell_type": "markdown",
      "source": [
        "We could conclude that user '00b158ed-0fcb-48e1-b627-2bb572a344cf' is declining mid user"
      ],
      "metadata": {
        "id": "F_HyBOpG-5oj"
      }
    },
    {
      "cell_type": "markdown",
      "source": [
        "Remember that we could utilize these value from the segmentation to make a model combined with other variables such as user_tier or even location to make rewards-promotion model for users"
      ],
      "metadata": {
        "id": "Szv0LpE-7oNd"
      }
    },
    {
      "cell_type": "markdown",
      "source": [
        "### User Active Hour"
      ],
      "metadata": {
        "id": "xkh8XV8tRy50"
      }
    },
    {
      "cell_type": "markdown",
      "source": [
        "This Classification can be used to identify user's most active hour for purchasing, this could be used for notification schedule for the company's mobile app"
      ],
      "metadata": {
        "id": "nsxo4drdJEh4"
      }
    },
    {
      "cell_type": "code",
      "source": [
        "# Calculate user-level features: total quantity for each user in each hour\n",
        "user_features_hour = df.groupby(['user_id', 'hour'])['quantity'].sum().reset_index()"
      ],
      "metadata": {
        "id": "dSpIG40aFXZJ"
      },
      "execution_count": null,
      "outputs": []
    },
    {
      "cell_type": "code",
      "source": [
        "user_features_hour"
      ],
      "metadata": {
        "id": "3m6f9Ft_R4cD",
        "colab": {
          "base_uri": "https://localhost:8080/",
          "height": 424
        },
        "outputId": "611aa282-fbc9-4755-a75a-49b1ea2d2013"
      },
      "execution_count": null,
      "outputs": [
        {
          "output_type": "execute_result",
          "data": {
            "text/plain": [
              "                                   user_id  hour  quantity\n",
              "0     00b158ed-0fcb-48e1-b627-2bb572a344cf    10       9.0\n",
              "1     00b158ed-0fcb-48e1-b627-2bb572a344cf    11      11.0\n",
              "2     00b158ed-0fcb-48e1-b627-2bb572a344cf    12      12.0\n",
              "3     00b158ed-0fcb-48e1-b627-2bb572a344cf    13       1.0\n",
              "4     00b158ed-0fcb-48e1-b627-2bb572a344cf    14       7.0\n",
              "...                                    ...   ...       ...\n",
              "2509  ffde4412-810f-4800-a40b-27ad2a614a9e    16       3.0\n",
              "2510  ffde4412-810f-4800-a40b-27ad2a614a9e    18      79.0\n",
              "2511  ffde4412-810f-4800-a40b-27ad2a614a9e    19      48.0\n",
              "2512  ffde4412-810f-4800-a40b-27ad2a614a9e    20      10.0\n",
              "2513  ffde4412-810f-4800-a40b-27ad2a614a9e    21       1.0\n",
              "\n",
              "[2514 rows x 3 columns]"
            ],
            "text/html": [
              "\n",
              "\n",
              "  <div id=\"df-165b1d68-d8d7-4805-9e4f-d68d891cddc0\">\n",
              "    <div class=\"colab-df-container\">\n",
              "      <div>\n",
              "<style scoped>\n",
              "    .dataframe tbody tr th:only-of-type {\n",
              "        vertical-align: middle;\n",
              "    }\n",
              "\n",
              "    .dataframe tbody tr th {\n",
              "        vertical-align: top;\n",
              "    }\n",
              "\n",
              "    .dataframe thead th {\n",
              "        text-align: right;\n",
              "    }\n",
              "</style>\n",
              "<table border=\"1\" class=\"dataframe\">\n",
              "  <thead>\n",
              "    <tr style=\"text-align: right;\">\n",
              "      <th></th>\n",
              "      <th>user_id</th>\n",
              "      <th>hour</th>\n",
              "      <th>quantity</th>\n",
              "    </tr>\n",
              "  </thead>\n",
              "  <tbody>\n",
              "    <tr>\n",
              "      <th>0</th>\n",
              "      <td>00b158ed-0fcb-48e1-b627-2bb572a344cf</td>\n",
              "      <td>10</td>\n",
              "      <td>9.0</td>\n",
              "    </tr>\n",
              "    <tr>\n",
              "      <th>1</th>\n",
              "      <td>00b158ed-0fcb-48e1-b627-2bb572a344cf</td>\n",
              "      <td>11</td>\n",
              "      <td>11.0</td>\n",
              "    </tr>\n",
              "    <tr>\n",
              "      <th>2</th>\n",
              "      <td>00b158ed-0fcb-48e1-b627-2bb572a344cf</td>\n",
              "      <td>12</td>\n",
              "      <td>12.0</td>\n",
              "    </tr>\n",
              "    <tr>\n",
              "      <th>3</th>\n",
              "      <td>00b158ed-0fcb-48e1-b627-2bb572a344cf</td>\n",
              "      <td>13</td>\n",
              "      <td>1.0</td>\n",
              "    </tr>\n",
              "    <tr>\n",
              "      <th>4</th>\n",
              "      <td>00b158ed-0fcb-48e1-b627-2bb572a344cf</td>\n",
              "      <td>14</td>\n",
              "      <td>7.0</td>\n",
              "    </tr>\n",
              "    <tr>\n",
              "      <th>...</th>\n",
              "      <td>...</td>\n",
              "      <td>...</td>\n",
              "      <td>...</td>\n",
              "    </tr>\n",
              "    <tr>\n",
              "      <th>2509</th>\n",
              "      <td>ffde4412-810f-4800-a40b-27ad2a614a9e</td>\n",
              "      <td>16</td>\n",
              "      <td>3.0</td>\n",
              "    </tr>\n",
              "    <tr>\n",
              "      <th>2510</th>\n",
              "      <td>ffde4412-810f-4800-a40b-27ad2a614a9e</td>\n",
              "      <td>18</td>\n",
              "      <td>79.0</td>\n",
              "    </tr>\n",
              "    <tr>\n",
              "      <th>2511</th>\n",
              "      <td>ffde4412-810f-4800-a40b-27ad2a614a9e</td>\n",
              "      <td>19</td>\n",
              "      <td>48.0</td>\n",
              "    </tr>\n",
              "    <tr>\n",
              "      <th>2512</th>\n",
              "      <td>ffde4412-810f-4800-a40b-27ad2a614a9e</td>\n",
              "      <td>20</td>\n",
              "      <td>10.0</td>\n",
              "    </tr>\n",
              "    <tr>\n",
              "      <th>2513</th>\n",
              "      <td>ffde4412-810f-4800-a40b-27ad2a614a9e</td>\n",
              "      <td>21</td>\n",
              "      <td>1.0</td>\n",
              "    </tr>\n",
              "  </tbody>\n",
              "</table>\n",
              "<p>2514 rows × 3 columns</p>\n",
              "</div>\n",
              "      <button class=\"colab-df-convert\" onclick=\"convertToInteractive('df-165b1d68-d8d7-4805-9e4f-d68d891cddc0')\"\n",
              "              title=\"Convert this dataframe to an interactive table.\"\n",
              "              style=\"display:none;\">\n",
              "\n",
              "  <svg xmlns=\"http://www.w3.org/2000/svg\" height=\"24px\"viewBox=\"0 0 24 24\"\n",
              "       width=\"24px\">\n",
              "    <path d=\"M0 0h24v24H0V0z\" fill=\"none\"/>\n",
              "    <path d=\"M18.56 5.44l.94 2.06.94-2.06 2.06-.94-2.06-.94-.94-2.06-.94 2.06-2.06.94zm-11 1L8.5 8.5l.94-2.06 2.06-.94-2.06-.94L8.5 2.5l-.94 2.06-2.06.94zm10 10l.94 2.06.94-2.06 2.06-.94-2.06-.94-.94-2.06-.94 2.06-2.06.94z\"/><path d=\"M17.41 7.96l-1.37-1.37c-.4-.4-.92-.59-1.43-.59-.52 0-1.04.2-1.43.59L10.3 9.45l-7.72 7.72c-.78.78-.78 2.05 0 2.83L4 21.41c.39.39.9.59 1.41.59.51 0 1.02-.2 1.41-.59l7.78-7.78 2.81-2.81c.8-.78.8-2.07 0-2.86zM5.41 20L4 18.59l7.72-7.72 1.47 1.35L5.41 20z\"/>\n",
              "  </svg>\n",
              "      </button>\n",
              "\n",
              "\n",
              "\n",
              "    <div id=\"df-c03470bc-c4cc-4326-944d-a269c3e3e0a9\">\n",
              "      <button class=\"colab-df-quickchart\" onclick=\"quickchart('df-c03470bc-c4cc-4326-944d-a269c3e3e0a9')\"\n",
              "              title=\"Suggest charts.\"\n",
              "              style=\"display:none;\">\n",
              "\n",
              "<svg xmlns=\"http://www.w3.org/2000/svg\" height=\"24px\"viewBox=\"0 0 24 24\"\n",
              "     width=\"24px\">\n",
              "    <g>\n",
              "        <path d=\"M19 3H5c-1.1 0-2 .9-2 2v14c0 1.1.9 2 2 2h14c1.1 0 2-.9 2-2V5c0-1.1-.9-2-2-2zM9 17H7v-7h2v7zm4 0h-2V7h2v10zm4 0h-2v-4h2v4z\"/>\n",
              "    </g>\n",
              "</svg>\n",
              "      </button>\n",
              "    </div>\n",
              "\n",
              "<style>\n",
              "  .colab-df-quickchart {\n",
              "    background-color: #E8F0FE;\n",
              "    border: none;\n",
              "    border-radius: 50%;\n",
              "    cursor: pointer;\n",
              "    display: none;\n",
              "    fill: #1967D2;\n",
              "    height: 32px;\n",
              "    padding: 0 0 0 0;\n",
              "    width: 32px;\n",
              "  }\n",
              "\n",
              "  .colab-df-quickchart:hover {\n",
              "    background-color: #E2EBFA;\n",
              "    box-shadow: 0px 1px 2px rgba(60, 64, 67, 0.3), 0px 1px 3px 1px rgba(60, 64, 67, 0.15);\n",
              "    fill: #174EA6;\n",
              "  }\n",
              "\n",
              "  [theme=dark] .colab-df-quickchart {\n",
              "    background-color: #3B4455;\n",
              "    fill: #D2E3FC;\n",
              "  }\n",
              "\n",
              "  [theme=dark] .colab-df-quickchart:hover {\n",
              "    background-color: #434B5C;\n",
              "    box-shadow: 0px 1px 3px 1px rgba(0, 0, 0, 0.15);\n",
              "    filter: drop-shadow(0px 1px 2px rgba(0, 0, 0, 0.3));\n",
              "    fill: #FFFFFF;\n",
              "  }\n",
              "</style>\n",
              "\n",
              "    <script>\n",
              "      async function quickchart(key) {\n",
              "        const containerElement = document.querySelector('#' + key);\n",
              "        const charts = await google.colab.kernel.invokeFunction(\n",
              "            'suggestCharts', [key], {});\n",
              "      }\n",
              "    </script>\n",
              "\n",
              "\n",
              "      <script>\n",
              "\n",
              "function displayQuickchartButton(domScope) {\n",
              "  let quickchartButtonEl =\n",
              "    domScope.querySelector('#df-c03470bc-c4cc-4326-944d-a269c3e3e0a9 button.colab-df-quickchart');\n",
              "  quickchartButtonEl.style.display =\n",
              "    google.colab.kernel.accessAllowed ? 'block' : 'none';\n",
              "}\n",
              "\n",
              "        displayQuickchartButton(document);\n",
              "      </script>\n",
              "      <style>\n",
              "    .colab-df-container {\n",
              "      display:flex;\n",
              "      flex-wrap:wrap;\n",
              "      gap: 12px;\n",
              "    }\n",
              "\n",
              "    .colab-df-convert {\n",
              "      background-color: #E8F0FE;\n",
              "      border: none;\n",
              "      border-radius: 50%;\n",
              "      cursor: pointer;\n",
              "      display: none;\n",
              "      fill: #1967D2;\n",
              "      height: 32px;\n",
              "      padding: 0 0 0 0;\n",
              "      width: 32px;\n",
              "    }\n",
              "\n",
              "    .colab-df-convert:hover {\n",
              "      background-color: #E2EBFA;\n",
              "      box-shadow: 0px 1px 2px rgba(60, 64, 67, 0.3), 0px 1px 3px 1px rgba(60, 64, 67, 0.15);\n",
              "      fill: #174EA6;\n",
              "    }\n",
              "\n",
              "    [theme=dark] .colab-df-convert {\n",
              "      background-color: #3B4455;\n",
              "      fill: #D2E3FC;\n",
              "    }\n",
              "\n",
              "    [theme=dark] .colab-df-convert:hover {\n",
              "      background-color: #434B5C;\n",
              "      box-shadow: 0px 1px 3px 1px rgba(0, 0, 0, 0.15);\n",
              "      filter: drop-shadow(0px 1px 2px rgba(0, 0, 0, 0.3));\n",
              "      fill: #FFFFFF;\n",
              "    }\n",
              "  </style>\n",
              "\n",
              "      <script>\n",
              "        const buttonEl =\n",
              "          document.querySelector('#df-165b1d68-d8d7-4805-9e4f-d68d891cddc0 button.colab-df-convert');\n",
              "        buttonEl.style.display =\n",
              "          google.colab.kernel.accessAllowed ? 'block' : 'none';\n",
              "\n",
              "        async function convertToInteractive(key) {\n",
              "          const element = document.querySelector('#df-165b1d68-d8d7-4805-9e4f-d68d891cddc0');\n",
              "          const dataTable =\n",
              "            await google.colab.kernel.invokeFunction('convertToInteractive',\n",
              "                                                     [key], {});\n",
              "          if (!dataTable) return;\n",
              "\n",
              "          const docLinkHtml = 'Like what you see? Visit the ' +\n",
              "            '<a target=\"_blank\" href=https://colab.research.google.com/notebooks/data_table.ipynb>data table notebook</a>'\n",
              "            + ' to learn more about interactive tables.';\n",
              "          element.innerHTML = '';\n",
              "          dataTable['output_type'] = 'display_data';\n",
              "          await google.colab.output.renderOutput(dataTable, element);\n",
              "          const docLink = document.createElement('div');\n",
              "          docLink.innerHTML = docLinkHtml;\n",
              "          element.appendChild(docLink);\n",
              "        }\n",
              "      </script>\n",
              "    </div>\n",
              "  </div>\n"
            ]
          },
          "metadata": {},
          "execution_count": 231
        }
      ]
    },
    {
      "cell_type": "code",
      "source": [
        "data_reshaped2 = user_features[\"quantity\"].values.reshape(-1, 1)"
      ],
      "metadata": {
        "id": "r81_sYrPITfY"
      },
      "execution_count": null,
      "outputs": []
    },
    {
      "cell_type": "code",
      "source": [
        "import matplotlib.pyplot as plt\n",
        "from sklearn.cluster import KMeans\n",
        "\n",
        "# Assuming you have already calculated user_features_hour and performed K-Means clustering\n",
        "num_clusters = 3\n",
        "kmeans = KMeans(n_clusters=num_clusters, random_state=42)\n",
        "\n",
        "# Create separate scalers for each feature\n",
        "scaler_hour = StandardScaler()\n",
        "scaler_quantity = StandardScaler()\n",
        "\n",
        "# Scale each feature separately\n",
        "user_features_hour['scaled_hour'] = scaler_hour.fit_transform(user_features_hour[['hour']])\n",
        "user_features_hour['scaled_quantity'] = scaler_quantity.fit_transform(user_features_hour[['quantity']])\n",
        "clusters = kmeans.fit_predict(user_features_hour[['scaled_hour','scaled_quantity']])\n",
        "\n",
        "# Scatter plot\n",
        "plt.figure(figsize=(10, 6))\n",
        "plt.scatter(user_features_hour['hour'], user_features_hour['quantity'], c=clusters, cmap='viridis', s=50)\n",
        "plt.xlabel('Hour')\n",
        "plt.ylabel('Quantity')\n",
        "plt.title('Scatter Plot of User Features (Hour vs. Quantity) with Clusters')\n",
        "plt.colorbar(label='Cluster')\n",
        "plt.show()"
      ],
      "metadata": {
        "colab": {
          "base_uri": "https://localhost:8080/",
          "height": 619
        },
        "id": "ag_fEookITgk",
        "outputId": "5232855a-5f23-4c06-ea6f-c1672460bceb"
      },
      "execution_count": null,
      "outputs": [
        {
          "output_type": "stream",
          "name": "stderr",
          "text": [
            "/usr/local/lib/python3.10/dist-packages/sklearn/cluster/_kmeans.py:870: FutureWarning: The default value of `n_init` will change from 10 to 'auto' in 1.4. Set the value of `n_init` explicitly to suppress the warning\n",
            "  warnings.warn(\n"
          ]
        },
        {
          "output_type": "display_data",
          "data": {
            "text/plain": [
              "<Figure size 1000x600 with 2 Axes>"
            ],
            "image/png": "[encoded data removed]"
          },
          "metadata": {}
        }
      ]
    },
    {
      "cell_type": "markdown",
      "source": [
        "**It does not seem to accurately understand user's behaviour and I believe it is better to use Sequential DL instead**"
      ],
      "metadata": {
        "id": "23c-DipiLHlw"
      }
    },
    {
      "cell_type": "markdown",
      "source": [
        "## Item Recommendation based on Place Popularity (Item-Place Segmentation)"
      ],
      "metadata": {
        "id": "wUlHxhYrtta4"
      }
    },
    {
      "cell_type": "markdown",
      "source": [
        "Place analysis, through this provide product recommendations on **a micro-segment level** that is location. So from these place segmentation we could probably assume the brands that are located and popular in a specific city.\n",
        "\n",
        "This place segmentation could be useful for our recommendation model so that our recommendation model only shows menus from brands around their nearby (city)"
      ],
      "metadata": {
        "id": "43j-k0XN5Cff"
      }
    },
    {
      "cell_type": "markdown",
      "source": [
        "### Most Popular Brand per District"
      ],
      "metadata": {
        "id": "YLK-rayvnPN-"
      }
    },
    {
      "cell_type": "markdown",
      "source": [
        "Unfortunately I do not know how far each branch or brands to the other brand, It does not seem like I could utilize geographic (map with longitude altitude ect) segmentation to enhance our recommendation model"
      ],
      "metadata": {
        "id": "VVVRy-Bjopfg"
      }
    },
    {
      "cell_type": "code",
      "source": [
        "# Group data by district and brand, then count purchases for each brand within each district\n",
        "grouped_data = df.groupby(['district', 'brand']).size().reset_index(name='purchase_count')\n",
        "\n",
        "# Sort the data within each district by purchase count in descending order\n",
        "grouped_data = grouped_data.sort_values(['district', 'purchase_count'], ascending=[True, False])\n",
        "\n",
        "# Display the top 5 brands for each district\n",
        "top_brands_per_district = grouped_data.groupby('district').head(10)\n",
        "\n",
        "print(top_brands_per_district)"
      ],
      "metadata": {
        "colab": {
          "base_uri": "https://localhost:8080/"
        },
        "id": "NCECCUhNn4Pe",
        "outputId": "9fac0915-140d-43c7-e2a5-9efcff55b8fd"
      },
      "execution_count": null,
      "outputs": [
        {
          "output_type": "stream",
          "name": "stdout",
          "text": [
            "          district          brand  purchase_count\n",
            "1            Andir            TPC              94\n",
            "0            Andir       Djournal              36\n",
            "2   Babakan Madang            TPC              26\n",
            "4             Beji            TPC              73\n",
            "3             Beji       Djournal              70\n",
            "..             ...            ...             ...\n",
            "83          Wiyung       Djournal             201\n",
            "84          Wiyung    Kitchenette             174\n",
            "87          Wiyung    Tokyo Belly             109\n",
            "85          Wiyung  Pizza E Birra              71\n",
            "86          Wiyung            TPC              58\n",
            "\n",
            "[88 rows x 3 columns]\n"
          ]
        }
      ]
    },
    {
      "cell_type": "code",
      "source": [
        "selected_district = 'Andir'\n",
        "\n",
        "# Filter the top brands DataFrame to show results for the selected district\n",
        "top_brands_selected_district = top_brands_per_district[top_brands_per_district['district'] == selected_district]\n",
        "\n",
        "# Display the top brand for the selected district\n",
        "print(top_brands_selected_district)"
      ],
      "metadata": {
        "colab": {
          "base_uri": "https://localhost:8080/"
        },
        "id": "z-XyMR54oH9H",
        "outputId": "b8e71522-1288-49d3-bcf4-e3b850fc43d6"
      },
      "execution_count": null,
      "outputs": [
        {
          "output_type": "stream",
          "name": "stdout",
          "text": [
            "  district     brand  purchase_count\n",
            "1    Andir       TPC              94\n",
            "0    Andir  Djournal              36\n"
          ]
        }
      ]
    },
    {
      "cell_type": "markdown",
      "source": [
        "Now we know that the most popular brand around Andir are these, and possibly the only stores around Andir are these, so possibly, the menus that we most likely plan to recommend around Andir are these"
      ],
      "metadata": {
        "id": "yXQmqGGysDA-"
      }
    },
    {
      "cell_type": "markdown",
      "source": [
        "From this information we could utilize the menu recommendation based on the most popular brand in the customer's district"
      ],
      "metadata": {
        "id": "PS2VCKUDpIrl"
      }
    },
    {
      "cell_type": "code",
      "source": [
        "n = 5"
      ],
      "metadata": {
        "id": "XxZhwJRcrodA"
      },
      "execution_count": null,
      "outputs": []
    },
    {
      "cell_type": "code",
      "source": [
        "top_n_brands_selected_district = top_brands_selected_district.head(n)\n",
        "\n",
        "# Initialize an empty DataFrame to store the results\n",
        "top_menus_dataframe = pd.DataFrame(columns=['brand', 'menu_id', 'menu_name', 'purchase_count'])\n",
        "\n",
        "# Iterate through the top n brands and find the top 5 popular menus for each brand\n",
        "for index, row in top_n_brands_selected_district.iterrows():\n",
        "    brand = row['brand']\n",
        "    brand_data = df[(df['district'] == selected_district) & (df['brand'] == brand)]\n",
        "    grouped_menu_data = brand_data.groupby(['brand', 'menu_id', 'menu_name']).size().reset_index(name='purchase_count')\n",
        "    top_menus_brand = grouped_menu_data.sort_values('purchase_count', ascending=False).head(n)\n",
        "    top_menus_dataframe = top_menus_dataframe.append(top_menus_brand, ignore_index=True)"
      ],
      "metadata": {
        "colab": {
          "base_uri": "https://localhost:8080/"
        },
        "id": "e2TSl2g4rUsu",
        "outputId": "20465f3d-8294-4e9e-bb61-7cd0db05378f"
      },
      "execution_count": null,
      "outputs": [
        {
          "output_type": "stream",
          "name": "stderr",
          "text": [
            "<ipython-input-62-5888f8351969>:12: FutureWarning: The frame.append method is deprecated and will be removed from pandas in a future version. Use pandas.concat instead.\n",
            "  top_menus_dataframe = top_menus_dataframe.append(top_menus_brand, ignore_index=True)\n",
            "<ipython-input-62-5888f8351969>:12: FutureWarning: The frame.append method is deprecated and will be removed from pandas in a future version. Use pandas.concat instead.\n",
            "  top_menus_dataframe = top_menus_dataframe.append(top_menus_brand, ignore_index=True)\n"
          ]
        }
      ]
    },
    {
      "cell_type": "code",
      "source": [
        "top_menus_dataframe"
      ],
      "metadata": {
        "colab": {
          "base_uri": "https://localhost:8080/",
          "height": 363
        },
        "id": "5otdlZVuwN25",
        "outputId": "b78ec36f-41cd-476c-f191-5707902cc7a4"
      },
      "execution_count": null,
      "outputs": [
        {
          "output_type": "execute_result",
          "data": {
            "text/plain": [
              "      brand                               menu_id                menu_name  \\\n",
              "0       TPC  44ac93ad-6fb2-4552-9c80-14a0feb45928                    Pedas   \n",
              "1       TPC  d1fde11e-4753-4c65-ba85-d9cbb9ead955      Mie Tek Tek Pak Min   \n",
              "2       TPC  bd43ce4b-cc05-4d09-a352-6397e7e1ca18         Nasi Goreng Gila   \n",
              "3       TPC  434df06a-f1a2-4deb-ae7c-7345a6918e77           Soto Mie Bogor   \n",
              "4       TPC  fc380efb-b11e-4139-bd05-838391f18771      Pastel Bude 12K/Pcs   \n",
              "5  Djournal  ff528a77-82fb-4dbf-a992-a5181a237550                  Regular   \n",
              "6  Djournal  624764be-520c-4b8b-8472-0aadb155f604          Hot Premium Tea   \n",
              "7  Djournal  eb3e20d2-caa3-4ada-a351-fdd94cc5a27d        Jasmine Green Tea   \n",
              "8  Djournal  d4dfc119-8434-4b9b-8248-928640af6c55  Djournal Thai Tea 12 Oz   \n",
              "9  Djournal  8600d9de-5274-43b7-9e5e-b790379396f0   Extra 1 Espresso Shoot   \n",
              "\n",
              "  purchase_count  \n",
              "0             15  \n",
              "1              8  \n",
              "2              7  \n",
              "3              5  \n",
              "4              4  \n",
              "5              6  \n",
              "6              6  \n",
              "7              5  \n",
              "8              2  \n",
              "9              1  "
            ],
            "text/html": [
              "\n",
              "  <div id=\"df-193acd3a-4970-4c4a-9e40-0065c784fb73\" class=\"colab-df-container\">\n",
              "    <div>\n",
              "<style scoped>\n",
              "    .dataframe tbody tr th:only-of-type {\n",
              "        vertical-align: middle;\n",
              "    }\n",
              "\n",
              "    .dataframe tbody tr th {\n",
              "        vertical-align: top;\n",
              "    }\n",
              "\n",
              "    .dataframe thead th {\n",
              "        text-align: right;\n",
              "    }\n",
              "</style>\n",
              "<table border=\"1\" class=\"dataframe\">\n",
              "  <thead>\n",
              "    <tr style=\"text-align: right;\">\n",
              "      <th></th>\n",
              "      <th>brand</th>\n",
              "      <th>menu_id</th>\n",
              "      <th>menu_name</th>\n",
              "      <th>purchase_count</th>\n",
              "    </tr>\n",
              "  </thead>\n",
              "  <tbody>\n",
              "    <tr>\n",
              "      <th>0</th>\n",
              "      <td>TPC</td>\n",
              "      <td>44ac93ad-6fb2-4552-9c80-14a0feb45928</td>\n",
              "      <td>Pedas</td>\n",
              "      <td>15</td>\n",
              "    </tr>\n",
              "    <tr>\n",
              "      <th>1</th>\n",
              "      <td>TPC</td>\n",
              "      <td>d1fde11e-4753-4c65-ba85-d9cbb9ead955</td>\n",
              "      <td>Mie Tek Tek Pak Min</td>\n",
              "      <td>8</td>\n",
              "    </tr>\n",
              "    <tr>\n",
              "      <th>2</th>\n",
              "      <td>TPC</td>\n",
              "      <td>bd43ce4b-cc05-4d09-a352-6397e7e1ca18</td>\n",
              "      <td>Nasi Goreng Gila</td>\n",
              "      <td>7</td>\n",
              "    </tr>\n",
              "    <tr>\n",
              "      <th>3</th>\n",
              "      <td>TPC</td>\n",
              "      <td>434df06a-f1a2-4deb-ae7c-7345a6918e77</td>\n",
              "      <td>Soto Mie Bogor</td>\n",
              "      <td>5</td>\n",
              "    </tr>\n",
              "    <tr>\n",
              "      <th>4</th>\n",
              "      <td>TPC</td>\n",
              "      <td>fc380efb-b11e-4139-bd05-838391f18771</td>\n",
              "      <td>Pastel Bude 12K/Pcs</td>\n",
              "      <td>4</td>\n",
              "    </tr>\n",
              "    <tr>\n",
              "      <th>5</th>\n",
              "      <td>Djournal</td>\n",
              "      <td>ff528a77-82fb-4dbf-a992-a5181a237550</td>\n",
              "      <td>Regular</td>\n",
              "      <td>6</td>\n",
              "    </tr>\n",
              "    <tr>\n",
              "      <th>6</th>\n",
              "      <td>Djournal</td>\n",
              "      <td>624764be-520c-4b8b-8472-0aadb155f604</td>\n",
              "      <td>Hot Premium Tea</td>\n",
              "      <td>6</td>\n",
              "    </tr>\n",
              "    <tr>\n",
              "      <th>7</th>\n",
              "      <td>Djournal</td>\n",
              "      <td>eb3e20d2-caa3-4ada-a351-fdd94cc5a27d</td>\n",
              "      <td>Jasmine Green Tea</td>\n",
              "      <td>5</td>\n",
              "    </tr>\n",
              "    <tr>\n",
              "      <th>8</th>\n",
              "      <td>Djournal</td>\n",
              "      <td>d4dfc119-8434-4b9b-8248-928640af6c55</td>\n",
              "      <td>Djournal Thai Tea 12 Oz</td>\n",
              "      <td>2</td>\n",
              "    </tr>\n",
              "    <tr>\n",
              "      <th>9</th>\n",
              "      <td>Djournal</td>\n",
              "      <td>8600d9de-5274-43b7-9e5e-b790379396f0</td>\n",
              "      <td>Extra 1 Espresso Shoot</td>\n",
              "      <td>1</td>\n",
              "    </tr>\n",
              "  </tbody>\n",
              "</table>\n",
              "</div>\n",
              "    <div class=\"colab-df-buttons\">\n",
              "\n",
              "  <div class=\"colab-df-container\">\n",
              "    <button class=\"colab-df-convert\" onclick=\"convertToInteractive('df-193acd3a-4970-4c4a-9e40-0065c784fb73')\"\n",
              "            title=\"Convert this dataframe to an interactive table.\"\n",
              "            style=\"display:none;\">\n",
              "\n",
              "  <svg xmlns=\"http://www.w3.org/2000/svg\" height=\"24px\" viewBox=\"0 -960 960 960\">\n",
              "    <path d=\"M120-120v-720h720v720H120Zm60-500h600v-160H180v160Zm220 220h160v-160H400v160Zm0 220h160v-160H400v160ZM180-400h160v-160H180v160Zm440 0h160v-160H620v160ZM180-180h160v-160H180v160Zm440 0h160v-160H620v160Z\"/>\n",
              "  </svg>\n",
              "    </button>\n",
              "\n",
              "  <style>\n",
              "    .colab-df-container {\n",
              "      display:flex;\n",
              "      gap: 12px;\n",
              "    }\n",
              "\n",
              "    .colab-df-convert {\n",
              "      background-color: #E8F0FE;\n",
              "      border: none;\n",
              "      border-radius: 50%;\n",
              "      cursor: pointer;\n",
              "      display: none;\n",
              "      fill: #1967D2;\n",
              "      height: 32px;\n",
              "      padding: 0 0 0 0;\n",
              "      width: 32px;\n",
              "    }\n",
              "\n",
              "    .colab-df-convert:hover {\n",
              "      background-color: #E2EBFA;\n",
              "      box-shadow: 0px 1px 2px rgba(60, 64, 67, 0.3), 0px 1px 3px 1px rgba(60, 64, 67, 0.15);\n",
              "      fill: #174EA6;\n",
              "    }\n",
              "\n",
              "    .colab-df-buttons div {\n",
              "      margin-bottom: 4px;\n",
              "    }\n",
              "\n",
              "    [theme=dark] .colab-df-convert {\n",
              "      background-color: #3B4455;\n",
              "      fill: #D2E3FC;\n",
              "    }\n",
              "\n",
              "    [theme=dark] .colab-df-convert:hover {\n",
              "      background-color: #434B5C;\n",
              "      box-shadow: 0px 1px 3px 1px rgba(0, 0, 0, 0.15);\n",
              "      filter: drop-shadow(0px 1px 2px rgba(0, 0, 0, 0.3));\n",
              "      fill: #FFFFFF;\n",
              "    }\n",
              "  </style>\n",
              "\n",
              "    <script>\n",
              "      const buttonEl =\n",
              "        document.querySelector('#df-193acd3a-4970-4c4a-9e40-0065c784fb73 button.colab-df-convert');\n",
              "      buttonEl.style.display =\n",
              "        google.colab.kernel.accessAllowed ? 'block' : 'none';\n",
              "\n",
              "      async function convertToInteractive(key) {\n",
              "        const element = document.querySelector('#df-193acd3a-4970-4c4a-9e40-0065c784fb73');\n",
              "        const dataTable =\n",
              "          await google.colab.kernel.invokeFunction('convertToInteractive',\n",
              "                                                    [key], {});\n",
              "        if (!dataTable) return;\n",
              "\n",
              "        const docLinkHtml = 'Like what you see? Visit the ' +\n",
              "          '<a target=\"_blank\" href=https://colab.research.google.com/notebooks/data_table.ipynb>data table notebook</a>'\n",
              "          + ' to learn more about interactive tables.';\n",
              "        element.innerHTML = '';\n",
              "        dataTable['output_type'] = 'display_data';\n",
              "        await google.colab.output.renderOutput(dataTable, element);\n",
              "        const docLink = document.createElement('div');\n",
              "        docLink.innerHTML = docLinkHtml;\n",
              "        element.appendChild(docLink);\n",
              "      }\n",
              "    </script>\n",
              "  </div>\n",
              "\n",
              "\n",
              "<div id=\"df-89e2ccda-aca0-4adb-9f88-51585bbdb42e\">\n",
              "  <button class=\"colab-df-quickchart\" onclick=\"quickchart('df-89e2ccda-aca0-4adb-9f88-51585bbdb42e')\"\n",
              "            title=\"Suggest charts.\"\n",
              "            style=\"display:none;\">\n",
              "\n",
              "<svg xmlns=\"http://www.w3.org/2000/svg\" height=\"24px\"viewBox=\"0 0 24 24\"\n",
              "     width=\"24px\">\n",
              "    <g>\n",
              "        <path d=\"M19 3H5c-1.1 0-2 .9-2 2v14c0 1.1.9 2 2 2h14c1.1 0 2-.9 2-2V5c0-1.1-.9-2-2-2zM9 17H7v-7h2v7zm4 0h-2V7h2v10zm4 0h-2v-4h2v4z\"/>\n",
              "    </g>\n",
              "</svg>\n",
              "  </button>\n",
              "\n",
              "<style>\n",
              "  .colab-df-quickchart {\n",
              "    background-color: #E8F0FE;\n",
              "    border: none;\n",
              "    border-radius: 50%;\n",
              "    cursor: pointer;\n",
              "    display: none;\n",
              "    fill: #1967D2;\n",
              "    height: 32px;\n",
              "    padding: 0 0 0 0;\n",
              "    width: 32px;\n",
              "  }\n",
              "\n",
              "  .colab-df-quickchart:hover {\n",
              "    background-color: #E2EBFA;\n",
              "    box-shadow: 0px 1px 2px rgba(60, 64, 67, 0.3), 0px 1px 3px 1px rgba(60, 64, 67, 0.15);\n",
              "    fill: #174EA6;\n",
              "  }\n",
              "\n",
              "  [theme=dark] .colab-df-quickchart {\n",
              "    background-color: #3B4455;\n",
              "    fill: #D2E3FC;\n",
              "  }\n",
              "\n",
              "  [theme=dark] .colab-df-quickchart:hover {\n",
              "    background-color: #434B5C;\n",
              "    box-shadow: 0px 1px 3px 1px rgba(0, 0, 0, 0.15);\n",
              "    filter: drop-shadow(0px 1px 2px rgba(0, 0, 0, 0.3));\n",
              "    fill: #FFFFFF;\n",
              "  }\n",
              "</style>\n",
              "\n",
              "  <script>\n",
              "    async function quickchart(key) {\n",
              "      const charts = await google.colab.kernel.invokeFunction(\n",
              "          'suggestCharts', [key], {});\n",
              "    }\n",
              "    (() => {\n",
              "      let quickchartButtonEl =\n",
              "        document.querySelector('#df-89e2ccda-aca0-4adb-9f88-51585bbdb42e button');\n",
              "      quickchartButtonEl.style.display =\n",
              "        google.colab.kernel.accessAllowed ? 'block' : 'none';\n",
              "    })();\n",
              "  </script>\n",
              "</div>\n",
              "    </div>\n",
              "  </div>\n"
            ]
          },
          "metadata": {},
          "execution_count": 63
        }
      ]
    },
    {
      "cell_type": "markdown",
      "source": [
        "In the end we could classify which items are more likely recommended for a specific district"
      ],
      "metadata": {
        "id": "G7hlOVsRuIRm"
      }
    },
    {
      "cell_type": "markdown",
      "source": [
        "### Most Popular Brand per City"
      ],
      "metadata": {
        "id": "gQCTanbbsZuD"
      }
    },
    {
      "cell_type": "markdown",
      "source": [
        "Same case however on a bigger scale (city)"
      ],
      "metadata": {
        "id": "6BP5bf8rguCu"
      }
    },
    {
      "cell_type": "code",
      "source": [
        "# Group data by city and brand, then count purchases for each brand within each district\n",
        "grouped_data = df.groupby(['city', 'brand']).size().reset_index(name='purchase_count')\n",
        "\n",
        "# Sort the data within each district by purchase count in descending order\n",
        "grouped_data = grouped_data.sort_values(['city', 'purchase_count'], ascending=[True, False])\n",
        "\n",
        "# Display the top 10 brands for each city\n",
        "top_brands_per_city = grouped_data.groupby('city').head(10)\n",
        "\n",
        "print(top_brands_per_city)"
      ],
      "metadata": {
        "colab": {
          "base_uri": "https://localhost:8080/"
        },
        "id": "10p_xYynxd4Q",
        "outputId": "a4ac0b76-fefd-466b-a937-5c3e6e6df736"
      },
      "execution_count": 41,
      "outputs": [
        {
          "output_type": "stream",
          "name": "stdout",
          "text": [
            "                 city            brand  purchase_count\n",
            "2              Badung          Manarai             202\n",
            "0              Badung         Djournal              14\n",
            "1              Badung      Kitchenette               4\n",
            "3              Badung    Pizza E Birra               4\n",
            "4       Bandung, Kota         Djournal             994\n",
            "7       Bandung, Kota              TPC             121\n",
            "6       Bandung, Kota     Sushi Groove              21\n",
            "5       Bandung, Kota    Pizza E Birra               9\n",
            "9         Bogor, Kab.      Tokyo Belly              58\n",
            "8         Bogor, Kab.              TPC              26\n",
            "11           Denpasar              TPC             223\n",
            "10           Denpasar         Djournal             173\n",
            "13              Depok              TPC              73\n",
            "12              Depok         Djournal              70\n",
            "17      Jakarta Barat              TPC             349\n",
            "15      Jakarta Barat      Kitchenette             300\n",
            "14      Jakarta Barat         Djournal             274\n",
            "16      Jakarta Barat    Pizza E Birra             131\n",
            "20      Jakarta Pusat      Osteria GIA            1705\n",
            "25      Jakarta Pusat     Social House            1512\n",
            "18      Jakarta Pusat         Djournal            1408\n",
            "24      Jakarta Pusat    Social Garden             877\n",
            "19      Jakarta Pusat      Kitchenette             710\n",
            "22      Jakarta Pusat  Publik Markette             593\n",
            "26      Jakarta Pusat              TPC             550\n",
            "23      Jakarta Pusat             Skye             360\n",
            "27      Jakarta Pusat      Tokyo Belly             284\n",
            "21      Jakarta Pusat    Pizza E Birra             153\n",
            "30    Jakarta Selatan         Djournal            2573\n",
            "34    Jakarta Selatan      Osteria GIA            2269\n",
            "32    Jakarta Selatan      Kitchenette            1562\n",
            "37    Jakarta Selatan              TPC            1552\n",
            "35    Jakarta Selatan    Pizza E Birra             744\n",
            "38    Jakarta Selatan      Tokyo Belly             301\n",
            "28    Jakarta Selatan              A/A             231\n",
            "33    Jakarta Selatan           Mr Fox             228\n",
            "31    Jakarta Selatan   Djournal House             142\n",
            "36    Jakarta Selatan     Sushi Groove              80\n",
            "39      Jakarta Timur              TPC             354\n",
            "40      Jakarta Utara         Djournal             626\n",
            "42      Jakarta Utara    Pizza E Birra             222\n",
            "43      Jakarta Utara              TPC             175\n",
            "41      Jakarta Utara      Kitchenette             153\n",
            "44      Jakarta Utara      Tokyo Belly              78\n",
            "45           Surabaya         Djournal            1028\n",
            "47           Surabaya           Mr Fox             281\n",
            "46           Surabaya      Kitchenette             275\n",
            "50           Surabaya      Tokyo Belly             266\n",
            "49           Surabaya              TPC             193\n",
            "48           Surabaya    Pizza E Birra              71\n",
            "51  Tangerang Selatan         Djournal            1016\n",
            "52  Tangerang Selatan              TPC             500\n",
            "53  Tangerang Selatan      Tokyo Belly             363\n",
            "55    Tangerang, Kab.    Pizza E Birra             188\n",
            "56    Tangerang, Kab.              TPC              37\n",
            "54    Tangerang, Kab.         Djournal              32\n"
          ]
        }
      ]
    },
    {
      "cell_type": "code",
      "source": [
        "selected_city = 'Bandung, Kota'\n",
        "\n",
        "# Filter the top brands DataFrame to show results for the selected district\n",
        "top_brands_selected_city = top_brands_per_city[top_brands_per_city['city'] == selected_city]\n",
        "\n",
        "# Display the top brand for the selected district\n",
        "print(top_brands_selected_city)"
      ],
      "metadata": {
        "colab": {
          "base_uri": "https://localhost:8080/"
        },
        "id": "MuhFrkTrx0T2",
        "outputId": "938e7318-23a7-4aa9-ffcb-712c0800abef"
      },
      "execution_count": 42,
      "outputs": [
        {
          "output_type": "stream",
          "name": "stdout",
          "text": [
            "            city          brand  purchase_count\n",
            "4  Bandung, Kota       Djournal             994\n",
            "7  Bandung, Kota            TPC             121\n",
            "6  Bandung, Kota   Sushi Groove              21\n",
            "5  Bandung, Kota  Pizza E Birra               9\n"
          ]
        }
      ]
    },
    {
      "cell_type": "code",
      "source": [
        "n = 5"
      ],
      "metadata": {
        "id": "0PPx-yC4y4_H"
      },
      "execution_count": 43,
      "outputs": []
    },
    {
      "cell_type": "code",
      "source": [
        "top_n_brands_selected_city = top_brands_selected_city.head(n)\n",
        "\n",
        "# Initialize an empty DataFrame to store the results\n",
        "top_menus_dataframe_city = pd.DataFrame(columns=['brand', 'menu_id', 'menu_name', 'purchase_count'])\n",
        "\n",
        "# Iterate through the top n brands and find the top 5 popular menus for each brand\n",
        "for index, row in top_n_brands_selected_city.iterrows():\n",
        "    brand = row['brand']\n",
        "    brand_data = df[(df['city'] == selected_city) & (df['brand'] == brand)]\n",
        "    grouped_menu_data = brand_data.groupby(['brand', 'menu_id', 'menu_name']).size().reset_index(name='purchase_count')\n",
        "    top_menus_brand = grouped_menu_data.sort_values('purchase_count', ascending=False).head(n)\n",
        "    top_menus_dataframe_city = top_menus_dataframe_city.append(top_menus_brand, ignore_index=True)"
      ],
      "metadata": {
        "colab": {
          "base_uri": "https://localhost:8080/"
        },
        "id": "JkWV8M8qy5hX",
        "outputId": "a1b25eda-b998-48e7-d019-dd0553d7a5d6"
      },
      "execution_count": 44,
      "outputs": [
        {
          "output_type": "stream",
          "name": "stderr",
          "text": [
            "<ipython-input-44-3861b7b42a84>:12: FutureWarning: The frame.append method is deprecated and will be removed from pandas in a future version. Use pandas.concat instead.\n",
            "  top_menus_dataframe_city = top_menus_dataframe_city.append(top_menus_brand, ignore_index=True)\n",
            "<ipython-input-44-3861b7b42a84>:12: FutureWarning: The frame.append method is deprecated and will be removed from pandas in a future version. Use pandas.concat instead.\n",
            "  top_menus_dataframe_city = top_menus_dataframe_city.append(top_menus_brand, ignore_index=True)\n",
            "<ipython-input-44-3861b7b42a84>:12: FutureWarning: The frame.append method is deprecated and will be removed from pandas in a future version. Use pandas.concat instead.\n",
            "  top_menus_dataframe_city = top_menus_dataframe_city.append(top_menus_brand, ignore_index=True)\n",
            "<ipython-input-44-3861b7b42a84>:12: FutureWarning: The frame.append method is deprecated and will be removed from pandas in a future version. Use pandas.concat instead.\n",
            "  top_menus_dataframe_city = top_menus_dataframe_city.append(top_menus_brand, ignore_index=True)\n"
          ]
        }
      ]
    },
    {
      "cell_type": "code",
      "source": [
        "top_menus_dataframe_city"
      ],
      "metadata": {
        "colab": {
          "base_uri": "https://localhost:8080/",
          "height": 677
        },
        "id": "-7RERqsyzPlJ",
        "outputId": "ce82d08f-ebe1-480b-a51f-cf12925a88c0"
      },
      "execution_count": 45,
      "outputs": [
        {
          "output_type": "execute_result",
          "data": {
            "text/plain": [
              "            brand                               menu_id  \\\n",
              "0        Djournal  76b2d827-8dac-4229-9290-e58fbcc79e62   \n",
              "1        Djournal  a8e08bf4-5db3-4edd-b5cb-3d0a6b80723f   \n",
              "2        Djournal  bee9c394-3a53-4961-855f-f7afd33086d8   \n",
              "3        Djournal  a343bc5c-9ca0-48f1-88b2-b18aa0955a7b   \n",
              "4        Djournal  7af7fa35-f843-4add-81f5-69a8da1858bb   \n",
              "5             TPC  44ac93ad-6fb2-4552-9c80-14a0feb45928   \n",
              "6             TPC  d1fde11e-4753-4c65-ba85-d9cbb9ead955   \n",
              "7             TPC  bd43ce4b-cc05-4d09-a352-6397e7e1ca18   \n",
              "8             TPC  fc380efb-b11e-4139-bd05-838391f18771   \n",
              "9             TPC  c06c35f8-3555-4a00-903d-0820bc0069d5   \n",
              "10   Sushi Groove  6479bb84-1536-431e-8acc-b6e55ab949d5   \n",
              "11   Sushi Groove  b3d57618-6f27-4ee1-8cbf-f72d439d6244   \n",
              "12   Sushi Groove  64fa6f25-0b23-4f34-890d-5ab55315352e   \n",
              "13   Sushi Groove  f0de6b75-4459-4990-b765-b80fc084c12f   \n",
              "14   Sushi Groove  e6eaf1ed-3824-4369-b8ab-d58a482d4a92   \n",
              "15  Pizza E Birra  7120dd21-b8e5-48bf-a8ed-2c9137da3cbc   \n",
              "16  Pizza E Birra  ae8c6c9c-c07b-44f4-9ccb-9e5d105f6bd0   \n",
              "17  Pizza E Birra  34de5485-c5ac-48f5-8b88-08f9be25614a   \n",
              "18  Pizza E Birra  4ce826fc-dafe-46b0-94ef-ca92706847d6   \n",
              "19  Pizza E Birra  8296c7a4-6c49-4593-a955-923738daf8de   \n",
              "\n",
              "                        menu_name purchase_count  \n",
              "0                No Whipped Cream             51  \n",
              "1           With Sugar (Standard)             34  \n",
              "2          Iced Caramel Macchiato             27  \n",
              "3              Reguler Milk Large             23  \n",
              "4           Shaken Espresso Latte             23  \n",
              "5                           Pedas             16  \n",
              "6             Mie Tek Tek Pak Min              9  \n",
              "7                Nasi Goreng Gila              7  \n",
              "8             Pastel Bude 12K/Pcs              5  \n",
              "9                 Ayam Geprek TPC              5  \n",
              "10                           Iced              2  \n",
              "11                           Ocha              2  \n",
              "12                          Gyoza              1  \n",
              "13                   Chuka Wakame              1  \n",
              "14               Tori Karaage Don              1  \n",
              "15             Champion's Platter              3  \n",
              "16         Pastrami Classic Pizza              2  \n",
              "17                           Iced              1  \n",
              "18                      Lemon Tea              1  \n",
              "19  Classic NY Cheese Giant Pizza              1  "
            ],
            "text/html": [
              "\n",
              "  <div id=\"df-386f6564-b12f-466f-af56-18fb1fbb673a\" class=\"colab-df-container\">\n",
              "    <div>\n",
              "<style scoped>\n",
              "    .dataframe tbody tr th:only-of-type {\n",
              "        vertical-align: middle;\n",
              "    }\n",
              "\n",
              "    .dataframe tbody tr th {\n",
              "        vertical-align: top;\n",
              "    }\n",
              "\n",
              "    .dataframe thead th {\n",
              "        text-align: right;\n",
              "    }\n",
              "</style>\n",
              "<table border=\"1\" class=\"dataframe\">\n",
              "  <thead>\n",
              "    <tr style=\"text-align: right;\">\n",
              "      <th></th>\n",
              "      <th>brand</th>\n",
              "      <th>menu_id</th>\n",
              "      <th>menu_name</th>\n",
              "      <th>purchase_count</th>\n",
              "    </tr>\n",
              "  </thead>\n",
              "  <tbody>\n",
              "    <tr>\n",
              "      <th>0</th>\n",
              "      <td>Djournal</td>\n",
              "      <td>76b2d827-8dac-4229-9290-e58fbcc79e62</td>\n",
              "      <td>No Whipped Cream</td>\n",
              "      <td>51</td>\n",
              "    </tr>\n",
              "    <tr>\n",
              "      <th>1</th>\n",
              "      <td>Djournal</td>\n",
              "      <td>a8e08bf4-5db3-4edd-b5cb-3d0a6b80723f</td>\n",
              "      <td>With Sugar (Standard)</td>\n",
              "      <td>34</td>\n",
              "    </tr>\n",
              "    <tr>\n",
              "      <th>2</th>\n",
              "      <td>Djournal</td>\n",
              "      <td>bee9c394-3a53-4961-855f-f7afd33086d8</td>\n",
              "      <td>Iced Caramel Macchiato</td>\n",
              "      <td>27</td>\n",
              "    </tr>\n",
              "    <tr>\n",
              "      <th>3</th>\n",
              "      <td>Djournal</td>\n",
              "      <td>a343bc5c-9ca0-48f1-88b2-b18aa0955a7b</td>\n",
              "      <td>Reguler Milk Large</td>\n",
              "      <td>23</td>\n",
              "    </tr>\n",
              "    <tr>\n",
              "      <th>4</th>\n",
              "      <td>Djournal</td>\n",
              "      <td>7af7fa35-f843-4add-81f5-69a8da1858bb</td>\n",
              "      <td>Shaken Espresso Latte</td>\n",
              "      <td>23</td>\n",
              "    </tr>\n",
              "    <tr>\n",
              "      <th>5</th>\n",
              "      <td>TPC</td>\n",
              "      <td>44ac93ad-6fb2-4552-9c80-14a0feb45928</td>\n",
              "      <td>Pedas</td>\n",
              "      <td>16</td>\n",
              "    </tr>\n",
              "    <tr>\n",
              "      <th>6</th>\n",
              "      <td>TPC</td>\n",
              "      <td>d1fde11e-4753-4c65-ba85-d9cbb9ead955</td>\n",
              "      <td>Mie Tek Tek Pak Min</td>\n",
              "      <td>9</td>\n",
              "    </tr>\n",
              "    <tr>\n",
              "      <th>7</th>\n",
              "      <td>TPC</td>\n",
              "      <td>bd43ce4b-cc05-4d09-a352-6397e7e1ca18</td>\n",
              "      <td>Nasi Goreng Gila</td>\n",
              "      <td>7</td>\n",
              "    </tr>\n",
              "    <tr>\n",
              "      <th>8</th>\n",
              "      <td>TPC</td>\n",
              "      <td>fc380efb-b11e-4139-bd05-838391f18771</td>\n",
              "      <td>Pastel Bude 12K/Pcs</td>\n",
              "      <td>5</td>\n",
              "    </tr>\n",
              "    <tr>\n",
              "      <th>9</th>\n",
              "      <td>TPC</td>\n",
              "      <td>c06c35f8-3555-4a00-903d-0820bc0069d5</td>\n",
              "      <td>Ayam Geprek TPC</td>\n",
              "      <td>5</td>\n",
              "    </tr>\n",
              "    <tr>\n",
              "      <th>10</th>\n",
              "      <td>Sushi Groove</td>\n",
              "      <td>6479bb84-1536-431e-8acc-b6e55ab949d5</td>\n",
              "      <td>Iced</td>\n",
              "      <td>2</td>\n",
              "    </tr>\n",
              "    <tr>\n",
              "      <th>11</th>\n",
              "      <td>Sushi Groove</td>\n",
              "      <td>b3d57618-6f27-4ee1-8cbf-f72d439d6244</td>\n",
              "      <td>Ocha</td>\n",
              "      <td>2</td>\n",
              "    </tr>\n",
              "    <tr>\n",
              "      <th>12</th>\n",
              "      <td>Sushi Groove</td>\n",
              "      <td>64fa6f25-0b23-4f34-890d-5ab55315352e</td>\n",
              "      <td>Gyoza</td>\n",
              "      <td>1</td>\n",
              "    </tr>\n",
              "    <tr>\n",
              "      <th>13</th>\n",
              "      <td>Sushi Groove</td>\n",
              "      <td>f0de6b75-4459-4990-b765-b80fc084c12f</td>\n",
              "      <td>Chuka Wakame</td>\n",
              "      <td>1</td>\n",
              "    </tr>\n",
              "    <tr>\n",
              "      <th>14</th>\n",
              "      <td>Sushi Groove</td>\n",
              "      <td>e6eaf1ed-3824-4369-b8ab-d58a482d4a92</td>\n",
              "      <td>Tori Karaage Don</td>\n",
              "      <td>1</td>\n",
              "    </tr>\n",
              "    <tr>\n",
              "      <th>15</th>\n",
              "      <td>Pizza E Birra</td>\n",
              "      <td>7120dd21-b8e5-48bf-a8ed-2c9137da3cbc</td>\n",
              "      <td>Champion's Platter</td>\n",
              "      <td>3</td>\n",
              "    </tr>\n",
              "    <tr>\n",
              "      <th>16</th>\n",
              "      <td>Pizza E Birra</td>\n",
              "      <td>ae8c6c9c-c07b-44f4-9ccb-9e5d105f6bd0</td>\n",
              "      <td>Pastrami Classic Pizza</td>\n",
              "      <td>2</td>\n",
              "    </tr>\n",
              "    <tr>\n",
              "      <th>17</th>\n",
              "      <td>Pizza E Birra</td>\n",
              "      <td>34de5485-c5ac-48f5-8b88-08f9be25614a</td>\n",
              "      <td>Iced</td>\n",
              "      <td>1</td>\n",
              "    </tr>\n",
              "    <tr>\n",
              "      <th>18</th>\n",
              "      <td>Pizza E Birra</td>\n",
              "      <td>4ce826fc-dafe-46b0-94ef-ca92706847d6</td>\n",
              "      <td>Lemon Tea</td>\n",
              "      <td>1</td>\n",
              "    </tr>\n",
              "    <tr>\n",
              "      <th>19</th>\n",
              "      <td>Pizza E Birra</td>\n",
              "      <td>8296c7a4-6c49-4593-a955-923738daf8de</td>\n",
              "      <td>Classic NY Cheese Giant Pizza</td>\n",
              "      <td>1</td>\n",
              "    </tr>\n",
              "  </tbody>\n",
              "</table>\n",
              "</div>\n",
              "    <div class=\"colab-df-buttons\">\n",
              "\n",
              "  <div class=\"colab-df-container\">\n",
              "    <button class=\"colab-df-convert\" onclick=\"convertToInteractive('df-386f6564-b12f-466f-af56-18fb1fbb673a')\"\n",
              "            title=\"Convert this dataframe to an interactive table.\"\n",
              "            style=\"display:none;\">\n",
              "\n",
              "  <svg xmlns=\"http://www.w3.org/2000/svg\" height=\"24px\" viewBox=\"0 -960 960 960\">\n",
              "    <path d=\"M120-120v-720h720v720H120Zm60-500h600v-160H180v160Zm220 220h160v-160H400v160Zm0 220h160v-160H400v160ZM180-400h160v-160H180v160Zm440 0h160v-160H620v160ZM180-180h160v-160H180v160Zm440 0h160v-160H620v160Z\"/>\n",
              "  </svg>\n",
              "    </button>\n",
              "\n",
              "  <style>\n",
              "    .colab-df-container {\n",
              "      display:flex;\n",
              "      gap: 12px;\n",
              "    }\n",
              "\n",
              "    .colab-df-convert {\n",
              "      background-color: #E8F0FE;\n",
              "      border: none;\n",
              "      border-radius: 50%;\n",
              "      cursor: pointer;\n",
              "      display: none;\n",
              "      fill: #1967D2;\n",
              "      height: 32px;\n",
              "      padding: 0 0 0 0;\n",
              "      width: 32px;\n",
              "    }\n",
              "\n",
              "    .colab-df-convert:hover {\n",
              "      background-color: #E2EBFA;\n",
              "      box-shadow: 0px 1px 2px rgba(60, 64, 67, 0.3), 0px 1px 3px 1px rgba(60, 64, 67, 0.15);\n",
              "      fill: #174EA6;\n",
              "    }\n",
              "\n",
              "    .colab-df-buttons div {\n",
              "      margin-bottom: 4px;\n",
              "    }\n",
              "\n",
              "    [theme=dark] .colab-df-convert {\n",
              "      background-color: #3B4455;\n",
              "      fill: #D2E3FC;\n",
              "    }\n",
              "\n",
              "    [theme=dark] .colab-df-convert:hover {\n",
              "      background-color: #434B5C;\n",
              "      box-shadow: 0px 1px 3px 1px rgba(0, 0, 0, 0.15);\n",
              "      filter: drop-shadow(0px 1px 2px rgba(0, 0, 0, 0.3));\n",
              "      fill: #FFFFFF;\n",
              "    }\n",
              "  </style>\n",
              "\n",
              "    <script>\n",
              "      const buttonEl =\n",
              "        document.querySelector('#df-386f6564-b12f-466f-af56-18fb1fbb673a button.colab-df-convert');\n",
              "      buttonEl.style.display =\n",
              "        google.colab.kernel.accessAllowed ? 'block' : 'none';\n",
              "\n",
              "      async function convertToInteractive(key) {\n",
              "        const element = document.querySelector('#df-386f6564-b12f-466f-af56-18fb1fbb673a');\n",
              "        const dataTable =\n",
              "          await google.colab.kernel.invokeFunction('convertToInteractive',\n",
              "                                                    [key], {});\n",
              "        if (!dataTable) return;\n",
              "\n",
              "        const docLinkHtml = 'Like what you see? Visit the ' +\n",
              "          '<a target=\"_blank\" href=https://colab.research.google.com/notebooks/data_table.ipynb>data table notebook</a>'\n",
              "          + ' to learn more about interactive tables.';\n",
              "        element.innerHTML = '';\n",
              "        dataTable['output_type'] = 'display_data';\n",
              "        await google.colab.output.renderOutput(dataTable, element);\n",
              "        const docLink = document.createElement('div');\n",
              "        docLink.innerHTML = docLinkHtml;\n",
              "        element.appendChild(docLink);\n",
              "      }\n",
              "    </script>\n",
              "  </div>\n",
              "\n",
              "\n",
              "<div id=\"df-ace220ea-b0aa-428d-93eb-6dd0243f22b8\">\n",
              "  <button class=\"colab-df-quickchart\" onclick=\"quickchart('df-ace220ea-b0aa-428d-93eb-6dd0243f22b8')\"\n",
              "            title=\"Suggest charts.\"\n",
              "            style=\"display:none;\">\n",
              "\n",
              "<svg xmlns=\"http://www.w3.org/2000/svg\" height=\"24px\"viewBox=\"0 0 24 24\"\n",
              "     width=\"24px\">\n",
              "    <g>\n",
              "        <path d=\"M19 3H5c-1.1 0-2 .9-2 2v14c0 1.1.9 2 2 2h14c1.1 0 2-.9 2-2V5c0-1.1-.9-2-2-2zM9 17H7v-7h2v7zm4 0h-2V7h2v10zm4 0h-2v-4h2v4z\"/>\n",
              "    </g>\n",
              "</svg>\n",
              "  </button>\n",
              "\n",
              "<style>\n",
              "  .colab-df-quickchart {\n",
              "    background-color: #E8F0FE;\n",
              "    border: none;\n",
              "    border-radius: 50%;\n",
              "    cursor: pointer;\n",
              "    display: none;\n",
              "    fill: #1967D2;\n",
              "    height: 32px;\n",
              "    padding: 0 0 0 0;\n",
              "    width: 32px;\n",
              "  }\n",
              "\n",
              "  .colab-df-quickchart:hover {\n",
              "    background-color: #E2EBFA;\n",
              "    box-shadow: 0px 1px 2px rgba(60, 64, 67, 0.3), 0px 1px 3px 1px rgba(60, 64, 67, 0.15);\n",
              "    fill: #174EA6;\n",
              "  }\n",
              "\n",
              "  [theme=dark] .colab-df-quickchart {\n",
              "    background-color: #3B4455;\n",
              "    fill: #D2E3FC;\n",
              "  }\n",
              "\n",
              "  [theme=dark] .colab-df-quickchart:hover {\n",
              "    background-color: #434B5C;\n",
              "    box-shadow: 0px 1px 3px 1px rgba(0, 0, 0, 0.15);\n",
              "    filter: drop-shadow(0px 1px 2px rgba(0, 0, 0, 0.3));\n",
              "    fill: #FFFFFF;\n",
              "  }\n",
              "</style>\n",
              "\n",
              "  <script>\n",
              "    async function quickchart(key) {\n",
              "      const charts = await google.colab.kernel.invokeFunction(\n",
              "          'suggestCharts', [key], {});\n",
              "    }\n",
              "    (() => {\n",
              "      let quickchartButtonEl =\n",
              "        document.querySelector('#df-ace220ea-b0aa-428d-93eb-6dd0243f22b8 button');\n",
              "      quickchartButtonEl.style.display =\n",
              "        google.colab.kernel.accessAllowed ? 'block' : 'none';\n",
              "    })();\n",
              "  </script>\n",
              "</div>\n",
              "    </div>\n",
              "  </div>\n"
            ]
          },
          "metadata": {},
          "execution_count": 45
        }
      ]
    },
    {
      "cell_type": "code",
      "source": [
        "def topBrandCity(city, df):\n",
        "    # Group data by city and brand, then count purchases for each brand within each district\n",
        "    grouped_data = df.groupby(['city', 'brand']).size().reset_index(name='purchase_count')\n",
        "\n",
        "    # Sort the data within each city by purchase count in descending order\n",
        "    grouped_data = grouped_data.sort_values(['city', 'purchase_count'], ascending=[True, False])\n",
        "\n",
        "    # Filter the top brands DataFrame to show results for the selected city\n",
        "    top_brands_selected_city = grouped_data[grouped_data['city'] == city]\n",
        "\n",
        "    return top_brands_selected_city['brand']"
      ],
      "metadata": {
        "id": "AJcnrMJmmfsB"
      },
      "execution_count": null,
      "outputs": []
    },
    {
      "cell_type": "markdown",
      "source": [
        "I plan to use city as our segmentation knowledge to build a better recommendation model"
      ],
      "metadata": {
        "id": "sQxFsRtYg3zu"
      }
    },
    {
      "cell_type": "markdown",
      "source": [
        "# Refined Recommendation Model using Segmentation Knowledge"
      ],
      "metadata": {
        "id": "6etyjFxZ5vPf"
      }
    },
    {
      "cell_type": "markdown",
      "source": [
        "This Model will now include more features for both user related features and menu related features. After that we will utilize our Item-Place Segmentation for the last recommendation"
      ],
      "metadata": {
        "id": "zC0dANHUvt4M"
      }
    },
    {
      "cell_type": "markdown",
      "source": [
        "Supposedly we must have an exclusive model (read: weights and data) for every district or city and then for every users inside the city based on their previous transaction then make it as an API for our model. However as of now, I will demonstrate the model generally which later can be used to be fine tuned by user own datas."
      ],
      "metadata": {
        "id": "U-lnF9EOwb8r"
      }
    },
    {
      "cell_type": "markdown",
      "source": [
        "Also, I am changing the menu_id into menu_name because it is more readable"
      ],
      "metadata": {
        "id": "X0k7hESByIVT"
      }
    },
    {
      "cell_type": "markdown",
      "source": [
        "Note that year is not a relevant feature here because there is only 2023 here with 3 months worth of data, and possibly there are not much season difference between january to march (both are rain season). So for now I will not include the month feature"
      ],
      "metadata": {
        "id": "di93Su7jzPfA"
      }
    },
    {
      "cell_type": "markdown",
      "source": [
        "Note that it is also possible to add user purchase behaviour as another feature to our user dataset."
      ],
      "metadata": {
        "id": "W_sq5kjL0Vua"
      }
    },
    {
      "cell_type": "markdown",
      "source": [
        "I'll be honest, I am still learning recommendation as of now, so there might be some wrong practices here. But I understand the basic and the logic of some recommendation models well, but I am not yet accustomed with the coding. So please mercy me, I believe I could learn much more such as combining BERT4Rec :)"
      ],
      "metadata": {
        "id": "KUDhvVqsd4k3"
      }
    },
    {
      "cell_type": "markdown",
      "source": [
        "## Previous Recommendation Model with Segmentation Knowledge"
      ],
      "metadata": {
        "id": "MbZyrdc-XOKs"
      }
    },
    {
      "cell_type": "markdown",
      "source": [
        "Most explanation has already been explained in the previous recommendation model section"
      ],
      "metadata": {
        "id": "A2f5MC5bXu00"
      }
    },
    {
      "cell_type": "code",
      "source": [
        "user_menu_quantities = df.groupby([\"user_id\", \"menu_name\"])[\"quantity\"].sum().reset_index()"
      ],
      "metadata": {
        "id": "JBfnN5YgI0wo"
      },
      "execution_count": 76,
      "outputs": []
    },
    {
      "cell_type": "code",
      "source": [
        "users = tf.data.Dataset.from_tensor_slices(dict(user_menu_quantities[[\"user_id\", \"menu_name\", \"quantity\"]]))\n",
        "menus = tf.data.Dataset.from_tensor_slices(dict(df[['menu_name']]))"
      ],
      "metadata": {
        "id": "PddJKx3rXVGZ"
      },
      "execution_count": 77,
      "outputs": []
    },
    {
      "cell_type": "code",
      "source": [
        "users = users.map(lambda x: {\n",
        "    \"user_id\": x[\"user_id\"],\n",
        "    \"menu_name\": x[\"menu_name\"],\n",
        "    \"quantity\": float(x[\"quantity\"])\n",
        "})\n",
        "menus = menus.map(lambda x: x[\"menu_name\"])"
      ],
      "metadata": {
        "id": "yF2JN-lvXe3R"
      },
      "execution_count": 78,
      "outputs": []
    },
    {
      "cell_type": "code",
      "source": [
        "shuffled = users.shuffle(100_000, seed=42, reshuffle_each_iteration=False)"
      ],
      "metadata": {
        "id": "GrzR1EZbXhRL"
      },
      "execution_count": 79,
      "outputs": []
    },
    {
      "cell_type": "code",
      "source": [
        "train = users.take(14_000) #train data used to train model\n",
        "test = users.skip(14_000).take(3_937) #test data used to evaluate model"
      ],
      "metadata": {
        "id": "GOoq6cfoXk4a"
      },
      "execution_count": 80,
      "outputs": []
    },
    {
      "cell_type": "code",
      "source": [
        "#batching\n",
        "menu_names = menus.batch(1_000)\n",
        "user_ids = users.batch(1_000).map(lambda x: x[\"user_id\"])\n",
        "\n",
        "#unique values\n",
        "unique_menu_names = np.unique(np.concatenate(list(menu_names)))\n",
        "unique_user_ids = np.unique(np.concatenate(list(user_ids)))"
      ],
      "metadata": {
        "id": "g2K3KQB5Xn8J"
      },
      "execution_count": 81,
      "outputs": []
    },
    {
      "cell_type": "code",
      "source": [
        "class MenuModel(tfrs.models.Model):\n",
        "\n",
        "  def __init__(self, rating_weight: float, retrieval_weight: float) -> None:\n",
        "    # We take the loss weights in the constructor: this allows us to instantiate\n",
        "    # several model objects with different loss weights. This weight tuning could be\n",
        "    # utilized after doing the customer segmentation by adding more models and embeddings\n",
        "\n",
        "    super().__init__()\n",
        "\n",
        "    embedding_dimension = 64\n",
        "\n",
        "    # User and movie models.\n",
        "    self.menu_model: tf.keras.layers.Layer = tf.keras.Sequential([\n",
        "      tf.keras.layers.StringLookup(\n",
        "        vocabulary=unique_menu_names, mask_token=None),\n",
        "      tf.keras.layers.Embedding(len(unique_menu_names) + 1, embedding_dimension)\n",
        "    ]) #used as an encoding method for each menu_ids\n",
        "    self.user_model: tf.keras.layers.Layer = tf.keras.Sequential([\n",
        "      tf.keras.layers.StringLookup(\n",
        "        vocabulary=unique_user_ids, mask_token=None),\n",
        "      tf.keras.layers.Embedding(len(unique_user_ids) + 1, embedding_dimension)\n",
        "    ]) #used as an encoding method for each user_ids\n",
        "\n",
        "    # A small model to take in user and menu embeddings and predict quantities-rankings.\n",
        "    # We can make this as complicated as we want as long as we output a scalar\n",
        "    # as our prediction.\n",
        "    self.rating_model = tf.keras.Sequential([\n",
        "        tf.keras.layers.Dense(256, activation=\"relu\"),\n",
        "        tf.keras.layers.Dense(128, activation=\"relu\"),\n",
        "        tf.keras.layers.Dense(1),\n",
        "    ])\n",
        "\n",
        "    # The tasks.\n",
        "    self.rating_task: tf.keras.layers.Layer = tfrs.tasks.Ranking(\n",
        "        loss=tf.keras.losses.MeanSquaredError(),\n",
        "        metrics=[tf.keras.metrics.RootMeanSquaredError()],\n",
        "    )\n",
        "    self.retrieval_task: tf.keras.layers.Layer = tfrs.tasks.Retrieval(\n",
        "        metrics=tfrs.metrics.FactorizedTopK(\n",
        "            candidates=menus.batch(128).map(self.menu_model)\n",
        "        )\n",
        "    )\n",
        "\n",
        "    # The loss weights.\n",
        "    self.rating_weight = rating_weight\n",
        "    self.retrieval_weight = retrieval_weight\n",
        "\n",
        "  def call(self, features: Dict[Text, tf.Tensor]) -> tf.Tensor:\n",
        "    # We pick out the user features and pass them into the user model.\n",
        "    user_embeddings = self.user_model(features[\"user_id\"])\n",
        "    # And pick out the menu features and pass them into the menu model.\n",
        "    menu_embeddings = self.menu_model(features[\"menu_name\"])\n",
        "\n",
        "    return (\n",
        "        user_embeddings,\n",
        "        menu_embeddings,\n",
        "        # We apply the multi-layered rating model to a concatentation of\n",
        "        # user and menu embeddings.\n",
        "        self.rating_model(\n",
        "            tf.concat([user_embeddings, menu_embeddings], axis=1)\n",
        "        ),\n",
        "    )\n",
        "\n",
        "  def compute_loss(self, features: Dict[Text, tf.Tensor], training=False) -> tf.Tensor:\n",
        "\n",
        "    ratings = features.pop(\"quantity\")\n",
        "\n",
        "    user_embeddings, menu_embeddings, rating_predictions = self(features)\n",
        "\n",
        "    # We compute the loss for each task.\n",
        "    rating_loss = self.rating_task(\n",
        "        labels=ratings,\n",
        "        predictions=rating_predictions,\n",
        "    )\n",
        "    retrieval_loss = self.retrieval_task(user_embeddings, menu_embeddings)\n",
        "\n",
        "    # And combine them using the loss weights.\n",
        "    return (self.rating_weight * rating_loss\n",
        "            + self.retrieval_weight * retrieval_loss)"
      ],
      "metadata": {
        "id": "u3KEhtGNXt2L"
      },
      "execution_count": 82,
      "outputs": []
    },
    {
      "cell_type": "code",
      "source": [
        "model = MenuModel(rating_weight=1.0, retrieval_weight=1.0)\n",
        "model.compile(optimizer=tf.keras.optimizers.Adagrad(0.1))\n",
        "\n",
        "cached_train = train.shuffle(100_000).batch(1_000).cache()\n",
        "cached_test = test.batch(1_000).cache()\n",
        "\n",
        "model.fit(cached_train, epochs=20)"
      ],
      "metadata": {
        "colab": {
          "base_uri": "https://localhost:8080/"
        },
        "id": "A-EzggiEYDza",
        "outputId": "a16dcb23-09f2-486f-f04d-6d3c0f7633a2"
      },
      "execution_count": 83,
      "outputs": [
        {
          "output_type": "stream",
          "name": "stdout",
          "text": [
            "Epoch 1/20\n",
            "14/14 [==============================] - 88s 6s/step - root_mean_squared_error: 2.6659 - factorized_top_k/top_1_categorical_accuracy: 5.0000e-04 - factorized_top_k/top_5_categorical_accuracy: 5.0000e-04 - factorized_top_k/top_10_categorical_accuracy: 5.0000e-04 - factorized_top_k/top_50_categorical_accuracy: 7.1429e-04 - factorized_top_k/top_100_categorical_accuracy: 0.0013 - loss: 6860.2235 - regularization_loss: 0.0000e+00 - total_loss: 6860.2235\n",
            "Epoch 2/20\n",
            "14/14 [==============================] - 67s 5s/step - root_mean_squared_error: 2.5970 - factorized_top_k/top_1_categorical_accuracy: 0.0049 - factorized_top_k/top_5_categorical_accuracy: 0.0049 - factorized_top_k/top_10_categorical_accuracy: 0.0049 - factorized_top_k/top_50_categorical_accuracy: 0.0094 - factorized_top_k/top_100_categorical_accuracy: 0.0184 - loss: 6270.7747 - regularization_loss: 0.0000e+00 - total_loss: 6270.7747\n",
            "Epoch 3/20\n",
            "14/14 [==============================] - 65s 5s/step - root_mean_squared_error: 2.5192 - factorized_top_k/top_1_categorical_accuracy: 0.0054 - factorized_top_k/top_5_categorical_accuracy: 0.0054 - factorized_top_k/top_10_categorical_accuracy: 0.0058 - factorized_top_k/top_50_categorical_accuracy: 0.0246 - factorized_top_k/top_100_categorical_accuracy: 0.0530 - loss: 5626.6692 - regularization_loss: 0.0000e+00 - total_loss: 5626.6692\n",
            "Epoch 4/20\n",
            "14/14 [==============================] - 61s 4s/step - root_mean_squared_error: 2.5305 - factorized_top_k/top_1_categorical_accuracy: 0.0041 - factorized_top_k/top_5_categorical_accuracy: 0.0045 - factorized_top_k/top_10_categorical_accuracy: 0.0072 - factorized_top_k/top_50_categorical_accuracy: 0.0474 - factorized_top_k/top_100_categorical_accuracy: 0.0989 - loss: 5135.7742 - regularization_loss: 0.0000e+00 - total_loss: 5135.7742\n",
            "Epoch 5/20\n",
            "14/14 [==============================] - 63s 4s/step - root_mean_squared_error: 2.4938 - factorized_top_k/top_1_categorical_accuracy: 0.0036 - factorized_top_k/top_5_categorical_accuracy: 0.0056 - factorized_top_k/top_10_categorical_accuracy: 0.0122 - factorized_top_k/top_50_categorical_accuracy: 0.0761 - factorized_top_k/top_100_categorical_accuracy: 0.1554 - loss: 4761.2008 - regularization_loss: 0.0000e+00 - total_loss: 4761.2008\n",
            "Epoch 6/20\n",
            "14/14 [==============================] - 63s 4s/step - root_mean_squared_error: 2.4618 - factorized_top_k/top_1_categorical_accuracy: 0.0037 - factorized_top_k/top_5_categorical_accuracy: 0.0084 - factorized_top_k/top_10_categorical_accuracy: 0.0208 - factorized_top_k/top_50_categorical_accuracy: 0.1183 - factorized_top_k/top_100_categorical_accuracy: 0.2160 - loss: 4484.6842 - regularization_loss: 0.0000e+00 - total_loss: 4484.6842\n",
            "Epoch 7/20\n",
            "14/14 [==============================] - 60s 4s/step - root_mean_squared_error: 2.4049 - factorized_top_k/top_1_categorical_accuracy: 0.0028 - factorized_top_k/top_5_categorical_accuracy: 0.0129 - factorized_top_k/top_10_categorical_accuracy: 0.0349 - factorized_top_k/top_50_categorical_accuracy: 0.1570 - factorized_top_k/top_100_categorical_accuracy: 0.2520 - loss: 4286.2154 - regularization_loss: 0.0000e+00 - total_loss: 4286.2154\n",
            "Epoch 8/20\n",
            "14/14 [==============================] - 62s 4s/step - root_mean_squared_error: 2.3368 - factorized_top_k/top_1_categorical_accuracy: 0.0024 - factorized_top_k/top_5_categorical_accuracy: 0.0241 - factorized_top_k/top_10_categorical_accuracy: 0.0539 - factorized_top_k/top_50_categorical_accuracy: 0.1756 - factorized_top_k/top_100_categorical_accuracy: 0.2711 - loss: 4145.9717 - regularization_loss: 0.0000e+00 - total_loss: 4145.9717\n",
            "Epoch 9/20\n",
            "14/14 [==============================] - 62s 5s/step - root_mean_squared_error: 2.3306 - factorized_top_k/top_1_categorical_accuracy: 0.0032 - factorized_top_k/top_5_categorical_accuracy: 0.0331 - factorized_top_k/top_10_categorical_accuracy: 0.0625 - factorized_top_k/top_50_categorical_accuracy: 0.1863 - factorized_top_k/top_100_categorical_accuracy: 0.2824 - loss: 4046.2627 - regularization_loss: 0.0000e+00 - total_loss: 4046.2627\n",
            "Epoch 10/20\n",
            "14/14 [==============================] - 60s 4s/step - root_mean_squared_error: 2.2601 - factorized_top_k/top_1_categorical_accuracy: 0.0033 - factorized_top_k/top_5_categorical_accuracy: 0.0359 - factorized_top_k/top_10_categorical_accuracy: 0.0664 - factorized_top_k/top_50_categorical_accuracy: 0.1951 - factorized_top_k/top_100_categorical_accuracy: 0.2919 - loss: 3972.0476 - regularization_loss: 0.0000e+00 - total_loss: 3972.0476\n",
            "Epoch 11/20\n",
            "14/14 [==============================] - 63s 5s/step - root_mean_squared_error: 2.2401 - factorized_top_k/top_1_categorical_accuracy: 0.0041 - factorized_top_k/top_5_categorical_accuracy: 0.0368 - factorized_top_k/top_10_categorical_accuracy: 0.0684 - factorized_top_k/top_50_categorical_accuracy: 0.1989 - factorized_top_k/top_100_categorical_accuracy: 0.2979 - loss: 3915.4749 - regularization_loss: 0.0000e+00 - total_loss: 3915.4749\n",
            "Epoch 12/20\n",
            "14/14 [==============================] - 63s 4s/step - root_mean_squared_error: 2.1787 - factorized_top_k/top_1_categorical_accuracy: 0.0050 - factorized_top_k/top_5_categorical_accuracy: 0.0379 - factorized_top_k/top_10_categorical_accuracy: 0.0704 - factorized_top_k/top_50_categorical_accuracy: 0.2028 - factorized_top_k/top_100_categorical_accuracy: 0.3034 - loss: 3870.6672 - regularization_loss: 0.0000e+00 - total_loss: 3870.6672\n",
            "Epoch 13/20\n",
            "14/14 [==============================] - 60s 4s/step - root_mean_squared_error: 2.0199 - factorized_top_k/top_1_categorical_accuracy: 0.0063 - factorized_top_k/top_5_categorical_accuracy: 0.0394 - factorized_top_k/top_10_categorical_accuracy: 0.0714 - factorized_top_k/top_50_categorical_accuracy: 0.2052 - factorized_top_k/top_100_categorical_accuracy: 0.3076 - loss: 3833.9819 - regularization_loss: 0.0000e+00 - total_loss: 3833.9819\n",
            "Epoch 14/20\n",
            "14/14 [==============================] - 62s 5s/step - root_mean_squared_error: 2.0142 - factorized_top_k/top_1_categorical_accuracy: 0.0071 - factorized_top_k/top_5_categorical_accuracy: 0.0402 - factorized_top_k/top_10_categorical_accuracy: 0.0719 - factorized_top_k/top_50_categorical_accuracy: 0.2071 - factorized_top_k/top_100_categorical_accuracy: 0.3109 - loss: 3804.3276 - regularization_loss: 0.0000e+00 - total_loss: 3804.3276\n",
            "Epoch 15/20\n",
            "14/14 [==============================] - 61s 4s/step - root_mean_squared_error: 1.8381 - factorized_top_k/top_1_categorical_accuracy: 0.0076 - factorized_top_k/top_5_categorical_accuracy: 0.0409 - factorized_top_k/top_10_categorical_accuracy: 0.0739 - factorized_top_k/top_50_categorical_accuracy: 0.2091 - factorized_top_k/top_100_categorical_accuracy: 0.3144 - loss: 3778.5697 - regularization_loss: 0.0000e+00 - total_loss: 3778.5697\n",
            "Epoch 16/20\n",
            "14/14 [==============================] - 60s 4s/step - root_mean_squared_error: 2.3417 - factorized_top_k/top_1_categorical_accuracy: 0.0079 - factorized_top_k/top_5_categorical_accuracy: 0.0413 - factorized_top_k/top_10_categorical_accuracy: 0.0736 - factorized_top_k/top_50_categorical_accuracy: 0.2111 - factorized_top_k/top_100_categorical_accuracy: 0.3165 - loss: 3759.5362 - regularization_loss: 0.0000e+00 - total_loss: 3759.5362\n",
            "Epoch 17/20\n",
            "14/14 [==============================] - 62s 4s/step - root_mean_squared_error: 2.1313 - factorized_top_k/top_1_categorical_accuracy: 0.0082 - factorized_top_k/top_5_categorical_accuracy: 0.0419 - factorized_top_k/top_10_categorical_accuracy: 0.0749 - factorized_top_k/top_50_categorical_accuracy: 0.2121 - factorized_top_k/top_100_categorical_accuracy: 0.3189 - loss: 3740.2785 - regularization_loss: 0.0000e+00 - total_loss: 3740.2785\n",
            "Epoch 18/20\n",
            "14/14 [==============================] - 62s 5s/step - root_mean_squared_error: 2.0219 - factorized_top_k/top_1_categorical_accuracy: 0.0087 - factorized_top_k/top_5_categorical_accuracy: 0.0416 - factorized_top_k/top_10_categorical_accuracy: 0.0750 - factorized_top_k/top_50_categorical_accuracy: 0.2137 - factorized_top_k/top_100_categorical_accuracy: 0.3202 - loss: 3723.8487 - regularization_loss: 0.0000e+00 - total_loss: 3723.8487\n",
            "Epoch 19/20\n",
            "14/14 [==============================] - 62s 5s/step - root_mean_squared_error: 1.7596 - factorized_top_k/top_1_categorical_accuracy: 0.0085 - factorized_top_k/top_5_categorical_accuracy: 0.0420 - factorized_top_k/top_10_categorical_accuracy: 0.0756 - factorized_top_k/top_50_categorical_accuracy: 0.2151 - factorized_top_k/top_100_categorical_accuracy: 0.3218 - loss: 3708.7406 - regularization_loss: 0.0000e+00 - total_loss: 3708.7406\n",
            "Epoch 20/20\n",
            "14/14 [==============================] - 63s 5s/step - root_mean_squared_error: 1.6541 - factorized_top_k/top_1_categorical_accuracy: 0.0089 - factorized_top_k/top_5_categorical_accuracy: 0.0422 - factorized_top_k/top_10_categorical_accuracy: 0.0752 - factorized_top_k/top_50_categorical_accuracy: 0.2150 - factorized_top_k/top_100_categorical_accuracy: 0.3222 - loss: 3695.8991 - regularization_loss: 0.0000e+00 - total_loss: 3695.8991\n"
          ]
        },
        {
          "output_type": "execute_result",
          "data": {
            "text/plain": [
              "<keras.callbacks.History at 0x795e3769fb20>"
            ]
          },
          "metadata": {},
          "execution_count": 83
        }
      ]
    },
    {
      "cell_type": "code",
      "source": [
        "# Save model weights\n",
        "model.save_weights(\"model_weights.h5\")"
      ],
      "metadata": {
        "id": "SO4N6fiAipEp"
      },
      "execution_count": 96,
      "outputs": []
    },
    {
      "cell_type": "markdown",
      "source": [
        "The Model apperently could not be saved as a model instead only as weights for now, there are some possible ways to debug it, however I will go with this for now although it is not the best practice"
      ],
      "metadata": {
        "id": "Le3O1nj8jaPr"
      }
    },
    {
      "cell_type": "code",
      "source": [
        "model.load_weights(\"model_weights.h5\")"
      ],
      "metadata": {
        "id": "Qt7Q0aQYjNzR"
      },
      "execution_count": 85,
      "outputs": []
    },
    {
      "cell_type": "code",
      "source": [
        "metrics = model.evaluate(cached_test, return_dict=True)\n",
        "\n",
        "print(f\"\\nRetrieval top-100 accuracy: {metrics['factorized_top_k/top_100_categorical_accuracy']:.3f}\")\n",
        "print(f\"Ranking RMSE: {metrics['root_mean_squared_error']:.3f}\")"
      ],
      "metadata": {
        "colab": {
          "base_uri": "https://localhost:8080/"
        },
        "id": "0P7qdaT_YJWZ",
        "outputId": "0a152622-e225-41f8-9cf1-12d392ca89aa"
      },
      "execution_count": 86,
      "outputs": [
        {
          "output_type": "stream",
          "name": "stdout",
          "text": [
            "4/4 [==============================] - 15s 4s/step - root_mean_squared_error: 3.0195 - factorized_top_k/top_1_categorical_accuracy: 0.0016 - factorized_top_k/top_5_categorical_accuracy: 0.0016 - factorized_top_k/top_10_categorical_accuracy: 0.0022 - factorized_top_k/top_50_categorical_accuracy: 0.0033 - factorized_top_k/top_100_categorical_accuracy: 0.0041 - loss: 5931.1938 - regularization_loss: 0.0000e+00 - total_loss: 5931.1938\n",
            "\n",
            "Retrieval top-100 accuracy: 0.004\n",
            "Ranking RMSE: 3.020\n"
          ]
        }
      ]
    },
    {
      "cell_type": "code",
      "source": [
        "def topBrandCity(city, df): #most popular brand around their city\n",
        "    # Group data by city and brand, then count purchases for each brand within each district\n",
        "    grouped_data = df.groupby(['city', 'brand']).size().reset_index(name='purchase_count')\n",
        "\n",
        "    # Sort the data within each city by purchase count in descending order\n",
        "    grouped_data = grouped_data.sort_values(['city', 'purchase_count'], ascending=[True, False])\n",
        "\n",
        "    # Filter the top brands DataFrame to show results for the selected city\n",
        "    top_brands_selected_city = grouped_data[grouped_data['city'] == city]\n",
        "\n",
        "    return top_brands_selected_city['brand']\n",
        "\n",
        "# Usage\n",
        "top_brands = topBrandCity('Bandung, Kota', df)\n",
        "print(top_brands)"
      ],
      "metadata": {
        "id": "dz2VOi7anTQR",
        "colab": {
          "base_uri": "https://localhost:8080/"
        },
        "outputId": "89943b0b-b8bf-4183-998a-3f1539d67a07"
      },
      "execution_count": 55,
      "outputs": [
        {
          "output_type": "stream",
          "name": "stdout",
          "text": [
            "4         Djournal\n",
            "7              TPC\n",
            "6     Sushi Groove\n",
            "5    Pizza E Birra\n",
            "Name: brand, dtype: object\n"
          ]
        }
      ]
    },
    {
      "cell_type": "code",
      "source": [
        "def get_top_cities(user_id, df, top_n=3): #city where user mostly buy things from\n",
        "    # Filter the data for the specified user\n",
        "    user_data = df[df['user_id'] == user_id]\n",
        "\n",
        "    # Group data by city and count purchases\n",
        "    city_purchase_counts = user_data['city'].value_counts()\n",
        "\n",
        "    # Get the top N cities with the most purchases\n",
        "    top_cities = city_purchase_counts.head(top_n).index.tolist()\n",
        "\n",
        "    return top_cities"
      ],
      "metadata": {
        "id": "1NJoIikuODvg"
      },
      "execution_count": 58,
      "outputs": []
    },
    {
      "cell_type": "code",
      "source": [
        "def predict_menu(user, top_n=3):\n",
        "    # Create a model that takes in raw query features, and\n",
        "    index = tfrs.layers.factorized_top_k.BruteForce(model.user_model)\n",
        "    # Recommends menus out of the entire menus dataset.\n",
        "    index.index_from_dataset(\n",
        "        tf.data.Dataset.zip((menus.batch(100), menus.batch(100).map(model.menu_model)))\n",
        "    )\n",
        "\n",
        "    # Get recommendations.\n",
        "    _, titles = index(tf.constant([str(user)]))\n",
        "    recommended_menu_ids = titles[0, :top_n * 100].numpy()  # Fetch more than top_n\n",
        "\n",
        "    unique_menu_ids = set()  # To track unique menu recommendations\n",
        "    unique_recommended_menu_ids = []\n",
        "\n",
        "    print('Top {} unique menu recommendations for user {}:\\n'.format(top_n, user))\n",
        "    for menuid in recommended_menu_ids:\n",
        "        menuid_str = menuid.decode(\"utf-8\")\n",
        "        if menuid_str not in unique_menu_ids:\n",
        "            unique_menu_ids.add(menuid_str)\n",
        "            unique_recommended_menu_ids.append(menuid_str)\n",
        "\n",
        "            if len(unique_recommended_menu_ids) >= top_n:\n",
        "                break\n",
        "\n",
        "    for i, menuid_str in enumerate(unique_recommended_menu_ids):\n",
        "        print('{}. {}'.format(i + 1, menuid_str))\n",
        "\n",
        "# Usage:\n",
        "predict_menu(user=\"00b158ed-0fcb-48e1-b627-2bb572a344cf\", top_n=3)"
      ],
      "metadata": {
        "colab": {
          "base_uri": "https://localhost:8080/"
        },
        "id": "F0n2OX9YctuC",
        "outputId": "b8cd2471-3659-4275-8db8-ca5375525f17"
      },
      "execution_count": 95,
      "outputs": [
        {
          "output_type": "stream",
          "name": "stdout",
          "text": [
            "Top 3 unique menu recommendations for user 00b158ed-0fcb-48e1-b627-2bb572a344cf:\n",
            "\n",
            "1. Tahu goreng\n",
            "2. Special Bundle Aqua 3\n",
            "3. Special Bundle Aqua 1\n"
          ]
        }
      ]
    },
    {
      "cell_type": "markdown",
      "source": [
        "It seems like the user data must be trained by a specific city they are in. From the previous segmentation I am only using it to filter the end-result, however I guess it is not having that good of a result. However this is a way of utilizing the segmentation, however in the end It is better to retrain the model based on the user's city with better weights so that the model will lean towards the user's city"
      ],
      "metadata": {
        "id": "I-iu6AUwfRfD"
      }
    },
    {
      "cell_type": "code",
      "source": [
        "'''def predict_menu(user, df, top_n=3): #predicting menu based on user's most transaction city, most popular brands around that city\n",
        "    # Get the top cities where the user has made the most purchases\n",
        "    top_cities = get_top_cities(user, df)\n",
        "\n",
        "    # Get the top brand in the user's top city\n",
        "    top_city = top_cities[0]  # Assuming you want the top city\n",
        "    top_brand = topBrandCity(top_city, df).iloc[0]  # Assuming you want the top brand\n",
        "\n",
        "    # Create a model that takes in raw query features, and\n",
        "    index = tfrs.layers.factorized_top_k.BruteForce(model.user_model)\n",
        "    # Recommends menus out of the entire menus dataset.\n",
        "    index.index_from_dataset(\n",
        "        tf.data.Dataset.zip((menus.batch(100), menus.batch(100).map(model.menu_model)))\n",
        "    )\n",
        "\n",
        "    # Get recommendations.\n",
        "    _, titles = index(tf.constant([str(user)]))\n",
        "    titles_numpy = titles[0].numpy()  # Convert to NumPy array\n",
        "\n",
        "    # Filter menu recommendations by the top brand in the top city\n",
        "    filtered_titles = [\n",
        "        title for title in titles_numpy if top_brand in title.decode(\"utf-8\")\n",
        "    ]\n",
        "\n",
        "    print('Top {} menu recommendations for user {}:\\n'.format(top_n, user))\n",
        "    for i, menunames in enumerate(filtered_titles[:top_n]):\n",
        "        print('{}. {}'.format(i+1, menunames.decode(\"utf-8\")))"
      ],
      "metadata": {
        "id": "FOIuWrMxfFyD"
      },
      "execution_count": null,
      "outputs": []
    },
    {
      "cell_type": "code",
      "source": [
        "'''predict_menu(user=\"ffde4412-810f-4800-a40b-27ad2a614a9e\", df=df, top_n=5)"
      ],
      "metadata": {
        "id": "MJqgngzqfKYv"
      },
      "execution_count": null,
      "outputs": []
    },
    {
      "cell_type": "markdown",
      "source": [
        "## Multiple-Embeddings Multi-Task Recommendation Model (experimental)"
      ],
      "metadata": {
        "id": "5pIIu-9cWU6q"
      }
    },
    {
      "cell_type": "markdown",
      "source": [
        "Through this we could see the model I plan to make however I still encounter some problems utilizing the model"
      ],
      "metadata": {
        "id": "NFfjUKM4Wnux"
      }
    },
    {
      "cell_type": "code",
      "source": [
        "user_menu_quantities = df.groupby([\"user_id\", \"menu_name\"])[\"quantity\"].sum().reset_index() #user total purchase per item\n",
        "\n",
        "# Display the result\n",
        "print(user_menu_quantities)"
      ],
      "metadata": {
        "colab": {
          "base_uri": "https://localhost:8080/"
        },
        "id": "czbVC3cMDBhN",
        "outputId": "d2b9f48e-97e1-4f81-ef1b-b3d9c8b543b1"
      },
      "execution_count": null,
      "outputs": [
        {
          "output_type": "stream",
          "name": "stdout",
          "text": [
            "                                    user_id                       menu_name  \\\n",
            "0      00b158ed-0fcb-48e1-b627-2bb572a344cf                            12oz   \n",
            "1      00b158ed-0fcb-48e1-b627-2bb572a344cf                      Aqua 330ml   \n",
            "2      00b158ed-0fcb-48e1-b627-2bb572a344cf                 Ayam Bejo Julid   \n",
            "3      00b158ed-0fcb-48e1-b627-2bb572a344cf         Ayam Geprek Sambal Limo   \n",
            "4      00b158ed-0fcb-48e1-b627-2bb572a344cf     Baso Goreng Dadakan 12K/Pcs   \n",
            "...                                     ...                             ...   \n",
            "17673  ffde4412-810f-4800-a40b-27ad2a614a9e      Spiced GarlicBucket, Spicy   \n",
            "17674  ffde4412-810f-4800-a40b-27ad2a614a9e              Thai Chicken Wings   \n",
            "17675  ffde4412-810f-4800-a40b-27ad2a614a9e         Truffle Bikini Sandwich   \n",
            "17676  ffde4412-810f-4800-a40b-27ad2a614a9e  Truffle Mushroom Classic Pizza   \n",
            "17677  ffde4412-810f-4800-a40b-27ad2a614a9e                    Whiskey Sour   \n",
            "\n",
            "       quantity  \n",
            "0           1.0  \n",
            "1           3.0  \n",
            "2           2.0  \n",
            "3           1.0  \n",
            "4           1.0  \n",
            "...         ...  \n",
            "17673       2.0  \n",
            "17674       1.0  \n",
            "17675       1.0  \n",
            "17676       1.0  \n",
            "17677       1.0  \n",
            "\n",
            "[17678 rows x 3 columns]\n"
          ]
        }
      ]
    },
    {
      "cell_type": "code",
      "source": [
        "gender_df = df[[\"user_id\", \"user_gender\", \"user_tier_level\", 'menu_type', 'menu_category', 'menu_category_detail','concept', 'brand', 'outlet', 'district', 'city']]\n",
        "\n",
        "# Merge gender information\n",
        "user_menu_quantities = user_menu_quantities.merge(gender_df, on=\"user_id\", how=\"left\")"
      ],
      "metadata": {
        "id": "3Xne6ch62hr3"
      },
      "execution_count": null,
      "outputs": []
    },
    {
      "cell_type": "code",
      "source": [
        "users = tf.data.Dataset.from_tensor_slices(dict(user_menu_quantities[[\"user_id\", \"menu_name\", \"quantity\", \"user_gender\", \"user_tier_level\", 'menu_type', 'menu_category', 'menu_category_detail','concept', 'brand', 'outlet', 'district', 'city']]))\n",
        "menus = tf.data.Dataset.from_tensor_slices(dict(df[['menu_name', 'menu_type', 'menu_category', 'menu_category_detail','concept', 'brand', 'outlet', 'district', 'city']]))\n"
      ],
      "metadata": {
        "id": "_ANI3hcN52I2"
      },
      "execution_count": null,
      "outputs": []
    },
    {
      "cell_type": "code",
      "source": [
        "users = users.map(lambda x: {\n",
        "    \"user_id\": x[\"user_id\"],\n",
        "    \"menu_name\": x[\"menu_name\"],\n",
        "    \"quantity\": float(x[\"quantity\"]),\n",
        "    \"user_gender\": x[\"user_gender\"],\n",
        "    \"user_tier_level\": x[\"user_tier_level\"],\n",
        "    \"menu_type\": x[\"menu_type\"],\n",
        "    \"menu_category\": x[\"menu_category\"],\n",
        "    \"menu_category_detail\": x[\"menu_category_detail\"],\n",
        "    \"concept\": x[\"concept\"],\n",
        "    \"brand\": x[\"brand\"],\n",
        "    \"outlet\": x[\"outlet\"],\n",
        "    \"district\": x[\"district\"],\n",
        "    \"city\": x[\"city\"]\n",
        "})\n",
        "\n",
        "menus = menus.map(lambda x: {\n",
        "    \"menu_name\": x[\"menu_name\"],\n",
        "    \"menu_type\": x[\"menu_type\"],\n",
        "    \"menu_category\": x[\"menu_category\"],\n",
        "    \"menu_category_detail\": x[\"menu_category_detail\"],\n",
        "    \"concept\": x[\"concept\"],\n",
        "    \"brand\": x[\"brand\"],\n",
        "    \"outlet\": x[\"outlet\"],\n",
        "    \"district\": x[\"district\"],\n",
        "    \"city\": x[\"city\"]\n",
        "})"
      ],
      "metadata": {
        "id": "lFny7WaaqZL_"
      },
      "execution_count": null,
      "outputs": []
    },
    {
      "cell_type": "markdown",
      "source": [
        "I am not sure the best way to split the data, this could however be done by first splitting the unique user_ids first into train and test then use all the df with train user_id and the rest for test. But for now I just take the 14_000 randomly"
      ],
      "metadata": {
        "id": "7-dBMK817q-9"
      }
    },
    {
      "cell_type": "code",
      "source": [
        "shuffled = users.shuffle(100_000, seed=42, reshuffle_each_iteration=False)"
      ],
      "metadata": {
        "id": "7-2HDx2Eqa3u"
      },
      "execution_count": null,
      "outputs": []
    },
    {
      "cell_type": "code",
      "source": [
        "train = users.take(14_000) #train data used to train model\n",
        "test = users.skip(14_000).take(3_937) #test data used to evaluate model"
      ],
      "metadata": {
        "id": "oXQQcIqPqcs9"
      },
      "execution_count": null,
      "outputs": []
    },
    {
      "cell_type": "code",
      "source": [
        "# Batching\n",
        "menu_names = menus.batch(1_000).map(lambda x: x[\"menu_name\"])\n",
        "menu_types = menus.batch(1_000).map(lambda x: x[\"menu_type\"])\n",
        "menu_categories = menus.batch(1_000).map(lambda x: x[\"menu_category\"])\n",
        "menu_category_details = menus.batch(1_000).map(lambda x: x[\"menu_category_detail\"])\n",
        "concepts = menus.batch(1_000).map(lambda x: x[\"concept\"])\n",
        "brands = menus.batch(1_000).map(lambda x: x[\"brand\"])\n",
        "outlet = menus.batch(1_000).map(lambda x: x[\"outlet\"])\n",
        "district = menus.batch(1_000).map(lambda x: x[\"district\"])\n",
        "cities = menus.batch(1_000).map(lambda x: x[\"city\"])\n",
        "\n",
        "user_ids = users.batch(1_000).map(lambda x: x[\"user_id\"])\n",
        "user_genders = users.batch(1_000).map(lambda x: x[\"user_gender\"])\n",
        "user_tier_levels = users.batch(1_000).map(lambda x: x[\"user_tier_level\"])\n",
        "\n",
        "#unique values\n",
        "unique_menu_names = np.unique(np.concatenate(list(menu_names)))\n",
        "unique_menu_types = np.unique(np.concatenate(list(menu_types)))\n",
        "unique_menu_categories = np.unique(np.concatenate(list(menu_categories)))\n",
        "unique_menu_category_details = np.unique(np.concatenate(list(menu_category_details)))\n",
        "unique_concepts = np.unique(np.concatenate(list(concepts)))\n",
        "unique_brands = np.unique(np.concatenate(list(brands)))\n",
        "unique_outlets = np.unique(np.concatenate(list(outlet)))\n",
        "unique_districts = np.unique(np.concatenate(list(district)))\n",
        "unique_cities = np.unique(np.concatenate(list(cities)))\n",
        "\n",
        "unique_user_ids = np.unique(np.concatenate(list(user_ids)))\n",
        "unique_user_genders = np.unique(np.concatenate(list(user_genders)))\n",
        "unique_user_tier_levels = np.unique(np.concatenate(list(user_tier_levels)))"
      ],
      "metadata": {
        "id": "xn4mYxVeqfsG"
      },
      "execution_count": null,
      "outputs": []
    },
    {
      "cell_type": "code",
      "source": [
        "class MenuModel(tfrs.models.Model):\n",
        "\n",
        "  def __init__(self, rating_weight: float, retrieval_weight: float) -> None:\n",
        "    # We take the loss weights in the constructor: this allows us to instantiate\n",
        "    # several model objects with different loss weights. This weight tuning could be\n",
        "    # utilized after doing the customer segmentation by adding more models and embeddings\n",
        "\n",
        "    super().__init__()\n",
        "\n",
        "    embedding_dimension = 32 #Cause there will be a lot of training here, so I won't mke it too big for now\n",
        "\n",
        "    # User feature models - these are used for embedding (encoding)\n",
        "    self.user_model: tf.keras.layers.Layer = tf.keras.Sequential([\n",
        "      tf.keras.layers.StringLookup(\n",
        "        vocabulary=unique_user_ids, mask_token=None),\n",
        "      tf.keras.layers.Embedding(len(unique_user_ids) + 1, embedding_dimension)\n",
        "    ]) #used as an encoding method for each user_ids\n",
        "\n",
        "    self.user_gender_model: tf.keras.layers.Layer = tf.keras.Sequential([\n",
        "      tf.keras.layers.StringLookup(\n",
        "        vocabulary=unique_user_genders, mask_token=None),\n",
        "      tf.keras.layers.Embedding(len(unique_user_genders) + 1, embedding_dimension)\n",
        "    ]) #used as an encoding method for each user_genders\n",
        "\n",
        "    self.user_tier_model: tf.keras.layers.Layer = tf.keras.Sequential([\n",
        "      tf.keras.layers.StringLookup(\n",
        "        vocabulary=unique_user_tier_levels, mask_token=None),\n",
        "      tf.keras.layers.Embedding(len(unique_user_tier_levels) + 1, embedding_dimension)\n",
        "    ]) #used as an encoding method for each\n",
        "\n",
        "    # Menu feature models\n",
        "    self.menu_model: tf.keras.layers.Layer = tf.keras.Sequential([\n",
        "      tf.keras.layers.StringLookup(\n",
        "        vocabulary=unique_menu_names, mask_token=None),\n",
        "      tf.keras.layers.Embedding(len(unique_menu_names) + 1, embedding_dimension)\n",
        "    ]) #used as an encoding method for each menu_names\n",
        "\n",
        "    self.menu_types_model: tf.keras.layers.Layer = tf.keras.Sequential([\n",
        "      tf.keras.layers.StringLookup(\n",
        "        vocabulary=unique_menu_types, mask_token=None),\n",
        "      tf.keras.layers.Embedding(len(unique_menu_types) + 1, embedding_dimension)\n",
        "    ]) #used as an encoding method for each menu_types\n",
        "\n",
        "    self.menu_categories_model: tf.keras.layers.Layer = tf.keras.Sequential([\n",
        "      tf.keras.layers.StringLookup(\n",
        "        vocabulary=unique_menu_categories, mask_token=None),\n",
        "      tf.keras.layers.Embedding(len(unique_menu_categories) + 1, embedding_dimension)\n",
        "    ]) #used as an encoding method for each menu_categories\n",
        "\n",
        "    self.menu_category_details_model: tf.keras.layers.Layer = tf.keras.Sequential([\n",
        "      tf.keras.layers.StringLookup(\n",
        "        vocabulary=unique_menu_category_details, mask_token=None),\n",
        "      tf.keras.layers.Embedding(len(unique_menu_category_details) + 1, embedding_dimension)\n",
        "    ]) #used as an encoding method for each menu_category_details\n",
        "\n",
        "    self.concepts_model: tf.keras.layers.Layer = tf.keras.Sequential([\n",
        "      tf.keras.layers.StringLookup(\n",
        "        vocabulary=unique_menu_category_details, mask_token=None),\n",
        "      tf.keras.layers.Embedding(len(unique_concepts) + 1, embedding_dimension)\n",
        "    ]) #used as an encoding method for each concepts\n",
        "\n",
        "    self.brands_model: tf.keras.layers.Layer = tf.keras.Sequential([\n",
        "      tf.keras.layers.StringLookup(\n",
        "        vocabulary=unique_brands, mask_token=None),\n",
        "      tf.keras.layers.Embedding(len(unique_brands) + 1, embedding_dimension)\n",
        "    ]) #used as an encoding method for each brands\n",
        "\n",
        "    self.outlets_model: tf.keras.layers.Layer = tf.keras.Sequential([\n",
        "      tf.keras.layers.StringLookup(\n",
        "        vocabulary=unique_outlets, mask_token=None),\n",
        "      tf.keras.layers.Embedding(len(unique_outlets) + 1, embedding_dimension)\n",
        "    ]) #used as an encoding method for each outlets\n",
        "\n",
        "    self.districts_model: tf.keras.layers.Layer = tf.keras.Sequential([\n",
        "      tf.keras.layers.StringLookup(\n",
        "        vocabulary=unique_districts, mask_token=None),\n",
        "      tf.keras.layers.Embedding(len(unique_districts) + 1, embedding_dimension)\n",
        "    ]) #used as an encoding method for each districts\n",
        "\n",
        "    self.cities_model: tf.keras.layers.Layer = tf.keras.Sequential([\n",
        "      tf.keras.layers.StringLookup(\n",
        "        vocabulary=unique_cities, mask_token=None),\n",
        "      tf.keras.layers.Embedding(len(unique_cities) + 1, embedding_dimension)\n",
        "    ]) #used as an encoding method for each cities\n",
        "\n",
        "    # A small model to take in user and menu embeddings and predict quantities-rankings.\n",
        "    # We can make this as complicated as we want as long as we output a scalar\n",
        "    # as our prediction.\n",
        "    self.rating_model = tf.keras.Sequential([\n",
        "        tf.keras.layers.Dense(256, activation=\"relu\"),\n",
        "        tf.keras.layers.Dense(128, activation=\"relu\"),\n",
        "        tf.keras.layers.Dense(1),\n",
        "    ])\n",
        "\n",
        "    # The tasks.\n",
        "    self.rating_task: tf.keras.layers.Layer = tfrs.tasks.Ranking(\n",
        "        loss=tf.keras.losses.MeanSquaredError(),\n",
        "        metrics=[tf.keras.metrics.RootMeanSquaredError()],\n",
        "    )\n",
        "    self.retrieval_task: tf.keras.layers.Layer = tfrs.tasks.Retrieval(\n",
        "        metrics=tfrs.metrics.FactorizedTopK(\n",
        "            candidates=menus.batch(128).map(lambda x: x[\"menu_name\"]).map(self.menu_model)\n",
        "        )\n",
        "    )\n",
        "\n",
        "    # The loss weights.\n",
        "    self.rating_weight = rating_weight\n",
        "    self.retrieval_weight = retrieval_weight\n",
        "\n",
        "  def call(self, features: Dict[Text, tf.Tensor]) -> tf.Tensor:\n",
        "    # We pick out the user features and pass them into the user model.\n",
        "    user_embeddings = self.user_model(features[\"user_id\"])\n",
        "\n",
        "    gender_embeddings = self.user_gender_model(features[\"user_gender\"])\n",
        "\n",
        "    tier_embeddings = self.user_tier_model(features[\"user_tier_level\"])\n",
        "\n",
        "    # And pick out the menu features and pass them into the menu model.\n",
        "    menu_embeddings = self.menu_model(features[\"menu_name\"])\n",
        "\n",
        "    menu_types_embeddings = self.menu_types_model(features[\"menu_type\"])\n",
        "\n",
        "    menu_categories_embeddings = self.menu_categories_model(features[\"menu_category\"])\n",
        "\n",
        "    menu_category_details_embeddings = self.menu_category_details_model(features[\"menu_category_detail\"])\n",
        "\n",
        "    concepts_embeddings = self.concepts_model(features[\"concept\"])\n",
        "\n",
        "    brands_embeddings = self.brands_model(features[\"brand\"])\n",
        "\n",
        "    outlets_embeddings = self.outlets_model(features[\"outlet\"])\n",
        "\n",
        "    districts_embeddings = self.districts_model(features[\"district\"])\n",
        "\n",
        "    cities_embeddings = self.cities_model(features[\"city\"])\n",
        "\n",
        "    return (\n",
        "        user_embeddings,\n",
        "        gender_embeddings,\n",
        "        tier_embeddings,\n",
        "        menu_embeddings,\n",
        "        menu_types_embeddings,\n",
        "        menu_categories_embeddings,\n",
        "        menu_category_details_embeddings,\n",
        "        concepts_embeddings,\n",
        "        brands_embeddings,\n",
        "        outlets_embeddings,\n",
        "        districts_embeddings,\n",
        "        cities_embeddings,\n",
        "        # We apply the multi-layered rating model to a concatentation of\n",
        "        # user and menu embeddings.\n",
        "        self.rating_model(\n",
        "            tf.concat([user_embeddings, gender_embeddings, tier_embeddings, menu_embeddings,\n",
        "                       menu_types_embeddings, menu_categories_embeddings, menu_category_details_embeddings,\n",
        "                       concepts_embeddings, brands_embeddings, outlets_embeddings, districts_embeddings,\n",
        "                       cities_embeddings ], axis=1)\n",
        "        ),\n",
        "    )\n",
        "\n",
        "  def compute_loss(self, features: Dict[Text, tf.Tensor], training=False) -> tf.Tensor:\n",
        "\n",
        "    ratings = features.pop(\"quantity\")\n",
        "\n",
        "    user_embeddings, gender_embeddings, tier_embeddings, menu_embeddings, menu_types_embeddings, menu_categories_embeddings, menu_category_details_embeddings, concepts_embeddings, brands_embeddings, outlets_embeddings, districts_embeddings, cities_embeddings, rating_predictions = self(features)\n",
        "\n",
        "    # We compute the loss for each task.\n",
        "    rating_loss = self.rating_task(\n",
        "        labels=ratings,\n",
        "        predictions=rating_predictions,\n",
        "    )\n",
        "    retrieval_loss = self.retrieval_task(user_embeddings, menu_embeddings, rating_predictions) #there are several problems while trying to add some more variables to the retrieval, I will fix it later if I have the time\n",
        "\n",
        "    # And combine them using the loss weights.\n",
        "    return (self.rating_weight * rating_loss)"
      ],
      "metadata": {
        "id": "eq6mGByXOUSJ"
      },
      "execution_count": null,
      "outputs": []
    },
    {
      "cell_type": "code",
      "source": [
        "model = MenuModel(rating_weight=1.0, retrieval_weight=1.0)\n",
        "model.compile(optimizer=tf.keras.optimizers.Adagrad(0.001))\n",
        "\n",
        "cached_train = train.shuffle(100_000).batch(1_000).cache()\n",
        "cached_test = test.batch(1_000).cache()\n",
        "\n",
        "model.fit(cached_train, epochs=10)"
      ],
      "metadata": {
        "id": "qLdMgUXFqmOn",
        "colab": {
          "base_uri": "https://localhost:8080/"
        },
        "outputId": "eb6cee83-2ae4-4c10-c981-0ebcd8ea6a6e"
      },
      "execution_count": null,
      "outputs": [
        {
          "output_type": "stream",
          "name": "stdout",
          "text": [
            "Epoch 1/10\n",
            "14/14 [==============================] - 117s 4s/step - root_mean_squared_error: 2.2430 - factorized_top_k/top_1_categorical_accuracy: 0.0000e+00 - factorized_top_k/top_5_categorical_accuracy: 0.0000e+00 - factorized_top_k/top_10_categorical_accuracy: 0.0000e+00 - factorized_top_k/top_50_categorical_accuracy: 0.0000e+00 - factorized_top_k/top_100_categorical_accuracy: 0.0026 - loss: 5.0344 - regularization_loss: 0.0000e+00 - total_loss: 5.0344\n",
            "Epoch 2/10\n",
            "14/14 [==============================] - 62s 4s/step - root_mean_squared_error: 2.1806 - factorized_top_k/top_1_categorical_accuracy: 0.0000e+00 - factorized_top_k/top_5_categorical_accuracy: 0.0000e+00 - factorized_top_k/top_10_categorical_accuracy: 0.0000e+00 - factorized_top_k/top_50_categorical_accuracy: 0.0000e+00 - factorized_top_k/top_100_categorical_accuracy: 0.0029 - loss: 4.7602 - regularization_loss: 0.0000e+00 - total_loss: 4.7602\n",
            "Epoch 3/10\n",
            "14/14 [==============================] - 51s 4s/step - root_mean_squared_error: 2.1267 - factorized_top_k/top_1_categorical_accuracy: 0.0000e+00 - factorized_top_k/top_5_categorical_accuracy: 0.0000e+00 - factorized_top_k/top_10_categorical_accuracy: 0.0000e+00 - factorized_top_k/top_50_categorical_accuracy: 0.0000e+00 - factorized_top_k/top_100_categorical_accuracy: 0.0029 - loss: 4.5278 - regularization_loss: 0.0000e+00 - total_loss: 4.5278\n",
            "Epoch 4/10\n",
            "14/14 [==============================] - 52s 4s/step - root_mean_squared_error: 2.0731 - factorized_top_k/top_1_categorical_accuracy: 0.0000e+00 - factorized_top_k/top_5_categorical_accuracy: 0.0000e+00 - factorized_top_k/top_10_categorical_accuracy: 0.0000e+00 - factorized_top_k/top_50_categorical_accuracy: 0.0000e+00 - factorized_top_k/top_100_categorical_accuracy: 0.0029 - loss: 4.3022 - regularization_loss: 0.0000e+00 - total_loss: 4.3022\n",
            "Epoch 5/10\n",
            "14/14 [==============================] - 53s 4s/step - root_mean_squared_error: 2.0180 - factorized_top_k/top_1_categorical_accuracy: 0.0000e+00 - factorized_top_k/top_5_categorical_accuracy: 0.0000e+00 - factorized_top_k/top_10_categorical_accuracy: 0.0000e+00 - factorized_top_k/top_50_categorical_accuracy: 0.0000e+00 - factorized_top_k/top_100_categorical_accuracy: 0.0029 - loss: 4.0764 - regularization_loss: 0.0000e+00 - total_loss: 4.0764\n",
            "Epoch 6/10\n",
            "14/14 [==============================] - 53s 4s/step - root_mean_squared_error: 1.9610 - factorized_top_k/top_1_categorical_accuracy: 0.0000e+00 - factorized_top_k/top_5_categorical_accuracy: 0.0000e+00 - factorized_top_k/top_10_categorical_accuracy: 0.0000e+00 - factorized_top_k/top_50_categorical_accuracy: 0.0000e+00 - factorized_top_k/top_100_categorical_accuracy: 0.0029 - loss: 3.8490 - regularization_loss: 0.0000e+00 - total_loss: 3.8490\n",
            "Epoch 7/10\n",
            "14/14 [==============================] - 58s 4s/step - root_mean_squared_error: 1.9021 - factorized_top_k/top_1_categorical_accuracy: 0.0000e+00 - factorized_top_k/top_5_categorical_accuracy: 0.0000e+00 - factorized_top_k/top_10_categorical_accuracy: 0.0000e+00 - factorized_top_k/top_50_categorical_accuracy: 0.0000e+00 - factorized_top_k/top_100_categorical_accuracy: 0.0029 - loss: 3.6208 - regularization_loss: 0.0000e+00 - total_loss: 3.6208\n",
            "Epoch 8/10\n",
            "14/14 [==============================] - 50s 4s/step - root_mean_squared_error: 1.8419 - factorized_top_k/top_1_categorical_accuracy: 0.0000e+00 - factorized_top_k/top_5_categorical_accuracy: 0.0000e+00 - factorized_top_k/top_10_categorical_accuracy: 0.0000e+00 - factorized_top_k/top_50_categorical_accuracy: 0.0000e+00 - factorized_top_k/top_100_categorical_accuracy: 0.0021 - loss: 3.3952 - regularization_loss: 0.0000e+00 - total_loss: 3.3952\n",
            "Epoch 9/10\n",
            "14/14 [==============================] - 50s 4s/step - root_mean_squared_error: 1.7817 - factorized_top_k/top_1_categorical_accuracy: 0.0000e+00 - factorized_top_k/top_5_categorical_accuracy: 0.0000e+00 - factorized_top_k/top_10_categorical_accuracy: 0.0000e+00 - factorized_top_k/top_50_categorical_accuracy: 0.0000e+00 - factorized_top_k/top_100_categorical_accuracy: 0.0017 - loss: 3.1767 - regularization_loss: 0.0000e+00 - total_loss: 3.1767\n",
            "Epoch 10/10\n",
            "14/14 [==============================] - 52s 4s/step - root_mean_squared_error: 1.7227 - factorized_top_k/top_1_categorical_accuracy: 0.0000e+00 - factorized_top_k/top_5_categorical_accuracy: 0.0000e+00 - factorized_top_k/top_10_categorical_accuracy: 0.0000e+00 - factorized_top_k/top_50_categorical_accuracy: 0.0000e+00 - factorized_top_k/top_100_categorical_accuracy: 1.4286e-04 - loss: 2.9700 - regularization_loss: 0.0000e+00 - total_loss: 2.9700\n"
          ]
        },
        {
          "output_type": "execute_result",
          "data": {
            "text/plain": [
              "<keras.callbacks.History at 0x79046b55e3b0>"
            ]
          },
          "metadata": {},
          "execution_count": 81
        }
      ]
    },
    {
      "cell_type": "markdown",
      "source": [
        "The retrieval task does not seem to be working, so I am not using the retrieval loss anymore. However I will not continue this model for now. Also supposedly the retrieval task here is deleted instead"
      ],
      "metadata": {
        "id": "w7i3VHCVZ2F1"
      }
    },
    {
      "cell_type": "code",
      "source": [
        "metrics = model.evaluate(cached_test, return_dict=True)\n",
        "\n",
        "print(f\"\\nRetrieval top-100 accuracy: {metrics['factorized_top_k/top_100_categorical_accuracy']:.3f}\")\n",
        "print(f\"Ranking RMSE: {metrics['root_mean_squared_error']:.3f}\")"
      ],
      "metadata": {
        "id": "TrQ2m4N3qqGm",
        "colab": {
          "base_uri": "https://localhost:8080/"
        },
        "outputId": "07989539-d059-4287-cf49-2c8ecbbaeba7"
      },
      "execution_count": null,
      "outputs": [
        {
          "output_type": "stream",
          "name": "stdout",
          "text": [
            "4/4 [==============================] - 11s 3s/step - root_mean_squared_error: 1.2251 - factorized_top_k/top_1_categorical_accuracy: 0.0000e+00 - factorized_top_k/top_5_categorical_accuracy: 0.0000e+00 - factorized_top_k/top_10_categorical_accuracy: 0.0000e+00 - factorized_top_k/top_50_categorical_accuracy: 0.0000e+00 - factorized_top_k/top_100_categorical_accuracy: 0.0000e+00 - loss: 1.2310 - regularization_loss: 0.0000e+00 - total_loss: 1.2310\n",
            "\n",
            "Retrieval top-100 accuracy: 0.000\n",
            "Ranking RMSE: 1.225\n"
          ]
        }
      ]
    },
    {
      "cell_type": "markdown",
      "source": [
        "It has better RMSE if compared within 10 epoch of the previous model, which means better prediction for user qty prediction. Through user qty prediction we could also do a ranking."
      ],
      "metadata": {
        "id": "VvaeVMFTdJDw"
      }
    },
    {
      "cell_type": "code",
      "source": [
        "def predict_quantity(user, menu):\n",
        "    trained_menu_embeddings, trained_user_embeddings, predicted_rating = model({\n",
        "          \"user_id\": np.array([str(user)]),\n",
        "          \"menu_id\": np.array([menu])\n",
        "      })\n",
        "    print(\"Predicted quantity for {}: {}\".format(menu, predicted_rating.numpy()[0][0]))"
      ],
      "metadata": {
        "id": "iIR2lSufq3g2"
      },
      "execution_count": null,
      "outputs": []
    }
  ]
}
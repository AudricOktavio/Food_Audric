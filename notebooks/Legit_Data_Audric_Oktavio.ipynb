{
  "nbformat": 4,
  "nbformat_minor": 0,
  "metadata": {
    "colab": {
      "provenance": [],
      "toc_visible": true
    },
    "kernelspec": {
      "name": "python3",
      "display_name": "Python 3"
    },
    "language_info": {
      "name": "python"
    }
  },
  "cells": [
    {
      "cell_type": "markdown",
      "source": [
        "Some cells could not be run without running the previous cells. Remember to run the preprocessing first then make sure to run the whole cells in the main headings if you want to run 1 of the sub headings"
      ],
      "metadata": {
        "id": "8lx2Pp1V83T3"
      }
    },
    {
      "cell_type": "markdown",
      "source": [
        "# Library"
      ],
      "metadata": {
        "id": "a3Irdmbppjhy"
      }
    },
    {
      "cell_type": "code",
      "source": [
        "import pandas as pd\n",
        "from datetime import datetime\n",
        "from sklearn.model_selection import train_test_split\n",
        "import tensorflow as tf\n",
        "from sklearn.preprocessing import LabelEncoder, StandardScaler\n",
        "import seaborn as sns\n",
        "import matplotlib.pyplot as plt\n",
        "import numpy as np\n",
        "from typing import Dict, Text\n",
        "from sklearn.cluster import KMeans"
      ],
      "metadata": {
        "id": "-iTORoAcpiDU"
      },
      "execution_count": null,
      "outputs": []
    },
    {
      "cell_type": "code",
      "source": [
        "!pip install -q tensorflow-recommenders\n",
        "import tensorflow_recommenders as tfrs"
      ],
      "metadata": {
        "id": "DfBKFfHj7Fb1"
      },
      "execution_count": null,
      "outputs": []
    },
    {
      "cell_type": "code",
      "source": [
        "from google.colab import drive\n",
        "drive.mount('/content/drive')"
      ],
      "metadata": {
        "colab": {
          "base_uri": "https://localhost:8080/"
        },
        "id": "ClF9V_NQqMnZ",
        "outputId": "d1ed31f3-cbbc-4101-a931-43f4d3b9ea0a"
      },
      "execution_count": null,
      "outputs": [
        {
          "output_type": "stream",
          "name": "stdout",
          "text": [
            "Drive already mounted at /content/drive; to attempt to forcibly remount, call drive.mount(\"/content/drive\", force_remount=True).\n"
          ]
        }
      ]
    },
    {
      "cell_type": "code",
      "source": [
        "df = pd.read_csv('/content/drive/My Drive/Legit Test/data.csv')"
      ],
      "metadata": {
        "id": "aTnBg1kyqZOS"
      },
      "execution_count": null,
      "outputs": []
    },
    {
      "cell_type": "markdown",
      "source": [
        "Converting csv into db file for API purpose"
      ],
      "metadata": {
        "id": "LNcxbjoXXClx"
      }
    },
    {
      "cell_type": "code",
      "source": [
        "\"\"\"\n",
        "import sqlite3\n",
        "db_file = 'food_app.db'\n",
        "conn = sqlite3.connect(db_file)\"\"\"\n",
        "\"\"\"\n",
        "table_schema = '''\n",
        "CREATE TABLE transactions (\n",
        "    trx_date TEXT,\n",
        "    trx_date_detail TEXT,\n",
        "    sales_id TEXT,\n",
        "    concept TEXT,\n",
        "    brand TEXT,\n",
        "    outlet TEXT,\n",
        "    district TEXT,\n",
        "    city TEXT,\n",
        "    menu_id TEXT,\n",
        "    menu_type TEXT,\n",
        "    menu_category TEXT,\n",
        "    menu_category_detail TEXT,\n",
        "    menu_name TEXT,\n",
        "    quantity INTEGER,\n",
        "    user_id TEXT,\n",
        "    user_created_at TEXT,\n",
        "    user_tier_level INTEGER,\n",
        "    user_gender TEXT\n",
        ");\n",
        "'''\n",
        "conn.execute(table_schema)\n",
        "df.to_sql('transactions', conn, if_exists='append', index=False)\n",
        "\"\"\""
      ],
      "metadata": {
        "id": "gjXcTlgl0F5Q",
        "colab": {
          "base_uri": "https://localhost:8080/",
          "height": 70
        },
        "outputId": "b191b92b-ec5d-4759-f731-0a3bee7b5e01"
      },
      "execution_count": null,
      "outputs": [
        {
          "output_type": "execute_result",
          "data": {
            "text/plain": [
              "\"\\ntable_schema = '''\\nCREATE TABLE transactions (\\n    trx_date TEXT,\\n    trx_date_detail TEXT,\\n    sales_id TEXT,\\n    concept TEXT,\\n    brand TEXT,\\n    outlet TEXT,\\n    district TEXT,\\n    city TEXT,\\n    menu_id TEXT,\\n    menu_type TEXT,\\n    menu_category TEXT,\\n    menu_category_detail TEXT,\\n    menu_name TEXT,\\n    quantity INTEGER,\\n    user_id TEXT,\\n    user_created_at TEXT,\\n    user_tier_level INTEGER,\\n    user_gender TEXT\\n);\\n'''\\nconn.execute(table_schema)\\ndf.to_sql('transactions', conn, if_exists='append', index=False)\\n\""
            ],
            "application/vnd.google.colaboratory.intrinsic+json": {
              "type": "string"
            }
          },
          "metadata": {},
          "execution_count": 65
        }
      ]
    },
    {
      "cell_type": "markdown",
      "source": [
        "# Reviewing the Data"
      ],
      "metadata": {
        "id": "a4Ii6g9L-QZK"
      }
    },
    {
      "cell_type": "code",
      "source": [
        "df.head()"
      ],
      "metadata": {
        "id": "kQ8eCbPZqfqS",
        "colab": {
          "base_uri": "https://localhost:8080/",
          "height": 487
        },
        "outputId": "38d7f5f6-c7f2-4a56-d1c1-f4feeb429927"
      },
      "execution_count": null,
      "outputs": [
        {
          "output_type": "execute_result",
          "data": {
            "text/plain": [
              "     trx_date          trx_date_detail                              sales_id  \\\n",
              "0  2023-01-04  2023-01-04 20:26:46 UTC  02d6de17-9ca4-480f-b13c-7336dccd64b9   \n",
              "1  2023-01-04  2023-01-04 20:26:46 UTC  02d6de17-9ca4-480f-b13c-7336dccd64b9   \n",
              "2  2023-01-04  2023-01-04 20:26:46 UTC  02d6de17-9ca4-480f-b13c-7336dccd64b9   \n",
              "3  2023-01-04  2023-01-04 20:26:46 UTC  02d6de17-9ca4-480f-b13c-7336dccd64b9   \n",
              "4  2023-01-04  2023-01-04 20:26:46 UTC  02d6de17-9ca4-480f-b13c-7336dccd64b9   \n",
              "\n",
              "     concept brand                  outlet        district             city  \\\n",
              "0  Lifestyle   A/A  Apothecary, Gunawarman  Kebayoran Baru  Jakarta Selatan   \n",
              "1  Lifestyle   A/A  Apothecary, Gunawarman  Kebayoran Baru  Jakarta Selatan   \n",
              "2  Lifestyle   A/A  Apothecary, Gunawarman  Kebayoran Baru  Jakarta Selatan   \n",
              "3  Lifestyle   A/A  Apothecary, Gunawarman  Kebayoran Baru  Jakarta Selatan   \n",
              "4  Lifestyle   A/A  Apothecary, Gunawarman  Kebayoran Baru  Jakarta Selatan   \n",
              "\n",
              "                                menu_id        menu_type menu_category  \\\n",
              "0  5204e17e-aefb-4235-8eb8-7177a5679352        Ala Carte          FOOD   \n",
              "1  1420bcef-ac34-4967-b5e0-4a2942f222a4  Package Content      BEVERAGE   \n",
              "2  1420bcef-ac34-4967-b5e0-4a2942f222a4  Package Content      BEVERAGE   \n",
              "3  77bb78c6-2f51-4f61-9d74-02d69388cef1  Package Content      BEVERAGE   \n",
              "4  f026874c-5a66-4184-8ce0-9aeb9e37b5ac  Package Content       LIQUEUR   \n",
              "\n",
              "  menu_category_detail               menu_name  quantity  \\\n",
              "0           APPETIZERS            French Fries       1.0   \n",
              "1    BEVERAGE MODIFIER                  Single       1.0   \n",
              "2    BEVERAGE MODIFIER                  Single       1.0   \n",
              "3    BEVERAGE MODIFIER               Coca Cola       1.0   \n",
              "4            WHISK(E)Y  Monkey Shoulder_Double       1.0   \n",
              "\n",
              "                                user_id      user_created_at user_tier_level  \\\n",
              "0  db0df3a5-2d00-4fed-93b1-99ea1eedccd8  2021-05-13 07:41:27            Gold   \n",
              "1  db0df3a5-2d00-4fed-93b1-99ea1eedccd8  2021-05-13 07:41:27            Gold   \n",
              "2  db0df3a5-2d00-4fed-93b1-99ea1eedccd8  2021-05-13 07:41:27            Gold   \n",
              "3  db0df3a5-2d00-4fed-93b1-99ea1eedccd8  2021-05-13 07:41:27            Gold   \n",
              "4  db0df3a5-2d00-4fed-93b1-99ea1eedccd8  2021-05-13 07:41:27            Gold   \n",
              "\n",
              "  user_gender  \n",
              "0           F  \n",
              "1           F  \n",
              "2           F  \n",
              "3           F  \n",
              "4           F  "
            ],
            "text/html": [
              "\n",
              "  <div id=\"df-052c5fd0-7d87-4b1a-aa06-791282184d50\" class=\"colab-df-container\">\n",
              "    <div>\n",
              "<style scoped>\n",
              "    .dataframe tbody tr th:only-of-type {\n",
              "        vertical-align: middle;\n",
              "    }\n",
              "\n",
              "    .dataframe tbody tr th {\n",
              "        vertical-align: top;\n",
              "    }\n",
              "\n",
              "    .dataframe thead th {\n",
              "        text-align: right;\n",
              "    }\n",
              "</style>\n",
              "<table border=\"1\" class=\"dataframe\">\n",
              "  <thead>\n",
              "    <tr style=\"text-align: right;\">\n",
              "      <th></th>\n",
              "      <th>trx_date</th>\n",
              "      <th>trx_date_detail</th>\n",
              "      <th>sales_id</th>\n",
              "      <th>concept</th>\n",
              "      <th>brand</th>\n",
              "      <th>outlet</th>\n",
              "      <th>district</th>\n",
              "      <th>city</th>\n",
              "      <th>menu_id</th>\n",
              "      <th>menu_type</th>\n",
              "      <th>menu_category</th>\n",
              "      <th>menu_category_detail</th>\n",
              "      <th>menu_name</th>\n",
              "      <th>quantity</th>\n",
              "      <th>user_id</th>\n",
              "      <th>user_created_at</th>\n",
              "      <th>user_tier_level</th>\n",
              "      <th>user_gender</th>\n",
              "    </tr>\n",
              "  </thead>\n",
              "  <tbody>\n",
              "    <tr>\n",
              "      <th>0</th>\n",
              "      <td>2023-01-04</td>\n",
              "      <td>2023-01-04 20:26:46 UTC</td>\n",
              "      <td>02d6de17-9ca4-480f-b13c-7336dccd64b9</td>\n",
              "      <td>Lifestyle</td>\n",
              "      <td>A/A</td>\n",
              "      <td>Apothecary, Gunawarman</td>\n",
              "      <td>Kebayoran Baru</td>\n",
              "      <td>Jakarta Selatan</td>\n",
              "      <td>5204e17e-aefb-4235-8eb8-7177a5679352</td>\n",
              "      <td>Ala Carte</td>\n",
              "      <td>FOOD</td>\n",
              "      <td>APPETIZERS</td>\n",
              "      <td>French Fries</td>\n",
              "      <td>1.0</td>\n",
              "      <td>db0df3a5-2d00-4fed-93b1-99ea1eedccd8</td>\n",
              "      <td>2021-05-13 07:41:27</td>\n",
              "      <td>Gold</td>\n",
              "      <td>F</td>\n",
              "    </tr>\n",
              "    <tr>\n",
              "      <th>1</th>\n",
              "      <td>2023-01-04</td>\n",
              "      <td>2023-01-04 20:26:46 UTC</td>\n",
              "      <td>02d6de17-9ca4-480f-b13c-7336dccd64b9</td>\n",
              "      <td>Lifestyle</td>\n",
              "      <td>A/A</td>\n",
              "      <td>Apothecary, Gunawarman</td>\n",
              "      <td>Kebayoran Baru</td>\n",
              "      <td>Jakarta Selatan</td>\n",
              "      <td>1420bcef-ac34-4967-b5e0-4a2942f222a4</td>\n",
              "      <td>Package Content</td>\n",
              "      <td>BEVERAGE</td>\n",
              "      <td>BEVERAGE MODIFIER</td>\n",
              "      <td>Single</td>\n",
              "      <td>1.0</td>\n",
              "      <td>db0df3a5-2d00-4fed-93b1-99ea1eedccd8</td>\n",
              "      <td>2021-05-13 07:41:27</td>\n",
              "      <td>Gold</td>\n",
              "      <td>F</td>\n",
              "    </tr>\n",
              "    <tr>\n",
              "      <th>2</th>\n",
              "      <td>2023-01-04</td>\n",
              "      <td>2023-01-04 20:26:46 UTC</td>\n",
              "      <td>02d6de17-9ca4-480f-b13c-7336dccd64b9</td>\n",
              "      <td>Lifestyle</td>\n",
              "      <td>A/A</td>\n",
              "      <td>Apothecary, Gunawarman</td>\n",
              "      <td>Kebayoran Baru</td>\n",
              "      <td>Jakarta Selatan</td>\n",
              "      <td>1420bcef-ac34-4967-b5e0-4a2942f222a4</td>\n",
              "      <td>Package Content</td>\n",
              "      <td>BEVERAGE</td>\n",
              "      <td>BEVERAGE MODIFIER</td>\n",
              "      <td>Single</td>\n",
              "      <td>1.0</td>\n",
              "      <td>db0df3a5-2d00-4fed-93b1-99ea1eedccd8</td>\n",
              "      <td>2021-05-13 07:41:27</td>\n",
              "      <td>Gold</td>\n",
              "      <td>F</td>\n",
              "    </tr>\n",
              "    <tr>\n",
              "      <th>3</th>\n",
              "      <td>2023-01-04</td>\n",
              "      <td>2023-01-04 20:26:46 UTC</td>\n",
              "      <td>02d6de17-9ca4-480f-b13c-7336dccd64b9</td>\n",
              "      <td>Lifestyle</td>\n",
              "      <td>A/A</td>\n",
              "      <td>Apothecary, Gunawarman</td>\n",
              "      <td>Kebayoran Baru</td>\n",
              "      <td>Jakarta Selatan</td>\n",
              "      <td>77bb78c6-2f51-4f61-9d74-02d69388cef1</td>\n",
              "      <td>Package Content</td>\n",
              "      <td>BEVERAGE</td>\n",
              "      <td>BEVERAGE MODIFIER</td>\n",
              "      <td>Coca Cola</td>\n",
              "      <td>1.0</td>\n",
              "      <td>db0df3a5-2d00-4fed-93b1-99ea1eedccd8</td>\n",
              "      <td>2021-05-13 07:41:27</td>\n",
              "      <td>Gold</td>\n",
              "      <td>F</td>\n",
              "    </tr>\n",
              "    <tr>\n",
              "      <th>4</th>\n",
              "      <td>2023-01-04</td>\n",
              "      <td>2023-01-04 20:26:46 UTC</td>\n",
              "      <td>02d6de17-9ca4-480f-b13c-7336dccd64b9</td>\n",
              "      <td>Lifestyle</td>\n",
              "      <td>A/A</td>\n",
              "      <td>Apothecary, Gunawarman</td>\n",
              "      <td>Kebayoran Baru</td>\n",
              "      <td>Jakarta Selatan</td>\n",
              "      <td>f026874c-5a66-4184-8ce0-9aeb9e37b5ac</td>\n",
              "      <td>Package Content</td>\n",
              "      <td>LIQUEUR</td>\n",
              "      <td>WHISK(E)Y</td>\n",
              "      <td>Monkey Shoulder_Double</td>\n",
              "      <td>1.0</td>\n",
              "      <td>db0df3a5-2d00-4fed-93b1-99ea1eedccd8</td>\n",
              "      <td>2021-05-13 07:41:27</td>\n",
              "      <td>Gold</td>\n",
              "      <td>F</td>\n",
              "    </tr>\n",
              "  </tbody>\n",
              "</table>\n",
              "</div>\n",
              "    <div class=\"colab-df-buttons\">\n",
              "\n",
              "  <div class=\"colab-df-container\">\n",
              "    <button class=\"colab-df-convert\" onclick=\"convertToInteractive('df-052c5fd0-7d87-4b1a-aa06-791282184d50')\"\n",
              "            title=\"Convert this dataframe to an interactive table.\"\n",
              "            style=\"display:none;\">\n",
              "\n",
              "  <svg xmlns=\"http://www.w3.org/2000/svg\" height=\"24px\" viewBox=\"0 -960 960 960\">\n",
              "    <path d=\"M120-120v-720h720v720H120Zm60-500h600v-160H180v160Zm220 220h160v-160H400v160Zm0 220h160v-160H400v160ZM180-400h160v-160H180v160Zm440 0h160v-160H620v160ZM180-180h160v-160H180v160Zm440 0h160v-160H620v160Z\"/>\n",
              "  </svg>\n",
              "    </button>\n",
              "\n",
              "  <style>\n",
              "    .colab-df-container {\n",
              "      display:flex;\n",
              "      gap: 12px;\n",
              "    }\n",
              "\n",
              "    .colab-df-convert {\n",
              "      background-color: #E8F0FE;\n",
              "      border: none;\n",
              "      border-radius: 50%;\n",
              "      cursor: pointer;\n",
              "      display: none;\n",
              "      fill: #1967D2;\n",
              "      height: 32px;\n",
              "      padding: 0 0 0 0;\n",
              "      width: 32px;\n",
              "    }\n",
              "\n",
              "    .colab-df-convert:hover {\n",
              "      background-color: #E2EBFA;\n",
              "      box-shadow: 0px 1px 2px rgba(60, 64, 67, 0.3), 0px 1px 3px 1px rgba(60, 64, 67, 0.15);\n",
              "      fill: #174EA6;\n",
              "    }\n",
              "\n",
              "    .colab-df-buttons div {\n",
              "      margin-bottom: 4px;\n",
              "    }\n",
              "\n",
              "    [theme=dark] .colab-df-convert {\n",
              "      background-color: #3B4455;\n",
              "      fill: #D2E3FC;\n",
              "    }\n",
              "\n",
              "    [theme=dark] .colab-df-convert:hover {\n",
              "      background-color: #434B5C;\n",
              "      box-shadow: 0px 1px 3px 1px rgba(0, 0, 0, 0.15);\n",
              "      filter: drop-shadow(0px 1px 2px rgba(0, 0, 0, 0.3));\n",
              "      fill: #FFFFFF;\n",
              "    }\n",
              "  </style>\n",
              "\n",
              "    <script>\n",
              "      const buttonEl =\n",
              "        document.querySelector('#df-052c5fd0-7d87-4b1a-aa06-791282184d50 button.colab-df-convert');\n",
              "      buttonEl.style.display =\n",
              "        google.colab.kernel.accessAllowed ? 'block' : 'none';\n",
              "\n",
              "      async function convertToInteractive(key) {\n",
              "        const element = document.querySelector('#df-052c5fd0-7d87-4b1a-aa06-791282184d50');\n",
              "        const dataTable =\n",
              "          await google.colab.kernel.invokeFunction('convertToInteractive',\n",
              "                                                    [key], {});\n",
              "        if (!dataTable) return;\n",
              "\n",
              "        const docLinkHtml = 'Like what you see? Visit the ' +\n",
              "          '<a target=\"_blank\" href=https://colab.research.google.com/notebooks/data_table.ipynb>data table notebook</a>'\n",
              "          + ' to learn more about interactive tables.';\n",
              "        element.innerHTML = '';\n",
              "        dataTable['output_type'] = 'display_data';\n",
              "        await google.colab.output.renderOutput(dataTable, element);\n",
              "        const docLink = document.createElement('div');\n",
              "        docLink.innerHTML = docLinkHtml;\n",
              "        element.appendChild(docLink);\n",
              "      }\n",
              "    </script>\n",
              "  </div>\n",
              "\n",
              "\n",
              "<div id=\"df-c83e91e3-b2be-4e93-9ce6-58a7a0d0d5bb\">\n",
              "  <button class=\"colab-df-quickchart\" onclick=\"quickchart('df-c83e91e3-b2be-4e93-9ce6-58a7a0d0d5bb')\"\n",
              "            title=\"Suggest charts.\"\n",
              "            style=\"display:none;\">\n",
              "\n",
              "<svg xmlns=\"http://www.w3.org/2000/svg\" height=\"24px\"viewBox=\"0 0 24 24\"\n",
              "     width=\"24px\">\n",
              "    <g>\n",
              "        <path d=\"M19 3H5c-1.1 0-2 .9-2 2v14c0 1.1.9 2 2 2h14c1.1 0 2-.9 2-2V5c0-1.1-.9-2-2-2zM9 17H7v-7h2v7zm4 0h-2V7h2v10zm4 0h-2v-4h2v4z\"/>\n",
              "    </g>\n",
              "</svg>\n",
              "  </button>\n",
              "\n",
              "<style>\n",
              "  .colab-df-quickchart {\n",
              "    background-color: #E8F0FE;\n",
              "    border: none;\n",
              "    border-radius: 50%;\n",
              "    cursor: pointer;\n",
              "    display: none;\n",
              "    fill: #1967D2;\n",
              "    height: 32px;\n",
              "    padding: 0 0 0 0;\n",
              "    width: 32px;\n",
              "  }\n",
              "\n",
              "  .colab-df-quickchart:hover {\n",
              "    background-color: #E2EBFA;\n",
              "    box-shadow: 0px 1px 2px rgba(60, 64, 67, 0.3), 0px 1px 3px 1px rgba(60, 64, 67, 0.15);\n",
              "    fill: #174EA6;\n",
              "  }\n",
              "\n",
              "  [theme=dark] .colab-df-quickchart {\n",
              "    background-color: #3B4455;\n",
              "    fill: #D2E3FC;\n",
              "  }\n",
              "\n",
              "  [theme=dark] .colab-df-quickchart:hover {\n",
              "    background-color: #434B5C;\n",
              "    box-shadow: 0px 1px 3px 1px rgba(0, 0, 0, 0.15);\n",
              "    filter: drop-shadow(0px 1px 2px rgba(0, 0, 0, 0.3));\n",
              "    fill: #FFFFFF;\n",
              "  }\n",
              "</style>\n",
              "\n",
              "  <script>\n",
              "    async function quickchart(key) {\n",
              "      const charts = await google.colab.kernel.invokeFunction(\n",
              "          'suggestCharts', [key], {});\n",
              "    }\n",
              "    (() => {\n",
              "      let quickchartButtonEl =\n",
              "        document.querySelector('#df-c83e91e3-b2be-4e93-9ce6-58a7a0d0d5bb button');\n",
              "      quickchartButtonEl.style.display =\n",
              "        google.colab.kernel.accessAllowed ? 'block' : 'none';\n",
              "    })();\n",
              "  </script>\n",
              "</div>\n",
              "    </div>\n",
              "  </div>\n"
            ]
          },
          "metadata": {},
          "execution_count": 105
        }
      ]
    },
    {
      "cell_type": "code",
      "source": [
        "df['trx_date_detail']"
      ],
      "metadata": {
        "id": "QZSixHGbo_NM",
        "colab": {
          "base_uri": "https://localhost:8080/"
        },
        "outputId": "9288378b-c162-49ee-f11d-56a4277bd9c1"
      },
      "execution_count": null,
      "outputs": [
        {
          "output_type": "execute_result",
          "data": {
            "text/plain": [
              "0        2023-01-04 20:26:46 UTC\n",
              "1        2023-01-04 20:26:46 UTC\n",
              "2        2023-01-04 20:26:46 UTC\n",
              "3        2023-01-04 20:26:46 UTC\n",
              "4        2023-01-04 20:26:46 UTC\n",
              "                  ...           \n",
              "26799    2023-01-01 21:46:16 UTC\n",
              "26800    2023-01-01 21:46:16 UTC\n",
              "26801    2023-01-01 21:46:16 UTC\n",
              "26802    2023-01-01 21:46:16 UTC\n",
              "26803    2023-01-01 21:46:16 UTC\n",
              "Name: trx_date_detail, Length: 26804, dtype: object"
            ]
          },
          "metadata": {},
          "execution_count": 106
        }
      ]
    },
    {
      "cell_type": "code",
      "source": [
        "df.info()"
      ],
      "metadata": {
        "id": "3Q5EHqXOrhSr",
        "colab": {
          "base_uri": "https://localhost:8080/"
        },
        "outputId": "0b763bec-2504-44c6-ed32-082f556a98a6"
      },
      "execution_count": null,
      "outputs": [
        {
          "output_type": "stream",
          "name": "stdout",
          "text": [
            "<class 'pandas.core.frame.DataFrame'>\n",
            "RangeIndex: 26804 entries, 0 to 26803\n",
            "Data columns (total 18 columns):\n",
            " #   Column                Non-Null Count  Dtype  \n",
            "---  ------                --------------  -----  \n",
            " 0   trx_date              26804 non-null  object \n",
            " 1   trx_date_detail       26804 non-null  object \n",
            " 2   sales_id              26804 non-null  object \n",
            " 3   concept               26804 non-null  object \n",
            " 4   brand                 26804 non-null  object \n",
            " 5   outlet                26804 non-null  object \n",
            " 6   district              26804 non-null  object \n",
            " 7   city                  26804 non-null  object \n",
            " 8   menu_id               26804 non-null  object \n",
            " 9   menu_type             26804 non-null  object \n",
            " 10  menu_category         26804 non-null  object \n",
            " 11  menu_category_detail  26804 non-null  object \n",
            " 12  menu_name             26804 non-null  object \n",
            " 13  quantity              26804 non-null  float64\n",
            " 14  user_id               26804 non-null  object \n",
            " 15  user_created_at       26804 non-null  object \n",
            " 16  user_tier_level       26804 non-null  object \n",
            " 17  user_gender           26804 non-null  object \n",
            "dtypes: float64(1), object(17)\n",
            "memory usage: 3.7+ MB\n"
          ]
        }
      ]
    },
    {
      "cell_type": "code",
      "source": [
        "df['concept'].value_counts()"
      ],
      "metadata": {
        "id": "LQlyRqkaq5Ua",
        "colab": {
          "base_uri": "https://localhost:8080/"
        },
        "outputId": "d6676d13-194e-41eb-be19-7202559d4def"
      },
      "execution_count": null,
      "outputs": [
        {
          "output_type": "execute_result",
          "data": {
            "text/plain": [
              "Resto        19073\n",
              "Lifestyle     7731\n",
              "Name: concept, dtype: int64"
            ]
          },
          "metadata": {},
          "execution_count": 108
        }
      ]
    },
    {
      "cell_type": "code",
      "source": [
        "df['brand'].value_counts()"
      ],
      "metadata": {
        "id": "LgObCumIrJIq",
        "colab": {
          "base_uri": "https://localhost:8080/"
        },
        "outputId": "e3406b3d-8116-480e-d53f-d308a1f26b6e"
      },
      "execution_count": null,
      "outputs": [
        {
          "output_type": "execute_result",
          "data": {
            "text/plain": [
              "Djournal           8208\n",
              "TPC                4153\n",
              "Osteria GIA        3974\n",
              "Kitchenette        3004\n",
              "Pizza E Birra      1522\n",
              "Social House       1512\n",
              "Tokyo Belly        1350\n",
              "Social Garden       877\n",
              "Publik Markette     593\n",
              "Mr Fox              509\n",
              "Skye                360\n",
              "A/A                 231\n",
              "Manarai             202\n",
              "Djournal House      142\n",
              "Sushi Groove        101\n",
              "DF Kitchen           66\n",
              "Name: brand, dtype: int64"
            ]
          },
          "metadata": {},
          "execution_count": 109
        }
      ]
    },
    {
      "cell_type": "code",
      "source": [
        "df['outlet'].value_counts()"
      ],
      "metadata": {
        "id": "wQ6fRnvib3xX",
        "colab": {
          "base_uri": "https://localhost:8080/"
        },
        "outputId": "f8623782-45b2-4fe0-8ebb-cba26931c5f2"
      },
      "execution_count": null,
      "outputs": [
        {
          "output_type": "execute_result",
          "data": {
            "text/plain": [
              "Osteria GIA, Plaza Indonesia        1705\n",
              "Social House, Grand Indonesia       1512\n",
              "Osteria GIA, Pondok Indah Mall 2    1258\n",
              "Djournal, Pondok Indah Mall 2       1063\n",
              "Osteria GIA, Pacific Place          1011\n",
              "                                    ... \n",
              "Djournal, Pasaraya Blok M              9\n",
              "Kitchenette, Kuta Beachwalk            6\n",
              "Djournal, MRT Blok M                   4\n",
              "Djournal, Kuta Beachwalk               3\n",
              "TPC, Pasaraya Blok M                   1\n",
              "Name: outlet, Length: 100, dtype: int64"
            ]
          },
          "metadata": {},
          "execution_count": 110
        }
      ]
    },
    {
      "cell_type": "code",
      "source": [
        "df['district'].value_counts()"
      ],
      "metadata": {
        "id": "kINPGrjUreXC",
        "colab": {
          "base_uri": "https://localhost:8080/"
        },
        "outputId": "96f25b3f-59d1-4fc9-e591-16a097c3f586"
      },
      "execution_count": null,
      "outputs": [
        {
          "output_type": "execute_result",
          "data": {
            "text/plain": [
              "Menteng              5008\n",
              "Kebayoran Lama       4284\n",
              "Kebayoran Baru       3169\n",
              "Tanah Abang          2949\n",
              "Pondok Aren          1414\n",
              "Setia Budi           1410\n",
              "Sukajadi             1015\n",
              "Tegalsari             864\n",
              "Tebet                 679\n",
              "Grogol Petamburan     641\n",
              "Mulyorejo             637\n",
              "Wiyung                613\n",
              "Kelapa Gading         606\n",
              "Penjaringan           473\n",
              "Serpong Utara         465\n",
              "Denpasar Barat        396\n",
              "Cakung                354\n",
              "Kembangan             346\n",
              "Kelapa Dua            257\n",
              "Cilandak              206\n",
              "Kuta Selatan          202\n",
              "Kemayoran             195\n",
              "Tanjung Priok         175\n",
              "Beji                  143\n",
              "Andir                 130\n",
              "Kalideres              67\n",
              "Cibinong               58\n",
              "Babakan Madang         26\n",
              "Kuta Utara             13\n",
              "Kuta                    9\n",
              "Name: district, dtype: int64"
            ]
          },
          "metadata": {},
          "execution_count": 111
        }
      ]
    },
    {
      "cell_type": "code",
      "source": [
        "df['city'].value_counts()"
      ],
      "metadata": {
        "id": "kfTNw-qgByQJ",
        "colab": {
          "base_uri": "https://localhost:8080/"
        },
        "outputId": "8e33ace7-4a93-40dc-a655-2c1ca61e9fd8"
      },
      "execution_count": null,
      "outputs": [
        {
          "output_type": "execute_result",
          "data": {
            "text/plain": [
              "Jakarta Selatan      9748\n",
              "Jakarta Pusat        8152\n",
              "Surabaya             2114\n",
              "Tangerang Selatan    1879\n",
              "Jakarta Utara        1254\n",
              "Bandung, Kota        1145\n",
              "Jakarta Barat        1054\n",
              "Denpasar              396\n",
              "Jakarta Timur         354\n",
              "Tangerang, Kab.       257\n",
              "Badung                224\n",
              "Depok                 143\n",
              "Bogor, Kab.            84\n",
              "Name: city, dtype: int64"
            ]
          },
          "metadata": {},
          "execution_count": 112
        }
      ]
    },
    {
      "cell_type": "code",
      "source": [
        "df['menu_id'].value_counts()"
      ],
      "metadata": {
        "id": "WsvC-o0uByQy",
        "colab": {
          "base_uri": "https://localhost:8080/"
        },
        "outputId": "dee20471-588f-40b2-d26a-b50455074280"
      },
      "execution_count": null,
      "outputs": [
        {
          "output_type": "execute_result",
          "data": {
            "text/plain": [
              "c482f57f-68ae-4f9b-b1a1-cd4c005279fc    549\n",
              "16d7a8e4-1455-4e99-a84c-c82c10aa8e61    453\n",
              "0a8d829f-ce91-4450-a2ae-a484ad9ec90e    421\n",
              "5d9df03c-e6fa-420c-89b1-9cb341756505    285\n",
              "76b2d827-8dac-4229-9290-e58fbcc79e62    267\n",
              "                                       ... \n",
              "721699c4-34ad-4e7a-9cf6-85e1062bcac7      1\n",
              "fcec8fa9-358a-4c59-bda7-6d2b6c7c86df      1\n",
              "8a66d84e-568c-4516-a2c9-e9849a3a4060      1\n",
              "181c10b9-b796-4f8b-bbb3-60cbd0ffa6bb      1\n",
              "6b78be91-4986-42c0-aa54-b7f01a056842      1\n",
              "Name: menu_id, Length: 2520, dtype: int64"
            ]
          },
          "metadata": {},
          "execution_count": 113
        }
      ]
    },
    {
      "cell_type": "code",
      "source": [
        "df['menu_type'].value_counts()"
      ],
      "metadata": {
        "id": "Nb5QbaUkFFK5",
        "colab": {
          "base_uri": "https://localhost:8080/"
        },
        "outputId": "e8be7da1-9e4e-46ef-b8e6-c70969fe89d1"
      },
      "execution_count": null,
      "outputs": [
        {
          "output_type": "execute_result",
          "data": {
            "text/plain": [
              "Ala Carte          10666\n",
              "Package Content     9017\n",
              "Package Head        7121\n",
              "Name: menu_type, dtype: int64"
            ]
          },
          "metadata": {},
          "execution_count": 114
        }
      ]
    },
    {
      "cell_type": "code",
      "source": [
        "df['menu_category'].value_counts()"
      ],
      "metadata": {
        "id": "bA4oF7wdGicb",
        "colab": {
          "base_uri": "https://localhost:8080/"
        },
        "outputId": "eeb31985-d1ea-4a61-91a8-c57ca944c125"
      },
      "execution_count": null,
      "outputs": [
        {
          "output_type": "execute_result",
          "data": {
            "text/plain": [
              "BEVERAGE     14053\n",
              "FOOD         11525\n",
              "LIQUEUR        627\n",
              "BEER           399\n",
              "WINE           126\n",
              "CIGARETTE       42\n",
              "OTHER           32\n",
              "Name: menu_category, dtype: int64"
            ]
          },
          "metadata": {},
          "execution_count": 115
        }
      ]
    },
    {
      "cell_type": "code",
      "source": [
        "df['menu_name'].value_counts()"
      ],
      "metadata": {
        "id": "wiP6xXIWGsuQ",
        "colab": {
          "base_uri": "https://localhost:8080/"
        },
        "outputId": "69633144-d015-41ff-b184-b281b6ba48d2"
      },
      "execution_count": null,
      "outputs": [
        {
          "output_type": "execute_result",
          "data": {
            "text/plain": [
              "Kopi Susu Batavia           549\n",
              "Reg Milk Iced KopSus Btv    453\n",
              "Bread                       421\n",
              "Long Black                  370\n",
              "Iced                        358\n",
              "                           ... \n",
              "Blood Orange Tiramisu         1\n",
              "2019 Penfolds Bin 8           1\n",
              "Espresso Double               1\n",
              "Virgin Mojito                 1\n",
              "Tempe Goreng PWP              1\n",
              "Name: menu_name, Length: 2030, dtype: int64"
            ]
          },
          "metadata": {},
          "execution_count": 116
        }
      ]
    },
    {
      "cell_type": "code",
      "source": [
        "df['user_tier_level'].value_counts()"
      ],
      "metadata": {
        "id": "ubeFkHClmL_-",
        "colab": {
          "base_uri": "https://localhost:8080/"
        },
        "outputId": "35e1fffd-aeef-40ec-cddf-af7233f67dac"
      },
      "execution_count": null,
      "outputs": [
        {
          "output_type": "execute_result",
          "data": {
            "text/plain": [
              "Basic      9125\n",
              "Silver     7976\n",
              "Diamond    5879\n",
              "Gold       3284\n",
              "Black       540\n",
              "Name: user_tier_level, dtype: int64"
            ]
          },
          "metadata": {},
          "execution_count": 117
        }
      ]
    },
    {
      "cell_type": "code",
      "source": [
        "df['user_gender'].value_counts()"
      ],
      "metadata": {
        "id": "tBgeP_DNmPyP",
        "colab": {
          "base_uri": "https://localhost:8080/"
        },
        "outputId": "ac9f5885-3dfc-4d61-8dd9-d5d083c3c405"
      },
      "execution_count": null,
      "outputs": [
        {
          "output_type": "execute_result",
          "data": {
            "text/plain": [
              "F    15382\n",
              "M    11422\n",
              "Name: user_gender, dtype: int64"
            ]
          },
          "metadata": {},
          "execution_count": 118
        }
      ]
    },
    {
      "cell_type": "code",
      "source": [
        "# Group data by district and brand\n",
        "grouped_data = df.groupby(['district', 'brand'])\n",
        "\n",
        "# Sum the quantities for each brand within each district\n",
        "brand_quantities = grouped_data['quantity'].sum().reset_index(name='total_quantity')\n",
        "\n",
        "# Find the index of the brand with the most total quantity within each district\n",
        "most_quantity_brands = brand_quantities.groupby('district')['total_quantity'].idxmax()\n",
        "\n",
        "# Get the actual brand names for the brands with the most total quantity\n",
        "result = brand_quantities.loc[most_quantity_brands]\n",
        "\n",
        "print(result)\n"
      ],
      "metadata": {
        "id": "2DCUVxVFn9mO",
        "colab": {
          "base_uri": "https://localhost:8080/"
        },
        "outputId": "3f33b4fe-871e-4c56-a72d-69d844454fb4"
      },
      "execution_count": null,
      "outputs": [
        {
          "output_type": "stream",
          "name": "stdout",
          "text": [
            "             district          brand  total_quantity\n",
            "1               Andir            TPC           116.0\n",
            "2      Babakan Madang            TPC            28.0\n",
            "3                Beji       Djournal            82.0\n",
            "5              Cakung            TPC           393.0\n",
            "6            Cibinong    Tokyo Belly            58.0\n",
            "8            Cilandak  Pizza E Birra           115.0\n",
            "10     Denpasar Barat            TPC           240.0\n",
            "13  Grogol Petamburan            TPC           337.0\n",
            "14          Kalideres            TPC            89.0\n",
            "20     Kebayoran Baru    Osteria GIA          1262.0\n",
            "24     Kebayoran Lama    Osteria GIA          1578.0\n",
            "28         Kelapa Dua  Pizza E Birra           221.0\n",
            "30      Kelapa Gading       Djournal           414.0\n",
            "34          Kemayoran    Tokyo Belly           213.0\n",
            "35          Kembangan       Djournal           300.0\n",
            "38               Kuta       Djournal             7.0\n",
            "40       Kuta Selatan        Manarai           242.0\n",
            "41         Kuta Utara       Djournal             9.0\n",
            "44            Menteng    Osteria GIA          2312.0\n",
            "50          Mulyorejo       Djournal           521.0\n",
            "53        Penjaringan       Djournal           400.0\n",
            "55        Pondok Aren       Djournal           779.0\n",
            "58      Serpong Utara       Djournal           363.0\n",
            "61         Setia Budi       Djournal           424.0\n",
            "65           Sukajadi       Djournal          1236.0\n",
            "69        Tanah Abang       Djournal          1568.0\n",
            "74      Tanjung Priok            TPC           202.0\n",
            "75              Tebet    Kitchenette           424.0\n",
            "79          Tegalsari       Djournal           356.0\n",
            "83             Wiyung       Djournal           231.0\n"
          ]
        }
      ]
    },
    {
      "cell_type": "markdown",
      "source": [
        "Reviewed after doing preprocessing"
      ],
      "metadata": {
        "id": "sa65tABW4l8g"
      }
    },
    {
      "cell_type": "code",
      "source": [
        "'''user_day_counts = df.groupby(['user_id', 'day']).size().reset_index(name='count')\n",
        "\n",
        "# Finding the user with the most rows for each \"day\"\n",
        "most_common_users_per_day = user_day_counts.groupby('day')['user_id', 'count']\\\n",
        "                                          .apply(lambda x: x[x['count'] == x['count'].max()])\\\n",
        "                                          .reset_index(drop=True)\n",
        "\n",
        "print(most_common_users_per_day)'''"
      ],
      "metadata": {
        "id": "5LnH2GBV4pUA",
        "colab": {
          "base_uri": "https://localhost:8080/",
          "height": 70
        },
        "outputId": "159d99df-a0bf-4648-8607-da6aae7c8a19"
      },
      "execution_count": null,
      "outputs": [
        {
          "output_type": "execute_result",
          "data": {
            "text/plain": [
              "'user_day_counts = df.groupby([\\'user_id\\', \\'day\\']).size().reset_index(name=\\'count\\')\\n\\n# Finding the user with the most rows for each \"day\"\\nmost_common_users_per_day = user_day_counts.groupby(\\'day\\')[\\'user_id\\', \\'count\\']                                          .apply(lambda x: x[x[\\'count\\'] == x[\\'count\\'].max()])                                          .reset_index(drop=True)\\n\\nprint(most_common_users_per_day)'"
            ],
            "application/vnd.google.colaboratory.intrinsic+json": {
              "type": "string"
            }
          },
          "metadata": {},
          "execution_count": 120
        }
      ]
    },
    {
      "cell_type": "markdown",
      "source": [
        "# Preprocessing the Data"
      ],
      "metadata": {
        "id": "0lTXThhG-XHq"
      }
    },
    {
      "cell_type": "code",
      "source": [
        "df"
      ],
      "metadata": {
        "colab": {
          "base_uri": "https://localhost:8080/",
          "height": 964
        },
        "id": "KorelhH0ouCb",
        "outputId": "0c028537-5b79-463c-d1dd-c6afdeb2ded4"
      },
      "execution_count": null,
      "outputs": [
        {
          "output_type": "execute_result",
          "data": {
            "text/plain": [
              "         trx_date          trx_date_detail  \\\n",
              "0      2023-01-04  2023-01-04 20:26:46 UTC   \n",
              "1      2023-01-04  2023-01-04 20:26:46 UTC   \n",
              "2      2023-01-04  2023-01-04 20:26:46 UTC   \n",
              "3      2023-01-04  2023-01-04 20:26:46 UTC   \n",
              "4      2023-01-04  2023-01-04 20:26:46 UTC   \n",
              "...           ...                      ...   \n",
              "26799  2023-01-01  2023-01-01 21:46:16 UTC   \n",
              "26800  2023-01-01  2023-01-01 21:46:16 UTC   \n",
              "26801  2023-01-01  2023-01-01 21:46:16 UTC   \n",
              "26802  2023-01-01  2023-01-01 21:46:16 UTC   \n",
              "26803  2023-01-01  2023-01-01 21:46:16 UTC   \n",
              "\n",
              "                                   sales_id    concept brand  \\\n",
              "0      02d6de17-9ca4-480f-b13c-7336dccd64b9  Lifestyle   A/A   \n",
              "1      02d6de17-9ca4-480f-b13c-7336dccd64b9  Lifestyle   A/A   \n",
              "2      02d6de17-9ca4-480f-b13c-7336dccd64b9  Lifestyle   A/A   \n",
              "3      02d6de17-9ca4-480f-b13c-7336dccd64b9  Lifestyle   A/A   \n",
              "4      02d6de17-9ca4-480f-b13c-7336dccd64b9  Lifestyle   A/A   \n",
              "...                                     ...        ...   ...   \n",
              "26799  85d9a596-8307-4078-a4d5-debdef0f31c0      Resto   TPC   \n",
              "26800  85d9a596-8307-4078-a4d5-debdef0f31c0      Resto   TPC   \n",
              "26801  85d9a596-8307-4078-a4d5-debdef0f31c0      Resto   TPC   \n",
              "26802  85d9a596-8307-4078-a4d5-debdef0f31c0      Resto   TPC   \n",
              "26803  85d9a596-8307-4078-a4d5-debdef0f31c0      Resto   TPC   \n",
              "\n",
              "                             outlet        district             city  \\\n",
              "0            Apothecary, Gunawarman  Kebayoran Baru  Jakarta Selatan   \n",
              "1            Apothecary, Gunawarman  Kebayoran Baru  Jakarta Selatan   \n",
              "2            Apothecary, Gunawarman  Kebayoran Baru  Jakarta Selatan   \n",
              "3            Apothecary, Gunawarman  Kebayoran Baru  Jakarta Selatan   \n",
              "4            Apothecary, Gunawarman  Kebayoran Baru  Jakarta Selatan   \n",
              "...                             ...             ...              ...   \n",
              "26799  TPC, Summarecon Mall Serpong      Kelapa Dua  Tangerang, Kab.   \n",
              "26800  TPC, Summarecon Mall Serpong      Kelapa Dua  Tangerang, Kab.   \n",
              "26801  TPC, Summarecon Mall Serpong      Kelapa Dua  Tangerang, Kab.   \n",
              "26802  TPC, Summarecon Mall Serpong      Kelapa Dua  Tangerang, Kab.   \n",
              "26803  TPC, Summarecon Mall Serpong      Kelapa Dua  Tangerang, Kab.   \n",
              "\n",
              "                                    menu_id        menu_type menu_category  \\\n",
              "0      5204e17e-aefb-4235-8eb8-7177a5679352        Ala Carte          FOOD   \n",
              "1      1420bcef-ac34-4967-b5e0-4a2942f222a4  Package Content      BEVERAGE   \n",
              "2      1420bcef-ac34-4967-b5e0-4a2942f222a4  Package Content      BEVERAGE   \n",
              "3      77bb78c6-2f51-4f61-9d74-02d69388cef1  Package Content      BEVERAGE   \n",
              "4      f026874c-5a66-4184-8ce0-9aeb9e37b5ac  Package Content       LIQUEUR   \n",
              "...                                     ...              ...           ...   \n",
              "26799  23584c04-c6ae-4118-94a9-f248e3a58b00        Ala Carte          FOOD   \n",
              "26800  b69907d0-a325-4b5a-bb48-2bb6abbae51a  Package Content          FOOD   \n",
              "26801  d9c617fb-65f1-481b-98a4-55d8f73a6fdb  Package Content      BEVERAGE   \n",
              "26802  6b4f7c28-3e6e-4430-b1d7-b9604a18f8ce     Package Head      BEVERAGE   \n",
              "26803  c583ee74-e0b1-47f8-a8cd-a21b3c03c258        Ala Carte          FOOD   \n",
              "\n",
              "             menu_category_detail                         menu_name  quantity  \\\n",
              "0                      APPETIZERS                      French Fries       1.0   \n",
              "1               BEVERAGE MODIFIER                            Single       1.0   \n",
              "2               BEVERAGE MODIFIER                            Single       1.0   \n",
              "3               BEVERAGE MODIFIER                         Coca Cola       1.0   \n",
              "4                       WHISK(E)Y            Monkey Shoulder_Double       1.0   \n",
              "...                           ...                               ...       ...   \n",
              "26799                     DESSERT                    Brownies&Cream       1.0   \n",
              "26800               FOOD MODIFIER                   Setengah Matang       1.0   \n",
              "26801           BEVERAGE MODIFIER                               Hot       1.0   \n",
              "26802  FRESHLY BREWED BY DJOURNAL                        Long Black       1.0   \n",
              "26803                       MAINS  American Grilled Cheese Sandwich       1.0   \n",
              "\n",
              "                                    user_id      user_created_at  \\\n",
              "0      db0df3a5-2d00-4fed-93b1-99ea1eedccd8  2021-05-13 07:41:27   \n",
              "1      db0df3a5-2d00-4fed-93b1-99ea1eedccd8  2021-05-13 07:41:27   \n",
              "2      db0df3a5-2d00-4fed-93b1-99ea1eedccd8  2021-05-13 07:41:27   \n",
              "3      db0df3a5-2d00-4fed-93b1-99ea1eedccd8  2021-05-13 07:41:27   \n",
              "4      db0df3a5-2d00-4fed-93b1-99ea1eedccd8  2021-05-13 07:41:27   \n",
              "...                                     ...                  ...   \n",
              "26799  0b826949-4772-4de9-8144-1d9beceb7481  2021-04-22 13:54:06   \n",
              "26800  0b826949-4772-4de9-8144-1d9beceb7481  2021-04-22 13:54:06   \n",
              "26801  0b826949-4772-4de9-8144-1d9beceb7481  2021-04-22 13:54:06   \n",
              "26802  0b826949-4772-4de9-8144-1d9beceb7481  2021-04-22 13:54:06   \n",
              "26803  0b826949-4772-4de9-8144-1d9beceb7481  2021-04-22 13:54:06   \n",
              "\n",
              "      user_tier_level user_gender  \n",
              "0                Gold           F  \n",
              "1                Gold           F  \n",
              "2                Gold           F  \n",
              "3                Gold           F  \n",
              "4                Gold           F  \n",
              "...               ...         ...  \n",
              "26799           Basic           F  \n",
              "26800           Basic           F  \n",
              "26801           Basic           F  \n",
              "26802           Basic           F  \n",
              "26803           Basic           F  \n",
              "\n",
              "[26804 rows x 18 columns]"
            ],
            "text/html": [
              "\n",
              "  <div id=\"df-05f88bc8-4b5d-43d6-b0b9-38715459e4b7\" class=\"colab-df-container\">\n",
              "    <div>\n",
              "<style scoped>\n",
              "    .dataframe tbody tr th:only-of-type {\n",
              "        vertical-align: middle;\n",
              "    }\n",
              "\n",
              "    .dataframe tbody tr th {\n",
              "        vertical-align: top;\n",
              "    }\n",
              "\n",
              "    .dataframe thead th {\n",
              "        text-align: right;\n",
              "    }\n",
              "</style>\n",
              "<table border=\"1\" class=\"dataframe\">\n",
              "  <thead>\n",
              "    <tr style=\"text-align: right;\">\n",
              "      <th></th>\n",
              "      <th>trx_date</th>\n",
              "      <th>trx_date_detail</th>\n",
              "      <th>sales_id</th>\n",
              "      <th>concept</th>\n",
              "      <th>brand</th>\n",
              "      <th>outlet</th>\n",
              "      <th>district</th>\n",
              "      <th>city</th>\n",
              "      <th>menu_id</th>\n",
              "      <th>menu_type</th>\n",
              "      <th>menu_category</th>\n",
              "      <th>menu_category_detail</th>\n",
              "      <th>menu_name</th>\n",
              "      <th>quantity</th>\n",
              "      <th>user_id</th>\n",
              "      <th>user_created_at</th>\n",
              "      <th>user_tier_level</th>\n",
              "      <th>user_gender</th>\n",
              "    </tr>\n",
              "  </thead>\n",
              "  <tbody>\n",
              "    <tr>\n",
              "      <th>0</th>\n",
              "      <td>2023-01-04</td>\n",
              "      <td>2023-01-04 20:26:46 UTC</td>\n",
              "      <td>02d6de17-9ca4-480f-b13c-7336dccd64b9</td>\n",
              "      <td>Lifestyle</td>\n",
              "      <td>A/A</td>\n",
              "      <td>Apothecary, Gunawarman</td>\n",
              "      <td>Kebayoran Baru</td>\n",
              "      <td>Jakarta Selatan</td>\n",
              "      <td>5204e17e-aefb-4235-8eb8-7177a5679352</td>\n",
              "      <td>Ala Carte</td>\n",
              "      <td>FOOD</td>\n",
              "      <td>APPETIZERS</td>\n",
              "      <td>French Fries</td>\n",
              "      <td>1.0</td>\n",
              "      <td>db0df3a5-2d00-4fed-93b1-99ea1eedccd8</td>\n",
              "      <td>2021-05-13 07:41:27</td>\n",
              "      <td>Gold</td>\n",
              "      <td>F</td>\n",
              "    </tr>\n",
              "    <tr>\n",
              "      <th>1</th>\n",
              "      <td>2023-01-04</td>\n",
              "      <td>2023-01-04 20:26:46 UTC</td>\n",
              "      <td>02d6de17-9ca4-480f-b13c-7336dccd64b9</td>\n",
              "      <td>Lifestyle</td>\n",
              "      <td>A/A</td>\n",
              "      <td>Apothecary, Gunawarman</td>\n",
              "      <td>Kebayoran Baru</td>\n",
              "      <td>Jakarta Selatan</td>\n",
              "      <td>1420bcef-ac34-4967-b5e0-4a2942f222a4</td>\n",
              "      <td>Package Content</td>\n",
              "      <td>BEVERAGE</td>\n",
              "      <td>BEVERAGE MODIFIER</td>\n",
              "      <td>Single</td>\n",
              "      <td>1.0</td>\n",
              "      <td>db0df3a5-2d00-4fed-93b1-99ea1eedccd8</td>\n",
              "      <td>2021-05-13 07:41:27</td>\n",
              "      <td>Gold</td>\n",
              "      <td>F</td>\n",
              "    </tr>\n",
              "    <tr>\n",
              "      <th>2</th>\n",
              "      <td>2023-01-04</td>\n",
              "      <td>2023-01-04 20:26:46 UTC</td>\n",
              "      <td>02d6de17-9ca4-480f-b13c-7336dccd64b9</td>\n",
              "      <td>Lifestyle</td>\n",
              "      <td>A/A</td>\n",
              "      <td>Apothecary, Gunawarman</td>\n",
              "      <td>Kebayoran Baru</td>\n",
              "      <td>Jakarta Selatan</td>\n",
              "      <td>1420bcef-ac34-4967-b5e0-4a2942f222a4</td>\n",
              "      <td>Package Content</td>\n",
              "      <td>BEVERAGE</td>\n",
              "      <td>BEVERAGE MODIFIER</td>\n",
              "      <td>Single</td>\n",
              "      <td>1.0</td>\n",
              "      <td>db0df3a5-2d00-4fed-93b1-99ea1eedccd8</td>\n",
              "      <td>2021-05-13 07:41:27</td>\n",
              "      <td>Gold</td>\n",
              "      <td>F</td>\n",
              "    </tr>\n",
              "    <tr>\n",
              "      <th>3</th>\n",
              "      <td>2023-01-04</td>\n",
              "      <td>2023-01-04 20:26:46 UTC</td>\n",
              "      <td>02d6de17-9ca4-480f-b13c-7336dccd64b9</td>\n",
              "      <td>Lifestyle</td>\n",
              "      <td>A/A</td>\n",
              "      <td>Apothecary, Gunawarman</td>\n",
              "      <td>Kebayoran Baru</td>\n",
              "      <td>Jakarta Selatan</td>\n",
              "      <td>77bb78c6-2f51-4f61-9d74-02d69388cef1</td>\n",
              "      <td>Package Content</td>\n",
              "      <td>BEVERAGE</td>\n",
              "      <td>BEVERAGE MODIFIER</td>\n",
              "      <td>Coca Cola</td>\n",
              "      <td>1.0</td>\n",
              "      <td>db0df3a5-2d00-4fed-93b1-99ea1eedccd8</td>\n",
              "      <td>2021-05-13 07:41:27</td>\n",
              "      <td>Gold</td>\n",
              "      <td>F</td>\n",
              "    </tr>\n",
              "    <tr>\n",
              "      <th>4</th>\n",
              "      <td>2023-01-04</td>\n",
              "      <td>2023-01-04 20:26:46 UTC</td>\n",
              "      <td>02d6de17-9ca4-480f-b13c-7336dccd64b9</td>\n",
              "      <td>Lifestyle</td>\n",
              "      <td>A/A</td>\n",
              "      <td>Apothecary, Gunawarman</td>\n",
              "      <td>Kebayoran Baru</td>\n",
              "      <td>Jakarta Selatan</td>\n",
              "      <td>f026874c-5a66-4184-8ce0-9aeb9e37b5ac</td>\n",
              "      <td>Package Content</td>\n",
              "      <td>LIQUEUR</td>\n",
              "      <td>WHISK(E)Y</td>\n",
              "      <td>Monkey Shoulder_Double</td>\n",
              "      <td>1.0</td>\n",
              "      <td>db0df3a5-2d00-4fed-93b1-99ea1eedccd8</td>\n",
              "      <td>2021-05-13 07:41:27</td>\n",
              "      <td>Gold</td>\n",
              "      <td>F</td>\n",
              "    </tr>\n",
              "    <tr>\n",
              "      <th>...</th>\n",
              "      <td>...</td>\n",
              "      <td>...</td>\n",
              "      <td>...</td>\n",
              "      <td>...</td>\n",
              "      <td>...</td>\n",
              "      <td>...</td>\n",
              "      <td>...</td>\n",
              "      <td>...</td>\n",
              "      <td>...</td>\n",
              "      <td>...</td>\n",
              "      <td>...</td>\n",
              "      <td>...</td>\n",
              "      <td>...</td>\n",
              "      <td>...</td>\n",
              "      <td>...</td>\n",
              "      <td>...</td>\n",
              "      <td>...</td>\n",
              "      <td>...</td>\n",
              "    </tr>\n",
              "    <tr>\n",
              "      <th>26799</th>\n",
              "      <td>2023-01-01</td>\n",
              "      <td>2023-01-01 21:46:16 UTC</td>\n",
              "      <td>85d9a596-8307-4078-a4d5-debdef0f31c0</td>\n",
              "      <td>Resto</td>\n",
              "      <td>TPC</td>\n",
              "      <td>TPC, Summarecon Mall Serpong</td>\n",
              "      <td>Kelapa Dua</td>\n",
              "      <td>Tangerang, Kab.</td>\n",
              "      <td>23584c04-c6ae-4118-94a9-f248e3a58b00</td>\n",
              "      <td>Ala Carte</td>\n",
              "      <td>FOOD</td>\n",
              "      <td>DESSERT</td>\n",
              "      <td>Brownies&amp;Cream</td>\n",
              "      <td>1.0</td>\n",
              "      <td>0b826949-4772-4de9-8144-1d9beceb7481</td>\n",
              "      <td>2021-04-22 13:54:06</td>\n",
              "      <td>Basic</td>\n",
              "      <td>F</td>\n",
              "    </tr>\n",
              "    <tr>\n",
              "      <th>26800</th>\n",
              "      <td>2023-01-01</td>\n",
              "      <td>2023-01-01 21:46:16 UTC</td>\n",
              "      <td>85d9a596-8307-4078-a4d5-debdef0f31c0</td>\n",
              "      <td>Resto</td>\n",
              "      <td>TPC</td>\n",
              "      <td>TPC, Summarecon Mall Serpong</td>\n",
              "      <td>Kelapa Dua</td>\n",
              "      <td>Tangerang, Kab.</td>\n",
              "      <td>b69907d0-a325-4b5a-bb48-2bb6abbae51a</td>\n",
              "      <td>Package Content</td>\n",
              "      <td>FOOD</td>\n",
              "      <td>FOOD MODIFIER</td>\n",
              "      <td>Setengah Matang</td>\n",
              "      <td>1.0</td>\n",
              "      <td>0b826949-4772-4de9-8144-1d9beceb7481</td>\n",
              "      <td>2021-04-22 13:54:06</td>\n",
              "      <td>Basic</td>\n",
              "      <td>F</td>\n",
              "    </tr>\n",
              "    <tr>\n",
              "      <th>26801</th>\n",
              "      <td>2023-01-01</td>\n",
              "      <td>2023-01-01 21:46:16 UTC</td>\n",
              "      <td>85d9a596-8307-4078-a4d5-debdef0f31c0</td>\n",
              "      <td>Resto</td>\n",
              "      <td>TPC</td>\n",
              "      <td>TPC, Summarecon Mall Serpong</td>\n",
              "      <td>Kelapa Dua</td>\n",
              "      <td>Tangerang, Kab.</td>\n",
              "      <td>d9c617fb-65f1-481b-98a4-55d8f73a6fdb</td>\n",
              "      <td>Package Content</td>\n",
              "      <td>BEVERAGE</td>\n",
              "      <td>BEVERAGE MODIFIER</td>\n",
              "      <td>Hot</td>\n",
              "      <td>1.0</td>\n",
              "      <td>0b826949-4772-4de9-8144-1d9beceb7481</td>\n",
              "      <td>2021-04-22 13:54:06</td>\n",
              "      <td>Basic</td>\n",
              "      <td>F</td>\n",
              "    </tr>\n",
              "    <tr>\n",
              "      <th>26802</th>\n",
              "      <td>2023-01-01</td>\n",
              "      <td>2023-01-01 21:46:16 UTC</td>\n",
              "      <td>85d9a596-8307-4078-a4d5-debdef0f31c0</td>\n",
              "      <td>Resto</td>\n",
              "      <td>TPC</td>\n",
              "      <td>TPC, Summarecon Mall Serpong</td>\n",
              "      <td>Kelapa Dua</td>\n",
              "      <td>Tangerang, Kab.</td>\n",
              "      <td>6b4f7c28-3e6e-4430-b1d7-b9604a18f8ce</td>\n",
              "      <td>Package Head</td>\n",
              "      <td>BEVERAGE</td>\n",
              "      <td>FRESHLY BREWED BY DJOURNAL</td>\n",
              "      <td>Long Black</td>\n",
              "      <td>1.0</td>\n",
              "      <td>0b826949-4772-4de9-8144-1d9beceb7481</td>\n",
              "      <td>2021-04-22 13:54:06</td>\n",
              "      <td>Basic</td>\n",
              "      <td>F</td>\n",
              "    </tr>\n",
              "    <tr>\n",
              "      <th>26803</th>\n",
              "      <td>2023-01-01</td>\n",
              "      <td>2023-01-01 21:46:16 UTC</td>\n",
              "      <td>85d9a596-8307-4078-a4d5-debdef0f31c0</td>\n",
              "      <td>Resto</td>\n",
              "      <td>TPC</td>\n",
              "      <td>TPC, Summarecon Mall Serpong</td>\n",
              "      <td>Kelapa Dua</td>\n",
              "      <td>Tangerang, Kab.</td>\n",
              "      <td>c583ee74-e0b1-47f8-a8cd-a21b3c03c258</td>\n",
              "      <td>Ala Carte</td>\n",
              "      <td>FOOD</td>\n",
              "      <td>MAINS</td>\n",
              "      <td>American Grilled Cheese Sandwich</td>\n",
              "      <td>1.0</td>\n",
              "      <td>0b826949-4772-4de9-8144-1d9beceb7481</td>\n",
              "      <td>2021-04-22 13:54:06</td>\n",
              "      <td>Basic</td>\n",
              "      <td>F</td>\n",
              "    </tr>\n",
              "  </tbody>\n",
              "</table>\n",
              "<p>26804 rows × 18 columns</p>\n",
              "</div>\n",
              "    <div class=\"colab-df-buttons\">\n",
              "\n",
              "  <div class=\"colab-df-container\">\n",
              "    <button class=\"colab-df-convert\" onclick=\"convertToInteractive('df-05f88bc8-4b5d-43d6-b0b9-38715459e4b7')\"\n",
              "            title=\"Convert this dataframe to an interactive table.\"\n",
              "            style=\"display:none;\">\n",
              "\n",
              "  <svg xmlns=\"http://www.w3.org/2000/svg\" height=\"24px\" viewBox=\"0 -960 960 960\">\n",
              "    <path d=\"M120-120v-720h720v720H120Zm60-500h600v-160H180v160Zm220 220h160v-160H400v160Zm0 220h160v-160H400v160ZM180-400h160v-160H180v160Zm440 0h160v-160H620v160ZM180-180h160v-160H180v160Zm440 0h160v-160H620v160Z\"/>\n",
              "  </svg>\n",
              "    </button>\n",
              "\n",
              "  <style>\n",
              "    .colab-df-container {\n",
              "      display:flex;\n",
              "      gap: 12px;\n",
              "    }\n",
              "\n",
              "    .colab-df-convert {\n",
              "      background-color: #E8F0FE;\n",
              "      border: none;\n",
              "      border-radius: 50%;\n",
              "      cursor: pointer;\n",
              "      display: none;\n",
              "      fill: #1967D2;\n",
              "      height: 32px;\n",
              "      padding: 0 0 0 0;\n",
              "      width: 32px;\n",
              "    }\n",
              "\n",
              "    .colab-df-convert:hover {\n",
              "      background-color: #E2EBFA;\n",
              "      box-shadow: 0px 1px 2px rgba(60, 64, 67, 0.3), 0px 1px 3px 1px rgba(60, 64, 67, 0.15);\n",
              "      fill: #174EA6;\n",
              "    }\n",
              "\n",
              "    .colab-df-buttons div {\n",
              "      margin-bottom: 4px;\n",
              "    }\n",
              "\n",
              "    [theme=dark] .colab-df-convert {\n",
              "      background-color: #3B4455;\n",
              "      fill: #D2E3FC;\n",
              "    }\n",
              "\n",
              "    [theme=dark] .colab-df-convert:hover {\n",
              "      background-color: #434B5C;\n",
              "      box-shadow: 0px 1px 3px 1px rgba(0, 0, 0, 0.15);\n",
              "      filter: drop-shadow(0px 1px 2px rgba(0, 0, 0, 0.3));\n",
              "      fill: #FFFFFF;\n",
              "    }\n",
              "  </style>\n",
              "\n",
              "    <script>\n",
              "      const buttonEl =\n",
              "        document.querySelector('#df-05f88bc8-4b5d-43d6-b0b9-38715459e4b7 button.colab-df-convert');\n",
              "      buttonEl.style.display =\n",
              "        google.colab.kernel.accessAllowed ? 'block' : 'none';\n",
              "\n",
              "      async function convertToInteractive(key) {\n",
              "        const element = document.querySelector('#df-05f88bc8-4b5d-43d6-b0b9-38715459e4b7');\n",
              "        const dataTable =\n",
              "          await google.colab.kernel.invokeFunction('convertToInteractive',\n",
              "                                                    [key], {});\n",
              "        if (!dataTable) return;\n",
              "\n",
              "        const docLinkHtml = 'Like what you see? Visit the ' +\n",
              "          '<a target=\"_blank\" href=https://colab.research.google.com/notebooks/data_table.ipynb>data table notebook</a>'\n",
              "          + ' to learn more about interactive tables.';\n",
              "        element.innerHTML = '';\n",
              "        dataTable['output_type'] = 'display_data';\n",
              "        await google.colab.output.renderOutput(dataTable, element);\n",
              "        const docLink = document.createElement('div');\n",
              "        docLink.innerHTML = docLinkHtml;\n",
              "        element.appendChild(docLink);\n",
              "      }\n",
              "    </script>\n",
              "  </div>\n",
              "\n",
              "\n",
              "<div id=\"df-8c89e8ea-8a4c-492d-9cdb-3450bb064822\">\n",
              "  <button class=\"colab-df-quickchart\" onclick=\"quickchart('df-8c89e8ea-8a4c-492d-9cdb-3450bb064822')\"\n",
              "            title=\"Suggest charts.\"\n",
              "            style=\"display:none;\">\n",
              "\n",
              "<svg xmlns=\"http://www.w3.org/2000/svg\" height=\"24px\"viewBox=\"0 0 24 24\"\n",
              "     width=\"24px\">\n",
              "    <g>\n",
              "        <path d=\"M19 3H5c-1.1 0-2 .9-2 2v14c0 1.1.9 2 2 2h14c1.1 0 2-.9 2-2V5c0-1.1-.9-2-2-2zM9 17H7v-7h2v7zm4 0h-2V7h2v10zm4 0h-2v-4h2v4z\"/>\n",
              "    </g>\n",
              "</svg>\n",
              "  </button>\n",
              "\n",
              "<style>\n",
              "  .colab-df-quickchart {\n",
              "    background-color: #E8F0FE;\n",
              "    border: none;\n",
              "    border-radius: 50%;\n",
              "    cursor: pointer;\n",
              "    display: none;\n",
              "    fill: #1967D2;\n",
              "    height: 32px;\n",
              "    padding: 0 0 0 0;\n",
              "    width: 32px;\n",
              "  }\n",
              "\n",
              "  .colab-df-quickchart:hover {\n",
              "    background-color: #E2EBFA;\n",
              "    box-shadow: 0px 1px 2px rgba(60, 64, 67, 0.3), 0px 1px 3px 1px rgba(60, 64, 67, 0.15);\n",
              "    fill: #174EA6;\n",
              "  }\n",
              "\n",
              "  [theme=dark] .colab-df-quickchart {\n",
              "    background-color: #3B4455;\n",
              "    fill: #D2E3FC;\n",
              "  }\n",
              "\n",
              "  [theme=dark] .colab-df-quickchart:hover {\n",
              "    background-color: #434B5C;\n",
              "    box-shadow: 0px 1px 3px 1px rgba(0, 0, 0, 0.15);\n",
              "    filter: drop-shadow(0px 1px 2px rgba(0, 0, 0, 0.3));\n",
              "    fill: #FFFFFF;\n",
              "  }\n",
              "</style>\n",
              "\n",
              "  <script>\n",
              "    async function quickchart(key) {\n",
              "      const charts = await google.colab.kernel.invokeFunction(\n",
              "          'suggestCharts', [key], {});\n",
              "    }\n",
              "    (() => {\n",
              "      let quickchartButtonEl =\n",
              "        document.querySelector('#df-8c89e8ea-8a4c-492d-9cdb-3450bb064822 button');\n",
              "      quickchartButtonEl.style.display =\n",
              "        google.colab.kernel.accessAllowed ? 'block' : 'none';\n",
              "    })();\n",
              "  </script>\n",
              "</div>\n",
              "    </div>\n",
              "  </div>\n"
            ]
          },
          "metadata": {},
          "execution_count": 66
        }
      ]
    },
    {
      "cell_type": "code",
      "source": [
        "def extract_hour(datetime_obj):\n",
        "    return datetime_obj.hour\n",
        "\n",
        "def extract_minutes(datetime_obj):\n",
        "    return datetime_obj.minute\n",
        "\n",
        "def extract_day(datetime_obj):\n",
        "    return datetime_obj.day\n",
        "\n",
        "def extract_month(datetime_obj):\n",
        "    return datetime_obj.month\n",
        "\n",
        "def extract_year(datetime_obj):\n",
        "    return datetime_obj.year"
      ],
      "metadata": {
        "id": "GL60bbpb-atB"
      },
      "execution_count": null,
      "outputs": []
    },
    {
      "cell_type": "code",
      "source": [
        "df['trx_date_detail'] = pd.to_datetime(df['trx_date_detail'], format=\"%Y-%m-%d %H:%M:%S %Z\")"
      ],
      "metadata": {
        "id": "Jm2rIuXl-qV5"
      },
      "execution_count": null,
      "outputs": []
    },
    {
      "cell_type": "code",
      "source": [
        "df['user_created_at'] = pd.to_datetime(df['user_created_at'])"
      ],
      "metadata": {
        "id": "PuAXrv7O86-m"
      },
      "execution_count": null,
      "outputs": []
    },
    {
      "cell_type": "code",
      "source": [
        "df['hour'] = df['trx_date_detail'].apply(extract_hour)\n",
        "df['day'] = df['trx_date_detail'].apply(extract_day)\n",
        "df['month'] = df['trx_date_detail'].apply(extract_month)\n",
        "df['year'] = df['trx_date_detail'].apply(extract_year)"
      ],
      "metadata": {
        "id": "kSC0EJyy-eQB"
      },
      "execution_count": null,
      "outputs": []
    },
    {
      "cell_type": "code",
      "source": [
        "df['user_created_year'] = df['user_created_at'].dt.year\n",
        "df['user_created_month'] = df['user_created_at'].dt.month\n",
        "df['user_created_day'] = df['user_created_at'].dt.day\n",
        "df['user_created_hour'] = df['user_created_at'].dt.hour"
      ],
      "metadata": {
        "id": "1BnmrmN98v3C"
      },
      "execution_count": null,
      "outputs": []
    },
    {
      "cell_type": "code",
      "source": [
        "df = df.drop('trx_date_detail', axis=1)"
      ],
      "metadata": {
        "id": "p3Pa8bltOlvg"
      },
      "execution_count": null,
      "outputs": []
    },
    {
      "cell_type": "code",
      "source": [
        "df = df.drop('trx_date', axis=1)\n",
        "df = df.drop('user_created_at', axis=1)"
      ],
      "metadata": {
        "id": "QPiKDUte0kxm"
      },
      "execution_count": null,
      "outputs": []
    },
    {
      "cell_type": "code",
      "source": [
        "df['user_id'] = df['user_id'].astype(str)"
      ],
      "metadata": {
        "id": "Y1zfZozD5BN8"
      },
      "execution_count": null,
      "outputs": []
    },
    {
      "cell_type": "code",
      "source": [
        "df['sales_id'] = df['sales_id'].astype(str)"
      ],
      "metadata": {
        "id": "Ftn48qkE5HT7"
      },
      "execution_count": null,
      "outputs": []
    },
    {
      "cell_type": "code",
      "source": [
        "df['quantity'] = df['quantity'].astype(np.float32)"
      ],
      "metadata": {
        "id": "Dz6RBTkDPdQJ"
      },
      "execution_count": null,
      "outputs": []
    },
    {
      "cell_type": "code",
      "source": [
        "unique_user_id = df.user_id.unique()\n",
        "unique_concept = df.concept.unique()\n",
        "unique_brand = df.brand.unique()\n",
        "unique_outlet = df.outlet.unique()\n",
        "unique_district = df.district.unique()\n",
        "unique_city = df.city.unique()\n",
        "unique_menu_id = df.menu_id.unique()\n",
        "unique_menu_type = df.menu_type.unique()\n",
        "unique_menu_category = df.menu_category.unique()\n",
        "unique_menu_category_detail = df.menu_category_detail.unique()\n",
        "unique_menu_name = df.menu_name.unique()\n",
        "unique_user_tier_level = df.user_tier_level.unique()\n",
        "unique_user_gender = df.user_gender.unique()"
      ],
      "metadata": {
        "id": "dt5U79u75vbr"
      },
      "execution_count": null,
      "outputs": []
    },
    {
      "cell_type": "code",
      "source": [
        "user_menu_quantities = df.groupby([\"user_id\", \"menu_id\"])[\"quantity\"].sum().reset_index()\n",
        "\n",
        "# Display the result\n",
        "print(user_menu_quantities)"
      ],
      "metadata": {
        "colab": {
          "base_uri": "https://localhost:8080/"
        },
        "id": "mf2Nb0gOGpIA",
        "outputId": "ac0d3d6b-09c3-4b3b-8d69-1f4637326424"
      },
      "execution_count": null,
      "outputs": [
        {
          "output_type": "stream",
          "name": "stdout",
          "text": [
            "                                    user_id  \\\n",
            "0      00b158ed-0fcb-48e1-b627-2bb572a344cf   \n",
            "1      00b158ed-0fcb-48e1-b627-2bb572a344cf   \n",
            "2      00b158ed-0fcb-48e1-b627-2bb572a344cf   \n",
            "3      00b158ed-0fcb-48e1-b627-2bb572a344cf   \n",
            "4      00b158ed-0fcb-48e1-b627-2bb572a344cf   \n",
            "...                                     ...   \n",
            "17932  ffde4412-810f-4800-a40b-27ad2a614a9e   \n",
            "17933  ffde4412-810f-4800-a40b-27ad2a614a9e   \n",
            "17934  ffde4412-810f-4800-a40b-27ad2a614a9e   \n",
            "17935  ffde4412-810f-4800-a40b-27ad2a614a9e   \n",
            "17936  ffde4412-810f-4800-a40b-27ad2a614a9e   \n",
            "\n",
            "                                    menu_id  quantity  \n",
            "0      04891c2e-96a9-4a6f-9e73-f810087eea54       1.0  \n",
            "1      0cbbe21a-1dd1-470b-b4f9-e41cf62d17c7       1.0  \n",
            "2      16d7a8e4-1455-4e99-a84c-c82c10aa8e61       8.0  \n",
            "3      2226b630-4dcb-468e-9623-ce3973c4bbe6       1.0  \n",
            "4      3f90bafe-9cc0-41c6-b11b-ce0067bfda38       3.0  \n",
            "...                                     ...       ...  \n",
            "17932  e161161e-746d-44cc-a016-68aa3f18e8ae       2.0  \n",
            "17933  e80a5733-7f88-40d9-afbe-2ed52bf2c18a       1.0  \n",
            "17934  e85a0bea-af1e-4b08-b898-1ec38992f475       1.0  \n",
            "17935  eca07b1d-ed53-4954-b2ee-773534de5f36       1.0  \n",
            "17936  f383cbb8-a20d-4c8e-bdf7-da0af17c7b9b       1.0  \n",
            "\n",
            "[17937 rows x 3 columns]\n"
          ]
        }
      ]
    },
    {
      "cell_type": "markdown",
      "source": [
        "Scaling things in case needed"
      ],
      "metadata": {
        "id": "8tR0u532z2dN"
      }
    },
    {
      "cell_type": "code",
      "source": [
        "from sklearn.preprocessing import StandardScaler\n",
        "\n",
        "# Select the quantity column for scaling\n",
        "quantity_values = user_menu_quantities[\"quantity\"].values.reshape(-1, 1)\n",
        "\n",
        "# Create a StandardScaler instance and fit-transform the data\n",
        "scaler = StandardScaler()\n",
        "scaled_quantity = scaler.fit_transform(quantity_values)\n",
        "\n",
        "# Update the DataFrame with scaled values\n",
        "user_menu_quantities[\"scaled_quantity\"] = scaled_quantity\n",
        "\n",
        "# Display the result\n",
        "print(user_menu_quantities)"
      ],
      "metadata": {
        "id": "eS0QusVZc_qX",
        "colab": {
          "base_uri": "https://localhost:8080/"
        },
        "outputId": "edf5b46b-88cf-4779-fce1-fb008b527d05"
      },
      "execution_count": null,
      "outputs": [
        {
          "output_type": "stream",
          "name": "stdout",
          "text": [
            "                                    user_id  \\\n",
            "0      00b158ed-0fcb-48e1-b627-2bb572a344cf   \n",
            "1      00b158ed-0fcb-48e1-b627-2bb572a344cf   \n",
            "2      00b158ed-0fcb-48e1-b627-2bb572a344cf   \n",
            "3      00b158ed-0fcb-48e1-b627-2bb572a344cf   \n",
            "4      00b158ed-0fcb-48e1-b627-2bb572a344cf   \n",
            "...                                     ...   \n",
            "17932  ffde4412-810f-4800-a40b-27ad2a614a9e   \n",
            "17933  ffde4412-810f-4800-a40b-27ad2a614a9e   \n",
            "17934  ffde4412-810f-4800-a40b-27ad2a614a9e   \n",
            "17935  ffde4412-810f-4800-a40b-27ad2a614a9e   \n",
            "17936  ffde4412-810f-4800-a40b-27ad2a614a9e   \n",
            "\n",
            "                                    menu_id  quantity  scaled_quantity  \n",
            "0      04891c2e-96a9-4a6f-9e73-f810087eea54       1.0        -0.284088  \n",
            "1      0cbbe21a-1dd1-470b-b4f9-e41cf62d17c7       1.0        -0.284088  \n",
            "2      16d7a8e4-1455-4e99-a84c-c82c10aa8e61       8.0         2.407974  \n",
            "3      2226b630-4dcb-468e-9623-ce3973c4bbe6       1.0        -0.284088  \n",
            "4      3f90bafe-9cc0-41c6-b11b-ce0067bfda38       3.0         0.485072  \n",
            "...                                     ...       ...              ...  \n",
            "17932  e161161e-746d-44cc-a016-68aa3f18e8ae       2.0         0.100492  \n",
            "17933  e80a5733-7f88-40d9-afbe-2ed52bf2c18a       1.0        -0.284088  \n",
            "17934  e85a0bea-af1e-4b08-b898-1ec38992f475       1.0        -0.284088  \n",
            "17935  eca07b1d-ed53-4954-b2ee-773534de5f36       1.0        -0.284088  \n",
            "17936  f383cbb8-a20d-4c8e-bdf7-da0af17c7b9b       1.0        -0.284088  \n",
            "\n",
            "[17937 rows x 4 columns]\n"
          ]
        }
      ]
    },
    {
      "cell_type": "code",
      "source": [
        "user_menu_quantities = pd.DataFrame(user_menu_quantities)"
      ],
      "metadata": {
        "id": "GVz0LNJXdU39"
      },
      "execution_count": null,
      "outputs": []
    },
    {
      "cell_type": "code",
      "source": [
        "df"
      ],
      "metadata": {
        "colab": {
          "base_uri": "https://localhost:8080/",
          "height": 964
        },
        "id": "rU2gB03E7Eni",
        "outputId": "d196fc86-b3cc-41c0-d81f-b9e82a671e98"
      },
      "execution_count": null,
      "outputs": [
        {
          "output_type": "execute_result",
          "data": {
            "text/plain": [
              "                                   sales_id    concept brand  \\\n",
              "0      02d6de17-9ca4-480f-b13c-7336dccd64b9  Lifestyle   A/A   \n",
              "1      02d6de17-9ca4-480f-b13c-7336dccd64b9  Lifestyle   A/A   \n",
              "2      02d6de17-9ca4-480f-b13c-7336dccd64b9  Lifestyle   A/A   \n",
              "3      02d6de17-9ca4-480f-b13c-7336dccd64b9  Lifestyle   A/A   \n",
              "4      02d6de17-9ca4-480f-b13c-7336dccd64b9  Lifestyle   A/A   \n",
              "...                                     ...        ...   ...   \n",
              "26799  85d9a596-8307-4078-a4d5-debdef0f31c0      Resto   TPC   \n",
              "26800  85d9a596-8307-4078-a4d5-debdef0f31c0      Resto   TPC   \n",
              "26801  85d9a596-8307-4078-a4d5-debdef0f31c0      Resto   TPC   \n",
              "26802  85d9a596-8307-4078-a4d5-debdef0f31c0      Resto   TPC   \n",
              "26803  85d9a596-8307-4078-a4d5-debdef0f31c0      Resto   TPC   \n",
              "\n",
              "                             outlet        district             city  \\\n",
              "0            Apothecary, Gunawarman  Kebayoran Baru  Jakarta Selatan   \n",
              "1            Apothecary, Gunawarman  Kebayoran Baru  Jakarta Selatan   \n",
              "2            Apothecary, Gunawarman  Kebayoran Baru  Jakarta Selatan   \n",
              "3            Apothecary, Gunawarman  Kebayoran Baru  Jakarta Selatan   \n",
              "4            Apothecary, Gunawarman  Kebayoran Baru  Jakarta Selatan   \n",
              "...                             ...             ...              ...   \n",
              "26799  TPC, Summarecon Mall Serpong      Kelapa Dua  Tangerang, Kab.   \n",
              "26800  TPC, Summarecon Mall Serpong      Kelapa Dua  Tangerang, Kab.   \n",
              "26801  TPC, Summarecon Mall Serpong      Kelapa Dua  Tangerang, Kab.   \n",
              "26802  TPC, Summarecon Mall Serpong      Kelapa Dua  Tangerang, Kab.   \n",
              "26803  TPC, Summarecon Mall Serpong      Kelapa Dua  Tangerang, Kab.   \n",
              "\n",
              "                                    menu_id        menu_type menu_category  \\\n",
              "0      5204e17e-aefb-4235-8eb8-7177a5679352        Ala Carte          FOOD   \n",
              "1      1420bcef-ac34-4967-b5e0-4a2942f222a4  Package Content      BEVERAGE   \n",
              "2      1420bcef-ac34-4967-b5e0-4a2942f222a4  Package Content      BEVERAGE   \n",
              "3      77bb78c6-2f51-4f61-9d74-02d69388cef1  Package Content      BEVERAGE   \n",
              "4      f026874c-5a66-4184-8ce0-9aeb9e37b5ac  Package Content       LIQUEUR   \n",
              "...                                     ...              ...           ...   \n",
              "26799  23584c04-c6ae-4118-94a9-f248e3a58b00        Ala Carte          FOOD   \n",
              "26800  b69907d0-a325-4b5a-bb48-2bb6abbae51a  Package Content          FOOD   \n",
              "26801  d9c617fb-65f1-481b-98a4-55d8f73a6fdb  Package Content      BEVERAGE   \n",
              "26802  6b4f7c28-3e6e-4430-b1d7-b9604a18f8ce     Package Head      BEVERAGE   \n",
              "26803  c583ee74-e0b1-47f8-a8cd-a21b3c03c258        Ala Carte          FOOD   \n",
              "\n",
              "             menu_category_detail  ... user_tier_level  user_gender hour day  \\\n",
              "0                      APPETIZERS  ...            Gold            F   20   4   \n",
              "1               BEVERAGE MODIFIER  ...            Gold            F   20   4   \n",
              "2               BEVERAGE MODIFIER  ...            Gold            F   20   4   \n",
              "3               BEVERAGE MODIFIER  ...            Gold            F   20   4   \n",
              "4                       WHISK(E)Y  ...            Gold            F   20   4   \n",
              "...                           ...  ...             ...          ...  ...  ..   \n",
              "26799                     DESSERT  ...           Basic            F   21   1   \n",
              "26800               FOOD MODIFIER  ...           Basic            F   21   1   \n",
              "26801           BEVERAGE MODIFIER  ...           Basic            F   21   1   \n",
              "26802  FRESHLY BREWED BY DJOURNAL  ...           Basic            F   21   1   \n",
              "26803                       MAINS  ...           Basic            F   21   1   \n",
              "\n",
              "      month  year  user_created_year  user_created_month  user_created_day  \\\n",
              "0         1  2023               2021                   5                13   \n",
              "1         1  2023               2021                   5                13   \n",
              "2         1  2023               2021                   5                13   \n",
              "3         1  2023               2021                   5                13   \n",
              "4         1  2023               2021                   5                13   \n",
              "...     ...   ...                ...                 ...               ...   \n",
              "26799     1  2023               2021                   4                22   \n",
              "26800     1  2023               2021                   4                22   \n",
              "26801     1  2023               2021                   4                22   \n",
              "26802     1  2023               2021                   4                22   \n",
              "26803     1  2023               2021                   4                22   \n",
              "\n",
              "       user_created_hour  \n",
              "0                      7  \n",
              "1                      7  \n",
              "2                      7  \n",
              "3                      7  \n",
              "4                      7  \n",
              "...                  ...  \n",
              "26799                 13  \n",
              "26800                 13  \n",
              "26801                 13  \n",
              "26802                 13  \n",
              "26803                 13  \n",
              "\n",
              "[26804 rows x 23 columns]"
            ],
            "text/html": [
              "\n",
              "  <div id=\"df-9710273e-5e74-4593-8d94-da6c7c5b59d3\" class=\"colab-df-container\">\n",
              "    <div>\n",
              "<style scoped>\n",
              "    .dataframe tbody tr th:only-of-type {\n",
              "        vertical-align: middle;\n",
              "    }\n",
              "\n",
              "    .dataframe tbody tr th {\n",
              "        vertical-align: top;\n",
              "    }\n",
              "\n",
              "    .dataframe thead th {\n",
              "        text-align: right;\n",
              "    }\n",
              "</style>\n",
              "<table border=\"1\" class=\"dataframe\">\n",
              "  <thead>\n",
              "    <tr style=\"text-align: right;\">\n",
              "      <th></th>\n",
              "      <th>sales_id</th>\n",
              "      <th>concept</th>\n",
              "      <th>brand</th>\n",
              "      <th>outlet</th>\n",
              "      <th>district</th>\n",
              "      <th>city</th>\n",
              "      <th>menu_id</th>\n",
              "      <th>menu_type</th>\n",
              "      <th>menu_category</th>\n",
              "      <th>menu_category_detail</th>\n",
              "      <th>...</th>\n",
              "      <th>user_tier_level</th>\n",
              "      <th>user_gender</th>\n",
              "      <th>hour</th>\n",
              "      <th>day</th>\n",
              "      <th>month</th>\n",
              "      <th>year</th>\n",
              "      <th>user_created_year</th>\n",
              "      <th>user_created_month</th>\n",
              "      <th>user_created_day</th>\n",
              "      <th>user_created_hour</th>\n",
              "    </tr>\n",
              "  </thead>\n",
              "  <tbody>\n",
              "    <tr>\n",
              "      <th>0</th>\n",
              "      <td>02d6de17-9ca4-480f-b13c-7336dccd64b9</td>\n",
              "      <td>Lifestyle</td>\n",
              "      <td>A/A</td>\n",
              "      <td>Apothecary, Gunawarman</td>\n",
              "      <td>Kebayoran Baru</td>\n",
              "      <td>Jakarta Selatan</td>\n",
              "      <td>5204e17e-aefb-4235-8eb8-7177a5679352</td>\n",
              "      <td>Ala Carte</td>\n",
              "      <td>FOOD</td>\n",
              "      <td>APPETIZERS</td>\n",
              "      <td>...</td>\n",
              "      <td>Gold</td>\n",
              "      <td>F</td>\n",
              "      <td>20</td>\n",
              "      <td>4</td>\n",
              "      <td>1</td>\n",
              "      <td>2023</td>\n",
              "      <td>2021</td>\n",
              "      <td>5</td>\n",
              "      <td>13</td>\n",
              "      <td>7</td>\n",
              "    </tr>\n",
              "    <tr>\n",
              "      <th>1</th>\n",
              "      <td>02d6de17-9ca4-480f-b13c-7336dccd64b9</td>\n",
              "      <td>Lifestyle</td>\n",
              "      <td>A/A</td>\n",
              "      <td>Apothecary, Gunawarman</td>\n",
              "      <td>Kebayoran Baru</td>\n",
              "      <td>Jakarta Selatan</td>\n",
              "      <td>1420bcef-ac34-4967-b5e0-4a2942f222a4</td>\n",
              "      <td>Package Content</td>\n",
              "      <td>BEVERAGE</td>\n",
              "      <td>BEVERAGE MODIFIER</td>\n",
              "      <td>...</td>\n",
              "      <td>Gold</td>\n",
              "      <td>F</td>\n",
              "      <td>20</td>\n",
              "      <td>4</td>\n",
              "      <td>1</td>\n",
              "      <td>2023</td>\n",
              "      <td>2021</td>\n",
              "      <td>5</td>\n",
              "      <td>13</td>\n",
              "      <td>7</td>\n",
              "    </tr>\n",
              "    <tr>\n",
              "      <th>2</th>\n",
              "      <td>02d6de17-9ca4-480f-b13c-7336dccd64b9</td>\n",
              "      <td>Lifestyle</td>\n",
              "      <td>A/A</td>\n",
              "      <td>Apothecary, Gunawarman</td>\n",
              "      <td>Kebayoran Baru</td>\n",
              "      <td>Jakarta Selatan</td>\n",
              "      <td>1420bcef-ac34-4967-b5e0-4a2942f222a4</td>\n",
              "      <td>Package Content</td>\n",
              "      <td>BEVERAGE</td>\n",
              "      <td>BEVERAGE MODIFIER</td>\n",
              "      <td>...</td>\n",
              "      <td>Gold</td>\n",
              "      <td>F</td>\n",
              "      <td>20</td>\n",
              "      <td>4</td>\n",
              "      <td>1</td>\n",
              "      <td>2023</td>\n",
              "      <td>2021</td>\n",
              "      <td>5</td>\n",
              "      <td>13</td>\n",
              "      <td>7</td>\n",
              "    </tr>\n",
              "    <tr>\n",
              "      <th>3</th>\n",
              "      <td>02d6de17-9ca4-480f-b13c-7336dccd64b9</td>\n",
              "      <td>Lifestyle</td>\n",
              "      <td>A/A</td>\n",
              "      <td>Apothecary, Gunawarman</td>\n",
              "      <td>Kebayoran Baru</td>\n",
              "      <td>Jakarta Selatan</td>\n",
              "      <td>77bb78c6-2f51-4f61-9d74-02d69388cef1</td>\n",
              "      <td>Package Content</td>\n",
              "      <td>BEVERAGE</td>\n",
              "      <td>BEVERAGE MODIFIER</td>\n",
              "      <td>...</td>\n",
              "      <td>Gold</td>\n",
              "      <td>F</td>\n",
              "      <td>20</td>\n",
              "      <td>4</td>\n",
              "      <td>1</td>\n",
              "      <td>2023</td>\n",
              "      <td>2021</td>\n",
              "      <td>5</td>\n",
              "      <td>13</td>\n",
              "      <td>7</td>\n",
              "    </tr>\n",
              "    <tr>\n",
              "      <th>4</th>\n",
              "      <td>02d6de17-9ca4-480f-b13c-7336dccd64b9</td>\n",
              "      <td>Lifestyle</td>\n",
              "      <td>A/A</td>\n",
              "      <td>Apothecary, Gunawarman</td>\n",
              "      <td>Kebayoran Baru</td>\n",
              "      <td>Jakarta Selatan</td>\n",
              "      <td>f026874c-5a66-4184-8ce0-9aeb9e37b5ac</td>\n",
              "      <td>Package Content</td>\n",
              "      <td>LIQUEUR</td>\n",
              "      <td>WHISK(E)Y</td>\n",
              "      <td>...</td>\n",
              "      <td>Gold</td>\n",
              "      <td>F</td>\n",
              "      <td>20</td>\n",
              "      <td>4</td>\n",
              "      <td>1</td>\n",
              "      <td>2023</td>\n",
              "      <td>2021</td>\n",
              "      <td>5</td>\n",
              "      <td>13</td>\n",
              "      <td>7</td>\n",
              "    </tr>\n",
              "    <tr>\n",
              "      <th>...</th>\n",
              "      <td>...</td>\n",
              "      <td>...</td>\n",
              "      <td>...</td>\n",
              "      <td>...</td>\n",
              "      <td>...</td>\n",
              "      <td>...</td>\n",
              "      <td>...</td>\n",
              "      <td>...</td>\n",
              "      <td>...</td>\n",
              "      <td>...</td>\n",
              "      <td>...</td>\n",
              "      <td>...</td>\n",
              "      <td>...</td>\n",
              "      <td>...</td>\n",
              "      <td>...</td>\n",
              "      <td>...</td>\n",
              "      <td>...</td>\n",
              "      <td>...</td>\n",
              "      <td>...</td>\n",
              "      <td>...</td>\n",
              "      <td>...</td>\n",
              "    </tr>\n",
              "    <tr>\n",
              "      <th>26799</th>\n",
              "      <td>85d9a596-8307-4078-a4d5-debdef0f31c0</td>\n",
              "      <td>Resto</td>\n",
              "      <td>TPC</td>\n",
              "      <td>TPC, Summarecon Mall Serpong</td>\n",
              "      <td>Kelapa Dua</td>\n",
              "      <td>Tangerang, Kab.</td>\n",
              "      <td>23584c04-c6ae-4118-94a9-f248e3a58b00</td>\n",
              "      <td>Ala Carte</td>\n",
              "      <td>FOOD</td>\n",
              "      <td>DESSERT</td>\n",
              "      <td>...</td>\n",
              "      <td>Basic</td>\n",
              "      <td>F</td>\n",
              "      <td>21</td>\n",
              "      <td>1</td>\n",
              "      <td>1</td>\n",
              "      <td>2023</td>\n",
              "      <td>2021</td>\n",
              "      <td>4</td>\n",
              "      <td>22</td>\n",
              "      <td>13</td>\n",
              "    </tr>\n",
              "    <tr>\n",
              "      <th>26800</th>\n",
              "      <td>85d9a596-8307-4078-a4d5-debdef0f31c0</td>\n",
              "      <td>Resto</td>\n",
              "      <td>TPC</td>\n",
              "      <td>TPC, Summarecon Mall Serpong</td>\n",
              "      <td>Kelapa Dua</td>\n",
              "      <td>Tangerang, Kab.</td>\n",
              "      <td>b69907d0-a325-4b5a-bb48-2bb6abbae51a</td>\n",
              "      <td>Package Content</td>\n",
              "      <td>FOOD</td>\n",
              "      <td>FOOD MODIFIER</td>\n",
              "      <td>...</td>\n",
              "      <td>Basic</td>\n",
              "      <td>F</td>\n",
              "      <td>21</td>\n",
              "      <td>1</td>\n",
              "      <td>1</td>\n",
              "      <td>2023</td>\n",
              "      <td>2021</td>\n",
              "      <td>4</td>\n",
              "      <td>22</td>\n",
              "      <td>13</td>\n",
              "    </tr>\n",
              "    <tr>\n",
              "      <th>26801</th>\n",
              "      <td>85d9a596-8307-4078-a4d5-debdef0f31c0</td>\n",
              "      <td>Resto</td>\n",
              "      <td>TPC</td>\n",
              "      <td>TPC, Summarecon Mall Serpong</td>\n",
              "      <td>Kelapa Dua</td>\n",
              "      <td>Tangerang, Kab.</td>\n",
              "      <td>d9c617fb-65f1-481b-98a4-55d8f73a6fdb</td>\n",
              "      <td>Package Content</td>\n",
              "      <td>BEVERAGE</td>\n",
              "      <td>BEVERAGE MODIFIER</td>\n",
              "      <td>...</td>\n",
              "      <td>Basic</td>\n",
              "      <td>F</td>\n",
              "      <td>21</td>\n",
              "      <td>1</td>\n",
              "      <td>1</td>\n",
              "      <td>2023</td>\n",
              "      <td>2021</td>\n",
              "      <td>4</td>\n",
              "      <td>22</td>\n",
              "      <td>13</td>\n",
              "    </tr>\n",
              "    <tr>\n",
              "      <th>26802</th>\n",
              "      <td>85d9a596-8307-4078-a4d5-debdef0f31c0</td>\n",
              "      <td>Resto</td>\n",
              "      <td>TPC</td>\n",
              "      <td>TPC, Summarecon Mall Serpong</td>\n",
              "      <td>Kelapa Dua</td>\n",
              "      <td>Tangerang, Kab.</td>\n",
              "      <td>6b4f7c28-3e6e-4430-b1d7-b9604a18f8ce</td>\n",
              "      <td>Package Head</td>\n",
              "      <td>BEVERAGE</td>\n",
              "      <td>FRESHLY BREWED BY DJOURNAL</td>\n",
              "      <td>...</td>\n",
              "      <td>Basic</td>\n",
              "      <td>F</td>\n",
              "      <td>21</td>\n",
              "      <td>1</td>\n",
              "      <td>1</td>\n",
              "      <td>2023</td>\n",
              "      <td>2021</td>\n",
              "      <td>4</td>\n",
              "      <td>22</td>\n",
              "      <td>13</td>\n",
              "    </tr>\n",
              "    <tr>\n",
              "      <th>26803</th>\n",
              "      <td>85d9a596-8307-4078-a4d5-debdef0f31c0</td>\n",
              "      <td>Resto</td>\n",
              "      <td>TPC</td>\n",
              "      <td>TPC, Summarecon Mall Serpong</td>\n",
              "      <td>Kelapa Dua</td>\n",
              "      <td>Tangerang, Kab.</td>\n",
              "      <td>c583ee74-e0b1-47f8-a8cd-a21b3c03c258</td>\n",
              "      <td>Ala Carte</td>\n",
              "      <td>FOOD</td>\n",
              "      <td>MAINS</td>\n",
              "      <td>...</td>\n",
              "      <td>Basic</td>\n",
              "      <td>F</td>\n",
              "      <td>21</td>\n",
              "      <td>1</td>\n",
              "      <td>1</td>\n",
              "      <td>2023</td>\n",
              "      <td>2021</td>\n",
              "      <td>4</td>\n",
              "      <td>22</td>\n",
              "      <td>13</td>\n",
              "    </tr>\n",
              "  </tbody>\n",
              "</table>\n",
              "<p>26804 rows × 23 columns</p>\n",
              "</div>\n",
              "    <div class=\"colab-df-buttons\">\n",
              "\n",
              "  <div class=\"colab-df-container\">\n",
              "    <button class=\"colab-df-convert\" onclick=\"convertToInteractive('df-9710273e-5e74-4593-8d94-da6c7c5b59d3')\"\n",
              "            title=\"Convert this dataframe to an interactive table.\"\n",
              "            style=\"display:none;\">\n",
              "\n",
              "  <svg xmlns=\"http://www.w3.org/2000/svg\" height=\"24px\" viewBox=\"0 -960 960 960\">\n",
              "    <path d=\"M120-120v-720h720v720H120Zm60-500h600v-160H180v160Zm220 220h160v-160H400v160Zm0 220h160v-160H400v160ZM180-400h160v-160H180v160Zm440 0h160v-160H620v160ZM180-180h160v-160H180v160Zm440 0h160v-160H620v160Z\"/>\n",
              "  </svg>\n",
              "    </button>\n",
              "\n",
              "  <style>\n",
              "    .colab-df-container {\n",
              "      display:flex;\n",
              "      gap: 12px;\n",
              "    }\n",
              "\n",
              "    .colab-df-convert {\n",
              "      background-color: #E8F0FE;\n",
              "      border: none;\n",
              "      border-radius: 50%;\n",
              "      cursor: pointer;\n",
              "      display: none;\n",
              "      fill: #1967D2;\n",
              "      height: 32px;\n",
              "      padding: 0 0 0 0;\n",
              "      width: 32px;\n",
              "    }\n",
              "\n",
              "    .colab-df-convert:hover {\n",
              "      background-color: #E2EBFA;\n",
              "      box-shadow: 0px 1px 2px rgba(60, 64, 67, 0.3), 0px 1px 3px 1px rgba(60, 64, 67, 0.15);\n",
              "      fill: #174EA6;\n",
              "    }\n",
              "\n",
              "    .colab-df-buttons div {\n",
              "      margin-bottom: 4px;\n",
              "    }\n",
              "\n",
              "    [theme=dark] .colab-df-convert {\n",
              "      background-color: #3B4455;\n",
              "      fill: #D2E3FC;\n",
              "    }\n",
              "\n",
              "    [theme=dark] .colab-df-convert:hover {\n",
              "      background-color: #434B5C;\n",
              "      box-shadow: 0px 1px 3px 1px rgba(0, 0, 0, 0.15);\n",
              "      filter: drop-shadow(0px 1px 2px rgba(0, 0, 0, 0.3));\n",
              "      fill: #FFFFFF;\n",
              "    }\n",
              "  </style>\n",
              "\n",
              "    <script>\n",
              "      const buttonEl =\n",
              "        document.querySelector('#df-9710273e-5e74-4593-8d94-da6c7c5b59d3 button.colab-df-convert');\n",
              "      buttonEl.style.display =\n",
              "        google.colab.kernel.accessAllowed ? 'block' : 'none';\n",
              "\n",
              "      async function convertToInteractive(key) {\n",
              "        const element = document.querySelector('#df-9710273e-5e74-4593-8d94-da6c7c5b59d3');\n",
              "        const dataTable =\n",
              "          await google.colab.kernel.invokeFunction('convertToInteractive',\n",
              "                                                    [key], {});\n",
              "        if (!dataTable) return;\n",
              "\n",
              "        const docLinkHtml = 'Like what you see? Visit the ' +\n",
              "          '<a target=\"_blank\" href=https://colab.research.google.com/notebooks/data_table.ipynb>data table notebook</a>'\n",
              "          + ' to learn more about interactive tables.';\n",
              "        element.innerHTML = '';\n",
              "        dataTable['output_type'] = 'display_data';\n",
              "        await google.colab.output.renderOutput(dataTable, element);\n",
              "        const docLink = document.createElement('div');\n",
              "        docLink.innerHTML = docLinkHtml;\n",
              "        element.appendChild(docLink);\n",
              "      }\n",
              "    </script>\n",
              "  </div>\n",
              "\n",
              "\n",
              "<div id=\"df-fa4ad098-4f2b-4eea-a33a-7d2e1bf097aa\">\n",
              "  <button class=\"colab-df-quickchart\" onclick=\"quickchart('df-fa4ad098-4f2b-4eea-a33a-7d2e1bf097aa')\"\n",
              "            title=\"Suggest charts.\"\n",
              "            style=\"display:none;\">\n",
              "\n",
              "<svg xmlns=\"http://www.w3.org/2000/svg\" height=\"24px\"viewBox=\"0 0 24 24\"\n",
              "     width=\"24px\">\n",
              "    <g>\n",
              "        <path d=\"M19 3H5c-1.1 0-2 .9-2 2v14c0 1.1.9 2 2 2h14c1.1 0 2-.9 2-2V5c0-1.1-.9-2-2-2zM9 17H7v-7h2v7zm4 0h-2V7h2v10zm4 0h-2v-4h2v4z\"/>\n",
              "    </g>\n",
              "</svg>\n",
              "  </button>\n",
              "\n",
              "<style>\n",
              "  .colab-df-quickchart {\n",
              "    background-color: #E8F0FE;\n",
              "    border: none;\n",
              "    border-radius: 50%;\n",
              "    cursor: pointer;\n",
              "    display: none;\n",
              "    fill: #1967D2;\n",
              "    height: 32px;\n",
              "    padding: 0 0 0 0;\n",
              "    width: 32px;\n",
              "  }\n",
              "\n",
              "  .colab-df-quickchart:hover {\n",
              "    background-color: #E2EBFA;\n",
              "    box-shadow: 0px 1px 2px rgba(60, 64, 67, 0.3), 0px 1px 3px 1px rgba(60, 64, 67, 0.15);\n",
              "    fill: #174EA6;\n",
              "  }\n",
              "\n",
              "  [theme=dark] .colab-df-quickchart {\n",
              "    background-color: #3B4455;\n",
              "    fill: #D2E3FC;\n",
              "  }\n",
              "\n",
              "  [theme=dark] .colab-df-quickchart:hover {\n",
              "    background-color: #434B5C;\n",
              "    box-shadow: 0px 1px 3px 1px rgba(0, 0, 0, 0.15);\n",
              "    filter: drop-shadow(0px 1px 2px rgba(0, 0, 0, 0.3));\n",
              "    fill: #FFFFFF;\n",
              "  }\n",
              "</style>\n",
              "\n",
              "  <script>\n",
              "    async function quickchart(key) {\n",
              "      const charts = await google.colab.kernel.invokeFunction(\n",
              "          'suggestCharts', [key], {});\n",
              "    }\n",
              "    (() => {\n",
              "      let quickchartButtonEl =\n",
              "        document.querySelector('#df-fa4ad098-4f2b-4eea-a33a-7d2e1bf097aa button');\n",
              "      quickchartButtonEl.style.display =\n",
              "        google.colab.kernel.accessAllowed ? 'block' : 'none';\n",
              "    })();\n",
              "  </script>\n",
              "</div>\n",
              "    </div>\n",
              "  </div>\n"
            ]
          },
          "metadata": {},
          "execution_count": 81
        }
      ]
    },
    {
      "cell_type": "markdown",
      "source": [
        "# Recommendation Model"
      ],
      "metadata": {
        "id": "HLwy33ze1pZ-"
      }
    },
    {
      "cell_type": "markdown",
      "source": [
        "Multi-task TensorFlow Recommendation with 2 models embeddings for user and menu with user total quantities used as a ranking method. This method could be further enhanced by using several other embedding for each features given. Below I have given my illustration on how this model works. Please remember that this model could also be enhanced by adding more parameter, adding generated data to increase variance, even combining BERT4Rec as the Retrieval Model"
      ],
      "metadata": {
        "id": "O0yM6ZQrJGTc"
      }
    },
    {
      "cell_type": "markdown",
      "source": [
        "![Features.png](data:image/png;base64,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)"
      ],
      "metadata": {
        "id": "VhvWdtoDJyk4"
      }
    },
    {
      "cell_type": "code",
      "source": [
        "users = tf.data.Dataset.from_tensor_slices(dict(user_menu_quantities[[\"user_id\", \"menu_id\", \"quantity\"]]))\n",
        "menus = tf.data.Dataset.from_tensor_slices(dict(df[['menu_id']]))"
      ],
      "metadata": {
        "id": "WADnCsnzeBl4"
      },
      "execution_count": null,
      "outputs": []
    },
    {
      "cell_type": "code",
      "source": [
        "users = users.map(lambda x: {\n",
        "    \"user_id\": x[\"user_id\"],\n",
        "    \"menu_id\": x[\"menu_id\"],\n",
        "    \"quantity\": float(x[\"quantity\"])\n",
        "})\n",
        "menus = menus.map(lambda x: x[\"menu_id\"])"
      ],
      "metadata": {
        "id": "ItPDqyaBTkrB"
      },
      "execution_count": null,
      "outputs": []
    },
    {
      "cell_type": "code",
      "source": [
        "print('Total Data: {}'.format(len(users)))"
      ],
      "metadata": {
        "colab": {
          "base_uri": "https://localhost:8080/"
        },
        "id": "u6ET_M1DhtXG",
        "outputId": "51d2365b-4a8f-46a4-f73f-1ebfd497dcb6"
      },
      "execution_count": null,
      "outputs": [
        {
          "output_type": "stream",
          "name": "stdout",
          "text": [
            "Total Data: 17937\n"
          ]
        }
      ]
    },
    {
      "cell_type": "code",
      "source": [
        "shuffled = users.shuffle(100_000, seed=42, reshuffle_each_iteration=False)"
      ],
      "metadata": {
        "id": "Wo6naPZci7Hk"
      },
      "execution_count": null,
      "outputs": []
    },
    {
      "cell_type": "markdown",
      "source": [
        "I am not sure the best way to split the data, this could however be done by first splitting the unique user_ids first into train and test then use all the train with train user_id and the rest for test. But for now I just take the 14_000 randomly"
      ],
      "metadata": {
        "id": "qFmcFN-H8ILK"
      }
    },
    {
      "cell_type": "code",
      "source": [
        "train = users.take(14_000) #train data used to train model\n",
        "test = users.skip(14_000).take(3_937) #test data used to evaluate model"
      ],
      "metadata": {
        "id": "jQENUUzvh7rF"
      },
      "execution_count": null,
      "outputs": []
    },
    {
      "cell_type": "code",
      "source": [
        "#batching\n",
        "menu_ids = menus.batch(1_000)\n",
        "user_ids = users.batch(1_000).map(lambda x: x[\"user_id\"])\n",
        "\n",
        "#unique values\n",
        "unique_menu_ids = np.unique(np.concatenate(list(menu_ids)))\n",
        "unique_user_ids = np.unique(np.concatenate(list(user_ids)))"
      ],
      "metadata": {
        "id": "-M0d2gwafZiR"
      },
      "execution_count": null,
      "outputs": []
    },
    {
      "cell_type": "markdown",
      "source": [
        "We use multi-objective approach that applies both implicit (user transaction) and explicit signals (scaled total quantities=rating). In the end, we can predict what menus should the user order along with the given ranking-quantities corresponds to historical data"
      ],
      "metadata": {
        "id": "hchyMYUjJie7"
      }
    },
    {
      "cell_type": "markdown",
      "source": [
        "Here we see that we generate 2 models for two different task with combined loss function. 2 of those tasks are rating task and retrieval task:\n",
        "Rating Task:\n",
        "\n",
        "- Objective: The primary objective of the rating task is to predict user-item interactions, typically represented as ratings or preferences (total qty). The goal is to estimate how a user would rate a specific item they have not interacted with yet.\n",
        "\n",
        "- Use Case: Rating (scaled total qty) predictions are useful when you want to provide users with estimated ratings for items they haven't seen or rated before. This is common in scenarios where explicit user feedback (such as numerical ratings) is available.\n",
        "\n",
        "- Loss Function: The loss function for the rating task is typically a regression loss, such as mean squared error (MSE) or mean absolute error (MAE). These loss functions measure the discrepancy between predicted rating and actual ratings (total qty for our case).\n",
        "\n",
        "- Training Objective: The rating task aims to minimize the difference between predicted ratings and actual ratings. By optimizing this objective, the model learns to estimate user preferences accurately.\n",
        "\n",
        "Retrieval Task:\n",
        "\n",
        "- Objective: The primary objective of the retrieval task is to generate a ranked list of items that are likely to be relevant to a user. This list is generated based on the user's historical interactions and preferences.\n",
        "\n",
        "- Use Case: Retrieval tasks are useful when explicit ratings are not available, or when the focus is on generating personalized lists of recommendations for users based on their historical behavior.\n",
        "\n",
        "- Loss Function: The loss function for the retrieval task measures the quality of the recommended list. Metrics like Top-K accuracy are commonly used to evaluate how well the recommended items match the user's actual interactions.\n",
        "\n",
        "- Training Objective: The retrieval task aims to improve the ranking quality of the recommended items. By optimizing this objective, the model learns to generate better-ranked lists of items for users."
      ],
      "metadata": {
        "id": "XPso5jKriEwk"
      }
    },
    {
      "cell_type": "code",
      "source": [
        "class MenuModel(tfrs.models.Model):\n",
        "\n",
        "  def __init__(self, rating_weight: float, retrieval_weight: float) -> None:\n",
        "    # We take the loss weights in the constructor: this allows us to instantiate\n",
        "    # several model objects with different loss weights. This weight tuning could be\n",
        "    # utilized after doing the customer segmentation by adding more models and embeddings\n",
        "\n",
        "    super().__init__()\n",
        "\n",
        "    embedding_dimension = 64\n",
        "\n",
        "    # User and movie models.\n",
        "    self.menu_model: tf.keras.layers.Layer = tf.keras.Sequential([\n",
        "      tf.keras.layers.StringLookup(\n",
        "        vocabulary=unique_menu_ids, mask_token=None),\n",
        "      tf.keras.layers.Embedding(len(unique_menu_ids) + 1, embedding_dimension)\n",
        "    ]) #used as an encoding method for each menu_ids\n",
        "    self.user_model: tf.keras.layers.Layer = tf.keras.Sequential([\n",
        "      tf.keras.layers.StringLookup(\n",
        "        vocabulary=unique_user_ids, mask_token=None),\n",
        "      tf.keras.layers.Embedding(len(unique_user_ids) + 1, embedding_dimension)\n",
        "    ]) #used as an encoding method for each user_ids\n",
        "\n",
        "    # A small model to take in user and menu embeddings and predict quantities-rankings.\n",
        "    # We can make this as complicated as we want as long as we output a scalar\n",
        "    # as our prediction.\n",
        "    self.rating_model = tf.keras.Sequential([\n",
        "        tf.keras.layers.Dense(256, activation=\"relu\"),\n",
        "        tf.keras.layers.Dense(128, activation=\"relu\"),\n",
        "        tf.keras.layers.Dense(1),\n",
        "    ])\n",
        "\n",
        "    # The tasks.\n",
        "    self.rating_task: tf.keras.layers.Layer = tfrs.tasks.Ranking(\n",
        "        loss=tf.keras.losses.MeanSquaredError(),\n",
        "        metrics=[tf.keras.metrics.RootMeanSquaredError()],\n",
        "    )\n",
        "    self.retrieval_task: tf.keras.layers.Layer = tfrs.tasks.Retrieval(\n",
        "        metrics=tfrs.metrics.FactorizedTopK(\n",
        "            candidates=menus.batch(128).map(self.menu_model)\n",
        "        )\n",
        "    )\n",
        "\n",
        "    # The loss weights.\n",
        "    self.rating_weight = rating_weight\n",
        "    self.retrieval_weight = retrieval_weight\n",
        "\n",
        "  def call(self, features: Dict[Text, tf.Tensor]) -> tf.Tensor:\n",
        "    # We pick out the user features and pass them into the user model.\n",
        "    user_embeddings = self.user_model(features[\"user_id\"])\n",
        "    # And pick out the menu features and pass them into the menu model.\n",
        "    menu_embeddings = self.menu_model(features[\"menu_id\"])\n",
        "\n",
        "    return (\n",
        "        user_embeddings,\n",
        "        menu_embeddings,\n",
        "        # We apply the multi-layered rating model to a concatentation of\n",
        "        # user and menu embeddings.\n",
        "        self.rating_model(\n",
        "            tf.concat([user_embeddings, menu_embeddings], axis=1)\n",
        "        ),\n",
        "    )\n",
        "\n",
        "  def compute_loss(self, features: Dict[Text, tf.Tensor], training=False) -> tf.Tensor:\n",
        "\n",
        "    ratings = features.pop(\"quantity\")\n",
        "\n",
        "    user_embeddings, menu_embeddings, rating_predictions = self(features)\n",
        "\n",
        "    # We compute the loss for each task.\n",
        "    rating_loss = self.rating_task(\n",
        "        labels=ratings,\n",
        "        predictions=rating_predictions,\n",
        "    )\n",
        "    retrieval_loss = self.retrieval_task(user_embeddings, menu_embeddings)\n",
        "\n",
        "    # And combine them using the loss weights.\n",
        "    return (self.rating_weight * rating_loss\n",
        "            + self.retrieval_weight * retrieval_loss)"
      ],
      "metadata": {
        "id": "G0pGquzfgP6e"
      },
      "execution_count": null,
      "outputs": []
    },
    {
      "cell_type": "code",
      "source": [
        "callback = tf.keras.callbacks.ModelCheckpoint('recommendation.h5',\n",
        "                                              monitor='total_loss',\n",
        "                                              save_best_only=True, verbose=1)\n",
        "#defining a callback to only save the best training result in case I need it for certain situations"
      ],
      "metadata": {
        "id": "VOO0FLtFnwd9"
      },
      "execution_count": null,
      "outputs": []
    },
    {
      "cell_type": "code",
      "source": [
        "model = MenuModel(rating_weight=1.0, retrieval_weight=1.0)\n",
        "model.compile(optimizer=tf.keras.optimizers.Adagrad(0.1))\n",
        "\n",
        "cached_train = train.shuffle(100_000).batch(1_000).cache()\n",
        "cached_test = test.batch(1_000).cache()\n",
        "\n",
        "model.fit(cached_train, epochs=10)"
      ],
      "metadata": {
        "colab": {
          "base_uri": "https://localhost:8080/"
        },
        "id": "zqpueuxqhXfm",
        "outputId": "f7b07cce-5383-4a89-8d23-61e72c3cae2f"
      },
      "execution_count": null,
      "outputs": [
        {
          "output_type": "stream",
          "name": "stdout",
          "text": [
            "Epoch 1/10\n",
            "14/14 [==============================] - 66s 5s/step - root_mean_squared_error: 2.6039 - factorized_top_k/top_1_categorical_accuracy: 4.2857e-04 - factorized_top_k/top_5_categorical_accuracy: 4.2857e-04 - factorized_top_k/top_10_categorical_accuracy: 4.2857e-04 - factorized_top_k/top_50_categorical_accuracy: 4.2857e-04 - factorized_top_k/top_100_categorical_accuracy: 0.0010 - loss: 6857.3687 - regularization_loss: 0.0000e+00 - total_loss: 6857.3687\n",
            "Epoch 2/10\n",
            "14/14 [==============================] - 68s 5s/step - root_mean_squared_error: 2.5564 - factorized_top_k/top_1_categorical_accuracy: 0.0050 - factorized_top_k/top_5_categorical_accuracy: 0.0050 - factorized_top_k/top_10_categorical_accuracy: 0.0050 - factorized_top_k/top_50_categorical_accuracy: 0.0102 - factorized_top_k/top_100_categorical_accuracy: 0.0204 - loss: 6197.1910 - regularization_loss: 0.0000e+00 - total_loss: 6197.1910\n",
            "Epoch 3/10\n",
            "14/14 [==============================] - 70s 5s/step - root_mean_squared_error: 2.4916 - factorized_top_k/top_1_categorical_accuracy: 0.0066 - factorized_top_k/top_5_categorical_accuracy: 0.0066 - factorized_top_k/top_10_categorical_accuracy: 0.0076 - factorized_top_k/top_50_categorical_accuracy: 0.0271 - factorized_top_k/top_100_categorical_accuracy: 0.0569 - loss: 5465.2695 - regularization_loss: 0.0000e+00 - total_loss: 5465.2695\n",
            "Epoch 4/10\n",
            "14/14 [==============================] - 62s 4s/step - root_mean_squared_error: 2.4750 - factorized_top_k/top_1_categorical_accuracy: 0.0044 - factorized_top_k/top_5_categorical_accuracy: 0.0053 - factorized_top_k/top_10_categorical_accuracy: 0.0086 - factorized_top_k/top_50_categorical_accuracy: 0.0501 - factorized_top_k/top_100_categorical_accuracy: 0.1090 - loss: 4913.0219 - regularization_loss: 0.0000e+00 - total_loss: 4913.0219\n",
            "Epoch 5/10\n",
            "14/14 [==============================] - 77s 6s/step - root_mean_squared_error: 2.4453 - factorized_top_k/top_1_categorical_accuracy: 0.0048 - factorized_top_k/top_5_categorical_accuracy: 0.0079 - factorized_top_k/top_10_categorical_accuracy: 0.0150 - factorized_top_k/top_50_categorical_accuracy: 0.0860 - factorized_top_k/top_100_categorical_accuracy: 0.1799 - loss: 4500.6800 - regularization_loss: 0.0000e+00 - total_loss: 4500.6800\n",
            "Epoch 6/10\n",
            "14/14 [==============================] - 72s 5s/step - root_mean_squared_error: 2.4139 - factorized_top_k/top_1_categorical_accuracy: 0.0043 - factorized_top_k/top_5_categorical_accuracy: 0.0090 - factorized_top_k/top_10_categorical_accuracy: 0.0221 - factorized_top_k/top_50_categorical_accuracy: 0.1426 - factorized_top_k/top_100_categorical_accuracy: 0.2464 - loss: 4206.8702 - regularization_loss: 0.0000e+00 - total_loss: 4206.8702\n",
            "Epoch 7/10\n",
            "14/14 [==============================] - 69s 5s/step - root_mean_squared_error: 2.3800 - factorized_top_k/top_1_categorical_accuracy: 0.0049 - factorized_top_k/top_5_categorical_accuracy: 0.0178 - factorized_top_k/top_10_categorical_accuracy: 0.0444 - factorized_top_k/top_50_categorical_accuracy: 0.1806 - factorized_top_k/top_100_categorical_accuracy: 0.2843 - loss: 4005.1922 - regularization_loss: 0.0000e+00 - total_loss: 4005.1922\n",
            "Epoch 8/10\n",
            "14/14 [==============================] - 63s 5s/step - root_mean_squared_error: 2.3430 - factorized_top_k/top_1_categorical_accuracy: 0.0049 - factorized_top_k/top_5_categorical_accuracy: 0.0314 - factorized_top_k/top_10_categorical_accuracy: 0.0601 - factorized_top_k/top_50_categorical_accuracy: 0.2000 - factorized_top_k/top_100_categorical_accuracy: 0.3035 - loss: 3868.0143 - regularization_loss: 0.0000e+00 - total_loss: 3868.0143\n",
            "Epoch 9/10\n",
            "14/14 [==============================] - 60s 4s/step - root_mean_squared_error: 2.3042 - factorized_top_k/top_1_categorical_accuracy: 0.0056 - factorized_top_k/top_5_categorical_accuracy: 0.0380 - factorized_top_k/top_10_categorical_accuracy: 0.0684 - factorized_top_k/top_50_categorical_accuracy: 0.2101 - factorized_top_k/top_100_categorical_accuracy: 0.3152 - loss: 3771.5507 - regularization_loss: 0.0000e+00 - total_loss: 3771.5507\n",
            "Epoch 10/10\n",
            "14/14 [==============================] - 78s 5s/step - root_mean_squared_error: 2.2567 - factorized_top_k/top_1_categorical_accuracy: 0.0057 - factorized_top_k/top_5_categorical_accuracy: 0.0429 - factorized_top_k/top_10_categorical_accuracy: 0.0730 - factorized_top_k/top_50_categorical_accuracy: 0.2171 - factorized_top_k/top_100_categorical_accuracy: 0.3238 - loss: 3701.4249 - regularization_loss: 0.0000e+00 - total_loss: 3701.4249\n"
          ]
        },
        {
          "output_type": "execute_result",
          "data": {
            "text/plain": [
              "<keras.callbacks.History at 0x7ade72c02320>"
            ]
          },
          "metadata": {},
          "execution_count": 100
        }
      ]
    },
    {
      "cell_type": "markdown",
      "source": [
        "For now I will stop at 10 epoch so that I could do the other assignments, and this model will further enhanced later so there is no need to train the initial model for too long, this is an example"
      ],
      "metadata": {
        "id": "zxDvuOEroK2s"
      }
    },
    {
      "cell_type": "code",
      "source": [
        "metrics = model.evaluate(cached_test, return_dict=True)\n",
        "\n",
        "print(f\"\\nRetrieval top-100 accuracy: {metrics['factorized_top_k/top_100_categorical_accuracy']:.3f}\")\n",
        "print(f\"Ranking RMSE: {metrics['root_mean_squared_error']:.3f}\")"
      ],
      "metadata": {
        "colab": {
          "base_uri": "https://localhost:8080/"
        },
        "id": "066x-7yPlTdt",
        "outputId": "fee85d5b-affb-4610-b730-5605ecbc111a"
      },
      "execution_count": null,
      "outputs": [
        {
          "output_type": "stream",
          "name": "stdout",
          "text": [
            "4/4 [==============================] - 13s 3s/step - root_mean_squared_error: 2.7629 - factorized_top_k/top_1_categorical_accuracy: 0.0000e+00 - factorized_top_k/top_5_categorical_accuracy: 0.0000e+00 - factorized_top_k/top_10_categorical_accuracy: 7.6200e-04 - factorized_top_k/top_50_categorical_accuracy: 0.0018 - factorized_top_k/top_100_categorical_accuracy: 0.0033 - loss: 6733.5970 - regularization_loss: 0.0000e+00 - total_loss: 6733.5970\n",
            "\n",
            "Retrieval top-100 accuracy: 0.003\n",
            "Ranking RMSE: 2.763\n"
          ]
        }
      ]
    },
    {
      "cell_type": "markdown",
      "source": [
        "Apparently the model is overfitting, means it require more variative data to function, this could be done by reviewing the training data variance or generating data with good variance.\n",
        "\n"
      ],
      "metadata": {
        "id": "eNIEacAprnRq"
      }
    },
    {
      "cell_type": "code",
      "source": [
        "model.save_weights('recommendation.h5')"
      ],
      "metadata": {
        "id": "34a--91PoznU"
      },
      "execution_count": null,
      "outputs": []
    },
    {
      "cell_type": "code",
      "source": [
        "def predict_menu(user, top_n=3):\n",
        "    # Create a model that takes in raw query features, and\n",
        "    index = tfrs.layers.factorized_top_k.BruteForce(model.user_model)\n",
        "    # recommends movies out of the entire movies dataset.\n",
        "    index.index_from_dataset(\n",
        "      tf.data.Dataset.zip((menus.batch(100), menus.batch(100).map(model.menu_model)))\n",
        "    )\n",
        "\n",
        "    # Get recommendations.\n",
        "    _, titles = index(tf.constant([str(user)]))\n",
        "\n",
        "    print('Top {} menu recommendations for user {}:\\n'.format(top_n, user))\n",
        "    for i, menuids in enumerate(titles[0, :top_n].numpy()):\n",
        "        print('{}. {}'.format(i+1, menuids.decode(\"utf-8\")))\n",
        "\n",
        "def predict_quantity(user, menu):\n",
        "    trained_menu_embeddings, trained_user_embeddings, predicted_rating = model({\n",
        "          \"user_id\": np.array([str(user)]),\n",
        "          \"menu_id\": np.array([menu])\n",
        "      })\n",
        "    print(\"Predicted quantity for {}: {}\".format(menu, predicted_rating.numpy()[0][0]))"
      ],
      "metadata": {
        "id": "sdwXOBMwo8Za"
      },
      "execution_count": null,
      "outputs": []
    },
    {
      "cell_type": "code",
      "source": [
        "predict_menu('00b158ed-0fcb-48e1-b627-2bb572a344cf', 5)"
      ],
      "metadata": {
        "colab": {
          "base_uri": "https://localhost:8080/"
        },
        "id": "fTTnxqQzp6pt",
        "outputId": "9357345e-11c0-4cfe-b8c4-8af3b6169dd8"
      },
      "execution_count": null,
      "outputs": [
        {
          "output_type": "stream",
          "name": "stdout",
          "text": [
            "Top 5 menu recommendations for user 00b158ed-0fcb-48e1-b627-2bb572a344cf:\n",
            "\n",
            "1. 676fcee3-a2d8-4cbf-8061-5d2b10cecfbc\n",
            "2. 676fcee3-a2d8-4cbf-8061-5d2b10cecfbc\n",
            "3. 4a90d4fc-a042-46db-8893-422e52a221c6\n",
            "4. fe1bbdc2-15a5-4c95-aa51-079b11ae94a1\n",
            "5. fe1bbdc2-15a5-4c95-aa51-079b11ae94a1\n"
          ]
        }
      ]
    },
    {
      "cell_type": "markdown",
      "source": [
        "Another model that utilize timestamp and menu_type"
      ],
      "metadata": {
        "id": "ynQPNTNZYWQx"
      }
    },
    {
      "cell_type": "code",
      "source": [
        "'''import tensorflow as tf\n",
        "import tensorflow_recommenders as tfrs\n",
        "\n",
        "# Define your feature columns\n",
        "user_id = tf.feature_column.categorical_column_with_identity(\"user_id\", num_buckets=num_users)\n",
        "menu_id = tf.feature_column.categorical_column_with_identity(\"menu_id\", num_buckets=num_menus)\n",
        "menu_type = tf.feature_column.categorical_column_with_vocabulary_list(\"menu_type\", menu_types)\n",
        "timestamp = tf.feature_column.numeric_column(\"timestamp\")\n",
        "\n",
        "# Define your model\n",
        "class RecommendationModel(tfrs.Model):\n",
        "    def __init__(self):\n",
        "        super().__init__()\n",
        "        self.embedding_user = tf.keras.layers.Embedding(input_dim=num_users, output_dim=embedding_dim)\n",
        "        self.embedding_menu = tf.keras.layers.Embedding(input_dim=num_menus, output_dim=embedding_dim)\n",
        "        self.embedding_menu_type = tf.keras.layers.Embedding(input_dim=num_menu_types, output_dim=embedding_dim)\n",
        "        self.embedding_timestamp = tf.keras.layers.Dense(embedding_dim)\n",
        "        self.task = tfrs.tasks.Retrieval()\n",
        "\n",
        "    def call(self, features):\n",
        "        user_embeddings = self.embedding_user(features[\"user_id\"])\n",
        "        menu_embeddings = self.embedding_menu(features[\"menu_id\"])\n",
        "        menu_type_embeddings = self.embedding_menu_type(features[\"menu_type\"])\n",
        "        timestamp_embeddings = self.embedding_timestamp(features[\"timestamp\"])\n",
        "\n",
        "        menu_combined = tf.concat([menu_embeddings, menu_type_embeddings], axis=1)\n",
        "        menu_combined += timestamp_embeddings\n",
        "\n",
        "        return user_embeddings, menu_combined\n",
        "\n",
        "model = RecommendationModel()\n",
        "model.compile(optimizer=tf.keras.optimizers.Adagrad(learning_rate=0.1))\n",
        "model.fit(train_data)\n",
        "\n",
        "# Evaluate and make recommendations\n",
        "eval_results = model.evaluate(eval_data)\n",
        "user_embeddings = model.embedding_user(tf.constant(user_ids))\n",
        "menu_embeddings = model.embedding_menu(tf.constant(menu_ids))'''\n"
      ],
      "metadata": {
        "id": "aEvKVfkJ1s4U"
      },
      "execution_count": null,
      "outputs": []
    },
    {
      "cell_type": "markdown",
      "source": [
        "# Customer Segmentation"
      ],
      "metadata": {
        "id": "6D5D7Yq_sQ6C"
      }
    },
    {
      "cell_type": "markdown",
      "source": [
        "We will do a customer segmentation task for customer classifications features to be used on recommendation model and promotional campaign. Please (mercy me) keep in mind that I may have some more ideas for customer segmentation that I have not used yet probably because I have to make sure I have to get things done first :)\n",
        "\n",
        "Through this provide product recommendations on **a micro-segment level**"
      ],
      "metadata": {
        "id": "qZI_uN3Tvv2K"
      }
    },
    {
      "cell_type": "markdown",
      "source": [
        "## Purchase Behaviour"
      ],
      "metadata": {
        "id": "j-E5q-MEJyUk"
      }
    },
    {
      "cell_type": "markdown",
      "source": [
        "### Overall User Purchasing Behaviour"
      ],
      "metadata": {
        "id": "3lnajLcrIlUX"
      }
    },
    {
      "cell_type": "markdown",
      "source": [
        "I plan to make a classifier for:\n",
        "\"Returning Frequent Buyer,\" \"Declining Frequent Buyer,\" \"Consistent Frequent Buyer,\" \"Occasional Buyer,\" \"New Buyer\". This comes with certain challenges especially to differentiate between \"Returning Frequent Buyer,\" and \"Occasional Buyer\", since returning frequent buyer is supposedly the target for promotions to go back being a frequent buyer. With the priority of promotion/voucher being\n",
        "\n",
        "1. Declining Frequent Buyer\n",
        "2. Returning Frequent Buyer\n",
        "3. Consistent Frequent Buyer\n",
        "4. New Buyer\n",
        "5. Occasional Buyer\n",
        "\n",
        "![Features (2).png](data:image/png;base64,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)"
      ],
      "metadata": {
        "id": "N-pZ02mlYaXV"
      }
    },
    {
      "cell_type": "markdown",
      "source": [
        "The easiest way or most effective way I could imagine for this is to define/generate the buyer classification in a fixed way ourselves, then we try it using our own generated classification to train a model so there is no more fixed rule. To my experience the best way I know to do this is to generate a data of our own using randomized method so the data we have is variative enough and accurate\n",
        "\n",
        "However for time effectiveness (and since the data I have here is only 3 months data,) I shall just use the data we have and classify it as either\n",
        "\n",
        "**Frequent and Occasional Buyer**\n",
        "and\n",
        "\n",
        "**Consistent, Increasing, Declining Buyer**\n",
        "\n",
        "Through that classification we could have some decision regarding promotions and voucher, in which i believe the order-rank of promotion and voucher for them (currently without analysis since there is no promo-voucher dataset) are\n",
        "1. declining frequent\n",
        "2. consistent frequent\n",
        "3. increasing frequent\n",
        "4. increasing occasional\n",
        "5. consistent occasional\n",
        "6. declining occasional\n",
        "\n",
        "I believe I could not find returning Frequent buyer since we only have 3 months data however if needed we could utilize the day difference between last transaction and current transaction"
      ],
      "metadata": {
        "id": "csBRg1Gcbg-d"
      }
    },
    {
      "cell_type": "markdown",
      "source": [
        "#### Frequent vs (Mid) vs Occasional Buyer"
      ],
      "metadata": {
        "id": "sePI7naDo2Dc"
      }
    },
    {
      "cell_type": "code",
      "source": [
        "# Calculate user-level features: total quantity for each user in each month\n",
        "user_features = df.groupby(['user_id', 'month'])['quantity'].sum().reset_index()"
      ],
      "metadata": {
        "id": "cTjei_h6K30T"
      },
      "execution_count": null,
      "outputs": []
    },
    {
      "cell_type": "code",
      "source": [
        "user_features"
      ],
      "metadata": {
        "colab": {
          "base_uri": "https://localhost:8080/",
          "height": 424
        },
        "id": "MPi67tmRxqfF",
        "outputId": "1d8b275f-9233-43b5-bad4-1ca396da06d8"
      },
      "execution_count": null,
      "outputs": [
        {
          "output_type": "execute_result",
          "data": {
            "text/plain": [
              "                                   user_id  month  quantity\n",
              "0     00b158ed-0fcb-48e1-b627-2bb572a344cf      1      37.0\n",
              "1     00b158ed-0fcb-48e1-b627-2bb572a344cf      2      26.0\n",
              "2     00b158ed-0fcb-48e1-b627-2bb572a344cf      3      10.0\n",
              "3     00bafc5b-3e97-439c-8b1f-9a6568adbaaa      1      38.0\n",
              "4     00bafc5b-3e97-439c-8b1f-9a6568adbaaa      2       6.0\n",
              "...                                    ...    ...       ...\n",
              "1639  ff39dbcb-4414-45b3-8fa0-92577d1c78b8      1       3.0\n",
              "1640  ff39dbcb-4414-45b3-8fa0-92577d1c78b8      3       5.0\n",
              "1641  ffde4412-810f-4800-a40b-27ad2a614a9e      1      49.0\n",
              "1642  ffde4412-810f-4800-a40b-27ad2a614a9e      2      75.0\n",
              "1643  ffde4412-810f-4800-a40b-27ad2a614a9e      3      22.0\n",
              "\n",
              "[1644 rows x 3 columns]"
            ],
            "text/html": [
              "\n",
              "\n",
              "  <div id=\"df-e3caa875-90ee-4d14-a1ef-e27f5f2167da\">\n",
              "    <div class=\"colab-df-container\">\n",
              "      <div>\n",
              "<style scoped>\n",
              "    .dataframe tbody tr th:only-of-type {\n",
              "        vertical-align: middle;\n",
              "    }\n",
              "\n",
              "    .dataframe tbody tr th {\n",
              "        vertical-align: top;\n",
              "    }\n",
              "\n",
              "    .dataframe thead th {\n",
              "        text-align: right;\n",
              "    }\n",
              "</style>\n",
              "<table border=\"1\" class=\"dataframe\">\n",
              "  <thead>\n",
              "    <tr style=\"text-align: right;\">\n",
              "      <th></th>\n",
              "      <th>user_id</th>\n",
              "      <th>month</th>\n",
              "      <th>quantity</th>\n",
              "    </tr>\n",
              "  </thead>\n",
              "  <tbody>\n",
              "    <tr>\n",
              "      <th>0</th>\n",
              "      <td>00b158ed-0fcb-48e1-b627-2bb572a344cf</td>\n",
              "      <td>1</td>\n",
              "      <td>37.0</td>\n",
              "    </tr>\n",
              "    <tr>\n",
              "      <th>1</th>\n",
              "      <td>00b158ed-0fcb-48e1-b627-2bb572a344cf</td>\n",
              "      <td>2</td>\n",
              "      <td>26.0</td>\n",
              "    </tr>\n",
              "    <tr>\n",
              "      <th>2</th>\n",
              "      <td>00b158ed-0fcb-48e1-b627-2bb572a344cf</td>\n",
              "      <td>3</td>\n",
              "      <td>10.0</td>\n",
              "    </tr>\n",
              "    <tr>\n",
              "      <th>3</th>\n",
              "      <td>00bafc5b-3e97-439c-8b1f-9a6568adbaaa</td>\n",
              "      <td>1</td>\n",
              "      <td>38.0</td>\n",
              "    </tr>\n",
              "    <tr>\n",
              "      <th>4</th>\n",
              "      <td>00bafc5b-3e97-439c-8b1f-9a6568adbaaa</td>\n",
              "      <td>2</td>\n",
              "      <td>6.0</td>\n",
              "    </tr>\n",
              "    <tr>\n",
              "      <th>...</th>\n",
              "      <td>...</td>\n",
              "      <td>...</td>\n",
              "      <td>...</td>\n",
              "    </tr>\n",
              "    <tr>\n",
              "      <th>1639</th>\n",
              "      <td>ff39dbcb-4414-45b3-8fa0-92577d1c78b8</td>\n",
              "      <td>1</td>\n",
              "      <td>3.0</td>\n",
              "    </tr>\n",
              "    <tr>\n",
              "      <th>1640</th>\n",
              "      <td>ff39dbcb-4414-45b3-8fa0-92577d1c78b8</td>\n",
              "      <td>3</td>\n",
              "      <td>5.0</td>\n",
              "    </tr>\n",
              "    <tr>\n",
              "      <th>1641</th>\n",
              "      <td>ffde4412-810f-4800-a40b-27ad2a614a9e</td>\n",
              "      <td>1</td>\n",
              "      <td>49.0</td>\n",
              "    </tr>\n",
              "    <tr>\n",
              "      <th>1642</th>\n",
              "      <td>ffde4412-810f-4800-a40b-27ad2a614a9e</td>\n",
              "      <td>2</td>\n",
              "      <td>75.0</td>\n",
              "    </tr>\n",
              "    <tr>\n",
              "      <th>1643</th>\n",
              "      <td>ffde4412-810f-4800-a40b-27ad2a614a9e</td>\n",
              "      <td>3</td>\n",
              "      <td>22.0</td>\n",
              "    </tr>\n",
              "  </tbody>\n",
              "</table>\n",
              "<p>1644 rows × 3 columns</p>\n",
              "</div>\n",
              "      <button class=\"colab-df-convert\" onclick=\"convertToInteractive('df-e3caa875-90ee-4d14-a1ef-e27f5f2167da')\"\n",
              "              title=\"Convert this dataframe to an interactive table.\"\n",
              "              style=\"display:none;\">\n",
              "\n",
              "  <svg xmlns=\"http://www.w3.org/2000/svg\" height=\"24px\"viewBox=\"0 0 24 24\"\n",
              "       width=\"24px\">\n",
              "    <path d=\"M0 0h24v24H0V0z\" fill=\"none\"/>\n",
              "    <path d=\"M18.56 5.44l.94 2.06.94-2.06 2.06-.94-2.06-.94-.94-2.06-.94 2.06-2.06.94zm-11 1L8.5 8.5l.94-2.06 2.06-.94-2.06-.94L8.5 2.5l-.94 2.06-2.06.94zm10 10l.94 2.06.94-2.06 2.06-.94-2.06-.94-.94-2.06-.94 2.06-2.06.94z\"/><path d=\"M17.41 7.96l-1.37-1.37c-.4-.4-.92-.59-1.43-.59-.52 0-1.04.2-1.43.59L10.3 9.45l-7.72 7.72c-.78.78-.78 2.05 0 2.83L4 21.41c.39.39.9.59 1.41.59.51 0 1.02-.2 1.41-.59l7.78-7.78 2.81-2.81c.8-.78.8-2.07 0-2.86zM5.41 20L4 18.59l7.72-7.72 1.47 1.35L5.41 20z\"/>\n",
              "  </svg>\n",
              "      </button>\n",
              "\n",
              "\n",
              "\n",
              "    <div id=\"df-c9622521-bfab-4db4-804f-fd01fd226390\">\n",
              "      <button class=\"colab-df-quickchart\" onclick=\"quickchart('df-c9622521-bfab-4db4-804f-fd01fd226390')\"\n",
              "              title=\"Suggest charts.\"\n",
              "              style=\"display:none;\">\n",
              "\n",
              "<svg xmlns=\"http://www.w3.org/2000/svg\" height=\"24px\"viewBox=\"0 0 24 24\"\n",
              "     width=\"24px\">\n",
              "    <g>\n",
              "        <path d=\"M19 3H5c-1.1 0-2 .9-2 2v14c0 1.1.9 2 2 2h14c1.1 0 2-.9 2-2V5c0-1.1-.9-2-2-2zM9 17H7v-7h2v7zm4 0h-2V7h2v10zm4 0h-2v-4h2v4z\"/>\n",
              "    </g>\n",
              "</svg>\n",
              "      </button>\n",
              "    </div>\n",
              "\n",
              "<style>\n",
              "  .colab-df-quickchart {\n",
              "    background-color: #E8F0FE;\n",
              "    border: none;\n",
              "    border-radius: 50%;\n",
              "    cursor: pointer;\n",
              "    display: none;\n",
              "    fill: #1967D2;\n",
              "    height: 32px;\n",
              "    padding: 0 0 0 0;\n",
              "    width: 32px;\n",
              "  }\n",
              "\n",
              "  .colab-df-quickchart:hover {\n",
              "    background-color: #E2EBFA;\n",
              "    box-shadow: 0px 1px 2px rgba(60, 64, 67, 0.3), 0px 1px 3px 1px rgba(60, 64, 67, 0.15);\n",
              "    fill: #174EA6;\n",
              "  }\n",
              "\n",
              "  [theme=dark] .colab-df-quickchart {\n",
              "    background-color: #3B4455;\n",
              "    fill: #D2E3FC;\n",
              "  }\n",
              "\n",
              "  [theme=dark] .colab-df-quickchart:hover {\n",
              "    background-color: #434B5C;\n",
              "    box-shadow: 0px 1px 3px 1px rgba(0, 0, 0, 0.15);\n",
              "    filter: drop-shadow(0px 1px 2px rgba(0, 0, 0, 0.3));\n",
              "    fill: #FFFFFF;\n",
              "  }\n",
              "</style>\n",
              "\n",
              "    <script>\n",
              "      async function quickchart(key) {\n",
              "        const containerElement = document.querySelector('#' + key);\n",
              "        const charts = await google.colab.kernel.invokeFunction(\n",
              "            'suggestCharts', [key], {});\n",
              "      }\n",
              "    </script>\n",
              "\n",
              "\n",
              "      <script>\n",
              "\n",
              "function displayQuickchartButton(domScope) {\n",
              "  let quickchartButtonEl =\n",
              "    domScope.querySelector('#df-c9622521-bfab-4db4-804f-fd01fd226390 button.colab-df-quickchart');\n",
              "  quickchartButtonEl.style.display =\n",
              "    google.colab.kernel.accessAllowed ? 'block' : 'none';\n",
              "}\n",
              "\n",
              "        displayQuickchartButton(document);\n",
              "      </script>\n",
              "      <style>\n",
              "    .colab-df-container {\n",
              "      display:flex;\n",
              "      flex-wrap:wrap;\n",
              "      gap: 12px;\n",
              "    }\n",
              "\n",
              "    .colab-df-convert {\n",
              "      background-color: #E8F0FE;\n",
              "      border: none;\n",
              "      border-radius: 50%;\n",
              "      cursor: pointer;\n",
              "      display: none;\n",
              "      fill: #1967D2;\n",
              "      height: 32px;\n",
              "      padding: 0 0 0 0;\n",
              "      width: 32px;\n",
              "    }\n",
              "\n",
              "    .colab-df-convert:hover {\n",
              "      background-color: #E2EBFA;\n",
              "      box-shadow: 0px 1px 2px rgba(60, 64, 67, 0.3), 0px 1px 3px 1px rgba(60, 64, 67, 0.15);\n",
              "      fill: #174EA6;\n",
              "    }\n",
              "\n",
              "    [theme=dark] .colab-df-convert {\n",
              "      background-color: #3B4455;\n",
              "      fill: #D2E3FC;\n",
              "    }\n",
              "\n",
              "    [theme=dark] .colab-df-convert:hover {\n",
              "      background-color: #434B5C;\n",
              "      box-shadow: 0px 1px 3px 1px rgba(0, 0, 0, 0.15);\n",
              "      filter: drop-shadow(0px 1px 2px rgba(0, 0, 0, 0.3));\n",
              "      fill: #FFFFFF;\n",
              "    }\n",
              "  </style>\n",
              "\n",
              "      <script>\n",
              "        const buttonEl =\n",
              "          document.querySelector('#df-e3caa875-90ee-4d14-a1ef-e27f5f2167da button.colab-df-convert');\n",
              "        buttonEl.style.display =\n",
              "          google.colab.kernel.accessAllowed ? 'block' : 'none';\n",
              "\n",
              "        async function convertToInteractive(key) {\n",
              "          const element = document.querySelector('#df-e3caa875-90ee-4d14-a1ef-e27f5f2167da');\n",
              "          const dataTable =\n",
              "            await google.colab.kernel.invokeFunction('convertToInteractive',\n",
              "                                                     [key], {});\n",
              "          if (!dataTable) return;\n",
              "\n",
              "          const docLinkHtml = 'Like what you see? Visit the ' +\n",
              "            '<a target=\"_blank\" href=https://colab.research.google.com/notebooks/data_table.ipynb>data table notebook</a>'\n",
              "            + ' to learn more about interactive tables.';\n",
              "          element.innerHTML = '';\n",
              "          dataTable['output_type'] = 'display_data';\n",
              "          await google.colab.output.renderOutput(dataTable, element);\n",
              "          const docLink = document.createElement('div');\n",
              "          docLink.innerHTML = docLinkHtml;\n",
              "          element.appendChild(docLink);\n",
              "        }\n",
              "      </script>\n",
              "    </div>\n",
              "  </div>\n"
            ]
          },
          "metadata": {},
          "execution_count": 233
        }
      ]
    },
    {
      "cell_type": "code",
      "source": [
        "data_reshaped = user_features[\"quantity\"].values.reshape(-1, 1)"
      ],
      "metadata": {
        "id": "hqZ0dy_FoFTM"
      },
      "execution_count": null,
      "outputs": []
    },
    {
      "cell_type": "code",
      "source": [
        "# Choose the number of clusters\n",
        "num_clusters = 5\n",
        "\n",
        "# Apply K-Means clustering\n",
        "kmeans = KMeans(n_clusters=num_clusters, random_state=42)\n",
        "clusters = kmeans.fit_predict(data_reshaped)\n",
        "\n",
        "# Map cluster labels to numerical values\n",
        "cluster_mapping = {\n",
        "    0: 0,\n",
        "    3: 1,\n",
        "    1: 2,\n",
        "    4: 3,\n",
        "    2: 4\n",
        "}\n",
        "\n",
        "user_features['cluster'] = clusters\n",
        "\n",
        "# Apply the cluster mapping to the 'cluster' column\n",
        "user_features['cluster'] = user_features['cluster'].map(cluster_mapping)\n",
        "\n",
        "# Create a custom legend with cluster labels\n",
        "unique_clusters = user_features['cluster'].unique()\n",
        "legend_labels = [f'Cluster {cluster}' for cluster in unique_clusters]\n",
        "\n",
        "# Visualize the clustering\n",
        "plt.figure(figsize=(10, 6))\n",
        "\n",
        "# Define cluster labels based on the numerical values\n",
        "cluster_mapping = {\n",
        "    0: 'Cluster 0 (Occasional)',\n",
        "    1: 'Cluster 1 (Mid)',\n",
        "    2: 'Cluster 2 (Frequent)',\n",
        "    3: 'Cluster 3 (Frequent)',\n",
        "    4: 'Cluster 4 (Frequent)'\n",
        "}\n",
        "\n",
        "user_features['cluster_label'] = user_features['cluster'].map(cluster_mapping)\n",
        "\n",
        "# Visualize the clustering\n",
        "plt.figure(figsize=(10, 6))\n",
        "\n",
        "unique_cluster_labels = user_features['cluster_label'].unique()\n",
        "\n",
        "for label in unique_cluster_labels:\n",
        "    cluster_data = user_features[user_features['cluster_label'] == label]\n",
        "    plt.scatter(cluster_data.index, cluster_data['quantity'], label=label, s=100)\n",
        "\n",
        "plt.xlabel('User Features Index')\n",
        "plt.ylabel('Quantity')\n",
        "plt.title('1D Clustering of User Features')\n",
        "plt.legend()\n",
        "plt.show()"
      ],
      "metadata": {
        "colab": {
          "base_uri": "https://localhost:8080/",
          "height": 636
        },
        "id": "HYFRV-ldoppr",
        "outputId": "e21e17ad-638d-4b57-b018-bb7752292209"
      },
      "execution_count": null,
      "outputs": [
        {
          "output_type": "stream",
          "name": "stderr",
          "text": [
            "/usr/local/lib/python3.10/dist-packages/sklearn/cluster/_kmeans.py:870: FutureWarning: The default value of `n_init` will change from 10 to 'auto' in 1.4. Set the value of `n_init` explicitly to suppress the warning\n",
            "  warnings.warn(\n"
          ]
        },
        {
          "output_type": "display_data",
          "data": {
            "text/plain": [
              "<Figure size 1000x600 with 0 Axes>"
            ]
          },
          "metadata": {}
        },
        {
          "output_type": "display_data",
          "data": {
            "text/plain": [
              "<Figure size 1000x600 with 1 Axes>"
            ],
            "image/png": "[encoded data removed]"
          },
          "metadata": {}
        }
      ]
    },
    {
      "cell_type": "markdown",
      "source": [
        "Let's define\n",
        "\n",
        "0 as occasional\n",
        "1 as mid\n",
        "2 to 4 as frequent"
      ],
      "metadata": {
        "id": "FFbm70uZU5AZ"
      }
    },
    {
      "cell_type": "markdown",
      "source": [
        "#### Consistent vs Declining vs Increasing"
      ],
      "metadata": {
        "id": "_DppJod5o9cb"
      }
    },
    {
      "cell_type": "markdown",
      "source": [
        "Previously I thought I would use 2 variables that is time difference (from the latest purchase to current purchase) and quantity difference (could use difference between the mean of current 3 months data and mean of latest transaction 3 months data) to understand which one is a returning buyer however we only have 3 months data, so I am only using the quantity difference data (an overall latest 1 month difference)"
      ],
      "metadata": {
        "id": "U7zTYzUSsYlD"
      }
    },
    {
      "cell_type": "code",
      "source": [
        "# Calculate user-level features: total quantity for each user in each month\n",
        "user_features2 = df.groupby(['user_id', 'month'])['quantity'].sum().reset_index()"
      ],
      "metadata": {
        "id": "0RAzouJK6af7"
      },
      "execution_count": null,
      "outputs": []
    },
    {
      "cell_type": "code",
      "source": [
        "# Create a DataFrame with all possible user-month combinations\n",
        "all_user_ids = user_features2['user_id'].unique()\n",
        "all_months = [1, 2, 3]\n",
        "all_combinations = [(user_id, month) for user_id in all_user_ids for month in all_months]\n",
        "\n",
        "new_data = []\n",
        "for user_id, month in all_combinations:\n",
        "    matching_rows = user_features2[(user_features2['user_id'] == user_id) & (user_features2['month'] == month)]\n",
        "    if matching_rows.empty:\n",
        "        new_data.append({'user_id': user_id, 'month': month, 'quantity': 0.0})\n",
        "    else:\n",
        "        new_data.extend(matching_rows.to_dict('records'))\n",
        "\n",
        "new_user_features = pd.DataFrame(new_data)\n",
        "#in case a user does not do any transaction for a month then create a new row with 0 value"
      ],
      "metadata": {
        "id": "TS83l6pCoxJj"
      },
      "execution_count": null,
      "outputs": []
    },
    {
      "cell_type": "code",
      "source": [
        "new_user_features['quantity_difference'] = new_user_features.groupby('user_id')['quantity'].diff()"
      ],
      "metadata": {
        "id": "-eCJrv_x2Qnv"
      },
      "execution_count": null,
      "outputs": []
    },
    {
      "cell_type": "code",
      "source": [
        "difference = new_user_features[new_user_features['month'] != 1]"
      ],
      "metadata": {
        "id": "9dV3GufE2eau"
      },
      "execution_count": null,
      "outputs": []
    },
    {
      "cell_type": "code",
      "source": [
        "difference = difference.drop(columns=['quantity'])"
      ],
      "metadata": {
        "id": "ibSwgYlL2oqN"
      },
      "execution_count": null,
      "outputs": []
    },
    {
      "cell_type": "code",
      "source": [
        "difference"
      ],
      "metadata": {
        "colab": {
          "base_uri": "https://localhost:8080/",
          "height": 424
        },
        "id": "AzsN-la63Bie",
        "outputId": "3748de39-9e46-4bd0-8712-3b5196857286"
      },
      "execution_count": null,
      "outputs": [
        {
          "output_type": "execute_result",
          "data": {
            "text/plain": [
              "                                   user_id  month  quantity_difference\n",
              "1     00b158ed-0fcb-48e1-b627-2bb572a344cf      2                -11.0\n",
              "2     00b158ed-0fcb-48e1-b627-2bb572a344cf      3                -16.0\n",
              "4     00bafc5b-3e97-439c-8b1f-9a6568adbaaa      2                -32.0\n",
              "5     00bafc5b-3e97-439c-8b1f-9a6568adbaaa      3                 -6.0\n",
              "7     00cf8833-2cd5-40df-8477-3e9b73dbdb66      2                 -4.0\n",
              "...                                    ...    ...                  ...\n",
              "2993  ff13b265-54d4-48c4-8b51-f2e29e024e54      3                -22.0\n",
              "2995  ff39dbcb-4414-45b3-8fa0-92577d1c78b8      2                 -3.0\n",
              "2996  ff39dbcb-4414-45b3-8fa0-92577d1c78b8      3                  5.0\n",
              "2998  ffde4412-810f-4800-a40b-27ad2a614a9e      2                 26.0\n",
              "2999  ffde4412-810f-4800-a40b-27ad2a614a9e      3                -53.0\n",
              "\n",
              "[2000 rows x 3 columns]"
            ],
            "text/html": [
              "\n",
              "  <div id=\"df-61f97471-e5d6-4e8e-830e-c70e6458b1d9\" class=\"colab-df-container\">\n",
              "    <div>\n",
              "<style scoped>\n",
              "    .dataframe tbody tr th:only-of-type {\n",
              "        vertical-align: middle;\n",
              "    }\n",
              "\n",
              "    .dataframe tbody tr th {\n",
              "        vertical-align: top;\n",
              "    }\n",
              "\n",
              "    .dataframe thead th {\n",
              "        text-align: right;\n",
              "    }\n",
              "</style>\n",
              "<table border=\"1\" class=\"dataframe\">\n",
              "  <thead>\n",
              "    <tr style=\"text-align: right;\">\n",
              "      <th></th>\n",
              "      <th>user_id</th>\n",
              "      <th>month</th>\n",
              "      <th>quantity_difference</th>\n",
              "    </tr>\n",
              "  </thead>\n",
              "  <tbody>\n",
              "    <tr>\n",
              "      <th>1</th>\n",
              "      <td>00b158ed-0fcb-48e1-b627-2bb572a344cf</td>\n",
              "      <td>2</td>\n",
              "      <td>-11.0</td>\n",
              "    </tr>\n",
              "    <tr>\n",
              "      <th>2</th>\n",
              "      <td>00b158ed-0fcb-48e1-b627-2bb572a344cf</td>\n",
              "      <td>3</td>\n",
              "      <td>-16.0</td>\n",
              "    </tr>\n",
              "    <tr>\n",
              "      <th>4</th>\n",
              "      <td>00bafc5b-3e97-439c-8b1f-9a6568adbaaa</td>\n",
              "      <td>2</td>\n",
              "      <td>-32.0</td>\n",
              "    </tr>\n",
              "    <tr>\n",
              "      <th>5</th>\n",
              "      <td>00bafc5b-3e97-439c-8b1f-9a6568adbaaa</td>\n",
              "      <td>3</td>\n",
              "      <td>-6.0</td>\n",
              "    </tr>\n",
              "    <tr>\n",
              "      <th>7</th>\n",
              "      <td>00cf8833-2cd5-40df-8477-3e9b73dbdb66</td>\n",
              "      <td>2</td>\n",
              "      <td>-4.0</td>\n",
              "    </tr>\n",
              "    <tr>\n",
              "      <th>...</th>\n",
              "      <td>...</td>\n",
              "      <td>...</td>\n",
              "      <td>...</td>\n",
              "    </tr>\n",
              "    <tr>\n",
              "      <th>2993</th>\n",
              "      <td>ff13b265-54d4-48c4-8b51-f2e29e024e54</td>\n",
              "      <td>3</td>\n",
              "      <td>-22.0</td>\n",
              "    </tr>\n",
              "    <tr>\n",
              "      <th>2995</th>\n",
              "      <td>ff39dbcb-4414-45b3-8fa0-92577d1c78b8</td>\n",
              "      <td>2</td>\n",
              "      <td>-3.0</td>\n",
              "    </tr>\n",
              "    <tr>\n",
              "      <th>2996</th>\n",
              "      <td>ff39dbcb-4414-45b3-8fa0-92577d1c78b8</td>\n",
              "      <td>3</td>\n",
              "      <td>5.0</td>\n",
              "    </tr>\n",
              "    <tr>\n",
              "      <th>2998</th>\n",
              "      <td>ffde4412-810f-4800-a40b-27ad2a614a9e</td>\n",
              "      <td>2</td>\n",
              "      <td>26.0</td>\n",
              "    </tr>\n",
              "    <tr>\n",
              "      <th>2999</th>\n",
              "      <td>ffde4412-810f-4800-a40b-27ad2a614a9e</td>\n",
              "      <td>3</td>\n",
              "      <td>-53.0</td>\n",
              "    </tr>\n",
              "  </tbody>\n",
              "</table>\n",
              "<p>2000 rows × 3 columns</p>\n",
              "</div>\n",
              "    <div class=\"colab-df-buttons\">\n",
              "\n",
              "  <div class=\"colab-df-container\">\n",
              "    <button class=\"colab-df-convert\" onclick=\"convertToInteractive('df-61f97471-e5d6-4e8e-830e-c70e6458b1d9')\"\n",
              "            title=\"Convert this dataframe to an interactive table.\"\n",
              "            style=\"display:none;\">\n",
              "\n",
              "  <svg xmlns=\"http://www.w3.org/2000/svg\" height=\"24px\" viewBox=\"0 -960 960 960\">\n",
              "    <path d=\"M120-120v-720h720v720H120Zm60-500h600v-160H180v160Zm220 220h160v-160H400v160Zm0 220h160v-160H400v160ZM180-400h160v-160H180v160Zm440 0h160v-160H620v160ZM180-180h160v-160H180v160Zm440 0h160v-160H620v160Z\"/>\n",
              "  </svg>\n",
              "    </button>\n",
              "\n",
              "  <style>\n",
              "    .colab-df-container {\n",
              "      display:flex;\n",
              "      gap: 12px;\n",
              "    }\n",
              "\n",
              "    .colab-df-convert {\n",
              "      background-color: #E8F0FE;\n",
              "      border: none;\n",
              "      border-radius: 50%;\n",
              "      cursor: pointer;\n",
              "      display: none;\n",
              "      fill: #1967D2;\n",
              "      height: 32px;\n",
              "      padding: 0 0 0 0;\n",
              "      width: 32px;\n",
              "    }\n",
              "\n",
              "    .colab-df-convert:hover {\n",
              "      background-color: #E2EBFA;\n",
              "      box-shadow: 0px 1px 2px rgba(60, 64, 67, 0.3), 0px 1px 3px 1px rgba(60, 64, 67, 0.15);\n",
              "      fill: #174EA6;\n",
              "    }\n",
              "\n",
              "    .colab-df-buttons div {\n",
              "      margin-bottom: 4px;\n",
              "    }\n",
              "\n",
              "    [theme=dark] .colab-df-convert {\n",
              "      background-color: #3B4455;\n",
              "      fill: #D2E3FC;\n",
              "    }\n",
              "\n",
              "    [theme=dark] .colab-df-convert:hover {\n",
              "      background-color: #434B5C;\n",
              "      box-shadow: 0px 1px 3px 1px rgba(0, 0, 0, 0.15);\n",
              "      filter: drop-shadow(0px 1px 2px rgba(0, 0, 0, 0.3));\n",
              "      fill: #FFFFFF;\n",
              "    }\n",
              "  </style>\n",
              "\n",
              "    <script>\n",
              "      const buttonEl =\n",
              "        document.querySelector('#df-61f97471-e5d6-4e8e-830e-c70e6458b1d9 button.colab-df-convert');\n",
              "      buttonEl.style.display =\n",
              "        google.colab.kernel.accessAllowed ? 'block' : 'none';\n",
              "\n",
              "      async function convertToInteractive(key) {\n",
              "        const element = document.querySelector('#df-61f97471-e5d6-4e8e-830e-c70e6458b1d9');\n",
              "        const dataTable =\n",
              "          await google.colab.kernel.invokeFunction('convertToInteractive',\n",
              "                                                    [key], {});\n",
              "        if (!dataTable) return;\n",
              "\n",
              "        const docLinkHtml = 'Like what you see? Visit the ' +\n",
              "          '<a target=\"_blank\" href=https://colab.research.google.com/notebooks/data_table.ipynb>data table notebook</a>'\n",
              "          + ' to learn more about interactive tables.';\n",
              "        element.innerHTML = '';\n",
              "        dataTable['output_type'] = 'display_data';\n",
              "        await google.colab.output.renderOutput(dataTable, element);\n",
              "        const docLink = document.createElement('div');\n",
              "        docLink.innerHTML = docLinkHtml;\n",
              "        element.appendChild(docLink);\n",
              "      }\n",
              "    </script>\n",
              "  </div>\n",
              "\n",
              "\n",
              "<div id=\"df-0381564d-1ef1-4023-be11-d09a4f1cdd5e\">\n",
              "  <button class=\"colab-df-quickchart\" onclick=\"quickchart('df-0381564d-1ef1-4023-be11-d09a4f1cdd5e')\"\n",
              "            title=\"Suggest charts.\"\n",
              "            style=\"display:none;\">\n",
              "\n",
              "<svg xmlns=\"http://www.w3.org/2000/svg\" height=\"24px\"viewBox=\"0 0 24 24\"\n",
              "     width=\"24px\">\n",
              "    <g>\n",
              "        <path d=\"M19 3H5c-1.1 0-2 .9-2 2v14c0 1.1.9 2 2 2h14c1.1 0 2-.9 2-2V5c0-1.1-.9-2-2-2zM9 17H7v-7h2v7zm4 0h-2V7h2v10zm4 0h-2v-4h2v4z\"/>\n",
              "    </g>\n",
              "</svg>\n",
              "  </button>\n",
              "\n",
              "<style>\n",
              "  .colab-df-quickchart {\n",
              "    background-color: #E8F0FE;\n",
              "    border: none;\n",
              "    border-radius: 50%;\n",
              "    cursor: pointer;\n",
              "    display: none;\n",
              "    fill: #1967D2;\n",
              "    height: 32px;\n",
              "    padding: 0 0 0 0;\n",
              "    width: 32px;\n",
              "  }\n",
              "\n",
              "  .colab-df-quickchart:hover {\n",
              "    background-color: #E2EBFA;\n",
              "    box-shadow: 0px 1px 2px rgba(60, 64, 67, 0.3), 0px 1px 3px 1px rgba(60, 64, 67, 0.15);\n",
              "    fill: #174EA6;\n",
              "  }\n",
              "\n",
              "  [theme=dark] .colab-df-quickchart {\n",
              "    background-color: #3B4455;\n",
              "    fill: #D2E3FC;\n",
              "  }\n",
              "\n",
              "  [theme=dark] .colab-df-quickchart:hover {\n",
              "    background-color: #434B5C;\n",
              "    box-shadow: 0px 1px 3px 1px rgba(0, 0, 0, 0.15);\n",
              "    filter: drop-shadow(0px 1px 2px rgba(0, 0, 0, 0.3));\n",
              "    fill: #FFFFFF;\n",
              "  }\n",
              "</style>\n",
              "\n",
              "  <script>\n",
              "    async function quickchart(key) {\n",
              "      const charts = await google.colab.kernel.invokeFunction(\n",
              "          'suggestCharts', [key], {});\n",
              "    }\n",
              "    (() => {\n",
              "      let quickchartButtonEl =\n",
              "        document.querySelector('#df-0381564d-1ef1-4023-be11-d09a4f1cdd5e button');\n",
              "      quickchartButtonEl.style.display =\n",
              "        google.colab.kernel.accessAllowed ? 'block' : 'none';\n",
              "    })();\n",
              "  </script>\n",
              "</div>\n",
              "    </div>\n",
              "  </div>\n"
            ]
          },
          "metadata": {},
          "execution_count": 45
        }
      ]
    },
    {
      "cell_type": "code",
      "source": [
        "df['month'].unique()"
      ],
      "metadata": {
        "colab": {
          "base_uri": "https://localhost:8080/"
        },
        "id": "lkmhFjaqBV4g",
        "outputId": "2d4ec37e-4d3d-40cc-ac33-08b6524689de"
      },
      "execution_count": null,
      "outputs": [
        {
          "output_type": "execute_result",
          "data": {
            "text/plain": [
              "array([1, 3, 2])"
            ]
          },
          "metadata": {},
          "execution_count": 59
        }
      ]
    },
    {
      "cell_type": "code",
      "source": [
        "qty_reshaped = difference[\"quantity_difference\"].values.reshape(-1, 1)"
      ],
      "metadata": {
        "id": "c-7XbXhI6JD-"
      },
      "execution_count": null,
      "outputs": []
    },
    {
      "cell_type": "code",
      "source": [
        "num_clusters = 5"
      ],
      "metadata": {
        "id": "c3q-PxDt8jdX"
      },
      "execution_count": null,
      "outputs": []
    },
    {
      "cell_type": "code",
      "source": [
        "kmeanscdi = KMeans(n_clusters=num_clusters, random_state=42)\n",
        "clusterscdi = kmeanscdi.fit_predict(qty_reshaped)\n",
        "\n",
        "# Add cluster labels to the DataFrame\n",
        "difference['cluster'] = clusterscdi\n",
        "\n",
        "# Map cluster labels to numerical values\n",
        "cluster_mapping = {\n",
        "    2: 0,\n",
        "    3: 1,\n",
        "    0: 2,\n",
        "    1: 3,\n",
        "    4: 4\n",
        "}\n",
        "\n",
        "# Apply the cluster mapping to the 'cluster' column\n",
        "difference['cluster'] = difference['cluster'].map(cluster_mapping)\n",
        "\n",
        "# Plotting\n",
        "plt.figure(figsize=(10, 6))\n",
        "\n",
        "# Define cluster labels based on the numerical values\n",
        "numerical_cluster_labels = {\n",
        "    0: 'Cluster 0 (Declining)',\n",
        "    1: 'Cluster 1 (Declining)',\n",
        "    2: 'Cluster 2 (Declining)',\n",
        "    3: 'Cluster 3 (Consistent)',\n",
        "    4: 'Cluster 4 (Increasing)'\n",
        "}\n",
        "\n",
        "for cluster, label in numerical_cluster_labels.items():\n",
        "    cluster_data = difference[difference['cluster'] == cluster]\n",
        "    plt.scatter(cluster_data.index, cluster_data['quantity_difference'], label=label)\n",
        "\n",
        "plt.title('K-Means Clustering of Quantity Differences')\n",
        "plt.xlabel('Index')\n",
        "plt.ylabel('Quantity Difference')\n",
        "plt.legend()\n",
        "plt.show()"
      ],
      "metadata": {
        "colab": {
          "base_uri": "https://localhost:8080/",
          "height": 619
        },
        "id": "qcmHD97v57S3",
        "outputId": "ef5e66b4-3a03-41a6-e8a6-f56108f92d21"
      },
      "execution_count": null,
      "outputs": [
        {
          "output_type": "stream",
          "name": "stderr",
          "text": [
            "/usr/local/lib/python3.10/dist-packages/sklearn/cluster/_kmeans.py:870: FutureWarning: The default value of `n_init` will change from 10 to 'auto' in 1.4. Set the value of `n_init` explicitly to suppress the warning\n",
            "  warnings.warn(\n"
          ]
        },
        {
          "output_type": "display_data",
          "data": {
            "text/plain": [
              "<Figure size 1000x600 with 1 Axes>"
            ],
            "image/png": "[encoded data removed]"
          },
          "metadata": {}
        }
      ]
    },
    {
      "cell_type": "code",
      "source": [
        "difference"
      ],
      "metadata": {
        "id": "rIoY7nLKaofc",
        "outputId": "586e64ad-a8e3-4030-b1be-02b0107e8269",
        "colab": {
          "base_uri": "https://localhost:8080/",
          "height": 424
        }
      },
      "execution_count": null,
      "outputs": [
        {
          "output_type": "execute_result",
          "data": {
            "text/plain": [
              "                                   user_id  month  quantity_difference  \\\n",
              "1     00b158ed-0fcb-48e1-b627-2bb572a344cf      2                -11.0   \n",
              "2     00b158ed-0fcb-48e1-b627-2bb572a344cf      3                -16.0   \n",
              "4     00bafc5b-3e97-439c-8b1f-9a6568adbaaa      2                -32.0   \n",
              "5     00bafc5b-3e97-439c-8b1f-9a6568adbaaa      3                 -6.0   \n",
              "7     00cf8833-2cd5-40df-8477-3e9b73dbdb66      2                 -4.0   \n",
              "...                                    ...    ...                  ...   \n",
              "2993  ff13b265-54d4-48c4-8b51-f2e29e024e54      3                -22.0   \n",
              "2995  ff39dbcb-4414-45b3-8fa0-92577d1c78b8      2                 -3.0   \n",
              "2996  ff39dbcb-4414-45b3-8fa0-92577d1c78b8      3                  5.0   \n",
              "2998  ffde4412-810f-4800-a40b-27ad2a614a9e      2                 26.0   \n",
              "2999  ffde4412-810f-4800-a40b-27ad2a614a9e      3                -53.0   \n",
              "\n",
              "      cluster  \n",
              "1           2  \n",
              "2           2  \n",
              "4           1  \n",
              "5           2  \n",
              "7           3  \n",
              "...       ...  \n",
              "2993        2  \n",
              "2995        3  \n",
              "2996        3  \n",
              "2998        4  \n",
              "2999        1  \n",
              "\n",
              "[2000 rows x 4 columns]"
            ],
            "text/html": [
              "\n",
              "\n",
              "  <div id=\"df-6ac8b7b4-26b3-482a-97df-eb8199344164\">\n",
              "    <div class=\"colab-df-container\">\n",
              "      <div>\n",
              "<style scoped>\n",
              "    .dataframe tbody tr th:only-of-type {\n",
              "        vertical-align: middle;\n",
              "    }\n",
              "\n",
              "    .dataframe tbody tr th {\n",
              "        vertical-align: top;\n",
              "    }\n",
              "\n",
              "    .dataframe thead th {\n",
              "        text-align: right;\n",
              "    }\n",
              "</style>\n",
              "<table border=\"1\" class=\"dataframe\">\n",
              "  <thead>\n",
              "    <tr style=\"text-align: right;\">\n",
              "      <th></th>\n",
              "      <th>user_id</th>\n",
              "      <th>month</th>\n",
              "      <th>quantity_difference</th>\n",
              "      <th>cluster</th>\n",
              "    </tr>\n",
              "  </thead>\n",
              "  <tbody>\n",
              "    <tr>\n",
              "      <th>1</th>\n",
              "      <td>00b158ed-0fcb-48e1-b627-2bb572a344cf</td>\n",
              "      <td>2</td>\n",
              "      <td>-11.0</td>\n",
              "      <td>2</td>\n",
              "    </tr>\n",
              "    <tr>\n",
              "      <th>2</th>\n",
              "      <td>00b158ed-0fcb-48e1-b627-2bb572a344cf</td>\n",
              "      <td>3</td>\n",
              "      <td>-16.0</td>\n",
              "      <td>2</td>\n",
              "    </tr>\n",
              "    <tr>\n",
              "      <th>4</th>\n",
              "      <td>00bafc5b-3e97-439c-8b1f-9a6568adbaaa</td>\n",
              "      <td>2</td>\n",
              "      <td>-32.0</td>\n",
              "      <td>1</td>\n",
              "    </tr>\n",
              "    <tr>\n",
              "      <th>5</th>\n",
              "      <td>00bafc5b-3e97-439c-8b1f-9a6568adbaaa</td>\n",
              "      <td>3</td>\n",
              "      <td>-6.0</td>\n",
              "      <td>2</td>\n",
              "    </tr>\n",
              "    <tr>\n",
              "      <th>7</th>\n",
              "      <td>00cf8833-2cd5-40df-8477-3e9b73dbdb66</td>\n",
              "      <td>2</td>\n",
              "      <td>-4.0</td>\n",
              "      <td>3</td>\n",
              "    </tr>\n",
              "    <tr>\n",
              "      <th>...</th>\n",
              "      <td>...</td>\n",
              "      <td>...</td>\n",
              "      <td>...</td>\n",
              "      <td>...</td>\n",
              "    </tr>\n",
              "    <tr>\n",
              "      <th>2993</th>\n",
              "      <td>ff13b265-54d4-48c4-8b51-f2e29e024e54</td>\n",
              "      <td>3</td>\n",
              "      <td>-22.0</td>\n",
              "      <td>2</td>\n",
              "    </tr>\n",
              "    <tr>\n",
              "      <th>2995</th>\n",
              "      <td>ff39dbcb-4414-45b3-8fa0-92577d1c78b8</td>\n",
              "      <td>2</td>\n",
              "      <td>-3.0</td>\n",
              "      <td>3</td>\n",
              "    </tr>\n",
              "    <tr>\n",
              "      <th>2996</th>\n",
              "      <td>ff39dbcb-4414-45b3-8fa0-92577d1c78b8</td>\n",
              "      <td>3</td>\n",
              "      <td>5.0</td>\n",
              "      <td>3</td>\n",
              "    </tr>\n",
              "    <tr>\n",
              "      <th>2998</th>\n",
              "      <td>ffde4412-810f-4800-a40b-27ad2a614a9e</td>\n",
              "      <td>2</td>\n",
              "      <td>26.0</td>\n",
              "      <td>4</td>\n",
              "    </tr>\n",
              "    <tr>\n",
              "      <th>2999</th>\n",
              "      <td>ffde4412-810f-4800-a40b-27ad2a614a9e</td>\n",
              "      <td>3</td>\n",
              "      <td>-53.0</td>\n",
              "      <td>1</td>\n",
              "    </tr>\n",
              "  </tbody>\n",
              "</table>\n",
              "<p>2000 rows × 4 columns</p>\n",
              "</div>\n",
              "      <button class=\"colab-df-convert\" onclick=\"convertToInteractive('df-6ac8b7b4-26b3-482a-97df-eb8199344164')\"\n",
              "              title=\"Convert this dataframe to an interactive table.\"\n",
              "              style=\"display:none;\">\n",
              "\n",
              "  <svg xmlns=\"http://www.w3.org/2000/svg\" height=\"24px\"viewBox=\"0 0 24 24\"\n",
              "       width=\"24px\">\n",
              "    <path d=\"M0 0h24v24H0V0z\" fill=\"none\"/>\n",
              "    <path d=\"M18.56 5.44l.94 2.06.94-2.06 2.06-.94-2.06-.94-.94-2.06-.94 2.06-2.06.94zm-11 1L8.5 8.5l.94-2.06 2.06-.94-2.06-.94L8.5 2.5l-.94 2.06-2.06.94zm10 10l.94 2.06.94-2.06 2.06-.94-2.06-.94-.94-2.06-.94 2.06-2.06.94z\"/><path d=\"M17.41 7.96l-1.37-1.37c-.4-.4-.92-.59-1.43-.59-.52 0-1.04.2-1.43.59L10.3 9.45l-7.72 7.72c-.78.78-.78 2.05 0 2.83L4 21.41c.39.39.9.59 1.41.59.51 0 1.02-.2 1.41-.59l7.78-7.78 2.81-2.81c.8-.78.8-2.07 0-2.86zM5.41 20L4 18.59l7.72-7.72 1.47 1.35L5.41 20z\"/>\n",
              "  </svg>\n",
              "      </button>\n",
              "\n",
              "\n",
              "\n",
              "    <div id=\"df-16b8bed3-121c-4fe2-becf-1a344727754d\">\n",
              "      <button class=\"colab-df-quickchart\" onclick=\"quickchart('df-16b8bed3-121c-4fe2-becf-1a344727754d')\"\n",
              "              title=\"Suggest charts.\"\n",
              "              style=\"display:none;\">\n",
              "\n",
              "<svg xmlns=\"http://www.w3.org/2000/svg\" height=\"24px\"viewBox=\"0 0 24 24\"\n",
              "     width=\"24px\">\n",
              "    <g>\n",
              "        <path d=\"M19 3H5c-1.1 0-2 .9-2 2v14c0 1.1.9 2 2 2h14c1.1 0 2-.9 2-2V5c0-1.1-.9-2-2-2zM9 17H7v-7h2v7zm4 0h-2V7h2v10zm4 0h-2v-4h2v4z\"/>\n",
              "    </g>\n",
              "</svg>\n",
              "      </button>\n",
              "    </div>\n",
              "\n",
              "<style>\n",
              "  .colab-df-quickchart {\n",
              "    background-color: #E8F0FE;\n",
              "    border: none;\n",
              "    border-radius: 50%;\n",
              "    cursor: pointer;\n",
              "    display: none;\n",
              "    fill: #1967D2;\n",
              "    height: 32px;\n",
              "    padding: 0 0 0 0;\n",
              "    width: 32px;\n",
              "  }\n",
              "\n",
              "  .colab-df-quickchart:hover {\n",
              "    background-color: #E2EBFA;\n",
              "    box-shadow: 0px 1px 2px rgba(60, 64, 67, 0.3), 0px 1px 3px 1px rgba(60, 64, 67, 0.15);\n",
              "    fill: #174EA6;\n",
              "  }\n",
              "\n",
              "  [theme=dark] .colab-df-quickchart {\n",
              "    background-color: #3B4455;\n",
              "    fill: #D2E3FC;\n",
              "  }\n",
              "\n",
              "  [theme=dark] .colab-df-quickchart:hover {\n",
              "    background-color: #434B5C;\n",
              "    box-shadow: 0px 1px 3px 1px rgba(0, 0, 0, 0.15);\n",
              "    filter: drop-shadow(0px 1px 2px rgba(0, 0, 0, 0.3));\n",
              "    fill: #FFFFFF;\n",
              "  }\n",
              "</style>\n",
              "\n",
              "    <script>\n",
              "      async function quickchart(key) {\n",
              "        const containerElement = document.querySelector('#' + key);\n",
              "        const charts = await google.colab.kernel.invokeFunction(\n",
              "            'suggestCharts', [key], {});\n",
              "      }\n",
              "    </script>\n",
              "\n",
              "\n",
              "      <script>\n",
              "\n",
              "function displayQuickchartButton(domScope) {\n",
              "  let quickchartButtonEl =\n",
              "    domScope.querySelector('#df-16b8bed3-121c-4fe2-becf-1a344727754d button.colab-df-quickchart');\n",
              "  quickchartButtonEl.style.display =\n",
              "    google.colab.kernel.accessAllowed ? 'block' : 'none';\n",
              "}\n",
              "\n",
              "        displayQuickchartButton(document);\n",
              "      </script>\n",
              "      <style>\n",
              "    .colab-df-container {\n",
              "      display:flex;\n",
              "      flex-wrap:wrap;\n",
              "      gap: 12px;\n",
              "    }\n",
              "\n",
              "    .colab-df-convert {\n",
              "      background-color: #E8F0FE;\n",
              "      border: none;\n",
              "      border-radius: 50%;\n",
              "      cursor: pointer;\n",
              "      display: none;\n",
              "      fill: #1967D2;\n",
              "      height: 32px;\n",
              "      padding: 0 0 0 0;\n",
              "      width: 32px;\n",
              "    }\n",
              "\n",
              "    .colab-df-convert:hover {\n",
              "      background-color: #E2EBFA;\n",
              "      box-shadow: 0px 1px 2px rgba(60, 64, 67, 0.3), 0px 1px 3px 1px rgba(60, 64, 67, 0.15);\n",
              "      fill: #174EA6;\n",
              "    }\n",
              "\n",
              "    [theme=dark] .colab-df-convert {\n",
              "      background-color: #3B4455;\n",
              "      fill: #D2E3FC;\n",
              "    }\n",
              "\n",
              "    [theme=dark] .colab-df-convert:hover {\n",
              "      background-color: #434B5C;\n",
              "      box-shadow: 0px 1px 3px 1px rgba(0, 0, 0, 0.15);\n",
              "      filter: drop-shadow(0px 1px 2px rgba(0, 0, 0, 0.3));\n",
              "      fill: #FFFFFF;\n",
              "    }\n",
              "  </style>\n",
              "\n",
              "      <script>\n",
              "        const buttonEl =\n",
              "          document.querySelector('#df-6ac8b7b4-26b3-482a-97df-eb8199344164 button.colab-df-convert');\n",
              "        buttonEl.style.display =\n",
              "          google.colab.kernel.accessAllowed ? 'block' : 'none';\n",
              "\n",
              "        async function convertToInteractive(key) {\n",
              "          const element = document.querySelector('#df-6ac8b7b4-26b3-482a-97df-eb8199344164');\n",
              "          const dataTable =\n",
              "            await google.colab.kernel.invokeFunction('convertToInteractive',\n",
              "                                                     [key], {});\n",
              "          if (!dataTable) return;\n",
              "\n",
              "          const docLinkHtml = 'Like what you see? Visit the ' +\n",
              "            '<a target=\"_blank\" href=https://colab.research.google.com/notebooks/data_table.ipynb>data table notebook</a>'\n",
              "            + ' to learn more about interactive tables.';\n",
              "          element.innerHTML = '';\n",
              "          dataTable['output_type'] = 'display_data';\n",
              "          await google.colab.output.renderOutput(dataTable, element);\n",
              "          const docLink = document.createElement('div');\n",
              "          docLink.innerHTML = docLinkHtml;\n",
              "          element.appendChild(docLink);\n",
              "        }\n",
              "      </script>\n",
              "    </div>\n",
              "  </div>\n"
            ]
          },
          "metadata": {},
          "execution_count": 193
        }
      ]
    },
    {
      "cell_type": "markdown",
      "source": [
        "We shall consider\n",
        "- cluster 3 as consistent\n",
        "- cluster 4 as increasing\n",
        "- cluster 0, 1, 2 as declining\n"
      ],
      "metadata": {
        "id": "OrZPtbKV8u0v"
      }
    },
    {
      "cell_type": "markdown",
      "source": [
        "However using clustering method such as this does not utilize the use time variable properly since it only understand the difference between each month, although it may possible using moving average or mean and other methods however it does not truly understand the time variable. So it is better to use deep learning method such as LSTM using a generated variative data to make a supervised learning model and fine tune it using the actual data, however this requires the stakeholder knowledge for the required data and each customer supposed classification and behaviour"
      ],
      "metadata": {
        "id": "CCm6Pigs9N6f"
      }
    },
    {
      "cell_type": "markdown",
      "source": [
        "#### Combined"
      ],
      "metadata": {
        "id": "iQpp1Omv_Jr_"
      }
    },
    {
      "cell_type": "markdown",
      "source": [
        "However even without several data (for several user each has a lot of data), generated data (requires consultation with stakeholders). It is possible to understand returning frequent buyer through a logistic function that combines both classification result. It can be adapted based on the stakeholder decision"
      ],
      "metadata": {
        "id": "J8Cz3Ol4PVY8"
      }
    },
    {
      "cell_type": "markdown",
      "source": [
        "Frequent vs Occasional"
      ],
      "metadata": {
        "id": "g2TqIBDxRmoH"
      }
    },
    {
      "cell_type": "markdown",
      "source": [
        "I am using logistic function to make it work as a mean value, because of the concave-up behavior (making it easier to decrease values in the middle range) and concave-down behavior (making it harder to decrease values once they are high) so that a former-frequent user does not immedietly classified as occasional user. This works well to find user that is classified as **returning frequent buyer** which in this case\n",
        "\n",
        "**returning frequent buyer** == declining frequent buyer"
      ],
      "metadata": {
        "id": "wP1Z-e36qhZ2"
      }
    },
    {
      "cell_type": "code",
      "source": [
        "def logistic_weight(x, L, k, x0):\n",
        "    return L / (1 + np.exp(-k * (x - x0)))"
      ],
      "metadata": {
        "id": "-O5feLC-_JAI"
      },
      "execution_count": null,
      "outputs": []
    },
    {
      "cell_type": "code",
      "source": [
        "def combine_values(values, L, k, x0):\n",
        "    normalized_values = [v / 4.0 for v in values]  # Normalize values to 0-1 range\n",
        "    weights = [logistic_weight(v, L, k, x0) for v in normalized_values]\n",
        "    weighted_sum = sum(w * v for w, v in zip(weights, values))\n",
        "    total_weight = sum(weights)\n",
        "    combined_value = weighted_sum / total_weight\n",
        "    return combined_value\n",
        "\n",
        "#example\n",
        "values = [4, 4, 3, 2, 3]\n",
        "L = 1.0  # You can adjust this value\n",
        "k = 1.0  # You can adjust this value\n",
        "x0 = 0.5  # You can adjust this value\n",
        "\n",
        "combined_result = combine_values(values, L, k, x0)\n",
        "print(\"Combined Value:\", combined_result)"
      ],
      "metadata": {
        "colab": {
          "base_uri": "https://localhost:8080/"
        },
        "id": "pAcHNi7pqD7p",
        "outputId": "0f09411a-63db-41b5-9a0d-8e449f5714ab"
      },
      "execution_count": null,
      "outputs": [
        {
          "output_type": "stream",
          "name": "stdout",
          "text": [
            "Combined Value: 3.259619425969488\n"
          ]
        }
      ]
    },
    {
      "cell_type": "code",
      "source": [
        "user_rankings = user_features[user_features['user_id'] == '00b158ed-0fcb-48e1-b627-2bb572a344cf'].sort_values(by='month', ascending=False)"
      ],
      "metadata": {
        "id": "WS0ZliIjr7JT"
      },
      "execution_count": null,
      "outputs": []
    },
    {
      "cell_type": "code",
      "source": [
        "combine_values(user_rankings['cluster'].values, 1.0, 1.0, 0.5)"
      ],
      "metadata": {
        "colab": {
          "base_uri": "https://localhost:8080/"
        },
        "id": "AD7TZ7Ux8SJT",
        "outputId": "5f3889d8-dc56-4f77-e5aa-e6fa5171e540"
      },
      "execution_count": null,
      "outputs": [
        {
          "output_type": "execute_result",
          "data": {
            "text/plain": [
              "0.6987357291075648"
            ]
          },
          "metadata": {},
          "execution_count": 52
        }
      ]
    },
    {
      "cell_type": "code",
      "source": [
        "def user_first_behaviour(user_id, n, user_features):\n",
        "  #user_id\n",
        "  #n is number to choose n latest customer with id=user_id segmentation score you want to combine\n",
        "  user_rankings = user_features[user_features['user_id'] == '00b158ed-0fcb-48e1-b627-2bb572a344cf'].sort_values(by='month', ascending=False)\n",
        "  if len(user_rankings['cluster'].values) == 0:\n",
        "    response = {\"code\": 404, \"error\": \"could not find transaction\", \"message\": \"could not find transaction\"}\n",
        "  elif len(user_rankings['cluster'].values) < n:\n",
        "    response = {\"code\": 404, \"error\": \"n exceed user data length\", \"message\": \"n exceed user data length\"}\n",
        "  else:\n",
        "    response = combine_values(user_rankings['cluster'].values[:n], 1.0, 1.0, 0.5)\n",
        "  return response"
      ],
      "metadata": {
        "id": "WDVvYgzJrA7C"
      },
      "execution_count": null,
      "outputs": []
    },
    {
      "cell_type": "code",
      "source": [
        "user_first_behaviour('00b158ed-0fcb-48e1-b627-2bb572a344cf', 3, user_features)"
      ],
      "metadata": {
        "colab": {
          "base_uri": "https://localhost:8080/"
        },
        "id": "jD4IE218xlaH",
        "outputId": "92c89ad1-c1ff-45ba-8178-ffcc4dbdd55c"
      },
      "execution_count": null,
      "outputs": [
        {
          "output_type": "execute_result",
          "data": {
            "text/plain": [
              "0.6987357291075648"
            ]
          },
          "metadata": {},
          "execution_count": 54
        }
      ]
    },
    {
      "cell_type": "markdown",
      "source": [
        "Now we will now combine the frequent vs occasional with Consistent vs Declining vs Increasing"
      ],
      "metadata": {
        "id": "NusxIqCztvId"
      }
    },
    {
      "cell_type": "markdown",
      "source": [
        "It is actually possible too to make a scoring function or model based on both 0 to 4 scoring from those 2 models using deep learning with the variables optimized for best voucher or promotion decision score-profit system, it might be quite complex, so I will not simulate that for now"
      ],
      "metadata": {
        "id": "8SCPZWWdyxXJ"
      }
    },
    {
      "cell_type": "code",
      "source": [
        "def user_second_behaviour(user_id, n, difference): #we will be using SQLAlchemy if I have enough time to make the API\n",
        "  user_rankings = difference[difference['user_id'] == user_id].sort_values(by='month', ascending=False)\n",
        "  if len(user_rankings['cluster'].values) == 0:\n",
        "    response = {\"code\": 404, \"error\": \"could not find transaction\", \"message\": \"could not find transaction\"}\n",
        "  elif len(user_rankings['cluster'].values) < n:\n",
        "    response = {\"code\": 404, \"error\": \"n exceed user data length\", \"message\": \"n exceed user data length\"}\n",
        "  else:\n",
        "    response = combine_values(user_rankings['cluster'].values[:n], 1.0, 1.0, 0.5)\n",
        "  return response"
      ],
      "metadata": {
        "id": "7L0yoIoazJn-"
      },
      "execution_count": null,
      "outputs": []
    },
    {
      "cell_type": "code",
      "source": [
        "user_second_behaviour('00b158ed-0fcb-48e1-b627-2bb572a344cf', 2, difference)"
      ],
      "metadata": {
        "colab": {
          "base_uri": "https://localhost:8080/"
        },
        "id": "p6IYeCGg9tYD",
        "outputId": "79e75a83-9585-43d8-89e1-95e914bf1521"
      },
      "execution_count": null,
      "outputs": [
        {
          "output_type": "execute_result",
          "data": {
            "text/plain": [
              "2.0"
            ]
          },
          "metadata": {},
          "execution_count": 56
        }
      ]
    },
    {
      "cell_type": "code",
      "source": [
        "def combine_behaviors(user_id, n, user_features):\n",
        "    # Define mappings for first function\n",
        "    first_output = round(user_first_behaviour(user_id, n, user_features))\n",
        "    second_output = round(user_second_behaviour(user_id, n-1, user_features))\n",
        "\n",
        "    first_mapping = {\n",
        "        0: 'occasional',\n",
        "        1: 'mid',\n",
        "        2: 'frequent',        #does not actually mean normal but rather mid-scale\n",
        "        3: 'frequent',\n",
        "        4: 'frequent'\n",
        "    }\n",
        "\n",
        "    # Define mappings for second function outputs\n",
        "    second_mapping = {\n",
        "        0: 'declining',\n",
        "        1: 'declining',\n",
        "        2: 'declining',\n",
        "        3: 'consistent',\n",
        "        4: 'increasing'\n",
        "    }\n",
        "\n",
        "    # Combine the outputs\n",
        "    combined_output = f\"{second_mapping[second_output]} {first_mapping[first_output]}\"\n",
        "\n",
        "    return combined_output"
      ],
      "metadata": {
        "id": "V5C0eU-T_IfC"
      },
      "execution_count": null,
      "outputs": []
    },
    {
      "cell_type": "code",
      "source": [
        "combine_behaviors('00b158ed-0fcb-48e1-b627-2bb572a344cf', 2, user_features)"
      ],
      "metadata": {
        "colab": {
          "base_uri": "https://localhost:8080/",
          "height": 35
        },
        "id": "Cc5jvRZzAZe8",
        "outputId": "cb84a684-d3f1-4107-f259-781ac0a45cc6"
      },
      "execution_count": null,
      "outputs": [
        {
          "output_type": "execute_result",
          "data": {
            "text/plain": [
              "'declining mid'"
            ],
            "application/vnd.google.colaboratory.intrinsic+json": {
              "type": "string"
            }
          },
          "metadata": {},
          "execution_count": 58
        }
      ]
    },
    {
      "cell_type": "markdown",
      "source": [
        "We could conclude that user '00b158ed-0fcb-48e1-b627-2bb572a344cf' is declining mid user"
      ],
      "metadata": {
        "id": "F_HyBOpG-5oj"
      }
    },
    {
      "cell_type": "markdown",
      "source": [
        "Remember that we could utilize these value from the segmentation to make a model combined with other variables such as user_tier or even location to make rewards-promotion model for users"
      ],
      "metadata": {
        "id": "Szv0LpE-7oNd"
      }
    },
    {
      "cell_type": "markdown",
      "source": [
        "### User Active Hour"
      ],
      "metadata": {
        "id": "xkh8XV8tRy50"
      }
    },
    {
      "cell_type": "markdown",
      "source": [
        "This Classification can be used to identify user's most active hour for purchasing, this could be used for notification schedule for the company's mobile app"
      ],
      "metadata": {
        "id": "nsxo4drdJEh4"
      }
    },
    {
      "cell_type": "code",
      "source": [
        "# Calculate user-level features: total quantity for each user in each hour\n",
        "user_features_hour = df.groupby(['user_id', 'hour'])['quantity'].sum().reset_index()"
      ],
      "metadata": {
        "id": "dSpIG40aFXZJ"
      },
      "execution_count": null,
      "outputs": []
    },
    {
      "cell_type": "code",
      "source": [
        "user_features_hour"
      ],
      "metadata": {
        "id": "3m6f9Ft_R4cD",
        "colab": {
          "base_uri": "https://localhost:8080/",
          "height": 424
        },
        "outputId": "611aa282-fbc9-4755-a75a-49b1ea2d2013"
      },
      "execution_count": null,
      "outputs": [
        {
          "output_type": "execute_result",
          "data": {
            "text/plain": [
              "                                   user_id  hour  quantity\n",
              "0     00b158ed-0fcb-48e1-b627-2bb572a344cf    10       9.0\n",
              "1     00b158ed-0fcb-48e1-b627-2bb572a344cf    11      11.0\n",
              "2     00b158ed-0fcb-48e1-b627-2bb572a344cf    12      12.0\n",
              "3     00b158ed-0fcb-48e1-b627-2bb572a344cf    13       1.0\n",
              "4     00b158ed-0fcb-48e1-b627-2bb572a344cf    14       7.0\n",
              "...                                    ...   ...       ...\n",
              "2509  ffde4412-810f-4800-a40b-27ad2a614a9e    16       3.0\n",
              "2510  ffde4412-810f-4800-a40b-27ad2a614a9e    18      79.0\n",
              "2511  ffde4412-810f-4800-a40b-27ad2a614a9e    19      48.0\n",
              "2512  ffde4412-810f-4800-a40b-27ad2a614a9e    20      10.0\n",
              "2513  ffde4412-810f-4800-a40b-27ad2a614a9e    21       1.0\n",
              "\n",
              "[2514 rows x 3 columns]"
            ],
            "text/html": [
              "\n",
              "\n",
              "  <div id=\"df-165b1d68-d8d7-4805-9e4f-d68d891cddc0\">\n",
              "    <div class=\"colab-df-container\">\n",
              "      <div>\n",
              "<style scoped>\n",
              "    .dataframe tbody tr th:only-of-type {\n",
              "        vertical-align: middle;\n",
              "    }\n",
              "\n",
              "    .dataframe tbody tr th {\n",
              "        vertical-align: top;\n",
              "    }\n",
              "\n",
              "    .dataframe thead th {\n",
              "        text-align: right;\n",
              "    }\n",
              "</style>\n",
              "<table border=\"1\" class=\"dataframe\">\n",
              "  <thead>\n",
              "    <tr style=\"text-align: right;\">\n",
              "      <th></th>\n",
              "      <th>user_id</th>\n",
              "      <th>hour</th>\n",
              "      <th>quantity</th>\n",
              "    </tr>\n",
              "  </thead>\n",
              "  <tbody>\n",
              "    <tr>\n",
              "      <th>0</th>\n",
              "      <td>00b158ed-0fcb-48e1-b627-2bb572a344cf</td>\n",
              "      <td>10</td>\n",
              "      <td>9.0</td>\n",
              "    </tr>\n",
              "    <tr>\n",
              "      <th>1</th>\n",
              "      <td>00b158ed-0fcb-48e1-b627-2bb572a344cf</td>\n",
              "      <td>11</td>\n",
              "      <td>11.0</td>\n",
              "    </tr>\n",
              "    <tr>\n",
              "      <th>2</th>\n",
              "      <td>00b158ed-0fcb-48e1-b627-2bb572a344cf</td>\n",
              "      <td>12</td>\n",
              "      <td>12.0</td>\n",
              "    </tr>\n",
              "    <tr>\n",
              "      <th>3</th>\n",
              "      <td>00b158ed-0fcb-48e1-b627-2bb572a344cf</td>\n",
              "      <td>13</td>\n",
              "      <td>1.0</td>\n",
              "    </tr>\n",
              "    <tr>\n",
              "      <th>4</th>\n",
              "      <td>00b158ed-0fcb-48e1-b627-2bb572a344cf</td>\n",
              "      <td>14</td>\n",
              "      <td>7.0</td>\n",
              "    </tr>\n",
              "    <tr>\n",
              "      <th>...</th>\n",
              "      <td>...</td>\n",
              "      <td>...</td>\n",
              "      <td>...</td>\n",
              "    </tr>\n",
              "    <tr>\n",
              "      <th>2509</th>\n",
              "      <td>ffde4412-810f-4800-a40b-27ad2a614a9e</td>\n",
              "      <td>16</td>\n",
              "      <td>3.0</td>\n",
              "    </tr>\n",
              "    <tr>\n",
              "      <th>2510</th>\n",
              "      <td>ffde4412-810f-4800-a40b-27ad2a614a9e</td>\n",
              "      <td>18</td>\n",
              "      <td>79.0</td>\n",
              "    </tr>\n",
              "    <tr>\n",
              "      <th>2511</th>\n",
              "      <td>ffde4412-810f-4800-a40b-27ad2a614a9e</td>\n",
              "      <td>19</td>\n",
              "      <td>48.0</td>\n",
              "    </tr>\n",
              "    <tr>\n",
              "      <th>2512</th>\n",
              "      <td>ffde4412-810f-4800-a40b-27ad2a614a9e</td>\n",
              "      <td>20</td>\n",
              "      <td>10.0</td>\n",
              "    </tr>\n",
              "    <tr>\n",
              "      <th>2513</th>\n",
              "      <td>ffde4412-810f-4800-a40b-27ad2a614a9e</td>\n",
              "      <td>21</td>\n",
              "      <td>1.0</td>\n",
              "    </tr>\n",
              "  </tbody>\n",
              "</table>\n",
              "<p>2514 rows × 3 columns</p>\n",
              "</div>\n",
              "      <button class=\"colab-df-convert\" onclick=\"convertToInteractive('df-165b1d68-d8d7-4805-9e4f-d68d891cddc0')\"\n",
              "              title=\"Convert this dataframe to an interactive table.\"\n",
              "              style=\"display:none;\">\n",
              "\n",
              "  <svg xmlns=\"http://www.w3.org/2000/svg\" height=\"24px\"viewBox=\"0 0 24 24\"\n",
              "       width=\"24px\">\n",
              "    <path d=\"M0 0h24v24H0V0z\" fill=\"none\"/>\n",
              "    <path d=\"M18.56 5.44l.94 2.06.94-2.06 2.06-.94-2.06-.94-.94-2.06-.94 2.06-2.06.94zm-11 1L8.5 8.5l.94-2.06 2.06-.94-2.06-.94L8.5 2.5l-.94 2.06-2.06.94zm10 10l.94 2.06.94-2.06 2.06-.94-2.06-.94-.94-2.06-.94 2.06-2.06.94z\"/><path d=\"M17.41 7.96l-1.37-1.37c-.4-.4-.92-.59-1.43-.59-.52 0-1.04.2-1.43.59L10.3 9.45l-7.72 7.72c-.78.78-.78 2.05 0 2.83L4 21.41c.39.39.9.59 1.41.59.51 0 1.02-.2 1.41-.59l7.78-7.78 2.81-2.81c.8-.78.8-2.07 0-2.86zM5.41 20L4 18.59l7.72-7.72 1.47 1.35L5.41 20z\"/>\n",
              "  </svg>\n",
              "      </button>\n",
              "\n",
              "\n",
              "\n",
              "    <div id=\"df-c03470bc-c4cc-4326-944d-a269c3e3e0a9\">\n",
              "      <button class=\"colab-df-quickchart\" onclick=\"quickchart('df-c03470bc-c4cc-4326-944d-a269c3e3e0a9')\"\n",
              "              title=\"Suggest charts.\"\n",
              "              style=\"display:none;\">\n",
              "\n",
              "<svg xmlns=\"http://www.w3.org/2000/svg\" height=\"24px\"viewBox=\"0 0 24 24\"\n",
              "     width=\"24px\">\n",
              "    <g>\n",
              "        <path d=\"M19 3H5c-1.1 0-2 .9-2 2v14c0 1.1.9 2 2 2h14c1.1 0 2-.9 2-2V5c0-1.1-.9-2-2-2zM9 17H7v-7h2v7zm4 0h-2V7h2v10zm4 0h-2v-4h2v4z\"/>\n",
              "    </g>\n",
              "</svg>\n",
              "      </button>\n",
              "    </div>\n",
              "\n",
              "<style>\n",
              "  .colab-df-quickchart {\n",
              "    background-color: #E8F0FE;\n",
              "    border: none;\n",
              "    border-radius: 50%;\n",
              "    cursor: pointer;\n",
              "    display: none;\n",
              "    fill: #1967D2;\n",
              "    height: 32px;\n",
              "    padding: 0 0 0 0;\n",
              "    width: 32px;\n",
              "  }\n",
              "\n",
              "  .colab-df-quickchart:hover {\n",
              "    background-color: #E2EBFA;\n",
              "    box-shadow: 0px 1px 2px rgba(60, 64, 67, 0.3), 0px 1px 3px 1px rgba(60, 64, 67, 0.15);\n",
              "    fill: #174EA6;\n",
              "  }\n",
              "\n",
              "  [theme=dark] .colab-df-quickchart {\n",
              "    background-color: #3B4455;\n",
              "    fill: #D2E3FC;\n",
              "  }\n",
              "\n",
              "  [theme=dark] .colab-df-quickchart:hover {\n",
              "    background-color: #434B5C;\n",
              "    box-shadow: 0px 1px 3px 1px rgba(0, 0, 0, 0.15);\n",
              "    filter: drop-shadow(0px 1px 2px rgba(0, 0, 0, 0.3));\n",
              "    fill: #FFFFFF;\n",
              "  }\n",
              "</style>\n",
              "\n",
              "    <script>\n",
              "      async function quickchart(key) {\n",
              "        const containerElement = document.querySelector('#' + key);\n",
              "        const charts = await google.colab.kernel.invokeFunction(\n",
              "            'suggestCharts', [key], {});\n",
              "      }\n",
              "    </script>\n",
              "\n",
              "\n",
              "      <script>\n",
              "\n",
              "function displayQuickchartButton(domScope) {\n",
              "  let quickchartButtonEl =\n",
              "    domScope.querySelector('#df-c03470bc-c4cc-4326-944d-a269c3e3e0a9 button.colab-df-quickchart');\n",
              "  quickchartButtonEl.style.display =\n",
              "    google.colab.kernel.accessAllowed ? 'block' : 'none';\n",
              "}\n",
              "\n",
              "        displayQuickchartButton(document);\n",
              "      </script>\n",
              "      <style>\n",
              "    .colab-df-container {\n",
              "      display:flex;\n",
              "      flex-wrap:wrap;\n",
              "      gap: 12px;\n",
              "    }\n",
              "\n",
              "    .colab-df-convert {\n",
              "      background-color: #E8F0FE;\n",
              "      border: none;\n",
              "      border-radius: 50%;\n",
              "      cursor: pointer;\n",
              "      display: none;\n",
              "      fill: #1967D2;\n",
              "      height: 32px;\n",
              "      padding: 0 0 0 0;\n",
              "      width: 32px;\n",
              "    }\n",
              "\n",
              "    .colab-df-convert:hover {\n",
              "      background-color: #E2EBFA;\n",
              "      box-shadow: 0px 1px 2px rgba(60, 64, 67, 0.3), 0px 1px 3px 1px rgba(60, 64, 67, 0.15);\n",
              "      fill: #174EA6;\n",
              "    }\n",
              "\n",
              "    [theme=dark] .colab-df-convert {\n",
              "      background-color: #3B4455;\n",
              "      fill: #D2E3FC;\n",
              "    }\n",
              "\n",
              "    [theme=dark] .colab-df-convert:hover {\n",
              "      background-color: #434B5C;\n",
              "      box-shadow: 0px 1px 3px 1px rgba(0, 0, 0, 0.15);\n",
              "      filter: drop-shadow(0px 1px 2px rgba(0, 0, 0, 0.3));\n",
              "      fill: #FFFFFF;\n",
              "    }\n",
              "  </style>\n",
              "\n",
              "      <script>\n",
              "        const buttonEl =\n",
              "          document.querySelector('#df-165b1d68-d8d7-4805-9e4f-d68d891cddc0 button.colab-df-convert');\n",
              "        buttonEl.style.display =\n",
              "          google.colab.kernel.accessAllowed ? 'block' : 'none';\n",
              "\n",
              "        async function convertToInteractive(key) {\n",
              "          const element = document.querySelector('#df-165b1d68-d8d7-4805-9e4f-d68d891cddc0');\n",
              "          const dataTable =\n",
              "            await google.colab.kernel.invokeFunction('convertToInteractive',\n",
              "                                                     [key], {});\n",
              "          if (!dataTable) return;\n",
              "\n",
              "          const docLinkHtml = 'Like what you see? Visit the ' +\n",
              "            '<a target=\"_blank\" href=https://colab.research.google.com/notebooks/data_table.ipynb>data table notebook</a>'\n",
              "            + ' to learn more about interactive tables.';\n",
              "          element.innerHTML = '';\n",
              "          dataTable['output_type'] = 'display_data';\n",
              "          await google.colab.output.renderOutput(dataTable, element);\n",
              "          const docLink = document.createElement('div');\n",
              "          docLink.innerHTML = docLinkHtml;\n",
              "          element.appendChild(docLink);\n",
              "        }\n",
              "      </script>\n",
              "    </div>\n",
              "  </div>\n"
            ]
          },
          "metadata": {},
          "execution_count": 231
        }
      ]
    },
    {
      "cell_type": "code",
      "source": [
        "data_reshaped2 = user_features[\"quantity\"].values.reshape(-1, 1)"
      ],
      "metadata": {
        "id": "r81_sYrPITfY"
      },
      "execution_count": null,
      "outputs": []
    },
    {
      "cell_type": "code",
      "source": [
        "import matplotlib.pyplot as plt\n",
        "from sklearn.cluster import KMeans\n",
        "\n",
        "# Assuming you have already calculated user_features_hour and performed K-Means clustering\n",
        "num_clusters = 3\n",
        "kmeans = KMeans(n_clusters=num_clusters, random_state=42)\n",
        "\n",
        "# Create separate scalers for each feature\n",
        "scaler_hour = StandardScaler()\n",
        "scaler_quantity = StandardScaler()\n",
        "\n",
        "# Scale each feature separately\n",
        "user_features_hour['scaled_hour'] = scaler_hour.fit_transform(user_features_hour[['hour']])\n",
        "user_features_hour['scaled_quantity'] = scaler_quantity.fit_transform(user_features_hour[['quantity']])\n",
        "clusters = kmeans.fit_predict(user_features_hour[['scaled_hour','scaled_quantity']])\n",
        "\n",
        "# Scatter plot\n",
        "plt.figure(figsize=(10, 6))\n",
        "plt.scatter(user_features_hour['hour'], user_features_hour['quantity'], c=clusters, cmap='viridis', s=50)\n",
        "plt.xlabel('Hour')\n",
        "plt.ylabel('Quantity')\n",
        "plt.title('Scatter Plot of User Features (Hour vs. Quantity) with Clusters')\n",
        "plt.colorbar(label='Cluster')\n",
        "plt.show()"
      ],
      "metadata": {
        "colab": {
          "base_uri": "https://localhost:8080/",
          "height": 619
        },
        "id": "ag_fEookITgk",
        "outputId": "5232855a-5f23-4c06-ea6f-c1672460bceb"
      },
      "execution_count": null,
      "outputs": [
        {
          "output_type": "stream",
          "name": "stderr",
          "text": [
            "/usr/local/lib/python3.10/dist-packages/sklearn/cluster/_kmeans.py:870: FutureWarning: The default value of `n_init` will change from 10 to 'auto' in 1.4. Set the value of `n_init` explicitly to suppress the warning\n",
            "  warnings.warn(\n"
          ]
        },
        {
          "output_type": "display_data",
          "data": {
            "text/plain": [
              "<Figure size 1000x600 with 2 Axes>"
            ],
            "image/png": "[encoded data removed]"
          },
          "metadata": {}
        }
      ]
    },
    {
      "cell_type": "markdown",
      "source": [
        "**It does not seem to accurately understand user's behaviour and I believe it is better to use Sequential DL instead that is able to memorize user's hour buying pattern instead of this**"
      ],
      "metadata": {
        "id": "23c-DipiLHlw"
      }
    },
    {
      "cell_type": "markdown",
      "source": [
        "## Item Recommendation based on Place Popularity (Item-Place Segmentation)"
      ],
      "metadata": {
        "id": "wUlHxhYrtta4"
      }
    },
    {
      "cell_type": "markdown",
      "source": [
        "Place analysis, through this provide product recommendations on **a micro-segment level** that is location. So from these place segmentation we could probably assume the brands that are located and popular in a specific city.\n",
        "\n",
        "This place segmentation could be useful for our recommendation model so that our recommendation model only shows menus from brands around their nearby (city)"
      ],
      "metadata": {
        "id": "43j-k0XN5Cff"
      }
    },
    {
      "cell_type": "markdown",
      "source": [
        "### Most Popular Brand per District"
      ],
      "metadata": {
        "id": "YLK-rayvnPN-"
      }
    },
    {
      "cell_type": "markdown",
      "source": [
        "Unfortunately I do not know how far each branch or brands to the other brand, It does not seem like I could utilize geographic (map with longitude altitude ect) segmentation to enhance our recommendation model"
      ],
      "metadata": {
        "id": "VVVRy-Bjopfg"
      }
    },
    {
      "cell_type": "code",
      "source": [
        "# Group data by district and brand, then count purchases for each brand within each district\n",
        "grouped_data = df.groupby(['district', 'brand']).size().reset_index(name='purchase_count')\n",
        "\n",
        "# Sort the data within each district by purchase count in descending order\n",
        "grouped_data = grouped_data.sort_values(['district', 'purchase_count'], ascending=[True, False])\n",
        "\n",
        "# Display the top 5 brands for each district\n",
        "top_brands_per_district = grouped_data.groupby('district').head(10)\n",
        "\n",
        "print(top_brands_per_district)"
      ],
      "metadata": {
        "colab": {
          "base_uri": "https://localhost:8080/"
        },
        "id": "NCECCUhNn4Pe",
        "outputId": "9fac0915-140d-43c7-e2a5-9efcff55b8fd"
      },
      "execution_count": null,
      "outputs": [
        {
          "output_type": "stream",
          "name": "stdout",
          "text": [
            "          district          brand  purchase_count\n",
            "1            Andir            TPC              94\n",
            "0            Andir       Djournal              36\n",
            "2   Babakan Madang            TPC              26\n",
            "4             Beji            TPC              73\n",
            "3             Beji       Djournal              70\n",
            "..             ...            ...             ...\n",
            "83          Wiyung       Djournal             201\n",
            "84          Wiyung    Kitchenette             174\n",
            "87          Wiyung    Tokyo Belly             109\n",
            "85          Wiyung  Pizza E Birra              71\n",
            "86          Wiyung            TPC              58\n",
            "\n",
            "[88 rows x 3 columns]\n"
          ]
        }
      ]
    },
    {
      "cell_type": "code",
      "source": [
        "selected_district = 'Andir'\n",
        "\n",
        "# Filter the top brands DataFrame to show results for the selected district\n",
        "top_brands_selected_district = top_brands_per_district[top_brands_per_district['district'] == selected_district]\n",
        "\n",
        "# Display the top brand for the selected district\n",
        "print(top_brands_selected_district)"
      ],
      "metadata": {
        "colab": {
          "base_uri": "https://localhost:8080/"
        },
        "id": "z-XyMR54oH9H",
        "outputId": "b8e71522-1288-49d3-bcf4-e3b850fc43d6"
      },
      "execution_count": null,
      "outputs": [
        {
          "output_type": "stream",
          "name": "stdout",
          "text": [
            "  district     brand  purchase_count\n",
            "1    Andir       TPC              94\n",
            "0    Andir  Djournal              36\n"
          ]
        }
      ]
    },
    {
      "cell_type": "markdown",
      "source": [
        "Now we know that the most popular brand around Andir are these, and possibly the only stores around Andir are these, so possibly, the menus that we most likely plan to recommend around Andir are these"
      ],
      "metadata": {
        "id": "yXQmqGGysDA-"
      }
    },
    {
      "cell_type": "markdown",
      "source": [
        "From this information we could utilize the menu recommendation based on the most popular brand in the customer's district"
      ],
      "metadata": {
        "id": "PS2VCKUDpIrl"
      }
    },
    {
      "cell_type": "code",
      "source": [
        "n = 5"
      ],
      "metadata": {
        "id": "XxZhwJRcrodA"
      },
      "execution_count": null,
      "outputs": []
    },
    {
      "cell_type": "code",
      "source": [
        "top_n_brands_selected_district = top_brands_selected_district.head(n)\n",
        "\n",
        "# Initialize an empty DataFrame to store the results\n",
        "top_menus_dataframe = pd.DataFrame(columns=['brand', 'menu_id', 'menu_name', 'purchase_count'])\n",
        "\n",
        "# Iterate through the top n brands and find the top 5 popular menus for each brand\n",
        "for index, row in top_n_brands_selected_district.iterrows():\n",
        "    brand = row['brand']\n",
        "    brand_data = df[(df['district'] == selected_district) & (df['brand'] == brand)]\n",
        "    grouped_menu_data = brand_data.groupby(['brand', 'menu_id', 'menu_name']).size().reset_index(name='purchase_count')\n",
        "    top_menus_brand = grouped_menu_data.sort_values('purchase_count', ascending=False).head(n)\n",
        "    top_menus_dataframe = top_menus_dataframe.append(top_menus_brand, ignore_index=True)"
      ],
      "metadata": {
        "colab": {
          "base_uri": "https://localhost:8080/"
        },
        "id": "e2TSl2g4rUsu",
        "outputId": "20465f3d-8294-4e9e-bb61-7cd0db05378f"
      },
      "execution_count": null,
      "outputs": [
        {
          "output_type": "stream",
          "name": "stderr",
          "text": [
            "<ipython-input-62-5888f8351969>:12: FutureWarning: The frame.append method is deprecated and will be removed from pandas in a future version. Use pandas.concat instead.\n",
            "  top_menus_dataframe = top_menus_dataframe.append(top_menus_brand, ignore_index=True)\n",
            "<ipython-input-62-5888f8351969>:12: FutureWarning: The frame.append method is deprecated and will be removed from pandas in a future version. Use pandas.concat instead.\n",
            "  top_menus_dataframe = top_menus_dataframe.append(top_menus_brand, ignore_index=True)\n"
          ]
        }
      ]
    },
    {
      "cell_type": "code",
      "source": [
        "top_menus_dataframe"
      ],
      "metadata": {
        "colab": {
          "base_uri": "https://localhost:8080/",
          "height": 363
        },
        "id": "5otdlZVuwN25",
        "outputId": "b78ec36f-41cd-476c-f191-5707902cc7a4"
      },
      "execution_count": null,
      "outputs": [
        {
          "output_type": "execute_result",
          "data": {
            "text/plain": [
              "      brand                               menu_id                menu_name  \\\n",
              "0       TPC  44ac93ad-6fb2-4552-9c80-14a0feb45928                    Pedas   \n",
              "1       TPC  d1fde11e-4753-4c65-ba85-d9cbb9ead955      Mie Tek Tek Pak Min   \n",
              "2       TPC  bd43ce4b-cc05-4d09-a352-6397e7e1ca18         Nasi Goreng Gila   \n",
              "3       TPC  434df06a-f1a2-4deb-ae7c-7345a6918e77           Soto Mie Bogor   \n",
              "4       TPC  fc380efb-b11e-4139-bd05-838391f18771      Pastel Bude 12K/Pcs   \n",
              "5  Djournal  ff528a77-82fb-4dbf-a992-a5181a237550                  Regular   \n",
              "6  Djournal  624764be-520c-4b8b-8472-0aadb155f604          Hot Premium Tea   \n",
              "7  Djournal  eb3e20d2-caa3-4ada-a351-fdd94cc5a27d        Jasmine Green Tea   \n",
              "8  Djournal  d4dfc119-8434-4b9b-8248-928640af6c55  Djournal Thai Tea 12 Oz   \n",
              "9  Djournal  8600d9de-5274-43b7-9e5e-b790379396f0   Extra 1 Espresso Shoot   \n",
              "\n",
              "  purchase_count  \n",
              "0             15  \n",
              "1              8  \n",
              "2              7  \n",
              "3              5  \n",
              "4              4  \n",
              "5              6  \n",
              "6              6  \n",
              "7              5  \n",
              "8              2  \n",
              "9              1  "
            ],
            "text/html": [
              "\n",
              "  <div id=\"df-193acd3a-4970-4c4a-9e40-0065c784fb73\" class=\"colab-df-container\">\n",
              "    <div>\n",
              "<style scoped>\n",
              "    .dataframe tbody tr th:only-of-type {\n",
              "        vertical-align: middle;\n",
              "    }\n",
              "\n",
              "    .dataframe tbody tr th {\n",
              "        vertical-align: top;\n",
              "    }\n",
              "\n",
              "    .dataframe thead th {\n",
              "        text-align: right;\n",
              "    }\n",
              "</style>\n",
              "<table border=\"1\" class=\"dataframe\">\n",
              "  <thead>\n",
              "    <tr style=\"text-align: right;\">\n",
              "      <th></th>\n",
              "      <th>brand</th>\n",
              "      <th>menu_id</th>\n",
              "      <th>menu_name</th>\n",
              "      <th>purchase_count</th>\n",
              "    </tr>\n",
              "  </thead>\n",
              "  <tbody>\n",
              "    <tr>\n",
              "      <th>0</th>\n",
              "      <td>TPC</td>\n",
              "      <td>44ac93ad-6fb2-4552-9c80-14a0feb45928</td>\n",
              "      <td>Pedas</td>\n",
              "      <td>15</td>\n",
              "    </tr>\n",
              "    <tr>\n",
              "      <th>1</th>\n",
              "      <td>TPC</td>\n",
              "      <td>d1fde11e-4753-4c65-ba85-d9cbb9ead955</td>\n",
              "      <td>Mie Tek Tek Pak Min</td>\n",
              "      <td>8</td>\n",
              "    </tr>\n",
              "    <tr>\n",
              "      <th>2</th>\n",
              "      <td>TPC</td>\n",
              "      <td>bd43ce4b-cc05-4d09-a352-6397e7e1ca18</td>\n",
              "      <td>Nasi Goreng Gila</td>\n",
              "      <td>7</td>\n",
              "    </tr>\n",
              "    <tr>\n",
              "      <th>3</th>\n",
              "      <td>TPC</td>\n",
              "      <td>434df06a-f1a2-4deb-ae7c-7345a6918e77</td>\n",
              "      <td>Soto Mie Bogor</td>\n",
              "      <td>5</td>\n",
              "    </tr>\n",
              "    <tr>\n",
              "      <th>4</th>\n",
              "      <td>TPC</td>\n",
              "      <td>fc380efb-b11e-4139-bd05-838391f18771</td>\n",
              "      <td>Pastel Bude 12K/Pcs</td>\n",
              "      <td>4</td>\n",
              "    </tr>\n",
              "    <tr>\n",
              "      <th>5</th>\n",
              "      <td>Djournal</td>\n",
              "      <td>ff528a77-82fb-4dbf-a992-a5181a237550</td>\n",
              "      <td>Regular</td>\n",
              "      <td>6</td>\n",
              "    </tr>\n",
              "    <tr>\n",
              "      <th>6</th>\n",
              "      <td>Djournal</td>\n",
              "      <td>624764be-520c-4b8b-8472-0aadb155f604</td>\n",
              "      <td>Hot Premium Tea</td>\n",
              "      <td>6</td>\n",
              "    </tr>\n",
              "    <tr>\n",
              "      <th>7</th>\n",
              "      <td>Djournal</td>\n",
              "      <td>eb3e20d2-caa3-4ada-a351-fdd94cc5a27d</td>\n",
              "      <td>Jasmine Green Tea</td>\n",
              "      <td>5</td>\n",
              "    </tr>\n",
              "    <tr>\n",
              "      <th>8</th>\n",
              "      <td>Djournal</td>\n",
              "      <td>d4dfc119-8434-4b9b-8248-928640af6c55</td>\n",
              "      <td>Djournal Thai Tea 12 Oz</td>\n",
              "      <td>2</td>\n",
              "    </tr>\n",
              "    <tr>\n",
              "      <th>9</th>\n",
              "      <td>Djournal</td>\n",
              "      <td>8600d9de-5274-43b7-9e5e-b790379396f0</td>\n",
              "      <td>Extra 1 Espresso Shoot</td>\n",
              "      <td>1</td>\n",
              "    </tr>\n",
              "  </tbody>\n",
              "</table>\n",
              "</div>\n",
              "    <div class=\"colab-df-buttons\">\n",
              "\n",
              "  <div class=\"colab-df-container\">\n",
              "    <button class=\"colab-df-convert\" onclick=\"convertToInteractive('df-193acd3a-4970-4c4a-9e40-0065c784fb73')\"\n",
              "            title=\"Convert this dataframe to an interactive table.\"\n",
              "            style=\"display:none;\">\n",
              "\n",
              "  <svg xmlns=\"http://www.w3.org/2000/svg\" height=\"24px\" viewBox=\"0 -960 960 960\">\n",
              "    <path d=\"M120-120v-720h720v720H120Zm60-500h600v-160H180v160Zm220 220h160v-160H400v160Zm0 220h160v-160H400v160ZM180-400h160v-160H180v160Zm440 0h160v-160H620v160ZM180-180h160v-160H180v160Zm440 0h160v-160H620v160Z\"/>\n",
              "  </svg>\n",
              "    </button>\n",
              "\n",
              "  <style>\n",
              "    .colab-df-container {\n",
              "      display:flex;\n",
              "      gap: 12px;\n",
              "    }\n",
              "\n",
              "    .colab-df-convert {\n",
              "      background-color: #E8F0FE;\n",
              "      border: none;\n",
              "      border-radius: 50%;\n",
              "      cursor: pointer;\n",
              "      display: none;\n",
              "      fill: #1967D2;\n",
              "      height: 32px;\n",
              "      padding: 0 0 0 0;\n",
              "      width: 32px;\n",
              "    }\n",
              "\n",
              "    .colab-df-convert:hover {\n",
              "      background-color: #E2EBFA;\n",
              "      box-shadow: 0px 1px 2px rgba(60, 64, 67, 0.3), 0px 1px 3px 1px rgba(60, 64, 67, 0.15);\n",
              "      fill: #174EA6;\n",
              "    }\n",
              "\n",
              "    .colab-df-buttons div {\n",
              "      margin-bottom: 4px;\n",
              "    }\n",
              "\n",
              "    [theme=dark] .colab-df-convert {\n",
              "      background-color: #3B4455;\n",
              "      fill: #D2E3FC;\n",
              "    }\n",
              "\n",
              "    [theme=dark] .colab-df-convert:hover {\n",
              "      background-color: #434B5C;\n",
              "      box-shadow: 0px 1px 3px 1px rgba(0, 0, 0, 0.15);\n",
              "      filter: drop-shadow(0px 1px 2px rgba(0, 0, 0, 0.3));\n",
              "      fill: #FFFFFF;\n",
              "    }\n",
              "  </style>\n",
              "\n",
              "    <script>\n",
              "      const buttonEl =\n",
              "        document.querySelector('#df-193acd3a-4970-4c4a-9e40-0065c784fb73 button.colab-df-convert');\n",
              "      buttonEl.style.display =\n",
              "        google.colab.kernel.accessAllowed ? 'block' : 'none';\n",
              "\n",
              "      async function convertToInteractive(key) {\n",
              "        const element = document.querySelector('#df-193acd3a-4970-4c4a-9e40-0065c784fb73');\n",
              "        const dataTable =\n",
              "          await google.colab.kernel.invokeFunction('convertToInteractive',\n",
              "                                                    [key], {});\n",
              "        if (!dataTable) return;\n",
              "\n",
              "        const docLinkHtml = 'Like what you see? Visit the ' +\n",
              "          '<a target=\"_blank\" href=https://colab.research.google.com/notebooks/data_table.ipynb>data table notebook</a>'\n",
              "          + ' to learn more about interactive tables.';\n",
              "        element.innerHTML = '';\n",
              "        dataTable['output_type'] = 'display_data';\n",
              "        await google.colab.output.renderOutput(dataTable, element);\n",
              "        const docLink = document.createElement('div');\n",
              "        docLink.innerHTML = docLinkHtml;\n",
              "        element.appendChild(docLink);\n",
              "      }\n",
              "    </script>\n",
              "  </div>\n",
              "\n",
              "\n",
              "<div id=\"df-89e2ccda-aca0-4adb-9f88-51585bbdb42e\">\n",
              "  <button class=\"colab-df-quickchart\" onclick=\"quickchart('df-89e2ccda-aca0-4adb-9f88-51585bbdb42e')\"\n",
              "            title=\"Suggest charts.\"\n",
              "            style=\"display:none;\">\n",
              "\n",
              "<svg xmlns=\"http://www.w3.org/2000/svg\" height=\"24px\"viewBox=\"0 0 24 24\"\n",
              "     width=\"24px\">\n",
              "    <g>\n",
              "        <path d=\"M19 3H5c-1.1 0-2 .9-2 2v14c0 1.1.9 2 2 2h14c1.1 0 2-.9 2-2V5c0-1.1-.9-2-2-2zM9 17H7v-7h2v7zm4 0h-2V7h2v10zm4 0h-2v-4h2v4z\"/>\n",
              "    </g>\n",
              "</svg>\n",
              "  </button>\n",
              "\n",
              "<style>\n",
              "  .colab-df-quickchart {\n",
              "    background-color: #E8F0FE;\n",
              "    border: none;\n",
              "    border-radius: 50%;\n",
              "    cursor: pointer;\n",
              "    display: none;\n",
              "    fill: #1967D2;\n",
              "    height: 32px;\n",
              "    padding: 0 0 0 0;\n",
              "    width: 32px;\n",
              "  }\n",
              "\n",
              "  .colab-df-quickchart:hover {\n",
              "    background-color: #E2EBFA;\n",
              "    box-shadow: 0px 1px 2px rgba(60, 64, 67, 0.3), 0px 1px 3px 1px rgba(60, 64, 67, 0.15);\n",
              "    fill: #174EA6;\n",
              "  }\n",
              "\n",
              "  [theme=dark] .colab-df-quickchart {\n",
              "    background-color: #3B4455;\n",
              "    fill: #D2E3FC;\n",
              "  }\n",
              "\n",
              "  [theme=dark] .colab-df-quickchart:hover {\n",
              "    background-color: #434B5C;\n",
              "    box-shadow: 0px 1px 3px 1px rgba(0, 0, 0, 0.15);\n",
              "    filter: drop-shadow(0px 1px 2px rgba(0, 0, 0, 0.3));\n",
              "    fill: #FFFFFF;\n",
              "  }\n",
              "</style>\n",
              "\n",
              "  <script>\n",
              "    async function quickchart(key) {\n",
              "      const charts = await google.colab.kernel.invokeFunction(\n",
              "          'suggestCharts', [key], {});\n",
              "    }\n",
              "    (() => {\n",
              "      let quickchartButtonEl =\n",
              "        document.querySelector('#df-89e2ccda-aca0-4adb-9f88-51585bbdb42e button');\n",
              "      quickchartButtonEl.style.display =\n",
              "        google.colab.kernel.accessAllowed ? 'block' : 'none';\n",
              "    })();\n",
              "  </script>\n",
              "</div>\n",
              "    </div>\n",
              "  </div>\n"
            ]
          },
          "metadata": {},
          "execution_count": 63
        }
      ]
    },
    {
      "cell_type": "markdown",
      "source": [
        "In the end we could classify which items are more likely recommended for a specific district"
      ],
      "metadata": {
        "id": "G7hlOVsRuIRm"
      }
    },
    {
      "cell_type": "markdown",
      "source": [
        "### Most Popular Brand per City"
      ],
      "metadata": {
        "id": "gQCTanbbsZuD"
      }
    },
    {
      "cell_type": "markdown",
      "source": [
        "Same case however on a bigger scale (city)"
      ],
      "metadata": {
        "id": "6BP5bf8rguCu"
      }
    },
    {
      "cell_type": "code",
      "source": [
        "# Group data by city and brand, then count purchases for each brand within each district\n",
        "grouped_data = df.groupby(['city', 'brand']).size().reset_index(name='purchase_count')\n",
        "\n",
        "# Sort the data within each district by purchase count in descending order\n",
        "grouped_data = grouped_data.sort_values(['city', 'purchase_count'], ascending=[True, False])\n",
        "\n",
        "# Display the top 10 brands for each city\n",
        "top_brands_per_city = grouped_data.groupby('city').head(10)\n",
        "\n",
        "print(top_brands_per_city)"
      ],
      "metadata": {
        "colab": {
          "base_uri": "https://localhost:8080/"
        },
        "id": "10p_xYynxd4Q",
        "outputId": "a4ac0b76-fefd-466b-a937-5c3e6e6df736"
      },
      "execution_count": null,
      "outputs": [
        {
          "output_type": "stream",
          "name": "stdout",
          "text": [
            "                 city            brand  purchase_count\n",
            "2              Badung          Manarai             202\n",
            "0              Badung         Djournal              14\n",
            "1              Badung      Kitchenette               4\n",
            "3              Badung    Pizza E Birra               4\n",
            "4       Bandung, Kota         Djournal             994\n",
            "7       Bandung, Kota              TPC             121\n",
            "6       Bandung, Kota     Sushi Groove              21\n",
            "5       Bandung, Kota    Pizza E Birra               9\n",
            "9         Bogor, Kab.      Tokyo Belly              58\n",
            "8         Bogor, Kab.              TPC              26\n",
            "11           Denpasar              TPC             223\n",
            "10           Denpasar         Djournal             173\n",
            "13              Depok              TPC              73\n",
            "12              Depok         Djournal              70\n",
            "17      Jakarta Barat              TPC             349\n",
            "15      Jakarta Barat      Kitchenette             300\n",
            "14      Jakarta Barat         Djournal             274\n",
            "16      Jakarta Barat    Pizza E Birra             131\n",
            "20      Jakarta Pusat      Osteria GIA            1705\n",
            "25      Jakarta Pusat     Social House            1512\n",
            "18      Jakarta Pusat         Djournal            1408\n",
            "24      Jakarta Pusat    Social Garden             877\n",
            "19      Jakarta Pusat      Kitchenette             710\n",
            "22      Jakarta Pusat  Publik Markette             593\n",
            "26      Jakarta Pusat              TPC             550\n",
            "23      Jakarta Pusat             Skye             360\n",
            "27      Jakarta Pusat      Tokyo Belly             284\n",
            "21      Jakarta Pusat    Pizza E Birra             153\n",
            "30    Jakarta Selatan         Djournal            2573\n",
            "34    Jakarta Selatan      Osteria GIA            2269\n",
            "32    Jakarta Selatan      Kitchenette            1562\n",
            "37    Jakarta Selatan              TPC            1552\n",
            "35    Jakarta Selatan    Pizza E Birra             744\n",
            "38    Jakarta Selatan      Tokyo Belly             301\n",
            "28    Jakarta Selatan              A/A             231\n",
            "33    Jakarta Selatan           Mr Fox             228\n",
            "31    Jakarta Selatan   Djournal House             142\n",
            "36    Jakarta Selatan     Sushi Groove              80\n",
            "39      Jakarta Timur              TPC             354\n",
            "40      Jakarta Utara         Djournal             626\n",
            "42      Jakarta Utara    Pizza E Birra             222\n",
            "43      Jakarta Utara              TPC             175\n",
            "41      Jakarta Utara      Kitchenette             153\n",
            "44      Jakarta Utara      Tokyo Belly              78\n",
            "45           Surabaya         Djournal            1028\n",
            "47           Surabaya           Mr Fox             281\n",
            "46           Surabaya      Kitchenette             275\n",
            "50           Surabaya      Tokyo Belly             266\n",
            "49           Surabaya              TPC             193\n",
            "48           Surabaya    Pizza E Birra              71\n",
            "51  Tangerang Selatan         Djournal            1016\n",
            "52  Tangerang Selatan              TPC             500\n",
            "53  Tangerang Selatan      Tokyo Belly             363\n",
            "55    Tangerang, Kab.    Pizza E Birra             188\n",
            "56    Tangerang, Kab.              TPC              37\n",
            "54    Tangerang, Kab.         Djournal              32\n"
          ]
        }
      ]
    },
    {
      "cell_type": "code",
      "source": [
        "selected_city = 'Bandung, Kota'\n",
        "\n",
        "# Filter the top brands DataFrame to show results for the selected district\n",
        "top_brands_selected_city = top_brands_per_city[top_brands_per_city['city'] == selected_city]\n",
        "\n",
        "# Display the top brand for the selected district\n",
        "print(top_brands_selected_city)"
      ],
      "metadata": {
        "colab": {
          "base_uri": "https://localhost:8080/"
        },
        "id": "MuhFrkTrx0T2",
        "outputId": "938e7318-23a7-4aa9-ffcb-712c0800abef"
      },
      "execution_count": null,
      "outputs": [
        {
          "output_type": "stream",
          "name": "stdout",
          "text": [
            "            city          brand  purchase_count\n",
            "4  Bandung, Kota       Djournal             994\n",
            "7  Bandung, Kota            TPC             121\n",
            "6  Bandung, Kota   Sushi Groove              21\n",
            "5  Bandung, Kota  Pizza E Birra               9\n"
          ]
        }
      ]
    },
    {
      "cell_type": "code",
      "source": [
        "n = 5"
      ],
      "metadata": {
        "id": "0PPx-yC4y4_H"
      },
      "execution_count": null,
      "outputs": []
    },
    {
      "cell_type": "code",
      "source": [
        "top_n_brands_selected_city = top_brands_selected_city.head(n)\n",
        "\n",
        "# Initialize an empty DataFrame to store the results\n",
        "top_menus_dataframe_city = pd.DataFrame(columns=['brand', 'menu_id', 'menu_name', 'purchase_count'])\n",
        "\n",
        "# Iterate through the top n brands and find the top 5 popular menus for each brand\n",
        "for index, row in top_n_brands_selected_city.iterrows():\n",
        "    brand = row['brand']\n",
        "    brand_data = df[(df['city'] == selected_city) & (df['brand'] == brand)]\n",
        "    grouped_menu_data = brand_data.groupby(['brand', 'menu_id', 'menu_name']).size().reset_index(name='purchase_count')\n",
        "    top_menus_brand = grouped_menu_data.sort_values('purchase_count', ascending=False).head(n)\n",
        "    top_menus_dataframe_city = top_menus_dataframe_city.append(top_menus_brand, ignore_index=True)"
      ],
      "metadata": {
        "colab": {
          "base_uri": "https://localhost:8080/"
        },
        "id": "JkWV8M8qy5hX",
        "outputId": "a1b25eda-b998-48e7-d019-dd0553d7a5d6"
      },
      "execution_count": null,
      "outputs": [
        {
          "output_type": "stream",
          "name": "stderr",
          "text": [
            "<ipython-input-44-3861b7b42a84>:12: FutureWarning: The frame.append method is deprecated and will be removed from pandas in a future version. Use pandas.concat instead.\n",
            "  top_menus_dataframe_city = top_menus_dataframe_city.append(top_menus_brand, ignore_index=True)\n",
            "<ipython-input-44-3861b7b42a84>:12: FutureWarning: The frame.append method is deprecated and will be removed from pandas in a future version. Use pandas.concat instead.\n",
            "  top_menus_dataframe_city = top_menus_dataframe_city.append(top_menus_brand, ignore_index=True)\n",
            "<ipython-input-44-3861b7b42a84>:12: FutureWarning: The frame.append method is deprecated and will be removed from pandas in a future version. Use pandas.concat instead.\n",
            "  top_menus_dataframe_city = top_menus_dataframe_city.append(top_menus_brand, ignore_index=True)\n",
            "<ipython-input-44-3861b7b42a84>:12: FutureWarning: The frame.append method is deprecated and will be removed from pandas in a future version. Use pandas.concat instead.\n",
            "  top_menus_dataframe_city = top_menus_dataframe_city.append(top_menus_brand, ignore_index=True)\n"
          ]
        }
      ]
    },
    {
      "cell_type": "code",
      "source": [
        "top_menus_dataframe_city"
      ],
      "metadata": {
        "colab": {
          "base_uri": "https://localhost:8080/",
          "height": 677
        },
        "id": "-7RERqsyzPlJ",
        "outputId": "ce82d08f-ebe1-480b-a51f-cf12925a88c0"
      },
      "execution_count": null,
      "outputs": [
        {
          "output_type": "execute_result",
          "data": {
            "text/plain": [
              "            brand                               menu_id  \\\n",
              "0        Djournal  76b2d827-8dac-4229-9290-e58fbcc79e62   \n",
              "1        Djournal  a8e08bf4-5db3-4edd-b5cb-3d0a6b80723f   \n",
              "2        Djournal  bee9c394-3a53-4961-855f-f7afd33086d8   \n",
              "3        Djournal  a343bc5c-9ca0-48f1-88b2-b18aa0955a7b   \n",
              "4        Djournal  7af7fa35-f843-4add-81f5-69a8da1858bb   \n",
              "5             TPC  44ac93ad-6fb2-4552-9c80-14a0feb45928   \n",
              "6             TPC  d1fde11e-4753-4c65-ba85-d9cbb9ead955   \n",
              "7             TPC  bd43ce4b-cc05-4d09-a352-6397e7e1ca18   \n",
              "8             TPC  fc380efb-b11e-4139-bd05-838391f18771   \n",
              "9             TPC  c06c35f8-3555-4a00-903d-0820bc0069d5   \n",
              "10   Sushi Groove  6479bb84-1536-431e-8acc-b6e55ab949d5   \n",
              "11   Sushi Groove  b3d57618-6f27-4ee1-8cbf-f72d439d6244   \n",
              "12   Sushi Groove  64fa6f25-0b23-4f34-890d-5ab55315352e   \n",
              "13   Sushi Groove  f0de6b75-4459-4990-b765-b80fc084c12f   \n",
              "14   Sushi Groove  e6eaf1ed-3824-4369-b8ab-d58a482d4a92   \n",
              "15  Pizza E Birra  7120dd21-b8e5-48bf-a8ed-2c9137da3cbc   \n",
              "16  Pizza E Birra  ae8c6c9c-c07b-44f4-9ccb-9e5d105f6bd0   \n",
              "17  Pizza E Birra  34de5485-c5ac-48f5-8b88-08f9be25614a   \n",
              "18  Pizza E Birra  4ce826fc-dafe-46b0-94ef-ca92706847d6   \n",
              "19  Pizza E Birra  8296c7a4-6c49-4593-a955-923738daf8de   \n",
              "\n",
              "                        menu_name purchase_count  \n",
              "0                No Whipped Cream             51  \n",
              "1           With Sugar (Standard)             34  \n",
              "2          Iced Caramel Macchiato             27  \n",
              "3              Reguler Milk Large             23  \n",
              "4           Shaken Espresso Latte             23  \n",
              "5                           Pedas             16  \n",
              "6             Mie Tek Tek Pak Min              9  \n",
              "7                Nasi Goreng Gila              7  \n",
              "8             Pastel Bude 12K/Pcs              5  \n",
              "9                 Ayam Geprek TPC              5  \n",
              "10                           Iced              2  \n",
              "11                           Ocha              2  \n",
              "12                          Gyoza              1  \n",
              "13                   Chuka Wakame              1  \n",
              "14               Tori Karaage Don              1  \n",
              "15             Champion's Platter              3  \n",
              "16         Pastrami Classic Pizza              2  \n",
              "17                           Iced              1  \n",
              "18                      Lemon Tea              1  \n",
              "19  Classic NY Cheese Giant Pizza              1  "
            ],
            "text/html": [
              "\n",
              "  <div id=\"df-386f6564-b12f-466f-af56-18fb1fbb673a\" class=\"colab-df-container\">\n",
              "    <div>\n",
              "<style scoped>\n",
              "    .dataframe tbody tr th:only-of-type {\n",
              "        vertical-align: middle;\n",
              "    }\n",
              "\n",
              "    .dataframe tbody tr th {\n",
              "        vertical-align: top;\n",
              "    }\n",
              "\n",
              "    .dataframe thead th {\n",
              "        text-align: right;\n",
              "    }\n",
              "</style>\n",
              "<table border=\"1\" class=\"dataframe\">\n",
              "  <thead>\n",
              "    <tr style=\"text-align: right;\">\n",
              "      <th></th>\n",
              "      <th>brand</th>\n",
              "      <th>menu_id</th>\n",
              "      <th>menu_name</th>\n",
              "      <th>purchase_count</th>\n",
              "    </tr>\n",
              "  </thead>\n",
              "  <tbody>\n",
              "    <tr>\n",
              "      <th>0</th>\n",
              "      <td>Djournal</td>\n",
              "      <td>76b2d827-8dac-4229-9290-e58fbcc79e62</td>\n",
              "      <td>No Whipped Cream</td>\n",
              "      <td>51</td>\n",
              "    </tr>\n",
              "    <tr>\n",
              "      <th>1</th>\n",
              "      <td>Djournal</td>\n",
              "      <td>a8e08bf4-5db3-4edd-b5cb-3d0a6b80723f</td>\n",
              "      <td>With Sugar (Standard)</td>\n",
              "      <td>34</td>\n",
              "    </tr>\n",
              "    <tr>\n",
              "      <th>2</th>\n",
              "      <td>Djournal</td>\n",
              "      <td>bee9c394-3a53-4961-855f-f7afd33086d8</td>\n",
              "      <td>Iced Caramel Macchiato</td>\n",
              "      <td>27</td>\n",
              "    </tr>\n",
              "    <tr>\n",
              "      <th>3</th>\n",
              "      <td>Djournal</td>\n",
              "      <td>a343bc5c-9ca0-48f1-88b2-b18aa0955a7b</td>\n",
              "      <td>Reguler Milk Large</td>\n",
              "      <td>23</td>\n",
              "    </tr>\n",
              "    <tr>\n",
              "      <th>4</th>\n",
              "      <td>Djournal</td>\n",
              "      <td>7af7fa35-f843-4add-81f5-69a8da1858bb</td>\n",
              "      <td>Shaken Espresso Latte</td>\n",
              "      <td>23</td>\n",
              "    </tr>\n",
              "    <tr>\n",
              "      <th>5</th>\n",
              "      <td>TPC</td>\n",
              "      <td>44ac93ad-6fb2-4552-9c80-14a0feb45928</td>\n",
              "      <td>Pedas</td>\n",
              "      <td>16</td>\n",
              "    </tr>\n",
              "    <tr>\n",
              "      <th>6</th>\n",
              "      <td>TPC</td>\n",
              "      <td>d1fde11e-4753-4c65-ba85-d9cbb9ead955</td>\n",
              "      <td>Mie Tek Tek Pak Min</td>\n",
              "      <td>9</td>\n",
              "    </tr>\n",
              "    <tr>\n",
              "      <th>7</th>\n",
              "      <td>TPC</td>\n",
              "      <td>bd43ce4b-cc05-4d09-a352-6397e7e1ca18</td>\n",
              "      <td>Nasi Goreng Gila</td>\n",
              "      <td>7</td>\n",
              "    </tr>\n",
              "    <tr>\n",
              "      <th>8</th>\n",
              "      <td>TPC</td>\n",
              "      <td>fc380efb-b11e-4139-bd05-838391f18771</td>\n",
              "      <td>Pastel Bude 12K/Pcs</td>\n",
              "      <td>5</td>\n",
              "    </tr>\n",
              "    <tr>\n",
              "      <th>9</th>\n",
              "      <td>TPC</td>\n",
              "      <td>c06c35f8-3555-4a00-903d-0820bc0069d5</td>\n",
              "      <td>Ayam Geprek TPC</td>\n",
              "      <td>5</td>\n",
              "    </tr>\n",
              "    <tr>\n",
              "      <th>10</th>\n",
              "      <td>Sushi Groove</td>\n",
              "      <td>6479bb84-1536-431e-8acc-b6e55ab949d5</td>\n",
              "      <td>Iced</td>\n",
              "      <td>2</td>\n",
              "    </tr>\n",
              "    <tr>\n",
              "      <th>11</th>\n",
              "      <td>Sushi Groove</td>\n",
              "      <td>b3d57618-6f27-4ee1-8cbf-f72d439d6244</td>\n",
              "      <td>Ocha</td>\n",
              "      <td>2</td>\n",
              "    </tr>\n",
              "    <tr>\n",
              "      <th>12</th>\n",
              "      <td>Sushi Groove</td>\n",
              "      <td>64fa6f25-0b23-4f34-890d-5ab55315352e</td>\n",
              "      <td>Gyoza</td>\n",
              "      <td>1</td>\n",
              "    </tr>\n",
              "    <tr>\n",
              "      <th>13</th>\n",
              "      <td>Sushi Groove</td>\n",
              "      <td>f0de6b75-4459-4990-b765-b80fc084c12f</td>\n",
              "      <td>Chuka Wakame</td>\n",
              "      <td>1</td>\n",
              "    </tr>\n",
              "    <tr>\n",
              "      <th>14</th>\n",
              "      <td>Sushi Groove</td>\n",
              "      <td>e6eaf1ed-3824-4369-b8ab-d58a482d4a92</td>\n",
              "      <td>Tori Karaage Don</td>\n",
              "      <td>1</td>\n",
              "    </tr>\n",
              "    <tr>\n",
              "      <th>15</th>\n",
              "      <td>Pizza E Birra</td>\n",
              "      <td>7120dd21-b8e5-48bf-a8ed-2c9137da3cbc</td>\n",
              "      <td>Champion's Platter</td>\n",
              "      <td>3</td>\n",
              "    </tr>\n",
              "    <tr>\n",
              "      <th>16</th>\n",
              "      <td>Pizza E Birra</td>\n",
              "      <td>ae8c6c9c-c07b-44f4-9ccb-9e5d105f6bd0</td>\n",
              "      <td>Pastrami Classic Pizza</td>\n",
              "      <td>2</td>\n",
              "    </tr>\n",
              "    <tr>\n",
              "      <th>17</th>\n",
              "      <td>Pizza E Birra</td>\n",
              "      <td>34de5485-c5ac-48f5-8b88-08f9be25614a</td>\n",
              "      <td>Iced</td>\n",
              "      <td>1</td>\n",
              "    </tr>\n",
              "    <tr>\n",
              "      <th>18</th>\n",
              "      <td>Pizza E Birra</td>\n",
              "      <td>4ce826fc-dafe-46b0-94ef-ca92706847d6</td>\n",
              "      <td>Lemon Tea</td>\n",
              "      <td>1</td>\n",
              "    </tr>\n",
              "    <tr>\n",
              "      <th>19</th>\n",
              "      <td>Pizza E Birra</td>\n",
              "      <td>8296c7a4-6c49-4593-a955-923738daf8de</td>\n",
              "      <td>Classic NY Cheese Giant Pizza</td>\n",
              "      <td>1</td>\n",
              "    </tr>\n",
              "  </tbody>\n",
              "</table>\n",
              "</div>\n",
              "    <div class=\"colab-df-buttons\">\n",
              "\n",
              "  <div class=\"colab-df-container\">\n",
              "    <button class=\"colab-df-convert\" onclick=\"convertToInteractive('df-386f6564-b12f-466f-af56-18fb1fbb673a')\"\n",
              "            title=\"Convert this dataframe to an interactive table.\"\n",
              "            style=\"display:none;\">\n",
              "\n",
              "  <svg xmlns=\"http://www.w3.org/2000/svg\" height=\"24px\" viewBox=\"0 -960 960 960\">\n",
              "    <path d=\"M120-120v-720h720v720H120Zm60-500h600v-160H180v160Zm220 220h160v-160H400v160Zm0 220h160v-160H400v160ZM180-400h160v-160H180v160Zm440 0h160v-160H620v160ZM180-180h160v-160H180v160Zm440 0h160v-160H620v160Z\"/>\n",
              "  </svg>\n",
              "    </button>\n",
              "\n",
              "  <style>\n",
              "    .colab-df-container {\n",
              "      display:flex;\n",
              "      gap: 12px;\n",
              "    }\n",
              "\n",
              "    .colab-df-convert {\n",
              "      background-color: #E8F0FE;\n",
              "      border: none;\n",
              "      border-radius: 50%;\n",
              "      cursor: pointer;\n",
              "      display: none;\n",
              "      fill: #1967D2;\n",
              "      height: 32px;\n",
              "      padding: 0 0 0 0;\n",
              "      width: 32px;\n",
              "    }\n",
              "\n",
              "    .colab-df-convert:hover {\n",
              "      background-color: #E2EBFA;\n",
              "      box-shadow: 0px 1px 2px rgba(60, 64, 67, 0.3), 0px 1px 3px 1px rgba(60, 64, 67, 0.15);\n",
              "      fill: #174EA6;\n",
              "    }\n",
              "\n",
              "    .colab-df-buttons div {\n",
              "      margin-bottom: 4px;\n",
              "    }\n",
              "\n",
              "    [theme=dark] .colab-df-convert {\n",
              "      background-color: #3B4455;\n",
              "      fill: #D2E3FC;\n",
              "    }\n",
              "\n",
              "    [theme=dark] .colab-df-convert:hover {\n",
              "      background-color: #434B5C;\n",
              "      box-shadow: 0px 1px 3px 1px rgba(0, 0, 0, 0.15);\n",
              "      filter: drop-shadow(0px 1px 2px rgba(0, 0, 0, 0.3));\n",
              "      fill: #FFFFFF;\n",
              "    }\n",
              "  </style>\n",
              "\n",
              "    <script>\n",
              "      const buttonEl =\n",
              "        document.querySelector('#df-386f6564-b12f-466f-af56-18fb1fbb673a button.colab-df-convert');\n",
              "      buttonEl.style.display =\n",
              "        google.colab.kernel.accessAllowed ? 'block' : 'none';\n",
              "\n",
              "      async function convertToInteractive(key) {\n",
              "        const element = document.querySelector('#df-386f6564-b12f-466f-af56-18fb1fbb673a');\n",
              "        const dataTable =\n",
              "          await google.colab.kernel.invokeFunction('convertToInteractive',\n",
              "                                                    [key], {});\n",
              "        if (!dataTable) return;\n",
              "\n",
              "        const docLinkHtml = 'Like what you see? Visit the ' +\n",
              "          '<a target=\"_blank\" href=https://colab.research.google.com/notebooks/data_table.ipynb>data table notebook</a>'\n",
              "          + ' to learn more about interactive tables.';\n",
              "        element.innerHTML = '';\n",
              "        dataTable['output_type'] = 'display_data';\n",
              "        await google.colab.output.renderOutput(dataTable, element);\n",
              "        const docLink = document.createElement('div');\n",
              "        docLink.innerHTML = docLinkHtml;\n",
              "        element.appendChild(docLink);\n",
              "      }\n",
              "    </script>\n",
              "  </div>\n",
              "\n",
              "\n",
              "<div id=\"df-ace220ea-b0aa-428d-93eb-6dd0243f22b8\">\n",
              "  <button class=\"colab-df-quickchart\" onclick=\"quickchart('df-ace220ea-b0aa-428d-93eb-6dd0243f22b8')\"\n",
              "            title=\"Suggest charts.\"\n",
              "            style=\"display:none;\">\n",
              "\n",
              "<svg xmlns=\"http://www.w3.org/2000/svg\" height=\"24px\"viewBox=\"0 0 24 24\"\n",
              "     width=\"24px\">\n",
              "    <g>\n",
              "        <path d=\"M19 3H5c-1.1 0-2 .9-2 2v14c0 1.1.9 2 2 2h14c1.1 0 2-.9 2-2V5c0-1.1-.9-2-2-2zM9 17H7v-7h2v7zm4 0h-2V7h2v10zm4 0h-2v-4h2v4z\"/>\n",
              "    </g>\n",
              "</svg>\n",
              "  </button>\n",
              "\n",
              "<style>\n",
              "  .colab-df-quickchart {\n",
              "    background-color: #E8F0FE;\n",
              "    border: none;\n",
              "    border-radius: 50%;\n",
              "    cursor: pointer;\n",
              "    display: none;\n",
              "    fill: #1967D2;\n",
              "    height: 32px;\n",
              "    padding: 0 0 0 0;\n",
              "    width: 32px;\n",
              "  }\n",
              "\n",
              "  .colab-df-quickchart:hover {\n",
              "    background-color: #E2EBFA;\n",
              "    box-shadow: 0px 1px 2px rgba(60, 64, 67, 0.3), 0px 1px 3px 1px rgba(60, 64, 67, 0.15);\n",
              "    fill: #174EA6;\n",
              "  }\n",
              "\n",
              "  [theme=dark] .colab-df-quickchart {\n",
              "    background-color: #3B4455;\n",
              "    fill: #D2E3FC;\n",
              "  }\n",
              "\n",
              "  [theme=dark] .colab-df-quickchart:hover {\n",
              "    background-color: #434B5C;\n",
              "    box-shadow: 0px 1px 3px 1px rgba(0, 0, 0, 0.15);\n",
              "    filter: drop-shadow(0px 1px 2px rgba(0, 0, 0, 0.3));\n",
              "    fill: #FFFFFF;\n",
              "  }\n",
              "</style>\n",
              "\n",
              "  <script>\n",
              "    async function quickchart(key) {\n",
              "      const charts = await google.colab.kernel.invokeFunction(\n",
              "          'suggestCharts', [key], {});\n",
              "    }\n",
              "    (() => {\n",
              "      let quickchartButtonEl =\n",
              "        document.querySelector('#df-ace220ea-b0aa-428d-93eb-6dd0243f22b8 button');\n",
              "      quickchartButtonEl.style.display =\n",
              "        google.colab.kernel.accessAllowed ? 'block' : 'none';\n",
              "    })();\n",
              "  </script>\n",
              "</div>\n",
              "    </div>\n",
              "  </div>\n"
            ]
          },
          "metadata": {},
          "execution_count": 45
        }
      ]
    },
    {
      "cell_type": "code",
      "source": [
        "def topBrandCity(city, df):\n",
        "    # Group data by city and brand, then count purchases for each brand within each district\n",
        "    grouped_data = df.groupby(['city', 'brand']).size().reset_index(name='purchase_count')\n",
        "\n",
        "    # Sort the data within each city by purchase count in descending order\n",
        "    grouped_data = grouped_data.sort_values(['city', 'purchase_count'], ascending=[True, False])\n",
        "\n",
        "    # Filter the top brands DataFrame to show results for the selected city\n",
        "    top_brands_selected_city = grouped_data[grouped_data['city'] == city]\n",
        "\n",
        "    return top_brands_selected_city['brand']"
      ],
      "metadata": {
        "id": "AJcnrMJmmfsB"
      },
      "execution_count": null,
      "outputs": []
    },
    {
      "cell_type": "markdown",
      "source": [
        "I plan to use city as our segmentation knowledge to build a better recommendation model"
      ],
      "metadata": {
        "id": "sQxFsRtYg3zu"
      }
    },
    {
      "cell_type": "markdown",
      "source": [
        "# Refined Recommendation Model using Segmentation Knowledge"
      ],
      "metadata": {
        "id": "6etyjFxZ5vPf"
      }
    },
    {
      "cell_type": "markdown",
      "source": [
        "This Model will now include more features for both user related features and menu related features. After that we will utilize our Item-Place Segmentation for the last recommendation"
      ],
      "metadata": {
        "id": "zC0dANHUvt4M"
      }
    },
    {
      "cell_type": "markdown",
      "source": [
        "Supposedly we must have an exclusive model (read: weights and data) for every district or city and then for every users inside the city based on their previous transaction then make it as an API for our model. However as of now, I will demonstrate the model generally which later can be used to be fine tuned by user own datas."
      ],
      "metadata": {
        "id": "U-lnF9EOwb8r"
      }
    },
    {
      "cell_type": "markdown",
      "source": [
        "Also, I am changing the menu_id into menu_name because it is more readable"
      ],
      "metadata": {
        "id": "X0k7hESByIVT"
      }
    },
    {
      "cell_type": "markdown",
      "source": [
        "Note that year is not a relevant feature here because there is only 2023 here with 3 months worth of data, and possibly there are not much season difference between january to march (both are rain season). So for now I will not include the month feature"
      ],
      "metadata": {
        "id": "di93Su7jzPfA"
      }
    },
    {
      "cell_type": "markdown",
      "source": [
        "Note that it is also possible to add user purchase behaviour as another feature to our user dataset."
      ],
      "metadata": {
        "id": "W_sq5kjL0Vua"
      }
    },
    {
      "cell_type": "markdown",
      "source": [
        "I'll be honest, I am still learning recommendation as of now, so there might be some wrong practices here. But I understand the basic and the logic of some recommendation models well, but I am not yet accustomed with the coding. So please mercy me, I believe I could learn much more such as combining BERT4Rec :)"
      ],
      "metadata": {
        "id": "KUDhvVqsd4k3"
      }
    },
    {
      "cell_type": "markdown",
      "source": [
        "## Previous Recommendation Model with Segmentation Knowledge"
      ],
      "metadata": {
        "id": "MbZyrdc-XOKs"
      }
    },
    {
      "cell_type": "markdown",
      "source": [
        "Most explanation has already been explained in the previous recommendation model section"
      ],
      "metadata": {
        "id": "A2f5MC5bXu00"
      }
    },
    {
      "cell_type": "code",
      "source": [
        "user_menu_quantities = df.groupby([\"user_id\", \"menu_name\"])[\"quantity\"].sum().reset_index()"
      ],
      "metadata": {
        "id": "JBfnN5YgI0wo"
      },
      "execution_count": null,
      "outputs": []
    },
    {
      "cell_type": "code",
      "source": [
        "users = tf.data.Dataset.from_tensor_slices(dict(user_menu_quantities[[\"user_id\", \"menu_name\", \"quantity\"]]))\n",
        "menus = tf.data.Dataset.from_tensor_slices(dict(df[['menu_name']]))"
      ],
      "metadata": {
        "id": "PddJKx3rXVGZ"
      },
      "execution_count": null,
      "outputs": []
    },
    {
      "cell_type": "code",
      "source": [
        "users = users.map(lambda x: {\n",
        "    \"user_id\": x[\"user_id\"],\n",
        "    \"menu_name\": x[\"menu_name\"],\n",
        "    \"quantity\": float(x[\"quantity\"])\n",
        "})\n",
        "menus = menus.map(lambda x: x[\"menu_name\"])"
      ],
      "metadata": {
        "id": "yF2JN-lvXe3R"
      },
      "execution_count": null,
      "outputs": []
    },
    {
      "cell_type": "code",
      "source": [
        "shuffled = users.shuffle(100_000, seed=42, reshuffle_each_iteration=False)"
      ],
      "metadata": {
        "id": "GrzR1EZbXhRL"
      },
      "execution_count": null,
      "outputs": []
    },
    {
      "cell_type": "code",
      "source": [
        "train = users.take(14_000) #train data used to train model\n",
        "test = users.skip(14_000).take(3_937) #test data used to evaluate model"
      ],
      "metadata": {
        "id": "GOoq6cfoXk4a"
      },
      "execution_count": null,
      "outputs": []
    },
    {
      "cell_type": "code",
      "source": [
        "#batching\n",
        "menu_names = menus.batch(1_000)\n",
        "user_ids = users.batch(1_000).map(lambda x: x[\"user_id\"])\n",
        "\n",
        "#unique values\n",
        "unique_menu_names = np.unique(np.concatenate(list(menu_names)))\n",
        "unique_user_ids = np.unique(np.concatenate(list(user_ids)))"
      ],
      "metadata": {
        "id": "g2K3KQB5Xn8J"
      },
      "execution_count": null,
      "outputs": []
    },
    {
      "cell_type": "code",
      "source": [
        "print(len(unique_menu_names) + 1)"
      ],
      "metadata": {
        "colab": {
          "base_uri": "https://localhost:8080/"
        },
        "id": "LkVG-VzjQay6",
        "outputId": "1e6e30ad-fbd8-418d-f7ed-5f95b39a518d"
      },
      "execution_count": null,
      "outputs": [
        {
          "output_type": "stream",
          "name": "stdout",
          "text": [
            "2031\n"
          ]
        }
      ]
    },
    {
      "cell_type": "code",
      "source": [
        "unique_menu_names"
      ],
      "metadata": {
        "id": "a4sw62FXwObM",
        "outputId": "e731c5d7-b372-4dfe-9afb-d046b269da23",
        "colab": {
          "base_uri": "https://localhost:8080/"
        }
      },
      "execution_count": null,
      "outputs": [
        {
          "output_type": "execute_result",
          "data": {
            "text/plain": [
              "array([b' ++Rich Syrup', b' Truffle Butter Chicken Arrosto',\n",
              "       b'(2B) Balvenie 12', ..., b'Yuzu Ramos', b'on The side',\n",
              "       b'\\xe2\\x80\\x9cMr.Fox Signature - Iced Tea\\xe2\\x80\\x9d'],\n",
              "      dtype=object)"
            ]
          },
          "metadata": {},
          "execution_count": 100
        }
      ]
    },
    {
      "cell_type": "code",
      "source": [
        "len(unique_menu_names) + 1"
      ],
      "metadata": {
        "colab": {
          "base_uri": "https://localhost:8080/"
        },
        "id": "iAlogK1UO23j",
        "outputId": "ea58eb15-c635-41e2-c5f0-1123d073ac06"
      },
      "execution_count": null,
      "outputs": [
        {
          "output_type": "execute_result",
          "data": {
            "text/plain": [
              "2031"
            ]
          },
          "metadata": {},
          "execution_count": 101
        }
      ]
    },
    {
      "cell_type": "markdown",
      "source": [
        "Since I understand the model, I could also adapt this model to PyTorch if needed"
      ],
      "metadata": {
        "id": "NZkkNOnKMyS9"
      }
    },
    {
      "cell_type": "code",
      "source": [
        "class MenuModel(tfrs.models.Model):\n",
        "\n",
        "  def __init__(self, rating_weight: float, retrieval_weight: float) -> None:\n",
        "    # We take the loss weights in the constructor: this allows us to instantiate\n",
        "    # several model objects with different loss weights. This weight tuning could be\n",
        "    # utilized after doing the customer segmentation by adding more models and embeddings\n",
        "\n",
        "    super().__init__()\n",
        "\n",
        "    embedding_dimension = 64\n",
        "\n",
        "    # User and movie models.\n",
        "    self.menu_model: tf.keras.layers.Layer = tf.keras.Sequential([\n",
        "      tf.keras.layers.StringLookup(\n",
        "        vocabulary=unique_menu_names, mask_token=None),\n",
        "      tf.keras.layers.Embedding(len(unique_menu_names) + 1, embedding_dimension)\n",
        "    ]) #used as an encoding method for each menu_ids\n",
        "    self.user_model: tf.keras.layers.Layer = tf.keras.Sequential([\n",
        "      tf.keras.layers.StringLookup(\n",
        "        vocabulary=unique_user_ids, mask_token=None),\n",
        "      tf.keras.layers.Embedding(len(unique_user_ids) + 1, embedding_dimension)\n",
        "    ]) #used as an encoding method for each user_ids\n",
        "\n",
        "    # A small model to take in user and menu embeddings and predict quantities-rankings.\n",
        "    # We can make this as complicated as we want as long as we output a scalar\n",
        "    # as our prediction.\n",
        "    self.rating_model = tf.keras.Sequential([\n",
        "        tf.keras.layers.Dense(256, activation=\"relu\"),\n",
        "        tf.keras.layers.Dense(128, activation=\"relu\"),\n",
        "        tf.keras.layers.Dense(1),\n",
        "    ])\n",
        "\n",
        "    # The tasks.\n",
        "    self.rating_task: tf.keras.layers.Layer = tfrs.tasks.Ranking(\n",
        "        loss=tf.keras.losses.MeanSquaredError(),\n",
        "        metrics=[tf.keras.metrics.RootMeanSquaredError()],\n",
        "    )\n",
        "    self.retrieval_task: tf.keras.layers.Layer = tfrs.tasks.Retrieval(\n",
        "        metrics=tfrs.metrics.FactorizedTopK(\n",
        "            candidates=menus.batch(128).map(self.menu_model)\n",
        "        )\n",
        "    )\n",
        "\n",
        "    # The loss weights.\n",
        "    self.rating_weight = rating_weight\n",
        "    self.retrieval_weight = retrieval_weight\n",
        "\n",
        "  def call(self, features: Dict[Text, tf.Tensor]) -> tf.Tensor:\n",
        "    # We pick out the user features and pass them into the user model.\n",
        "    user_embeddings = self.user_model(features[\"user_id\"])\n",
        "    # And pick out the menu features and pass them into the menu model.\n",
        "    menu_embeddings = self.menu_model(features[\"menu_name\"])\n",
        "\n",
        "    return (\n",
        "        user_embeddings,\n",
        "        menu_embeddings,\n",
        "        # We apply the multi-layered rating model to a concatentation of\n",
        "        # user and menu embeddings.\n",
        "        self.rating_model(\n",
        "            tf.concat([user_embeddings, menu_embeddings], axis=1)\n",
        "        ),\n",
        "    )\n",
        "\n",
        "  def compute_loss(self, features: Dict[Text, tf.Tensor], training=False) -> tf.Tensor:\n",
        "\n",
        "    ratings = features.pop(\"quantity\")\n",
        "\n",
        "    user_embeddings, menu_embeddings, rating_predictions = self(features)\n",
        "\n",
        "    # We compute the loss for each task.\n",
        "    rating_loss = self.rating_task(\n",
        "        labels=ratings,\n",
        "        predictions=rating_predictions,\n",
        "    )\n",
        "    retrieval_loss = self.retrieval_task(user_embeddings, menu_embeddings)\n",
        "\n",
        "    # And combine them using the loss weights.\n",
        "    return (self.rating_weight * rating_loss\n",
        "            + self.retrieval_weight * retrieval_loss)"
      ],
      "metadata": {
        "id": "u3KEhtGNXt2L"
      },
      "execution_count": null,
      "outputs": []
    },
    {
      "cell_type": "markdown",
      "source": [
        "Here we see that we could do multiple task, for this case I am only doing two task for this model that is retrieval and ranking. However we could also make another model that add another task for instance a recommendation menu based on location and from that model during retraining for personalized user, we could even add a task to Recommend Menu based on Location with higher weight for that task. There are a lot of room to improve"
      ],
      "metadata": {
        "id": "weis7vYVLngf"
      }
    },
    {
      "cell_type": "code",
      "source": [
        "# Here we see that we could do multiple task, for this case I am only doing two task\n",
        "model = MenuModel(rating_weight=1.0, retrieval_weight=1.0)\n",
        "model.compile(optimizer=tf.keras.optimizers.Adagrad(0.1))\n",
        "\n",
        "cached_train = train.shuffle(100_000).batch(1_000).cache()\n",
        "cached_test = test.batch(1_000).cache()\n",
        "\n",
        "model.fit(cached_train, epochs=20)"
      ],
      "metadata": {
        "colab": {
          "base_uri": "https://localhost:8080/"
        },
        "id": "A-EzggiEYDza",
        "outputId": "a16dcb23-09f2-486f-f04d-6d3c0f7633a2"
      },
      "execution_count": null,
      "outputs": [
        {
          "output_type": "stream",
          "name": "stdout",
          "text": [
            "Epoch 1/20\n",
            "14/14 [==============================] - 88s 6s/step - root_mean_squared_error: 2.6659 - factorized_top_k/top_1_categorical_accuracy: 5.0000e-04 - factorized_top_k/top_5_categorical_accuracy: 5.0000e-04 - factorized_top_k/top_10_categorical_accuracy: 5.0000e-04 - factorized_top_k/top_50_categorical_accuracy: 7.1429e-04 - factorized_top_k/top_100_categorical_accuracy: 0.0013 - loss: 6860.2235 - regularization_loss: 0.0000e+00 - total_loss: 6860.2235\n",
            "Epoch 2/20\n",
            "14/14 [==============================] - 67s 5s/step - root_mean_squared_error: 2.5970 - factorized_top_k/top_1_categorical_accuracy: 0.0049 - factorized_top_k/top_5_categorical_accuracy: 0.0049 - factorized_top_k/top_10_categorical_accuracy: 0.0049 - factorized_top_k/top_50_categorical_accuracy: 0.0094 - factorized_top_k/top_100_categorical_accuracy: 0.0184 - loss: 6270.7747 - regularization_loss: 0.0000e+00 - total_loss: 6270.7747\n",
            "Epoch 3/20\n",
            "14/14 [==============================] - 65s 5s/step - root_mean_squared_error: 2.5192 - factorized_top_k/top_1_categorical_accuracy: 0.0054 - factorized_top_k/top_5_categorical_accuracy: 0.0054 - factorized_top_k/top_10_categorical_accuracy: 0.0058 - factorized_top_k/top_50_categorical_accuracy: 0.0246 - factorized_top_k/top_100_categorical_accuracy: 0.0530 - loss: 5626.6692 - regularization_loss: 0.0000e+00 - total_loss: 5626.6692\n",
            "Epoch 4/20\n",
            "14/14 [==============================] - 61s 4s/step - root_mean_squared_error: 2.5305 - factorized_top_k/top_1_categorical_accuracy: 0.0041 - factorized_top_k/top_5_categorical_accuracy: 0.0045 - factorized_top_k/top_10_categorical_accuracy: 0.0072 - factorized_top_k/top_50_categorical_accuracy: 0.0474 - factorized_top_k/top_100_categorical_accuracy: 0.0989 - loss: 5135.7742 - regularization_loss: 0.0000e+00 - total_loss: 5135.7742\n",
            "Epoch 5/20\n",
            "14/14 [==============================] - 63s 4s/step - root_mean_squared_error: 2.4938 - factorized_top_k/top_1_categorical_accuracy: 0.0036 - factorized_top_k/top_5_categorical_accuracy: 0.0056 - factorized_top_k/top_10_categorical_accuracy: 0.0122 - factorized_top_k/top_50_categorical_accuracy: 0.0761 - factorized_top_k/top_100_categorical_accuracy: 0.1554 - loss: 4761.2008 - regularization_loss: 0.0000e+00 - total_loss: 4761.2008\n",
            "Epoch 6/20\n",
            "14/14 [==============================] - 63s 4s/step - root_mean_squared_error: 2.4618 - factorized_top_k/top_1_categorical_accuracy: 0.0037 - factorized_top_k/top_5_categorical_accuracy: 0.0084 - factorized_top_k/top_10_categorical_accuracy: 0.0208 - factorized_top_k/top_50_categorical_accuracy: 0.1183 - factorized_top_k/top_100_categorical_accuracy: 0.2160 - loss: 4484.6842 - regularization_loss: 0.0000e+00 - total_loss: 4484.6842\n",
            "Epoch 7/20\n",
            "14/14 [==============================] - 60s 4s/step - root_mean_squared_error: 2.4049 - factorized_top_k/top_1_categorical_accuracy: 0.0028 - factorized_top_k/top_5_categorical_accuracy: 0.0129 - factorized_top_k/top_10_categorical_accuracy: 0.0349 - factorized_top_k/top_50_categorical_accuracy: 0.1570 - factorized_top_k/top_100_categorical_accuracy: 0.2520 - loss: 4286.2154 - regularization_loss: 0.0000e+00 - total_loss: 4286.2154\n",
            "Epoch 8/20\n",
            "14/14 [==============================] - 62s 4s/step - root_mean_squared_error: 2.3368 - factorized_top_k/top_1_categorical_accuracy: 0.0024 - factorized_top_k/top_5_categorical_accuracy: 0.0241 - factorized_top_k/top_10_categorical_accuracy: 0.0539 - factorized_top_k/top_50_categorical_accuracy: 0.1756 - factorized_top_k/top_100_categorical_accuracy: 0.2711 - loss: 4145.9717 - regularization_loss: 0.0000e+00 - total_loss: 4145.9717\n",
            "Epoch 9/20\n",
            "14/14 [==============================] - 62s 5s/step - root_mean_squared_error: 2.3306 - factorized_top_k/top_1_categorical_accuracy: 0.0032 - factorized_top_k/top_5_categorical_accuracy: 0.0331 - factorized_top_k/top_10_categorical_accuracy: 0.0625 - factorized_top_k/top_50_categorical_accuracy: 0.1863 - factorized_top_k/top_100_categorical_accuracy: 0.2824 - loss: 4046.2627 - regularization_loss: 0.0000e+00 - total_loss: 4046.2627\n",
            "Epoch 10/20\n",
            "14/14 [==============================] - 60s 4s/step - root_mean_squared_error: 2.2601 - factorized_top_k/top_1_categorical_accuracy: 0.0033 - factorized_top_k/top_5_categorical_accuracy: 0.0359 - factorized_top_k/top_10_categorical_accuracy: 0.0664 - factorized_top_k/top_50_categorical_accuracy: 0.1951 - factorized_top_k/top_100_categorical_accuracy: 0.2919 - loss: 3972.0476 - regularization_loss: 0.0000e+00 - total_loss: 3972.0476\n",
            "Epoch 11/20\n",
            "14/14 [==============================] - 63s 5s/step - root_mean_squared_error: 2.2401 - factorized_top_k/top_1_categorical_accuracy: 0.0041 - factorized_top_k/top_5_categorical_accuracy: 0.0368 - factorized_top_k/top_10_categorical_accuracy: 0.0684 - factorized_top_k/top_50_categorical_accuracy: 0.1989 - factorized_top_k/top_100_categorical_accuracy: 0.2979 - loss: 3915.4749 - regularization_loss: 0.0000e+00 - total_loss: 3915.4749\n",
            "Epoch 12/20\n",
            "14/14 [==============================] - 63s 4s/step - root_mean_squared_error: 2.1787 - factorized_top_k/top_1_categorical_accuracy: 0.0050 - factorized_top_k/top_5_categorical_accuracy: 0.0379 - factorized_top_k/top_10_categorical_accuracy: 0.0704 - factorized_top_k/top_50_categorical_accuracy: 0.2028 - factorized_top_k/top_100_categorical_accuracy: 0.3034 - loss: 3870.6672 - regularization_loss: 0.0000e+00 - total_loss: 3870.6672\n",
            "Epoch 13/20\n",
            "14/14 [==============================] - 60s 4s/step - root_mean_squared_error: 2.0199 - factorized_top_k/top_1_categorical_accuracy: 0.0063 - factorized_top_k/top_5_categorical_accuracy: 0.0394 - factorized_top_k/top_10_categorical_accuracy: 0.0714 - factorized_top_k/top_50_categorical_accuracy: 0.2052 - factorized_top_k/top_100_categorical_accuracy: 0.3076 - loss: 3833.9819 - regularization_loss: 0.0000e+00 - total_loss: 3833.9819\n",
            "Epoch 14/20\n",
            "14/14 [==============================] - 62s 5s/step - root_mean_squared_error: 2.0142 - factorized_top_k/top_1_categorical_accuracy: 0.0071 - factorized_top_k/top_5_categorical_accuracy: 0.0402 - factorized_top_k/top_10_categorical_accuracy: 0.0719 - factorized_top_k/top_50_categorical_accuracy: 0.2071 - factorized_top_k/top_100_categorical_accuracy: 0.3109 - loss: 3804.3276 - regularization_loss: 0.0000e+00 - total_loss: 3804.3276\n",
            "Epoch 15/20\n",
            "14/14 [==============================] - 61s 4s/step - root_mean_squared_error: 1.8381 - factorized_top_k/top_1_categorical_accuracy: 0.0076 - factorized_top_k/top_5_categorical_accuracy: 0.0409 - factorized_top_k/top_10_categorical_accuracy: 0.0739 - factorized_top_k/top_50_categorical_accuracy: 0.2091 - factorized_top_k/top_100_categorical_accuracy: 0.3144 - loss: 3778.5697 - regularization_loss: 0.0000e+00 - total_loss: 3778.5697\n",
            "Epoch 16/20\n",
            "14/14 [==============================] - 60s 4s/step - root_mean_squared_error: 2.3417 - factorized_top_k/top_1_categorical_accuracy: 0.0079 - factorized_top_k/top_5_categorical_accuracy: 0.0413 - factorized_top_k/top_10_categorical_accuracy: 0.0736 - factorized_top_k/top_50_categorical_accuracy: 0.2111 - factorized_top_k/top_100_categorical_accuracy: 0.3165 - loss: 3759.5362 - regularization_loss: 0.0000e+00 - total_loss: 3759.5362\n",
            "Epoch 17/20\n",
            "14/14 [==============================] - 62s 4s/step - root_mean_squared_error: 2.1313 - factorized_top_k/top_1_categorical_accuracy: 0.0082 - factorized_top_k/top_5_categorical_accuracy: 0.0419 - factorized_top_k/top_10_categorical_accuracy: 0.0749 - factorized_top_k/top_50_categorical_accuracy: 0.2121 - factorized_top_k/top_100_categorical_accuracy: 0.3189 - loss: 3740.2785 - regularization_loss: 0.0000e+00 - total_loss: 3740.2785\n",
            "Epoch 18/20\n",
            "14/14 [==============================] - 62s 5s/step - root_mean_squared_error: 2.0219 - factorized_top_k/top_1_categorical_accuracy: 0.0087 - factorized_top_k/top_5_categorical_accuracy: 0.0416 - factorized_top_k/top_10_categorical_accuracy: 0.0750 - factorized_top_k/top_50_categorical_accuracy: 0.2137 - factorized_top_k/top_100_categorical_accuracy: 0.3202 - loss: 3723.8487 - regularization_loss: 0.0000e+00 - total_loss: 3723.8487\n",
            "Epoch 19/20\n",
            "14/14 [==============================] - 62s 5s/step - root_mean_squared_error: 1.7596 - factorized_top_k/top_1_categorical_accuracy: 0.0085 - factorized_top_k/top_5_categorical_accuracy: 0.0420 - factorized_top_k/top_10_categorical_accuracy: 0.0756 - factorized_top_k/top_50_categorical_accuracy: 0.2151 - factorized_top_k/top_100_categorical_accuracy: 0.3218 - loss: 3708.7406 - regularization_loss: 0.0000e+00 - total_loss: 3708.7406\n",
            "Epoch 20/20\n",
            "14/14 [==============================] - 63s 5s/step - root_mean_squared_error: 1.6541 - factorized_top_k/top_1_categorical_accuracy: 0.0089 - factorized_top_k/top_5_categorical_accuracy: 0.0422 - factorized_top_k/top_10_categorical_accuracy: 0.0752 - factorized_top_k/top_50_categorical_accuracy: 0.2150 - factorized_top_k/top_100_categorical_accuracy: 0.3222 - loss: 3695.8991 - regularization_loss: 0.0000e+00 - total_loss: 3695.8991\n"
          ]
        },
        {
          "output_type": "execute_result",
          "data": {
            "text/plain": [
              "<keras.callbacks.History at 0x795e3769fb20>"
            ]
          },
          "metadata": {},
          "execution_count": 83
        }
      ]
    },
    {
      "cell_type": "code",
      "source": [
        "# Save model weights\n",
        "model.save_weights(\"model_weights.h5\")"
      ],
      "metadata": {
        "id": "SO4N6fiAipEp"
      },
      "execution_count": null,
      "outputs": []
    },
    {
      "cell_type": "markdown",
      "source": [
        "The Model apperently could not be saved as a model instead only as weights for now, there are some possible ways to debug it, however I will go with this for now although it is not the best practice"
      ],
      "metadata": {
        "id": "Le3O1nj8jaPr"
      }
    },
    {
      "cell_type": "code",
      "source": [
        "model = MenuModel(rating_weight=1.0, retrieval_weight=1.0)"
      ],
      "metadata": {
        "id": "tHxc0FJSMHzM"
      },
      "execution_count": null,
      "outputs": []
    },
    {
      "cell_type": "code",
      "source": [
        "# Build the model by calling it with example inputs\n",
        "dummy_features = {\n",
        "    \"user_id\": tf.constant([\"dummy_user\"]),\n",
        "    \"menu_name\": tf.constant([\"dummy_menu\"])\n",
        "}\n",
        "model(dummy_features)"
      ],
      "metadata": {
        "colab": {
          "base_uri": "https://localhost:8080/"
        },
        "id": "Ivg_cTWTMnUy",
        "outputId": "978f08dc-53f1-4fe9-9e56-ac9bdb8306fe"
      },
      "execution_count": null,
      "outputs": [
        {
          "output_type": "execute_result",
          "data": {
            "text/plain": [
              "(<tf.Tensor: shape=(1, 64), dtype=float32, numpy=\n",
              " array([[-0.03101311, -0.02688022,  0.00577902,  0.01118592,  0.0134828 ,\n",
              "          0.02278198, -0.03961341,  0.0397635 ,  0.04533876,  0.03805253,\n",
              "          0.00059193, -0.00763641,  0.03852148, -0.02909929,  0.00567558,\n",
              "          0.01164007,  0.02857424,  0.02051249,  0.03314557,  0.04151816,\n",
              "         -0.00174358,  0.03617127, -0.02328476,  0.02988961, -0.00280922,\n",
              "          0.03407964, -0.01932755, -0.00628173,  0.03095845, -0.03469466,\n",
              "          0.0143664 , -0.04724402, -0.04984837,  0.04322645,  0.00163051,\n",
              "          0.03717926,  0.0436816 , -0.00963377,  0.04989598,  0.04766624,\n",
              "          0.03846829, -0.04306766, -0.01294593,  0.02119939,  0.04725621,\n",
              "          0.02061242,  0.00454392, -0.01300987, -0.01824787,  0.01675233,\n",
              "          0.00282732, -0.03195168,  0.03067314,  0.00428959,  0.0358688 ,\n",
              "          0.01452242, -0.00430625, -0.04625224, -0.02935628, -0.00423523,\n",
              "         -0.03288918, -0.02662664,  0.01443927, -0.00099512]],\n",
              "       dtype=float32)>,\n",
              " <tf.Tensor: shape=(1, 64), dtype=float32, numpy=\n",
              " array([[ 0.02349528,  0.03281275, -0.03260623, -0.0265028 ,  0.03131095,\n",
              "          0.0464373 , -0.02240956,  0.03651674,  0.02137822,  0.01664174,\n",
              "         -0.03823103, -0.0420894 , -0.01303916,  0.0343936 , -0.02048415,\n",
              "          0.04741329,  0.02875558, -0.02666791,  0.02366782,  0.01952751,\n",
              "         -0.03955386,  0.03029767, -0.0172288 , -0.02267126, -0.01577187,\n",
              "         -0.00399845, -0.03771053,  0.03941337,  0.00533785, -0.013014  ,\n",
              "         -0.00357801, -0.03067703,  0.00561507, -0.00751429, -0.00843778,\n",
              "          0.00830898, -0.03240447,  0.00711723, -0.02342577,  0.00244727,\n",
              "         -0.01553307, -0.03367603,  0.02089535,  0.02820959, -0.00369231,\n",
              "          0.03558966, -0.03715495,  0.04448528,  0.02884308,  0.04905281,\n",
              "          0.01444911,  0.02541313,  0.02498857,  0.01615519, -0.03324192,\n",
              "         -0.04439278, -0.03608907, -0.01414219, -0.0023789 , -0.00764902,\n",
              "          0.02701369, -0.02446959, -0.01344727,  0.00435221]],\n",
              "       dtype=float32)>,\n",
              " <tf.Tensor: shape=(1, 1), dtype=float32, numpy=array([[-0.00210824]], dtype=float32)>)"
            ]
          },
          "metadata": {},
          "execution_count": 97
        }
      ]
    },
    {
      "cell_type": "code",
      "source": [
        "model.load_weights(\"model_weights.h5\")"
      ],
      "metadata": {
        "id": "Qt7Q0aQYjNzR"
      },
      "execution_count": null,
      "outputs": []
    },
    {
      "cell_type": "code",
      "source": [
        "metrics = model.evaluate(cached_test, return_dict=True)\n",
        "\n",
        "print(f\"\\nRetrieval top-100 accuracy: {metrics['factorized_top_k/top_100_categorical_accuracy']:.3f}\")\n",
        "print(f\"Ranking RMSE: {metrics['root_mean_squared_error']:.3f}\")"
      ],
      "metadata": {
        "colab": {
          "base_uri": "https://localhost:8080/"
        },
        "id": "0P7qdaT_YJWZ",
        "outputId": "0a152622-e225-41f8-9cf1-12d392ca89aa"
      },
      "execution_count": null,
      "outputs": [
        {
          "output_type": "stream",
          "name": "stdout",
          "text": [
            "4/4 [==============================] - 15s 4s/step - root_mean_squared_error: 3.0195 - factorized_top_k/top_1_categorical_accuracy: 0.0016 - factorized_top_k/top_5_categorical_accuracy: 0.0016 - factorized_top_k/top_10_categorical_accuracy: 0.0022 - factorized_top_k/top_50_categorical_accuracy: 0.0033 - factorized_top_k/top_100_categorical_accuracy: 0.0041 - loss: 5931.1938 - regularization_loss: 0.0000e+00 - total_loss: 5931.1938\n",
            "\n",
            "Retrieval top-100 accuracy: 0.004\n",
            "Ranking RMSE: 3.020\n"
          ]
        }
      ]
    },
    {
      "cell_type": "code",
      "source": [
        "def topBrandCity(city, df): #most popular brand around their city\n",
        "    # Group data by city and brand, then count purchases for each brand within each district\n",
        "    grouped_data = df.groupby(['city', 'brand']).size().reset_index(name='purchase_count')\n",
        "\n",
        "    # Sort the data within each city by purchase count in descending order\n",
        "    grouped_data = grouped_data.sort_values(['city', 'purchase_count'], ascending=[True, False])\n",
        "\n",
        "    # Filter the top brands DataFrame to show results for the selected city\n",
        "    top_brands_selected_city = grouped_data[grouped_data['city'] == city]\n",
        "\n",
        "    return top_brands_selected_city['brand']\n",
        "\n",
        "# Usage\n",
        "top_brands = topBrandCity('Bandung, Kota', df)\n",
        "print(top_brands)"
      ],
      "metadata": {
        "id": "dz2VOi7anTQR",
        "colab": {
          "base_uri": "https://localhost:8080/"
        },
        "outputId": "89943b0b-b8bf-4183-998a-3f1539d67a07"
      },
      "execution_count": null,
      "outputs": [
        {
          "output_type": "stream",
          "name": "stdout",
          "text": [
            "4         Djournal\n",
            "7              TPC\n",
            "6     Sushi Groove\n",
            "5    Pizza E Birra\n",
            "Name: brand, dtype: object\n"
          ]
        }
      ]
    },
    {
      "cell_type": "code",
      "source": [
        "def get_top_cities(user_id, df, top_n=3): #city where user mostly buy things from\n",
        "    # Filter the data for the specified user\n",
        "    user_data = df[df['user_id'] == user_id]\n",
        "\n",
        "    # Group data by city and count purchases\n",
        "    city_purchase_counts = user_data['city'].value_counts()\n",
        "\n",
        "    # Get the top N cities with the most purchases\n",
        "    top_cities = city_purchase_counts.head(top_n).index.tolist()\n",
        "\n",
        "    return top_cities"
      ],
      "metadata": {
        "id": "1NJoIikuODvg"
      },
      "execution_count": null,
      "outputs": []
    },
    {
      "cell_type": "code",
      "source": [
        "def predict_menu(user, top_n=3):\n",
        "    # Create a model that takes in raw query features, and\n",
        "    index = tfrs.layers.factorized_top_k.BruteForce(model.user_model)\n",
        "    # Recommends menus out of the entire menus dataset.\n",
        "    index.index_from_dataset(\n",
        "        tf.data.Dataset.zip((menus.batch(100), menus.batch(100).map(model.menu_model)))\n",
        "    )\n",
        "\n",
        "    # Get recommendations.\n",
        "    _, titles = index(tf.constant([str(user)]))\n",
        "    recommended_menu_ids = titles[0, :top_n * 100].numpy()  # Fetch more than top_n\n",
        "\n",
        "    unique_menu_ids = set()  # To track unique menu recommendations\n",
        "    unique_recommended_menu_ids = []\n",
        "\n",
        "    print('Top {} unique menu recommendations for user {}:\\n'.format(top_n, user))\n",
        "    for menuid in recommended_menu_ids:\n",
        "        menuid_str = menuid.decode(\"utf-8\")\n",
        "        if menuid_str not in unique_menu_ids:\n",
        "            unique_menu_ids.add(menuid_str)\n",
        "            unique_recommended_menu_ids.append(menuid_str)\n",
        "\n",
        "            if len(unique_recommended_menu_ids) >= top_n:\n",
        "                break\n",
        "\n",
        "    for i, menuid_str in enumerate(unique_recommended_menu_ids):\n",
        "        print('{}. {}'.format(i + 1, menuid_str))\n",
        "\n",
        "# Usage:\n",
        "predict_menu(user=\"00b158ed-0fcb-48e1-b627-2bb572a344cf\", top_n=3)"
      ],
      "metadata": {
        "colab": {
          "base_uri": "https://localhost:8080/"
        },
        "id": "F0n2OX9YctuC",
        "outputId": "b8cd2471-3659-4275-8db8-ca5375525f17"
      },
      "execution_count": null,
      "outputs": [
        {
          "output_type": "stream",
          "name": "stdout",
          "text": [
            "Top 3 unique menu recommendations for user 00b158ed-0fcb-48e1-b627-2bb572a344cf:\n",
            "\n",
            "1. Tahu goreng\n",
            "2. Special Bundle Aqua 3\n",
            "3. Special Bundle Aqua 1\n"
          ]
        }
      ]
    },
    {
      "cell_type": "code",
      "source": [
        "def predict_menu(user, top_n=3):\n",
        "    # Create a model that takes in raw query features, and\n",
        "    index = tfrs.layers.factorized_top_k.BruteForce(model.user_model)\n",
        "    # Recommends menus out of the entire menus dataset.\n",
        "    index.index_from_dataset(\n",
        "        tf.data.Dataset.zip((menus.batch(100), menus.batch(100).map(model.menu_model)))\n",
        "    )\n",
        "\n",
        "    # Get recommendations.\n",
        "    _, titles = index(tf.constant([str(user)]))\n",
        "    recommended_menu_ids = titles[0, :top_n * 100].numpy()  # Fetch more than top_n\n",
        "\n",
        "    unique_menu_ids = set()  # To track unique menu recommendations\n",
        "    unique_recommended_menu_ids = []\n",
        "\n",
        "    for menuid in recommended_menu_ids:\n",
        "        menuid_str = menuid.decode(\"utf-8\")\n",
        "        if menuid_str not in unique_menu_ids:\n",
        "            unique_menu_ids.add(menuid_str)\n",
        "            unique_recommended_menu_ids.append(menuid_str)\n",
        "\n",
        "            if len(unique_recommended_menu_ids) >= top_n:\n",
        "                break\n",
        "\n",
        "    top_menu_recommendations = [\n",
        "        {\"rank\": i + 1, \"menu_id\": menuid_str}\n",
        "        for i, menuid_str in enumerate(unique_recommended_menu_ids)\n",
        "    ]\n",
        "    response = {\n",
        "        \"user_id\": user,\n",
        "        \"top_menu_recommendations\": top_menu_recommendations\n",
        "    }\n",
        "    return response\n",
        "\n",
        "# Usage:\n",
        "predict_menu(user=\"00b158ed-0fcb-48e1-b627-2bb572a344cf\", top_n=3)"
      ],
      "metadata": {
        "id": "iYRbHxDfJwAC"
      },
      "execution_count": null,
      "outputs": []
    },
    {
      "cell_type": "markdown",
      "source": [
        "It seems like the user data must be trained by a specific city they are in. From the previous segmentation I am only using it to filter the end-result, however I guess it is not having that good of a result. However this is a way of utilizing the segmentation, however in the end It is better to retrain the model based on the user's city with better weights so that the model will lean towards the user's city"
      ],
      "metadata": {
        "id": "I-iu6AUwfRfD"
      }
    },
    {
      "cell_type": "code",
      "source": [
        "'''def predict_menu(user, df, top_n=3): #predicting menu based on user's most transaction city, most popular brands around that city\n",
        "    # Get the top cities where the user has made the most purchases\n",
        "    top_cities = get_top_cities(user, df)\n",
        "\n",
        "    # Get the top brand in the user's top city\n",
        "    top_city = top_cities[0]  # Assuming you want the top city\n",
        "    top_brand = topBrandCity(top_city, df).iloc[0]  # Assuming you want the top brand\n",
        "\n",
        "    # Create a model that takes in raw query features, and\n",
        "    index = tfrs.layers.factorized_top_k.BruteForce(model.user_model)\n",
        "    # Recommends menus out of the entire menus dataset.\n",
        "    index.index_from_dataset(\n",
        "        tf.data.Dataset.zip((menus.batch(100), menus.batch(100).map(model.menu_model)))\n",
        "    )\n",
        "\n",
        "    # Get recommendations.\n",
        "    _, titles = index(tf.constant([str(user)]))\n",
        "    titles_numpy = titles[0].numpy()  # Convert to NumPy array\n",
        "\n",
        "    # Filter menu recommendations by the top brand in the top city\n",
        "    filtered_titles = [\n",
        "        title for title in titles_numpy if top_brand in title.decode(\"utf-8\")\n",
        "    ]\n",
        "\n",
        "    print('Top {} menu recommendations for user {}:\\n'.format(top_n, user))\n",
        "    for i, menunames in enumerate(filtered_titles[:top_n]):\n",
        "        print('{}. {}'.format(i+1, menunames.decode(\"utf-8\")))"
      ],
      "metadata": {
        "id": "FOIuWrMxfFyD"
      },
      "execution_count": null,
      "outputs": []
    },
    {
      "cell_type": "code",
      "source": [
        "'''predict_menu(user=\"ffde4412-810f-4800-a40b-27ad2a614a9e\", df=df, top_n=5)"
      ],
      "metadata": {
        "id": "MJqgngzqfKYv"
      },
      "execution_count": null,
      "outputs": []
    },
    {
      "cell_type": "markdown",
      "source": [
        "## Multiple-Embeddings Multi-Task Recommendation Model (experimental)"
      ],
      "metadata": {
        "id": "5pIIu-9cWU6q"
      }
    },
    {
      "cell_type": "markdown",
      "source": [
        "Through this we could see the model I plan to make however I still encounter some problems utilizing the model"
      ],
      "metadata": {
        "id": "NFfjUKM4Wnux"
      }
    },
    {
      "cell_type": "code",
      "source": [
        "user_menu_quantities = df.groupby([\"user_id\", \"menu_name\"])[\"quantity\"].sum().reset_index() #user total purchase per item\n",
        "\n",
        "# Display the result\n",
        "print(user_menu_quantities)"
      ],
      "metadata": {
        "colab": {
          "base_uri": "https://localhost:8080/"
        },
        "id": "czbVC3cMDBhN",
        "outputId": "d2b9f48e-97e1-4f81-ef1b-b3d9c8b543b1"
      },
      "execution_count": null,
      "outputs": [
        {
          "output_type": "stream",
          "name": "stdout",
          "text": [
            "                                    user_id                       menu_name  \\\n",
            "0      00b158ed-0fcb-48e1-b627-2bb572a344cf                            12oz   \n",
            "1      00b158ed-0fcb-48e1-b627-2bb572a344cf                      Aqua 330ml   \n",
            "2      00b158ed-0fcb-48e1-b627-2bb572a344cf                 Ayam Bejo Julid   \n",
            "3      00b158ed-0fcb-48e1-b627-2bb572a344cf         Ayam Geprek Sambal Limo   \n",
            "4      00b158ed-0fcb-48e1-b627-2bb572a344cf     Baso Goreng Dadakan 12K/Pcs   \n",
            "...                                     ...                             ...   \n",
            "17673  ffde4412-810f-4800-a40b-27ad2a614a9e      Spiced GarlicBucket, Spicy   \n",
            "17674  ffde4412-810f-4800-a40b-27ad2a614a9e              Thai Chicken Wings   \n",
            "17675  ffde4412-810f-4800-a40b-27ad2a614a9e         Truffle Bikini Sandwich   \n",
            "17676  ffde4412-810f-4800-a40b-27ad2a614a9e  Truffle Mushroom Classic Pizza   \n",
            "17677  ffde4412-810f-4800-a40b-27ad2a614a9e                    Whiskey Sour   \n",
            "\n",
            "       quantity  \n",
            "0           1.0  \n",
            "1           3.0  \n",
            "2           2.0  \n",
            "3           1.0  \n",
            "4           1.0  \n",
            "...         ...  \n",
            "17673       2.0  \n",
            "17674       1.0  \n",
            "17675       1.0  \n",
            "17676       1.0  \n",
            "17677       1.0  \n",
            "\n",
            "[17678 rows x 3 columns]\n"
          ]
        }
      ]
    },
    {
      "cell_type": "code",
      "source": [
        "gender_df = df[[\"user_id\", \"user_gender\", \"user_tier_level\", 'menu_type', 'menu_category', 'menu_category_detail','concept', 'brand', 'outlet', 'district', 'city']]\n",
        "\n",
        "# Merge gender information\n",
        "user_menu_quantities = user_menu_quantities.merge(gender_df, on=\"user_id\", how=\"left\")"
      ],
      "metadata": {
        "id": "3Xne6ch62hr3"
      },
      "execution_count": null,
      "outputs": []
    },
    {
      "cell_type": "code",
      "source": [
        "users = tf.data.Dataset.from_tensor_slices(dict(user_menu_quantities[[\"user_id\", \"menu_name\", \"quantity\", \"user_gender\", \"user_tier_level\", 'menu_type', 'menu_category', 'menu_category_detail','concept', 'brand', 'outlet', 'district', 'city']]))\n",
        "menus = tf.data.Dataset.from_tensor_slices(dict(df[['menu_name', 'menu_type', 'menu_category', 'menu_category_detail','concept', 'brand', 'outlet', 'district', 'city']]))\n"
      ],
      "metadata": {
        "id": "_ANI3hcN52I2"
      },
      "execution_count": null,
      "outputs": []
    },
    {
      "cell_type": "code",
      "source": [
        "users = users.map(lambda x: {\n",
        "    \"user_id\": x[\"user_id\"],\n",
        "    \"menu_name\": x[\"menu_name\"],\n",
        "    \"quantity\": float(x[\"quantity\"]),\n",
        "    \"user_gender\": x[\"user_gender\"],\n",
        "    \"user_tier_level\": x[\"user_tier_level\"],\n",
        "    \"menu_type\": x[\"menu_type\"],\n",
        "    \"menu_category\": x[\"menu_category\"],\n",
        "    \"menu_category_detail\": x[\"menu_category_detail\"],\n",
        "    \"concept\": x[\"concept\"],\n",
        "    \"brand\": x[\"brand\"],\n",
        "    \"outlet\": x[\"outlet\"],\n",
        "    \"district\": x[\"district\"],\n",
        "    \"city\": x[\"city\"]\n",
        "})\n",
        "\n",
        "menus = menus.map(lambda x: {\n",
        "    \"menu_name\": x[\"menu_name\"],\n",
        "    \"menu_type\": x[\"menu_type\"],\n",
        "    \"menu_category\": x[\"menu_category\"],\n",
        "    \"menu_category_detail\": x[\"menu_category_detail\"],\n",
        "    \"concept\": x[\"concept\"],\n",
        "    \"brand\": x[\"brand\"],\n",
        "    \"outlet\": x[\"outlet\"],\n",
        "    \"district\": x[\"district\"],\n",
        "    \"city\": x[\"city\"]\n",
        "})"
      ],
      "metadata": {
        "id": "lFny7WaaqZL_"
      },
      "execution_count": null,
      "outputs": []
    },
    {
      "cell_type": "markdown",
      "source": [
        "I am not sure the best way to split the data, this could however be done by first splitting the unique user_ids first into train and test then use all the df with train user_id and the rest for test. But for now I just take the 14_000 randomly"
      ],
      "metadata": {
        "id": "7-dBMK817q-9"
      }
    },
    {
      "cell_type": "code",
      "source": [
        "shuffled = users.shuffle(100_000, seed=42, reshuffle_each_iteration=False)"
      ],
      "metadata": {
        "id": "7-2HDx2Eqa3u"
      },
      "execution_count": null,
      "outputs": []
    },
    {
      "cell_type": "code",
      "source": [
        "train = users.take(14_000) #train data used to train model\n",
        "test = users.skip(14_000).take(3_937) #test data used to evaluate model"
      ],
      "metadata": {
        "id": "oXQQcIqPqcs9"
      },
      "execution_count": null,
      "outputs": []
    },
    {
      "cell_type": "code",
      "source": [
        "# Batching\n",
        "menu_names = menus.batch(1_000).map(lambda x: x[\"menu_name\"])\n",
        "menu_types = menus.batch(1_000).map(lambda x: x[\"menu_type\"])\n",
        "menu_categories = menus.batch(1_000).map(lambda x: x[\"menu_category\"])\n",
        "menu_category_details = menus.batch(1_000).map(lambda x: x[\"menu_category_detail\"])\n",
        "concepts = menus.batch(1_000).map(lambda x: x[\"concept\"])\n",
        "brands = menus.batch(1_000).map(lambda x: x[\"brand\"])\n",
        "outlet = menus.batch(1_000).map(lambda x: x[\"outlet\"])\n",
        "district = menus.batch(1_000).map(lambda x: x[\"district\"])\n",
        "cities = menus.batch(1_000).map(lambda x: x[\"city\"])\n",
        "\n",
        "user_ids = users.batch(1_000).map(lambda x: x[\"user_id\"])\n",
        "user_genders = users.batch(1_000).map(lambda x: x[\"user_gender\"])\n",
        "user_tier_levels = users.batch(1_000).map(lambda x: x[\"user_tier_level\"])\n",
        "\n",
        "#unique values\n",
        "unique_menu_names = np.unique(np.concatenate(list(menu_names)))\n",
        "unique_menu_types = np.unique(np.concatenate(list(menu_types)))\n",
        "unique_menu_categories = np.unique(np.concatenate(list(menu_categories)))\n",
        "unique_menu_category_details = np.unique(np.concatenate(list(menu_category_details)))\n",
        "unique_concepts = np.unique(np.concatenate(list(concepts)))\n",
        "unique_brands = np.unique(np.concatenate(list(brands)))\n",
        "unique_outlets = np.unique(np.concatenate(list(outlet)))\n",
        "unique_districts = np.unique(np.concatenate(list(district)))\n",
        "unique_cities = np.unique(np.concatenate(list(cities)))\n",
        "\n",
        "unique_user_ids = np.unique(np.concatenate(list(user_ids)))\n",
        "unique_user_genders = np.unique(np.concatenate(list(user_genders)))\n",
        "unique_user_tier_levels = np.unique(np.concatenate(list(user_tier_levels)))"
      ],
      "metadata": {
        "id": "xn4mYxVeqfsG"
      },
      "execution_count": null,
      "outputs": []
    },
    {
      "cell_type": "code",
      "source": [
        "class MenuModel(tfrs.models.Model):\n",
        "\n",
        "  def __init__(self, rating_weight: float, retrieval_weight: float) -> None:\n",
        "    # We take the loss weights in the constructor: this allows us to instantiate\n",
        "    # several model objects with different loss weights. This weight tuning could be\n",
        "    # utilized after doing the customer segmentation by adding more models and embeddings\n",
        "\n",
        "    super().__init__()\n",
        "\n",
        "    embedding_dimension = 32 #Cause there will be a lot of training here, so I won't mke it too big for now\n",
        "\n",
        "    # User feature models - these are used for embedding (encoding)\n",
        "    self.user_model: tf.keras.layers.Layer = tf.keras.Sequential([\n",
        "      tf.keras.layers.StringLookup(\n",
        "        vocabulary=unique_user_ids, mask_token=None),\n",
        "      tf.keras.layers.Embedding(len(unique_user_ids) + 1, embedding_dimension)\n",
        "    ]) #used as an encoding method for each user_ids\n",
        "\n",
        "    self.user_gender_model: tf.keras.layers.Layer = tf.keras.Sequential([\n",
        "      tf.keras.layers.StringLookup(\n",
        "        vocabulary=unique_user_genders, mask_token=None),\n",
        "      tf.keras.layers.Embedding(len(unique_user_genders) + 1, embedding_dimension)\n",
        "    ]) #used as an encoding method for each user_genders\n",
        "\n",
        "    self.user_tier_model: tf.keras.layers.Layer = tf.keras.Sequential([\n",
        "      tf.keras.layers.StringLookup(\n",
        "        vocabulary=unique_user_tier_levels, mask_token=None),\n",
        "      tf.keras.layers.Embedding(len(unique_user_tier_levels) + 1, embedding_dimension)\n",
        "    ]) #used as an encoding method for each\n",
        "\n",
        "    # Menu feature models\n",
        "    self.menu_model: tf.keras.layers.Layer = tf.keras.Sequential([\n",
        "      tf.keras.layers.StringLookup(\n",
        "        vocabulary=unique_menu_names, mask_token=None),\n",
        "      tf.keras.layers.Embedding(len(unique_menu_names) + 1, embedding_dimension)\n",
        "    ]) #used as an encoding method for each menu_names\n",
        "\n",
        "    self.menu_types_model: tf.keras.layers.Layer = tf.keras.Sequential([\n",
        "      tf.keras.layers.StringLookup(\n",
        "        vocabulary=unique_menu_types, mask_token=None),\n",
        "      tf.keras.layers.Embedding(len(unique_menu_types) + 1, embedding_dimension)\n",
        "    ]) #used as an encoding method for each menu_types\n",
        "\n",
        "    self.menu_categories_model: tf.keras.layers.Layer = tf.keras.Sequential([\n",
        "      tf.keras.layers.StringLookup(\n",
        "        vocabulary=unique_menu_categories, mask_token=None),\n",
        "      tf.keras.layers.Embedding(len(unique_menu_categories) + 1, embedding_dimension)\n",
        "    ]) #used as an encoding method for each menu_categories\n",
        "\n",
        "    self.menu_category_details_model: tf.keras.layers.Layer = tf.keras.Sequential([\n",
        "      tf.keras.layers.StringLookup(\n",
        "        vocabulary=unique_menu_category_details, mask_token=None),\n",
        "      tf.keras.layers.Embedding(len(unique_menu_category_details) + 1, embedding_dimension)\n",
        "    ]) #used as an encoding method for each menu_category_details\n",
        "\n",
        "    self.concepts_model: tf.keras.layers.Layer = tf.keras.Sequential([\n",
        "      tf.keras.layers.StringLookup(\n",
        "        vocabulary=unique_menu_category_details, mask_token=None),\n",
        "      tf.keras.layers.Embedding(len(unique_concepts) + 1, embedding_dimension)\n",
        "    ]) #used as an encoding method for each concepts\n",
        "\n",
        "    self.brands_model: tf.keras.layers.Layer = tf.keras.Sequential([\n",
        "      tf.keras.layers.StringLookup(\n",
        "        vocabulary=unique_brands, mask_token=None),\n",
        "      tf.keras.layers.Embedding(len(unique_brands) + 1, embedding_dimension)\n",
        "    ]) #used as an encoding method for each brands\n",
        "\n",
        "    self.outlets_model: tf.keras.layers.Layer = tf.keras.Sequential([\n",
        "      tf.keras.layers.StringLookup(\n",
        "        vocabulary=unique_outlets, mask_token=None),\n",
        "      tf.keras.layers.Embedding(len(unique_outlets) + 1, embedding_dimension)\n",
        "    ]) #used as an encoding method for each outlets\n",
        "\n",
        "    self.districts_model: tf.keras.layers.Layer = tf.keras.Sequential([\n",
        "      tf.keras.layers.StringLookup(\n",
        "        vocabulary=unique_districts, mask_token=None),\n",
        "      tf.keras.layers.Embedding(len(unique_districts) + 1, embedding_dimension)\n",
        "    ]) #used as an encoding method for each districts\n",
        "\n",
        "    self.cities_model: tf.keras.layers.Layer = tf.keras.Sequential([\n",
        "      tf.keras.layers.StringLookup(\n",
        "        vocabulary=unique_cities, mask_token=None),\n",
        "      tf.keras.layers.Embedding(len(unique_cities) + 1, embedding_dimension)\n",
        "    ]) #used as an encoding method for each cities\n",
        "\n",
        "    # A small model to take in user and menu embeddings and predict quantities-rankings.\n",
        "    # We can make this as complicated as we want as long as we output a scalar\n",
        "    # as our prediction.\n",
        "    self.rating_model = tf.keras.Sequential([\n",
        "        tf.keras.layers.Dense(256, activation=\"relu\"),\n",
        "        tf.keras.layers.Dense(128, activation=\"relu\"),\n",
        "        tf.keras.layers.Dense(1),\n",
        "    ])\n",
        "\n",
        "    # The tasks.\n",
        "    self.rating_task: tf.keras.layers.Layer = tfrs.tasks.Ranking(\n",
        "        loss=tf.keras.losses.MeanSquaredError(),\n",
        "        metrics=[tf.keras.metrics.RootMeanSquaredError()],\n",
        "    )\n",
        "    self.retrieval_task: tf.keras.layers.Layer = tfrs.tasks.Retrieval(\n",
        "        metrics=tfrs.metrics.FactorizedTopK(\n",
        "            candidates=menus.batch(128).map(lambda x: x[\"menu_name\"]).map(self.menu_model)\n",
        "        )\n",
        "    )\n",
        "\n",
        "    # The loss weights.\n",
        "    self.rating_weight = rating_weight\n",
        "    self.retrieval_weight = retrieval_weight\n",
        "\n",
        "  def call(self, features: Dict[Text, tf.Tensor]) -> tf.Tensor:\n",
        "    # We pick out the user features and pass them into the user model.\n",
        "    user_embeddings = self.user_model(features[\"user_id\"])\n",
        "\n",
        "    gender_embeddings = self.user_gender_model(features[\"user_gender\"])\n",
        "\n",
        "    tier_embeddings = self.user_tier_model(features[\"user_tier_level\"])\n",
        "\n",
        "    # And pick out the menu features and pass them into the menu model.\n",
        "    menu_embeddings = self.menu_model(features[\"menu_name\"])\n",
        "\n",
        "    menu_types_embeddings = self.menu_types_model(features[\"menu_type\"])\n",
        "\n",
        "    menu_categories_embeddings = self.menu_categories_model(features[\"menu_category\"])\n",
        "\n",
        "    menu_category_details_embeddings = self.menu_category_details_model(features[\"menu_category_detail\"])\n",
        "\n",
        "    concepts_embeddings = self.concepts_model(features[\"concept\"])\n",
        "\n",
        "    brands_embeddings = self.brands_model(features[\"brand\"])\n",
        "\n",
        "    outlets_embeddings = self.outlets_model(features[\"outlet\"])\n",
        "\n",
        "    districts_embeddings = self.districts_model(features[\"district\"])\n",
        "\n",
        "    cities_embeddings = self.cities_model(features[\"city\"])\n",
        "\n",
        "    return (\n",
        "        user_embeddings,\n",
        "        gender_embeddings,\n",
        "        tier_embeddings,\n",
        "        menu_embeddings,\n",
        "        menu_types_embeddings,\n",
        "        menu_categories_embeddings,\n",
        "        menu_category_details_embeddings,\n",
        "        concepts_embeddings,\n",
        "        brands_embeddings,\n",
        "        outlets_embeddings,\n",
        "        districts_embeddings,\n",
        "        cities_embeddings,\n",
        "        # We apply the multi-layered rating model to a concatentation of\n",
        "        # user and menu embeddings.\n",
        "        self.rating_model(\n",
        "            tf.concat([user_embeddings, gender_embeddings, tier_embeddings, menu_embeddings,\n",
        "                       menu_types_embeddings, menu_categories_embeddings, menu_category_details_embeddings,\n",
        "                       concepts_embeddings, brands_embeddings, outlets_embeddings, districts_embeddings,\n",
        "                       cities_embeddings ], axis=1)\n",
        "        ),\n",
        "    )\n",
        "\n",
        "  def compute_loss(self, features: Dict[Text, tf.Tensor], training=False) -> tf.Tensor:\n",
        "\n",
        "    ratings = features.pop(\"quantity\")\n",
        "\n",
        "    user_embeddings, gender_embeddings, tier_embeddings, menu_embeddings, menu_types_embeddings, menu_categories_embeddings, menu_category_details_embeddings, concepts_embeddings, brands_embeddings, outlets_embeddings, districts_embeddings, cities_embeddings, rating_predictions = self(features)\n",
        "\n",
        "    # We compute the loss for each task.\n",
        "    rating_loss = self.rating_task(\n",
        "        labels=ratings,\n",
        "        predictions=rating_predictions,\n",
        "    )\n",
        "    retrieval_loss = self.retrieval_task(user_embeddings, menu_embeddings, rating_predictions) #there are several problems while trying to add some more variables to the retrieval, I will fix it later if I have the time\n",
        "\n",
        "    # And combine them using the loss weights.\n",
        "    return (self.rating_weight * rating_loss)"
      ],
      "metadata": {
        "id": "eq6mGByXOUSJ"
      },
      "execution_count": null,
      "outputs": []
    },
    {
      "cell_type": "code",
      "source": [
        "model = MenuModel(rating_weight=1.0, retrieval_weight=1.0)\n",
        "model.compile(optimizer=tf.keras.optimizers.Adagrad(0.001))\n",
        "\n",
        "cached_train = train.shuffle(100_000).batch(1_000).cache()\n",
        "cached_test = test.batch(1_000).cache()\n",
        "\n",
        "model.fit(cached_train, epochs=10)"
      ],
      "metadata": {
        "id": "qLdMgUXFqmOn",
        "colab": {
          "base_uri": "https://localhost:8080/"
        },
        "outputId": "eb6cee83-2ae4-4c10-c981-0ebcd8ea6a6e"
      },
      "execution_count": null,
      "outputs": [
        {
          "output_type": "stream",
          "name": "stdout",
          "text": [
            "Epoch 1/10\n",
            "14/14 [==============================] - 117s 4s/step - root_mean_squared_error: 2.2430 - factorized_top_k/top_1_categorical_accuracy: 0.0000e+00 - factorized_top_k/top_5_categorical_accuracy: 0.0000e+00 - factorized_top_k/top_10_categorical_accuracy: 0.0000e+00 - factorized_top_k/top_50_categorical_accuracy: 0.0000e+00 - factorized_top_k/top_100_categorical_accuracy: 0.0026 - loss: 5.0344 - regularization_loss: 0.0000e+00 - total_loss: 5.0344\n",
            "Epoch 2/10\n",
            "14/14 [==============================] - 62s 4s/step - root_mean_squared_error: 2.1806 - factorized_top_k/top_1_categorical_accuracy: 0.0000e+00 - factorized_top_k/top_5_categorical_accuracy: 0.0000e+00 - factorized_top_k/top_10_categorical_accuracy: 0.0000e+00 - factorized_top_k/top_50_categorical_accuracy: 0.0000e+00 - factorized_top_k/top_100_categorical_accuracy: 0.0029 - loss: 4.7602 - regularization_loss: 0.0000e+00 - total_loss: 4.7602\n",
            "Epoch 3/10\n",
            "14/14 [==============================] - 51s 4s/step - root_mean_squared_error: 2.1267 - factorized_top_k/top_1_categorical_accuracy: 0.0000e+00 - factorized_top_k/top_5_categorical_accuracy: 0.0000e+00 - factorized_top_k/top_10_categorical_accuracy: 0.0000e+00 - factorized_top_k/top_50_categorical_accuracy: 0.0000e+00 - factorized_top_k/top_100_categorical_accuracy: 0.0029 - loss: 4.5278 - regularization_loss: 0.0000e+00 - total_loss: 4.5278\n",
            "Epoch 4/10\n",
            "14/14 [==============================] - 52s 4s/step - root_mean_squared_error: 2.0731 - factorized_top_k/top_1_categorical_accuracy: 0.0000e+00 - factorized_top_k/top_5_categorical_accuracy: 0.0000e+00 - factorized_top_k/top_10_categorical_accuracy: 0.0000e+00 - factorized_top_k/top_50_categorical_accuracy: 0.0000e+00 - factorized_top_k/top_100_categorical_accuracy: 0.0029 - loss: 4.3022 - regularization_loss: 0.0000e+00 - total_loss: 4.3022\n",
            "Epoch 5/10\n",
            "14/14 [==============================] - 53s 4s/step - root_mean_squared_error: 2.0180 - factorized_top_k/top_1_categorical_accuracy: 0.0000e+00 - factorized_top_k/top_5_categorical_accuracy: 0.0000e+00 - factorized_top_k/top_10_categorical_accuracy: 0.0000e+00 - factorized_top_k/top_50_categorical_accuracy: 0.0000e+00 - factorized_top_k/top_100_categorical_accuracy: 0.0029 - loss: 4.0764 - regularization_loss: 0.0000e+00 - total_loss: 4.0764\n",
            "Epoch 6/10\n",
            "14/14 [==============================] - 53s 4s/step - root_mean_squared_error: 1.9610 - factorized_top_k/top_1_categorical_accuracy: 0.0000e+00 - factorized_top_k/top_5_categorical_accuracy: 0.0000e+00 - factorized_top_k/top_10_categorical_accuracy: 0.0000e+00 - factorized_top_k/top_50_categorical_accuracy: 0.0000e+00 - factorized_top_k/top_100_categorical_accuracy: 0.0029 - loss: 3.8490 - regularization_loss: 0.0000e+00 - total_loss: 3.8490\n",
            "Epoch 7/10\n",
            "14/14 [==============================] - 58s 4s/step - root_mean_squared_error: 1.9021 - factorized_top_k/top_1_categorical_accuracy: 0.0000e+00 - factorized_top_k/top_5_categorical_accuracy: 0.0000e+00 - factorized_top_k/top_10_categorical_accuracy: 0.0000e+00 - factorized_top_k/top_50_categorical_accuracy: 0.0000e+00 - factorized_top_k/top_100_categorical_accuracy: 0.0029 - loss: 3.6208 - regularization_loss: 0.0000e+00 - total_loss: 3.6208\n",
            "Epoch 8/10\n",
            "14/14 [==============================] - 50s 4s/step - root_mean_squared_error: 1.8419 - factorized_top_k/top_1_categorical_accuracy: 0.0000e+00 - factorized_top_k/top_5_categorical_accuracy: 0.0000e+00 - factorized_top_k/top_10_categorical_accuracy: 0.0000e+00 - factorized_top_k/top_50_categorical_accuracy: 0.0000e+00 - factorized_top_k/top_100_categorical_accuracy: 0.0021 - loss: 3.3952 - regularization_loss: 0.0000e+00 - total_loss: 3.3952\n",
            "Epoch 9/10\n",
            "14/14 [==============================] - 50s 4s/step - root_mean_squared_error: 1.7817 - factorized_top_k/top_1_categorical_accuracy: 0.0000e+00 - factorized_top_k/top_5_categorical_accuracy: 0.0000e+00 - factorized_top_k/top_10_categorical_accuracy: 0.0000e+00 - factorized_top_k/top_50_categorical_accuracy: 0.0000e+00 - factorized_top_k/top_100_categorical_accuracy: 0.0017 - loss: 3.1767 - regularization_loss: 0.0000e+00 - total_loss: 3.1767\n",
            "Epoch 10/10\n",
            "14/14 [==============================] - 52s 4s/step - root_mean_squared_error: 1.7227 - factorized_top_k/top_1_categorical_accuracy: 0.0000e+00 - factorized_top_k/top_5_categorical_accuracy: 0.0000e+00 - factorized_top_k/top_10_categorical_accuracy: 0.0000e+00 - factorized_top_k/top_50_categorical_accuracy: 0.0000e+00 - factorized_top_k/top_100_categorical_accuracy: 1.4286e-04 - loss: 2.9700 - regularization_loss: 0.0000e+00 - total_loss: 2.9700\n"
          ]
        },
        {
          "output_type": "execute_result",
          "data": {
            "text/plain": [
              "<keras.callbacks.History at 0x79046b55e3b0>"
            ]
          },
          "metadata": {},
          "execution_count": 81
        }
      ]
    },
    {
      "cell_type": "markdown",
      "source": [
        "The retrieval task does not seem to be working, so I am not using the retrieval loss anymore. However I will not continue this model for now. Also supposedly the retrieval task here is deleted instead"
      ],
      "metadata": {
        "id": "w7i3VHCVZ2F1"
      }
    },
    {
      "cell_type": "code",
      "source": [
        "metrics = model.evaluate(cached_test, return_dict=True)\n",
        "\n",
        "print(f\"\\nRetrieval top-100 accuracy: {metrics['factorized_top_k/top_100_categorical_accuracy']:.3f}\")\n",
        "print(f\"Ranking RMSE: {metrics['root_mean_squared_error']:.3f}\")"
      ],
      "metadata": {
        "id": "TrQ2m4N3qqGm",
        "colab": {
          "base_uri": "https://localhost:8080/"
        },
        "outputId": "07989539-d059-4287-cf49-2c8ecbbaeba7"
      },
      "execution_count": null,
      "outputs": [
        {
          "output_type": "stream",
          "name": "stdout",
          "text": [
            "4/4 [==============================] - 11s 3s/step - root_mean_squared_error: 1.2251 - factorized_top_k/top_1_categorical_accuracy: 0.0000e+00 - factorized_top_k/top_5_categorical_accuracy: 0.0000e+00 - factorized_top_k/top_10_categorical_accuracy: 0.0000e+00 - factorized_top_k/top_50_categorical_accuracy: 0.0000e+00 - factorized_top_k/top_100_categorical_accuracy: 0.0000e+00 - loss: 1.2310 - regularization_loss: 0.0000e+00 - total_loss: 1.2310\n",
            "\n",
            "Retrieval top-100 accuracy: 0.000\n",
            "Ranking RMSE: 1.225\n"
          ]
        }
      ]
    },
    {
      "cell_type": "markdown",
      "source": [
        "It has better RMSE if compared within 10 epoch of the previous model, which means better prediction for user qty prediction. Through user qty prediction we could also do a ranking."
      ],
      "metadata": {
        "id": "VvaeVMFTdJDw"
      }
    },
    {
      "cell_type": "code",
      "source": [
        "def predict_quantity(user, menu):\n",
        "    trained_menu_embeddings, trained_user_embeddings, predicted_rating = model({\n",
        "          \"user_id\": np.array([str(user)]),\n",
        "          \"menu_id\": np.array([menu])\n",
        "      })\n",
        "    print(\"Predicted quantity for {}: {}\".format(menu, predicted_rating.numpy()[0][0]))"
      ],
      "metadata": {
        "id": "iIR2lSufq3g2"
      },
      "execution_count": null,
      "outputs": []
    }
  ]
}